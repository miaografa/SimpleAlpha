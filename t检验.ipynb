{
 "cells": [
  {
   "cell_type": "code",
   "execution_count": 1,
   "id": "ba6b9541-f10f-480f-bbf9-8d35cb017a03",
   "metadata": {},
   "outputs": [],
   "source": [
    "from scipy import stats\n",
    "import statsmodels.api as sm"
   ]
  },
  {
   "cell_type": "code",
   "execution_count": null,
   "id": "928e40b4-ad42-4c10-beab-7ae6b901d884",
   "metadata": {},
   "outputs": [],
   "source": [
    "stats.ttest_ind  # T-test for the means of *two independent* samples"
   ]
  },
  {
   "cell_type": "code",
   "execution_count": null,
   "id": "2a08296a-790f-4f06-9bde-ff9feb526e75",
   "metadata": {},
   "outputs": [],
   "source": [
    "stats.ttest_rel  # t-test on TWO RELATED samples"
   ]
  },
  {
   "cell_type": "code",
   "execution_count": 2,
   "id": "7bb6987c-8f6c-4d4d-91b8-e73e401911c7",
   "metadata": {},
   "outputs": [],
   "source": [
    "import numpy as np"
   ]
  },
  {
   "cell_type": "code",
   "execution_count": 79,
   "id": "f87f8628-98bd-4925-963d-0543fc457fba",
   "metadata": {},
   "outputs": [
    {
     "data": {
      "text/plain": [
       "array([ 0.00982522, -0.01031647,  0.00645437, -0.00747867,  0.00297661,\n",
       "        0.00190175,  0.00295987, -0.00242078,  0.01277846, -0.00912311])"
      ]
     },
     "execution_count": 79,
     "metadata": {},
     "output_type": "execute_result"
    }
   ],
   "source": []
  },
  {
   "cell_type": "code",
   "execution_count": 80,
   "id": "ddf0cefa-8743-4266-ad28-91ed482b1376",
   "metadata": {},
   "outputs": [],
   "source": [
    "x_1 = np.random.randn(10)*0.01"
   ]
  },
  {
   "cell_type": "code",
   "execution_count": 81,
   "id": "33a557bf-cc14-4c8d-9f35-db0f99adfd4c",
   "metadata": {},
   "outputs": [],
   "source": [
    "x_2 = x_1 + np.random.randn(len(x_1))*0.001 + 0.001"
   ]
  },
  {
   "cell_type": "code",
   "execution_count": 82,
   "id": "45229421-f164-48d4-b917-6eb99c831a65",
   "metadata": {},
   "outputs": [
    {
     "data": {
      "text/plain": [
       "array([ 0.00625856, -0.00464712,  0.00985974, -0.00467698,  0.00608431,\n",
       "        0.00576996, -0.01489922, -0.02722404, -0.00299737,  0.01105602])"
      ]
     },
     "execution_count": 82,
     "metadata": {},
     "output_type": "execute_result"
    }
   ],
   "source": [
    "x_1"
   ]
  },
  {
   "cell_type": "code",
   "execution_count": 83,
   "id": "d58ade65-36e3-4bdd-98f7-667113c082ec",
   "metadata": {},
   "outputs": [
    {
     "data": {
      "text/plain": [
       "array([ 0.00671383, -0.00285388,  0.01088672, -0.00280668,  0.00587298,\n",
       "        0.00703278, -0.0136019 , -0.02472377, -0.00212677,  0.01160398])"
      ]
     },
     "execution_count": 83,
     "metadata": {},
     "output_type": "execute_result"
    }
   ],
   "source": [
    "x_2"
   ]
  },
  {
   "cell_type": "code",
   "execution_count": 84,
   "id": "1101888f-3734-41d9-b1f8-7c64878c15a0",
   "metadata": {},
   "outputs": [
    {
     "data": {
      "text/plain": [
       "Ttest_indResult(statistic=-0.21577179812037656, pvalue=0.8315918240512906)"
      ]
     },
     "execution_count": 84,
     "metadata": {},
     "output_type": "execute_result"
    }
   ],
   "source": [
    "stats.ttest_ind(x_1, x_2)  # 均值是否一致, H0: 没有差异， H1：存在差异。"
   ]
  },
  {
   "cell_type": "code",
   "execution_count": 85,
   "id": "24f6d61d-ee02-4003-aea6-bd1064dcfc4e",
   "metadata": {},
   "outputs": [
    {
     "data": {
      "text/plain": [
       "TtestResult(statistic=-4.5833172431543066, pvalue=0.00132155292757038, df=9)"
      ]
     },
     "execution_count": 85,
     "metadata": {},
     "output_type": "execute_result"
    }
   ],
   "source": [
    "stats.ttest_rel(x_1, x_2)   # 差值是否存在, H0:差值为0"
   ]
  },
  {
   "cell_type": "code",
   "execution_count": null,
   "id": "d7b1a355-fb6a-45f0-8026-05feea67ac0c",
   "metadata": {},
   "outputs": [],
   "source": []
  },
  {
   "cell_type": "code",
   "execution_count": null,
   "id": "b67a8ca6-c4ad-416b-867b-d3608c5ac15b",
   "metadata": {},
   "outputs": [],
   "source": []
  }
 ],
 "metadata": {
  "kernelspec": {
   "display_name": "pythonlab(python3.8)",
   "language": "python",
   "name": "pythonlabkernel"
  },
  "language_info": {
   "codemirror_mode": {
    "name": "ipython",
    "version": 3
   },
   "file_extension": ".py",
   "mimetype": "text/x-python",
   "name": "python",
   "nbconvert_exporter": "python",
   "pygments_lexer": "ipython3",
   "version": "3.8.0"
  }
 },
 "nbformat": 4,
 "nbformat_minor": 5
}
