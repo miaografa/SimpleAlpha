{
 "cells": [
  {
   "cell_type": "markdown",
   "id": "eef028e4-33b0-488f-8f6b-700c230bc043",
   "metadata": {},
   "source": [
    "<font size=5>长回看时间测试</font>  \n",
    "测试了不同length的RSI效果一般。也许需要人工构建均线组。"
   ]
  },
  {
   "cell_type": "code",
   "execution_count": 1,
   "id": "d521726e-bf06-403e-a1bc-4aeb6f1cebfd",
   "metadata": {},
   "outputs": [
    {
     "data": {
      "text/html": [
       "        <script type=\"text/javascript\">\n",
       "        window.PlotlyConfig = {MathJaxConfig: 'local'};\n",
       "        if (window.MathJax) {MathJax.Hub.Config({SVG: {font: \"STIX-Web\"}});}\n",
       "        if (typeof require !== 'undefined') {\n",
       "        require.undef(\"plotly\");\n",
       "        requirejs.config({\n",
       "            paths: {\n",
       "                'plotly': ['https://cdn.plot.ly/plotly-2.2.0.min']\n",
       "            }\n",
       "        });\n",
       "        require(['plotly'], function(Plotly) {\n",
       "            window._Plotly = Plotly;\n",
       "        });\n",
       "        }\n",
       "        </script>\n",
       "        "
      ]
     },
     "metadata": {},
     "output_type": "display_data"
    }
   ],
   "source": [
    "import matplotlib.pyplot as plt\n",
    "import sys\n",
    "sys.path.append('..')  # 文件位于\n",
    "\n",
    "import factors  # 因子计算\n",
    "import data_utils  # 数据读取\n",
    "import performance as perf  # IC计算\n",
    "import plotting  #绘图"
   ]
  },
  {
   "cell_type": "code",
   "execution_count": 2,
   "id": "a7c2224c-5915-4c3e-8acf-9c0fd9f6eb1e",
   "metadata": {},
   "outputs": [],
   "source": [
    "dl = data_utils.DataLoader()\n",
    "dl.init_month_df('E:/jupyternote/QF/CryptalC/data/UDST_M/15m_data')\n",
    "# 计算未来收益率\n",
    "data_utils.compute_future_rtn_for_all(dl)"
   ]
  },
  {
   "cell_type": "code",
   "execution_count": 3,
   "id": "6ff4239f-2316-4f35-889d-af2e5a7d0adb",
   "metadata": {},
   "outputs": [],
   "source": [
    "import pandas as pd\n",
    "import numpy as np"
   ]
  },
  {
   "cell_type": "code",
   "execution_count": 4,
   "id": "06993a54-48f8-469f-adcb-720351002468",
   "metadata": {},
   "outputs": [],
   "source": [
    "from pandas_ta.core import rsi"
   ]
  },
  {
   "cell_type": "code",
   "execution_count": 5,
   "id": "bbe2da71-5a21-43c7-8048-721f41e952b7",
   "metadata": {
    "tags": []
   },
   "outputs": [],
   "source": [
    "def cal_Z_score(factor_df, column_lists, span):\n",
    "    '''Z-score'''\n",
    "    for column_name in column_lists:\n",
    "        mean_20 = factor_df[column_name].ewm(span, adjust=False).mean()\n",
    "        std_20 = factor_df[column_name].ewm(96, adjust=False).std()  # todo 超参数搜索\n",
    "        factor_df[f'{column_name}_Z'] = (factor_df[column_name].values - mean_20) / std_20\n",
    "    return factor_df\n",
    "\n",
    "@factors.handle_dataloader_data\n",
    "def add_close_Z(raw_df:pd.DataFrame)-> pd.DataFrame:\n",
    "    raw_df = cal_Z_score(raw_df, ['close'], 30)\n",
    "    raw_df['RSI_14'] = rsi(raw_df['close'], length=14)\n",
    "    return raw_df"
   ]
  },
  {
   "cell_type": "markdown",
   "id": "e8fec471-0980-430d-9988-77b80510386c",
   "metadata": {
    "user_expressions": []
   },
   "source": [
    "## 计算不同回看时长的rsi"
   ]
  },
  {
   "cell_type": "code",
   "execution_count": 6,
   "id": "da5a5277-3298-4004-ae16-b3ad37382b01",
   "metadata": {},
   "outputs": [],
   "source": [
    "@factors.handle_dataloader_data\n",
    "def add_ewm_pair(raw_df):\n",
    "    '''\n",
    "    Rob Carver复合均线系统\n",
    "    选定4对不同时间段的移动平均线，分别是8天/32天、16天/64天、32天/128天、64天/256天，\n",
    "    然后计算每一对均线之间的差值，比如某个品种8天的MA是50块，32天的MA是52块，那么8/32这一对均线的差值就是50-52=-2块。\n",
    "    '''\n",
    "    close_df = raw_df[['close']].copy()    \n",
    "    close_stddev = close_df.rolling(256).std()\n",
    "    \n",
    "    ema_8 =  close_df.ewm(8).mean()\n",
    "    ema_16 =  close_df.ewm(16).mean()\n",
    "    ema_32 =  close_df.ewm(32).mean()\n",
    "\n",
    "    raw_df['pair_1_16'] = (close_df - ema_16)/close_stddev\n",
    "    raw_df['pair_8_32'] = (ema_8 - ema_32)/close_stddev\n",
    "    \n",
    "    # buy taker proportion\n",
    "    raw_df['BTP'] = raw_df['taker_buy_quote_volume']/raw_df['quote_volume']\n",
    "    raw_df['BTP_16'] = raw_df['taker_buy_quote_volume'].rolling(16).sum()/raw_df['quote_volume'].rolling(16).sum()\n",
    "    \n",
    "    # avg trade volume\n",
    "    raw_df['avg_trade'] = raw_df['quote_volume'] / raw_df['count']\n",
    "    return raw_df"
   ]
  },
  {
   "cell_type": "code",
   "execution_count": 7,
   "id": "4f898ec5-a97c-400b-8494-e1c63eb66acf",
   "metadata": {},
   "outputs": [],
   "source": [
    "@factors.handle_dataloader_data\n",
    "def add_ta_factors(raw_df):\n",
    "    raw_df.ta.squeeze(append=True)\n",
    "    raw_df.ta.pgo(append=True)\n",
    "    raw_df.ta.thermo(append=True)\n",
    "    raw_df.ta.pvo(append=True)\n",
    "    return raw_df"
   ]
  },
  {
   "cell_type": "code",
   "execution_count": 8,
   "id": "86742b1a-f624-4d16-95b9-fc9e763ad859",
   "metadata": {
    "tags": []
   },
   "outputs": [
    {
     "name": "stdout",
     "output_type": "stream",
     "text": [
      "year: 2020\n"
     ]
    },
    {
     "name": "stderr",
     "output_type": "stream",
     "text": [
      "100%|██████████████████████████████████████████████████████████████████████████████████| 12/12 [00:02<00:00,  4.10it/s]\n"
     ]
    },
    {
     "name": "stdout",
     "output_type": "stream",
     "text": [
      "year: 2021\n"
     ]
    },
    {
     "name": "stderr",
     "output_type": "stream",
     "text": [
      "100%|██████████████████████████████████████████████████████████████████████████████████| 12/12 [00:06<00:00,  1.83it/s]\n"
     ]
    },
    {
     "name": "stdout",
     "output_type": "stream",
     "text": [
      "year: 2022\n"
     ]
    },
    {
     "name": "stderr",
     "output_type": "stream",
     "text": [
      " 50%|█████████████████████████████████████████▌                                         | 6/12 [00:03<00:03,  1.53it/s]"
     ]
    },
    {
     "name": "stdout",
     "output_type": "stream",
     "text": [
      "Exception: inputs are all NaN\n",
      "Error: year: 2022, month:07, i:33\n"
     ]
    },
    {
     "name": "stderr",
     "output_type": "stream",
     "text": [
      " 58%|████████████████████████████████████████████████▍                                  | 7/12 [00:04<00:03,  1.51it/s]"
     ]
    },
    {
     "name": "stdout",
     "output_type": "stream",
     "text": [
      "Exception: inputs are all NaN\n",
      "Error: year: 2022, month:08, i:33\n"
     ]
    },
    {
     "name": "stderr",
     "output_type": "stream",
     "text": [
      " 92%|███████████████████████████████████████████████████████████████████████████▏      | 11/12 [00:07<00:00,  1.50it/s]"
     ]
    },
    {
     "name": "stdout",
     "output_type": "stream",
     "text": [
      "Exception: inputs are all NaN\n",
      "Error: year: 2022, month:12, i:31\n"
     ]
    },
    {
     "name": "stderr",
     "output_type": "stream",
     "text": [
      "100%|██████████████████████████████████████████████████████████████████████████████████| 12/12 [00:07<00:00,  1.51it/s]\n"
     ]
    },
    {
     "name": "stdout",
     "output_type": "stream",
     "text": [
      "year: 2023\n"
     ]
    },
    {
     "name": "stderr",
     "output_type": "stream",
     "text": [
      "  0%|                                                                                           | 0/12 [00:00<?, ?it/s]"
     ]
    },
    {
     "name": "stdout",
     "output_type": "stream",
     "text": [
      "Exception: inputs are all NaN\n",
      "Error: year: 2023, month:01, i:32\n"
     ]
    },
    {
     "name": "stderr",
     "output_type": "stream",
     "text": [
      "  8%|██████▉                                                                            | 1/12 [00:00<00:10,  1.09it/s]"
     ]
    },
    {
     "name": "stdout",
     "output_type": "stream",
     "text": [
      "Exception: inputs are all NaN\n",
      "Error: year: 2023, month:02, i:33\n"
     ]
    },
    {
     "name": "stderr",
     "output_type": "stream",
     "text": [
      " 17%|█████████████▊                                                                     | 2/12 [00:01<00:08,  1.19it/s]"
     ]
    },
    {
     "name": "stdout",
     "output_type": "stream",
     "text": [
      "Exception: inputs are all NaN\n",
      "Error: year: 2023, month:03, i:34\n"
     ]
    },
    {
     "name": "stderr",
     "output_type": "stream",
     "text": [
      " 25%|████████████████████▊                                                              | 3/12 [00:02<00:08,  1.02it/s]"
     ]
    },
    {
     "name": "stdout",
     "output_type": "stream",
     "text": [
      "Exception: inputs are all NaN\n",
      "Error: year: 2023, month:04, i:34\n"
     ]
    },
    {
     "name": "stderr",
     "output_type": "stream",
     "text": [
      " 33%|███████████████████████████▋                                                       | 4/12 [00:03<00:07,  1.04it/s]"
     ]
    },
    {
     "name": "stdout",
     "output_type": "stream",
     "text": [
      "Exception: inputs are all NaN\n",
      "Error: year: 2023, month:05, i:35\n"
     ]
    },
    {
     "name": "stderr",
     "output_type": "stream",
     "text": [
      " 42%|██████████████████████████████████▌                                                | 5/12 [00:04<00:06,  1.06it/s]"
     ]
    },
    {
     "name": "stdout",
     "output_type": "stream",
     "text": [
      "Exception: inputs are all NaN\n",
      "Error: year: 2023, month:06, i:36\n"
     ]
    },
    {
     "name": "stderr",
     "output_type": "stream",
     "text": [
      " 50%|█████████████████████████████████████████▌                                         | 6/12 [00:05<00:05,  1.04it/s]"
     ]
    },
    {
     "name": "stdout",
     "output_type": "stream",
     "text": [
      "Exception: inputs are all NaN\n",
      "Error: year: 2023, month:07, i:36\n"
     ]
    },
    {
     "name": "stderr",
     "output_type": "stream",
     "text": [
      " 58%|████████████████████████████████████████████████▍                                  | 7/12 [00:06<00:05,  1.02s/it]"
     ]
    },
    {
     "name": "stdout",
     "output_type": "stream",
     "text": [
      "Exception: inputs are all NaN\n",
      "Error: year: 2023, month:08, i:40\n"
     ]
    },
    {
     "name": "stderr",
     "output_type": "stream",
     "text": [
      " 67%|███████████████████████████████████████████████████████▎                           | 8/12 [00:08<00:04,  1.09s/it]"
     ]
    },
    {
     "name": "stdout",
     "output_type": "stream",
     "text": [
      "Exception: inputs are all NaN\n",
      "Error: year: 2023, month:09, i:42\n"
     ]
    },
    {
     "name": "stderr",
     "output_type": "stream",
     "text": [
      " 75%|██████████████████████████████████████████████████████████████▎                    | 9/12 [00:09<00:03,  1.13s/it]"
     ]
    },
    {
     "name": "stdout",
     "output_type": "stream",
     "text": [
      "Exception: inputs are all NaN\n",
      "Error: year: 2023, month:10, i:43\n"
     ]
    },
    {
     "name": "stderr",
     "output_type": "stream",
     "text": [
      "100%|██████████████████████████████████████████████████████████████████████████████████| 12/12 [00:10<00:00,  1.14it/s]\n"
     ]
    }
   ],
   "source": [
    "add_ta_factors(dl)"
   ]
  },
  {
   "cell_type": "code",
   "execution_count": 9,
   "id": "587cbc59-fa3b-4ad6-9b40-1554e3cfc9fc",
   "metadata": {
    "tags": []
   },
   "outputs": [
    {
     "name": "stdout",
     "output_type": "stream",
     "text": [
      "year: 2020\n"
     ]
    },
    {
     "name": "stderr",
     "output_type": "stream",
     "text": [
      "100%|██████████████████████████████████████████████████████████████████████████████████| 12/12 [00:01<00:00,  8.83it/s]\n"
     ]
    },
    {
     "name": "stdout",
     "output_type": "stream",
     "text": [
      "year: 2021\n"
     ]
    },
    {
     "name": "stderr",
     "output_type": "stream",
     "text": [
      "100%|██████████████████████████████████████████████████████████████████████████████████| 12/12 [00:03<00:00,  3.89it/s]\n"
     ]
    },
    {
     "name": "stdout",
     "output_type": "stream",
     "text": [
      "year: 2022\n"
     ]
    },
    {
     "name": "stderr",
     "output_type": "stream",
     "text": [
      "100%|██████████████████████████████████████████████████████████████████████████████████| 12/12 [00:03<00:00,  3.28it/s]\n"
     ]
    },
    {
     "name": "stdout",
     "output_type": "stream",
     "text": [
      "year: 2023\n"
     ]
    },
    {
     "name": "stderr",
     "output_type": "stream",
     "text": [
      "100%|██████████████████████████████████████████████████████████████████████████████████| 12/12 [00:04<00:00,  2.92it/s]\n"
     ]
    }
   ],
   "source": [
    "# 计算因子\n",
    "add_ewm_pair(dl)"
   ]
  },
  {
   "cell_type": "code",
   "execution_count": 10,
   "id": "de3f1f1b-c5f5-418e-964c-84ab13c5f847",
   "metadata": {
    "tags": []
   },
   "outputs": [
    {
     "name": "stdout",
     "output_type": "stream",
     "text": [
      "year: 2020\n"
     ]
    },
    {
     "name": "stderr",
     "output_type": "stream",
     "text": [
      "100%|██████████████████████████████████████████████████████████████████████████████████| 12/12 [00:00<00:00, 18.06it/s]\n"
     ]
    },
    {
     "name": "stdout",
     "output_type": "stream",
     "text": [
      "year: 2021\n"
     ]
    },
    {
     "name": "stderr",
     "output_type": "stream",
     "text": [
      "100%|██████████████████████████████████████████████████████████████████████████████████| 12/12 [00:00<00:00, 13.89it/s]\n"
     ]
    },
    {
     "name": "stdout",
     "output_type": "stream",
     "text": [
      "year: 2022\n"
     ]
    },
    {
     "name": "stderr",
     "output_type": "stream",
     "text": [
      "100%|██████████████████████████████████████████████████████████████████████████████████| 12/12 [00:01<00:00, 10.29it/s]\n"
     ]
    },
    {
     "name": "stdout",
     "output_type": "stream",
     "text": [
      "year: 2023\n"
     ]
    },
    {
     "name": "stderr",
     "output_type": "stream",
     "text": [
      "100%|██████████████████████████████████████████████████████████████████████████████████| 12/12 [00:01<00:00,  9.13it/s]\n"
     ]
    }
   ],
   "source": [
    "add_close_Z(dl)"
   ]
  },
  {
   "cell_type": "code",
   "execution_count": 11,
   "id": "c72eae96-8d3b-4387-aa32-6d7c346b3655",
   "metadata": {},
   "outputs": [],
   "source": [
    "from ml_performance import MLFactorEvaluator"
   ]
  },
  {
   "cell_type": "code",
   "execution_count": 12,
   "id": "acb8d9e6-c61b-492b-b3f8-f9484427554a",
   "metadata": {},
   "outputs": [],
   "source": [
    "from xgboost import XGBClassifier"
   ]
  },
  {
   "cell_type": "code",
   "execution_count": 13,
   "id": "260e5751-e417-444b-812c-4ec81c0c71d3",
   "metadata": {},
   "outputs": [],
   "source": [
    "from sklearn.ensemble import RandomForestClassifier"
   ]
  },
  {
   "cell_type": "code",
   "execution_count": 14,
   "id": "5fb74011-c3ab-4639-a1ad-4f5066e3bca8",
   "metadata": {},
   "outputs": [],
   "source": [
    "test_df = dl.get_month_df('2020','10')[0]"
   ]
  },
  {
   "cell_type": "code",
   "execution_count": 15,
   "id": "008f5f4b-2453-47be-a0a6-3dcde59ab83b",
   "metadata": {},
   "outputs": [],
   "source": [
    "record_names = [\n",
    "    'baseline', 'ewm_pair'\n",
    "]\n",
    "factor_names = [\n",
    "    ['RSI_14'],\n",
    "    ['RSI_14', 'pair_8_32', 'PGO_14', 'avg_trade', 'BTP', 'BTP_16'],\n",
    "]"
   ]
  },
  {
   "cell_type": "code",
   "execution_count": 31,
   "id": "d086e1bc-b9ed-45b7-9195-e3395d785c92",
   "metadata": {},
   "outputs": [],
   "source": [
    "xgb_best_params = {\n",
    "    'max_depth': 4,\n",
    "    'n_estimators': 30,\n",
    "    'n_jobs': 4,\n",
    "    'reg_lambda': 10,\n",
    "    'subsample': 0.5,\n",
    "    'gamma': 5\n",
    "}\n",
    "\n",
    "rf_best_params = {\n",
    "    'max_depth': 4,\n",
    "    'n_estimators': 30,\n",
    "    'max_features': 'sqrt',\n",
    "    'min_samples_leaf': 1000,\n",
    "    'n_jobs': -1,\n",
    "    'criterion': 'gini'\n",
    "}"
   ]
  },
  {
   "cell_type": "code",
   "execution_count": 32,
   "id": "2c44082a-00e9-4033-97f6-3a8133314015",
   "metadata": {},
   "outputs": [],
   "source": [
    "ml_evaluator = MLFactorEvaluator(\n",
    "    method = RandomForestClassifier, \n",
    "    record_names = record_names, \n",
    "    factor_names = factor_names,\n",
    "    params_dict = rf_best_params,\n",
    "    cv = 5,\n",
    ")"
   ]
  },
  {
   "cell_type": "code",
   "execution_count": null,
   "id": "fc23c130-b301-4869-9b1c-55b7a8676913",
   "metadata": {
    "tags": []
   },
   "outputs": [
    {
     "name": "stderr",
     "output_type": "stream",
     "text": [
      "  0%|                                                                                            | 0/5 [00:00<?, ?it/s]"
     ]
    }
   ],
   "source": [
    "ml_evaluator.evaluate(dl, 'fwd_rtn_20_bool', subset_data=0.9)"
   ]
  },
  {
   "cell_type": "code",
   "execution_count": null,
   "id": "b69133d9-7733-4762-a291-eb11f16c17c9",
   "metadata": {},
   "outputs": [],
   "source": [
    "ml_record = ml_evaluator.get_assess_df('f1')"
   ]
  },
  {
   "cell_type": "code",
   "execution_count": null,
   "id": "79e18bea-54ce-4dce-ac44-553daf10e7e9",
   "metadata": {
    "tags": []
   },
   "outputs": [],
   "source": [
    "plotting.plot_ML_table(ml_record)"
   ]
  },
  {
   "cell_type": "code",
   "execution_count": null,
   "id": "604a9389-2051-4265-8197-2bb5ce0b6746",
   "metadata": {
    "tags": []
   },
   "outputs": [],
   "source": [
    "plotting.plot_ML_records(ml_record)"
   ]
  },
  {
   "cell_type": "markdown",
   "id": "b568cf96-cd69-4ee5-a298-0309e461ce61",
   "metadata": {
    "user_expressions": []
   },
   "source": [
    "## 详细观察为什么RSI效果会好"
   ]
  },
  {
   "cell_type": "code",
   "execution_count": 23,
   "id": "7fee3416-c76d-4cd0-8da7-6382186f031e",
   "metadata": {},
   "outputs": [],
   "source": [
    "months = ['01', '02','03','04','05','06','07','08','09']\n",
    "train_df_list = []\n",
    "for m in months:\n",
    "    train_df_list += dl.get_month_df('2022', m)\n",
    "    \n",
    "test_months = ['10', '11', '12']\n",
    "test_df_list = []\n",
    "for m in test_months:\n",
    "    test_df_list += dl.get_month_df('2022', m)"
   ]
  },
  {
   "cell_type": "code",
   "execution_count": 24,
   "id": "0a50d5ad-f789-4fd2-a6ac-a26ba6fcc5d3",
   "metadata": {},
   "outputs": [],
   "source": [
    "train_df = pd.concat(train_df_list).dropna()\n",
    "test_df = pd.concat(test_df_list).dropna()"
   ]
  },
  {
   "cell_type": "code",
   "execution_count": 25,
   "id": "743520f0-81bb-4d01-86f0-8e14d068f35b",
   "metadata": {},
   "outputs": [],
   "source": [
    "y_col = 'fwd_rtn_20_bool'\n",
    "y_train = train_df[y_col]\n",
    "y_test = test_df[y_col]"
   ]
  },
  {
   "cell_type": "markdown",
   "id": "7f09791e-4ceb-4312-ac57-36965ae28f1e",
   "metadata": {
    "user_expressions": []
   },
   "source": [
    "## RSI 模型"
   ]
  },
  {
   "cell_type": "code",
   "execution_count": 26,
   "id": "a95d6c8b-bfa6-40ba-914d-a80a13e6148b",
   "metadata": {},
   "outputs": [],
   "source": [
    "from sklearn.metrics import f1_score, auc, confusion_matrix, roc_curve"
   ]
  },
  {
   "cell_type": "code",
   "execution_count": 27,
   "id": "e139bf52-2217-4a00-bac7-9e36df5d2f1d",
   "metadata": {},
   "outputs": [],
   "source": [
    "X_cols = ['RSI_14']\n",
    "x_train = train_df[X_cols]\n",
    "x_test = test_df[X_cols]"
   ]
  },
  {
   "cell_type": "code",
   "execution_count": 28,
   "id": "e105c1b9-d624-4818-8d58-e82433017543",
   "metadata": {},
   "outputs": [
    {
     "data": {
      "text/html": [
       "<style>#sk-container-id-1 {color: black;}#sk-container-id-1 pre{padding: 0;}#sk-container-id-1 div.sk-toggleable {background-color: white;}#sk-container-id-1 label.sk-toggleable__label {cursor: pointer;display: block;width: 100%;margin-bottom: 0;padding: 0.3em;box-sizing: border-box;text-align: center;}#sk-container-id-1 label.sk-toggleable__label-arrow:before {content: \"▸\";float: left;margin-right: 0.25em;color: #696969;}#sk-container-id-1 label.sk-toggleable__label-arrow:hover:before {color: black;}#sk-container-id-1 div.sk-estimator:hover label.sk-toggleable__label-arrow:before {color: black;}#sk-container-id-1 div.sk-toggleable__content {max-height: 0;max-width: 0;overflow: hidden;text-align: left;background-color: #f0f8ff;}#sk-container-id-1 div.sk-toggleable__content pre {margin: 0.2em;color: black;border-radius: 0.25em;background-color: #f0f8ff;}#sk-container-id-1 input.sk-toggleable__control:checked~div.sk-toggleable__content {max-height: 200px;max-width: 100%;overflow: auto;}#sk-container-id-1 input.sk-toggleable__control:checked~label.sk-toggleable__label-arrow:before {content: \"▾\";}#sk-container-id-1 div.sk-estimator input.sk-toggleable__control:checked~label.sk-toggleable__label {background-color: #d4ebff;}#sk-container-id-1 div.sk-label input.sk-toggleable__control:checked~label.sk-toggleable__label {background-color: #d4ebff;}#sk-container-id-1 input.sk-hidden--visually {border: 0;clip: rect(1px 1px 1px 1px);clip: rect(1px, 1px, 1px, 1px);height: 1px;margin: -1px;overflow: hidden;padding: 0;position: absolute;width: 1px;}#sk-container-id-1 div.sk-estimator {font-family: monospace;background-color: #f0f8ff;border: 1px dotted black;border-radius: 0.25em;box-sizing: border-box;margin-bottom: 0.5em;}#sk-container-id-1 div.sk-estimator:hover {background-color: #d4ebff;}#sk-container-id-1 div.sk-parallel-item::after {content: \"\";width: 100%;border-bottom: 1px solid gray;flex-grow: 1;}#sk-container-id-1 div.sk-label:hover label.sk-toggleable__label {background-color: #d4ebff;}#sk-container-id-1 div.sk-serial::before {content: \"\";position: absolute;border-left: 1px solid gray;box-sizing: border-box;top: 0;bottom: 0;left: 50%;z-index: 0;}#sk-container-id-1 div.sk-serial {display: flex;flex-direction: column;align-items: center;background-color: white;padding-right: 0.2em;padding-left: 0.2em;position: relative;}#sk-container-id-1 div.sk-item {position: relative;z-index: 1;}#sk-container-id-1 div.sk-parallel {display: flex;align-items: stretch;justify-content: center;background-color: white;position: relative;}#sk-container-id-1 div.sk-item::before, #sk-container-id-1 div.sk-parallel-item::before {content: \"\";position: absolute;border-left: 1px solid gray;box-sizing: border-box;top: 0;bottom: 0;left: 50%;z-index: -1;}#sk-container-id-1 div.sk-parallel-item {display: flex;flex-direction: column;z-index: 1;position: relative;background-color: white;}#sk-container-id-1 div.sk-parallel-item:first-child::after {align-self: flex-end;width: 50%;}#sk-container-id-1 div.sk-parallel-item:last-child::after {align-self: flex-start;width: 50%;}#sk-container-id-1 div.sk-parallel-item:only-child::after {width: 0;}#sk-container-id-1 div.sk-dashed-wrapped {border: 1px dashed gray;margin: 0 0.4em 0.5em 0.4em;box-sizing: border-box;padding-bottom: 0.4em;background-color: white;}#sk-container-id-1 div.sk-label label {font-family: monospace;font-weight: bold;display: inline-block;line-height: 1.2em;}#sk-container-id-1 div.sk-label-container {text-align: center;}#sk-container-id-1 div.sk-container {/* jupyter's `normalize.less` sets `[hidden] { display: none; }` but bootstrap.min.css set `[hidden] { display: none !important; }` so we also need the `!important` here to be able to override the default hidden behavior on the sphinx rendered scikit-learn.org. See: https://github.com/scikit-learn/scikit-learn/issues/21755 */display: inline-block !important;position: relative;}#sk-container-id-1 div.sk-text-repr-fallback {display: none;}</style><div id=\"sk-container-id-1\" class=\"sk-top-container\"><div class=\"sk-text-repr-fallback\"><pre>RandomForestClassifier(max_depth=4, min_samples_leaf=5000, n_estimators=30,\n",
       "                       n_jobs=-1)</pre><b>In a Jupyter environment, please rerun this cell to show the HTML representation or trust the notebook. <br />On GitHub, the HTML representation is unable to render, please try loading this page with nbviewer.org.</b></div><div class=\"sk-container\" hidden><div class=\"sk-item\"><div class=\"sk-estimator sk-toggleable\"><input class=\"sk-toggleable__control sk-hidden--visually\" id=\"sk-estimator-id-1\" type=\"checkbox\" checked><label for=\"sk-estimator-id-1\" class=\"sk-toggleable__label sk-toggleable__label-arrow\">RandomForestClassifier</label><div class=\"sk-toggleable__content\"><pre>RandomForestClassifier(max_depth=4, min_samples_leaf=5000, n_estimators=30,\n",
       "                       n_jobs=-1)</pre></div></div></div></div></div>"
      ],
      "text/plain": [
       "RandomForestClassifier(max_depth=4, min_samples_leaf=5000, n_estimators=30,\n",
       "                       n_jobs=-1)"
      ]
     },
     "execution_count": 28,
     "metadata": {},
     "output_type": "execute_result"
    }
   ],
   "source": [
    "model_rsi = RandomForestClassifier(**rf_best_params)\n",
    "# model_rsi = XGBClassifier(**xgb_best_params)\n",
    "# 模型训练\n",
    "model_rsi.fit(x_train, y_train)"
   ]
  },
  {
   "cell_type": "code",
   "execution_count": 29,
   "id": "892f84c0-0ce8-4f0f-b82d-785d81148c84",
   "metadata": {
    "tags": []
   },
   "outputs": [],
   "source": [
    "Y_pred_rsi = model_rsi.predict(x_test)\n",
    "Y_pred_rsi_proba = model_rsi.predict_proba(x_test)"
   ]
  },
  {
   "cell_type": "markdown",
   "id": "0c1ed9c1-31a5-45e1-a678-643ad595abd0",
   "metadata": {
    "user_expressions": []
   },
   "source": [
    "## RC均线组 模型"
   ]
  },
  {
   "cell_type": "code",
   "execution_count": 30,
   "id": "53917423-9c00-4d5b-b938-7353603e2634",
   "metadata": {},
   "outputs": [
    {
     "ename": "KeyError",
     "evalue": "\"['pair_16_64', 'pair_32_128', 'pair_64_256', 'ewm_range'] not in index\"",
     "output_type": "error",
     "traceback": [
      "\u001b[1;31m---------------------------------------------------------------------------\u001b[0m",
      "\u001b[1;31mKeyError\u001b[0m                                  Traceback (most recent call last)",
      "\u001b[1;32m~\\AppData\\Local\\Temp/ipykernel_11664/3242023524.py\u001b[0m in \u001b[0;36m<module>\u001b[1;34m\u001b[0m\n\u001b[0;32m      2\u001b[0m          \u001b[1;34m'PVO_12_26_9'\u001b[0m\u001b[1;33m,\u001b[0m \u001b[1;34m'PVOh_12_26_9'\u001b[0m\u001b[1;33m,\u001b[0m \u001b[1;34m'PVOs_12_26_9'\u001b[0m\u001b[1;33m,\u001b[0m\u001b[1;33m\u001b[0m\u001b[1;33m\u001b[0m\u001b[0m\n\u001b[0;32m      3\u001b[0m          'THERMO_20_2_0.5', 'THERMOma_20_2_0.5', 'THERMOs_20_2_0.5']  # \n\u001b[1;32m----> 4\u001b[1;33m \u001b[0mx_train\u001b[0m \u001b[1;33m=\u001b[0m \u001b[0mtrain_df\u001b[0m\u001b[1;33m[\u001b[0m\u001b[0mX_cols\u001b[0m\u001b[1;33m]\u001b[0m\u001b[1;33m\u001b[0m\u001b[1;33m\u001b[0m\u001b[0m\n\u001b[0m\u001b[0;32m      5\u001b[0m \u001b[0mx_test\u001b[0m \u001b[1;33m=\u001b[0m \u001b[0mtest_df\u001b[0m\u001b[1;33m[\u001b[0m\u001b[0mX_cols\u001b[0m\u001b[1;33m]\u001b[0m\u001b[1;33m\u001b[0m\u001b[1;33m\u001b[0m\u001b[0m\n",
      "\u001b[1;32mF:\\ProgramData\\Anaconda3\\envs\\pythonlab\\lib\\site-packages\\pandas\\core\\frame.py\u001b[0m in \u001b[0;36m__getitem__\u001b[1;34m(self, key)\u001b[0m\n\u001b[0;32m   3459\u001b[0m             \u001b[1;32mif\u001b[0m \u001b[0mis_iterator\u001b[0m\u001b[1;33m(\u001b[0m\u001b[0mkey\u001b[0m\u001b[1;33m)\u001b[0m\u001b[1;33m:\u001b[0m\u001b[1;33m\u001b[0m\u001b[1;33m\u001b[0m\u001b[0m\n\u001b[0;32m   3460\u001b[0m                 \u001b[0mkey\u001b[0m \u001b[1;33m=\u001b[0m \u001b[0mlist\u001b[0m\u001b[1;33m(\u001b[0m\u001b[0mkey\u001b[0m\u001b[1;33m)\u001b[0m\u001b[1;33m\u001b[0m\u001b[1;33m\u001b[0m\u001b[0m\n\u001b[1;32m-> 3461\u001b[1;33m             \u001b[0mindexer\u001b[0m \u001b[1;33m=\u001b[0m \u001b[0mself\u001b[0m\u001b[1;33m.\u001b[0m\u001b[0mloc\u001b[0m\u001b[1;33m.\u001b[0m\u001b[0m_get_listlike_indexer\u001b[0m\u001b[1;33m(\u001b[0m\u001b[0mkey\u001b[0m\u001b[1;33m,\u001b[0m \u001b[0maxis\u001b[0m\u001b[1;33m=\u001b[0m\u001b[1;36m1\u001b[0m\u001b[1;33m)\u001b[0m\u001b[1;33m[\u001b[0m\u001b[1;36m1\u001b[0m\u001b[1;33m]\u001b[0m\u001b[1;33m\u001b[0m\u001b[1;33m\u001b[0m\u001b[0m\n\u001b[0m\u001b[0;32m   3462\u001b[0m \u001b[1;33m\u001b[0m\u001b[0m\n\u001b[0;32m   3463\u001b[0m         \u001b[1;31m# take() does not accept boolean indexers\u001b[0m\u001b[1;33m\u001b[0m\u001b[1;33m\u001b[0m\u001b[1;33m\u001b[0m\u001b[0m\n",
      "\u001b[1;32mF:\\ProgramData\\Anaconda3\\envs\\pythonlab\\lib\\site-packages\\pandas\\core\\indexing.py\u001b[0m in \u001b[0;36m_get_listlike_indexer\u001b[1;34m(self, key, axis)\u001b[0m\n\u001b[0;32m   1312\u001b[0m             \u001b[0mkeyarr\u001b[0m\u001b[1;33m,\u001b[0m \u001b[0mindexer\u001b[0m\u001b[1;33m,\u001b[0m \u001b[0mnew_indexer\u001b[0m \u001b[1;33m=\u001b[0m \u001b[0max\u001b[0m\u001b[1;33m.\u001b[0m\u001b[0m_reindex_non_unique\u001b[0m\u001b[1;33m(\u001b[0m\u001b[0mkeyarr\u001b[0m\u001b[1;33m)\u001b[0m\u001b[1;33m\u001b[0m\u001b[1;33m\u001b[0m\u001b[0m\n\u001b[0;32m   1313\u001b[0m \u001b[1;33m\u001b[0m\u001b[0m\n\u001b[1;32m-> 1314\u001b[1;33m         \u001b[0mself\u001b[0m\u001b[1;33m.\u001b[0m\u001b[0m_validate_read_indexer\u001b[0m\u001b[1;33m(\u001b[0m\u001b[0mkeyarr\u001b[0m\u001b[1;33m,\u001b[0m \u001b[0mindexer\u001b[0m\u001b[1;33m,\u001b[0m \u001b[0maxis\u001b[0m\u001b[1;33m)\u001b[0m\u001b[1;33m\u001b[0m\u001b[1;33m\u001b[0m\u001b[0m\n\u001b[0m\u001b[0;32m   1315\u001b[0m \u001b[1;33m\u001b[0m\u001b[0m\n\u001b[0;32m   1316\u001b[0m         if needs_i8_conversion(ax.dtype) or isinstance(\n",
      "\u001b[1;32mF:\\ProgramData\\Anaconda3\\envs\\pythonlab\\lib\\site-packages\\pandas\\core\\indexing.py\u001b[0m in \u001b[0;36m_validate_read_indexer\u001b[1;34m(self, key, indexer, axis)\u001b[0m\n\u001b[0;32m   1375\u001b[0m \u001b[1;33m\u001b[0m\u001b[0m\n\u001b[0;32m   1376\u001b[0m             \u001b[0mnot_found\u001b[0m \u001b[1;33m=\u001b[0m \u001b[0mlist\u001b[0m\u001b[1;33m(\u001b[0m\u001b[0mensure_index\u001b[0m\u001b[1;33m(\u001b[0m\u001b[0mkey\u001b[0m\u001b[1;33m)\u001b[0m\u001b[1;33m[\u001b[0m\u001b[0mmissing_mask\u001b[0m\u001b[1;33m.\u001b[0m\u001b[0mnonzero\u001b[0m\u001b[1;33m(\u001b[0m\u001b[1;33m)\u001b[0m\u001b[1;33m[\u001b[0m\u001b[1;36m0\u001b[0m\u001b[1;33m]\u001b[0m\u001b[1;33m]\u001b[0m\u001b[1;33m.\u001b[0m\u001b[0munique\u001b[0m\u001b[1;33m(\u001b[0m\u001b[1;33m)\u001b[0m\u001b[1;33m)\u001b[0m\u001b[1;33m\u001b[0m\u001b[1;33m\u001b[0m\u001b[0m\n\u001b[1;32m-> 1377\u001b[1;33m             \u001b[1;32mraise\u001b[0m \u001b[0mKeyError\u001b[0m\u001b[1;33m(\u001b[0m\u001b[1;34mf\"{not_found} not in index\"\u001b[0m\u001b[1;33m)\u001b[0m\u001b[1;33m\u001b[0m\u001b[1;33m\u001b[0m\u001b[0m\n\u001b[0m\u001b[0;32m   1378\u001b[0m \u001b[1;33m\u001b[0m\u001b[0m\n\u001b[0;32m   1379\u001b[0m \u001b[1;33m\u001b[0m\u001b[0m\n",
      "\u001b[1;31mKeyError\u001b[0m: \"['pair_16_64', 'pair_32_128', 'pair_64_256', 'ewm_range'] not in index\""
     ]
    }
   ],
   "source": [
    "X_cols = ['RSI_14', 'pair_8_32',  'SQZ_ON', 'PGO_14', 'pair_16_64', 'pair_32_128', 'pair_64_256', 'ewm_range', \n",
    "         'PVO_12_26_9', 'PVOh_12_26_9', 'PVOs_12_26_9',\n",
    "         'THERMO_20_2_0.5', 'THERMOma_20_2_0.5', 'THERMOs_20_2_0.5']  # \n",
    "x_train = train_df[X_cols]\n",
    "x_test = test_df[X_cols]"
   ]
  },
  {
   "cell_type": "code",
   "execution_count": null,
   "id": "11f42555-3fdf-451f-aa00-45b5844c7faa",
   "metadata": {},
   "outputs": [],
   "source": [
    "model_ewm = RandomForestClassifier(**rf_best_params)\n",
    "# model_ewm = XGBClassifier(**xgb_best_params)\n",
    "# 模型训练\n",
    "model_ewm.fit(x_train, y_train)"
   ]
  },
  {
   "cell_type": "code",
   "execution_count": null,
   "id": "9fb2a7be-5c94-4cc3-b4a8-6ed512805f87",
   "metadata": {
    "tags": []
   },
   "outputs": [],
   "source": [
    "Y_pred_ewm = model_ewm.predict(x_test)\n",
    "Y_pred_ewm_proba = model_ewm.predict_proba(x_test)"
   ]
  },
  {
   "cell_type": "raw",
   "id": "69bc4475-baf3-4b6c-85fb-3447e935fef3",
   "metadata": {
    "user_expressions": []
   },
   "source": [
    "tn, fp\n",
    "fn, tp"
   ]
  },
  {
   "cell_type": "code",
   "execution_count": null,
   "id": "265a7616-2679-45a5-a527-700b8cdcf4f1",
   "metadata": {},
   "outputs": [],
   "source": [
    "# 全特征   RF min_samples_leaf 5000\n",
    "print('f1(ewm): ', f1_score(y_test, Y_pred_ewm))\n",
    "print('f1(rsi): ', f1_score(y_test, Y_pred_rsi))\n",
    "fpr, tpr, thresholds = roc_curve(y_test.astype(int).values, Y_pred_ewm_proba[:,1])\n",
    "print('auc(ewm): ', auc(fpr, tpr))\n",
    "fpr, tpr, thresholds = roc_curve(y_test.astype(int).values, Y_pred_rsi_proba[:,1])\n",
    "print('auc(rsi): ', auc(fpr, tpr))\n",
    "print('cm(ewm):\\n ', confusion_matrix(y_test, Y_pred_ewm))\n",
    "print('cm(rsi):\\n ', confusion_matrix(y_test, Y_pred_rsi))"
   ]
  },
  {
   "cell_type": "code",
   "execution_count": null,
   "id": "06d460af-4690-462a-8485-01975f5b8615",
   "metadata": {},
   "outputs": [],
   "source": [
    "# ['RSI_14', 'pair_8_32', 'PGO_14', 'pair_16_64', 'pair_32_128', 'pair_64_256', 'PVOs_12_26_9']\n",
    "print('f1(ewm): ', f1_score(y_test, Y_pred_ewm))\n",
    "print('f1(rsi): ', f1_score(y_test, Y_pred_rsi))\n",
    "fpr, tpr, thresholds = roc_curve(y_test.astype(int).values, Y_pred_ewm_proba[:,1])\n",
    "print('auc(ewm): ', auc(fpr, tpr))\n",
    "fpr, tpr, thresholds = roc_curve(y_test.astype(int).values, Y_pred_rsi_proba[:,1])\n",
    "print('auc(rsi): ', auc(fpr, tpr))\n",
    "print('cm(ewm):\\n ', confusion_matrix(y_test, Y_pred_ewm))\n",
    "print('cm(rsi):\\n ', confusion_matrix(y_test, Y_pred_rsi))"
   ]
  },
  {
   "cell_type": "code",
   "execution_count": null,
   "id": "a28e8090-23b8-4c88-8e60-5138996ce141",
   "metadata": {},
   "outputs": [],
   "source": [
    "model_ewm.feature_names_in_"
   ]
  },
  {
   "cell_type": "code",
   "execution_count": null,
   "id": "c6563a0d-ca56-4b87-a23e-9b7136cdbb3a",
   "metadata": {},
   "outputs": [],
   "source": [
    "model_ewm.feature_importances_"
   ]
  },
  {
   "cell_type": "code",
   "execution_count": null,
   "id": "8d2192f5-68eb-48f7-8ea2-7cd906c6323c",
   "metadata": {},
   "outputs": [],
   "source": [
    "['RSI_14', 'pair_8_32', 'PGO_14']"
   ]
  },
  {
   "cell_type": "code",
   "execution_count": null,
   "id": "d6bb7b06-d9c7-4adf-a590-81ec865d462f",
   "metadata": {},
   "outputs": [],
   "source": [
    "['RSI_14', 'pair_8_32',  'SQZ_ON', 'PGO_14', 'pair_16_64', \n",
    " 'pair_32_128', 'pair_64_256', 'ewm_range', 'PVO_12_26_9', 'PVOh_12_26_9',\n",
    " 'PVOs_12_26_9', 'THERMO_20_2_0.5', 'THERMOma_20_2_0.5', 'THERMOs_20_2_0.5'] "
   ]
  },
  {
   "cell_type": "markdown",
   "id": "afda3069-0b7a-4bcd-afc5-c94df9a682a3",
   "metadata": {
    "user_expressions": []
   },
   "source": [
    "## 训练集结果"
   ]
  },
  {
   "cell_type": "code",
   "execution_count": null,
   "id": "f2b8f2a3-0209-41b1-909e-f3ef8fcde65d",
   "metadata": {
    "tags": []
   },
   "outputs": [],
   "source": [
    "Y_pred_rsi_train = model_rsi.predict(x_train)\n",
    "Y_pred_rsi_proba_train = model_rsi.predict_proba(x_train)"
   ]
  },
  {
   "cell_type": "code",
   "execution_count": null,
   "id": "6a3720de-a13b-4701-8166-5e61a92ba71c",
   "metadata": {},
   "outputs": [],
   "source": [
    "Y_pred_ewm_train = model_ewm.predict(x_train)\n",
    "Y_pred_ewm_proba_train = model_ewm.predict_proba(x_train)"
   ]
  },
  {
   "cell_type": "code",
   "execution_count": null,
   "id": "d75d0f8d-e7a2-48f8-bce4-cd0416675627",
   "metadata": {},
   "outputs": [],
   "source": [
    "# ['RSI_14', 'pair_8_32', 'PGO_14', 'pair_16_64', 'pair_32_128', 'pair_64_256', 'PVOs_12_26_9']\n",
    "print('f1(ewm): ', f1_score(y_train, Y_pred_ewm_train))\n",
    "print('f1(rsi): ', f1_score(y_train, Y_pred_rsi_train))\n",
    "fpr, tpr, thresholds = roc_curve(y_train.astype(int).values, Y_pred_ewm_proba_train[:,1])\n",
    "print('auc(ewm): ', auc(fpr, tpr))\n",
    "fpr, tpr, thresholds = roc_curve(y_train.astype(int).values, Y_pred_rsi_proba_train[:,1])\n",
    "print('auc(rsi): ', auc(fpr, tpr))\n",
    "print('cm(ewm):\\n ', confusion_matrix(y_train, Y_pred_ewm_train))\n",
    "print('cm(rsi):\\n ', confusion_matrix(y_train, Y_pred_rsi_train))"
   ]
  },
  {
   "cell_type": "code",
   "execution_count": null,
   "id": "0e4ae616-2c86-4ceb-9d2a-39065d7f3de2",
   "metadata": {},
   "outputs": [],
   "source": []
  }
 ],
 "metadata": {
  "kernelspec": {
   "display_name": "pythonlab(python3.8)",
   "language": "python",
   "name": "pythonlabkernel"
  },
  "language_info": {
   "codemirror_mode": {
    "name": "ipython",
    "version": 3
   },
   "file_extension": ".py",
   "mimetype": "text/x-python",
   "name": "python",
   "nbconvert_exporter": "python",
   "pygments_lexer": "ipython3",
   "version": "3.8.0"
  }
 },
 "nbformat": 4,
 "nbformat_minor": 5
}
