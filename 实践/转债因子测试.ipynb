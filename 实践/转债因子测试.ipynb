{
 "cells": [
  {
   "cell_type": "markdown",
   "id": "a7007144-757d-4cf1-bed1-92fc6f61e680",
   "metadata": {
    "user_expressions": []
   },
   "source": [
    "<center><font size=5>可转债因子分析</font></center>"
   ]
  },
  {
   "cell_type": "markdown",
   "id": "c76bdbc1-8bf9-4544-b7ea-ddfd1aac1254",
   "metadata": {
    "user_expressions": []
   },
   "source": [
    "使用机器学习代替IC来进行初筛。由于IC无法反映因子在机器学习中的效果。"
   ]
  },
  {
   "cell_type": "markdown",
   "id": "26d81b6e-579e-4609-bbfa-db1eba62bcb8",
   "metadata": {
    "user_expressions": []
   },
   "source": [
    "加载各种包"
   ]
  },
  {
   "cell_type": "code",
   "execution_count": 1,
   "id": "dea71b55-a4ec-4897-b39e-ffca62713fa9",
   "metadata": {},
   "outputs": [
    {
     "name": "stderr",
     "output_type": "stream",
     "text": [
      "F:\\ProgramData\\Anaconda3\\envs\\pythonlab\\lib\\site-packages\\numpy\\_distributor_init.py:30: UserWarning: loaded more than 1 DLL from .libs:\n",
      "F:\\ProgramData\\Anaconda3\\envs\\pythonlab\\lib\\site-packages\\numpy\\.libs\\libopenblas.FB5AE2TYXYH2IJRDKGDGQ3XBKLKTF43H.gfortran-win_amd64.dll\n",
      "F:\\ProgramData\\Anaconda3\\envs\\pythonlab\\lib\\site-packages\\numpy\\.libs\\libopenblas64__v0.3.21-gcc_10_3_0.dll\n",
      "  warnings.warn(\"loaded more than 1 DLL from .libs:\"\n"
     ]
    },
    {
     "data": {
      "text/html": [
       "        <script type=\"text/javascript\">\n",
       "        window.PlotlyConfig = {MathJaxConfig: 'local'};\n",
       "        if (window.MathJax) {MathJax.Hub.Config({SVG: {font: \"STIX-Web\"}});}\n",
       "        if (typeof require !== 'undefined') {\n",
       "        require.undef(\"plotly\");\n",
       "        requirejs.config({\n",
       "            paths: {\n",
       "                'plotly': ['https://cdn.plot.ly/plotly-2.2.0.min']\n",
       "            }\n",
       "        });\n",
       "        require(['plotly'], function(Plotly) {\n",
       "            window._Plotly = Plotly;\n",
       "        });\n",
       "        }\n",
       "        </script>\n",
       "        "
      ]
     },
     "metadata": {},
     "output_type": "display_data"
    }
   ],
   "source": [
    "import matplotlib.pyplot as plt\n",
    "import pandas as pd\n",
    "import numpy as np\n",
    "import sys\n",
    "sys.path.append('..')  # 文件位于\n",
    "\n",
    "import factors  # 因子计算\n",
    "import data_utils_CB  # 数据读取\n",
    "import performance as perf  # IC计算\n",
    "import plotting  #绘图"
   ]
  },
  {
   "cell_type": "markdown",
   "id": "3cd6534f-fd4f-46e8-b508-f04c59dac8c7",
   "metadata": {
    "user_expressions": []
   },
   "source": [
    "# 1. 初始化DataLoader "
   ]
  },
  {
   "cell_type": "markdown",
   "id": "7f94af58-9a3d-4aec-8fea-6d1216990a84",
   "metadata": {
    "user_expressions": []
   },
   "source": [
    "DataLoader实现了对csv文件的批量读取，会按照\\[年\\]\\[月\\]保存在dl中。\n",
    "一些重要函数：\n",
    "- init_month_df: 加载目标文件夹下的所有zip文件。这些文件读取后会被保存在dataloader中。注意，"
   ]
  },
  {
   "cell_type": "code",
   "execution_count": 2,
   "id": "441ffc11-0b21-4c2f-9d50-9296e29ce4a5",
   "metadata": {},
   "outputs": [],
   "source": [
    "dl = data_utils_CB.DataLoader()\n",
    "dl.init_month_df('E:/jupyternote/QF/cb/raw_data/2023_raw/')\n",
    "# 计算未来收益率\n",
    "data_utils_CB.compute_future_rtn_for_all(dl)"
   ]
  },
  {
   "cell_type": "markdown",
   "id": "83738c90-afcc-4e7e-b94b-111020fcd44f",
   "metadata": {
    "user_expressions": []
   },
   "source": [
    "# 2. 计算因子\n",
    "ta Core indicators\n",
    "测试批量生成因子"
   ]
  },
  {
   "cell_type": "code",
   "execution_count": 3,
   "id": "71d10b7a-d256-43c0-bc4e-c005e60cb821",
   "metadata": {},
   "outputs": [],
   "source": [
    "import pandas_ta as ta\n",
    "import pandas as pd\n",
    "from tqdm import tqdm\n",
    "import time\n",
    "\n",
    "e = pd.DataFrame()\n",
    "core_indicators = e.ta.indicators(as_list=True)  # 获取所有indicators列表"
   ]
  },
  {
   "cell_type": "code",
   "execution_count": 4,
   "id": "2440ff6f-846b-43ef-9647-6e506c2d2a92",
   "metadata": {
    "tags": []
   },
   "outputs": [],
   "source": [
    "core_indicators.remove('above')\n",
    "core_indicators.remove('above_value')\n",
    "core_indicators.remove('cross_value')\n",
    "core_indicators.remove('aberration')\n",
    "core_indicators.remove('below')\n",
    "core_indicators.remove('below_value')"
   ]
  },
  {
   "cell_type": "markdown",
   "id": "8feefbc5-089f-409c-99ea-719b9c8eb34e",
   "metadata": {
    "user_expressions": []
   },
   "source": [
    "### indicators函数有效性的检验\n",
    "1. 计算不能报错\n",
    "2. 计算时间不能太长"
   ]
  },
  {
   "cell_type": "code",
   "execution_count": 5,
   "id": "d157aaeb-54b0-44d1-a9ab-3ac7cd4b3d37",
   "metadata": {},
   "outputs": [],
   "source": [
    "test_df = dl.df_dict['110052.csv'].copy()"
   ]
  },
  {
   "cell_type": "code",
   "execution_count": 6,
   "id": "88c08b79-08d7-40e2-b95d-087160d9dcf3",
   "metadata": {},
   "outputs": [],
   "source": [
    "def preprocess(df):\n",
    "    df.rename({'vol':'volume'},axis=1, inplace=True)\n",
    "    return df"
   ]
  },
  {
   "cell_type": "code",
   "execution_count": 7,
   "id": "b344da53-1994-4fd0-8806-1ca2532b547e",
   "metadata": {
    "tags": []
   },
   "outputs": [
    {
     "name": "stderr",
     "output_type": "stream",
     "text": [
      "100%|████████████████████████████████████████████████████████████████████████████████| 137/137 [00:58<00:00,  2.34it/s]"
     ]
    },
    {
     "name": "stdout",
     "output_type": "stream",
     "text": [
      "[!] VWAP volume series is not datetime ordered. Results may not be as expected.\n",
      "[!] VWAP price series is not datetime ordered. Results may not be as expected.\n"
     ]
    },
    {
     "name": "stderr",
     "output_type": "stream",
     "text": [
      "\n"
     ]
    }
   ],
   "source": [
    "test_df = preprocess(test_df)\n",
    "# 遍历判断哪些是直接可用的\n",
    "remove_fun_list = []  # 不需要计算的func\n",
    "time_list = []  # 保存函数计算的时长\n",
    "for indicator_name in tqdm(core_indicators):\n",
    "    try:\n",
    "        fun = getattr(test_df.ta, indicator_name)\n",
    "        # 记录代码开始时间\n",
    "        start_time = time.time()\n",
    "        for i in range(1):\n",
    "            temp_data = fun(append=True)\n",
    "        # 记录代码结束时间\n",
    "        end_time = time.time()\n",
    "        # 计算代码执行时间\n",
    "        execution_time = end_time - start_time\n",
    "        if type(temp_data) == pd.core.frame.DataFrame and 'open_time' in temp_data.columns:\n",
    "            remove_fun_list.append(indicator_name)\n",
    "            time_list.append(999)\n",
    "        else:\n",
    "            time_list.append(execution_time)\n",
    "    except:\n",
    "        remove_fun_list.append(indicator_name)\n",
    "        time_list.append(999)"
   ]
  },
  {
   "cell_type": "code",
   "execution_count": 8,
   "id": "a20c5523-70ba-4ca1-8718-3d4baaf7f833",
   "metadata": {},
   "outputs": [],
   "source": [
    "time_df = pd.DataFrame({\n",
    "    'factor': core_indicators,\n",
    "    'time':time_list\n",
    "})"
   ]
  },
  {
   "cell_type": "code",
   "execution_count": 9,
   "id": "605608a9-ed6d-419f-ae08-5155b6a650b8",
   "metadata": {},
   "outputs": [
    {
     "data": {
      "text/plain": [
       "(137, 2)"
      ]
     },
     "execution_count": 9,
     "metadata": {},
     "output_type": "execute_result"
    }
   ],
   "source": [
    "time_df.shape"
   ]
  },
  {
   "cell_type": "code",
   "execution_count": 10,
   "id": "3bfb994b-217f-443e-9d32-b51af9b3916c",
   "metadata": {},
   "outputs": [
    {
     "data": {
      "text/html": [
       "<div>\n",
       "<style scoped>\n",
       "    .dataframe tbody tr th:only-of-type {\n",
       "        vertical-align: middle;\n",
       "    }\n",
       "\n",
       "    .dataframe tbody tr th {\n",
       "        vertical-align: top;\n",
       "    }\n",
       "\n",
       "    .dataframe thead th {\n",
       "        text-align: right;\n",
       "    }\n",
       "</style>\n",
       "<table border=\"1\" class=\"dataframe\">\n",
       "  <thead>\n",
       "    <tr style=\"text-align: right;\">\n",
       "      <th></th>\n",
       "      <th>factor</th>\n",
       "      <th>time</th>\n",
       "    </tr>\n",
       "  </thead>\n",
       "  <tbody>\n",
       "    <tr>\n",
       "      <th>126</th>\n",
       "      <td>vidya</td>\n",
       "      <td>1.709454</td>\n",
       "    </tr>\n",
       "    <tr>\n",
       "      <th>4</th>\n",
       "      <td>alma</td>\n",
       "      <td>1.753654</td>\n",
       "    </tr>\n",
       "    <tr>\n",
       "      <th>42</th>\n",
       "      <td>ha</td>\n",
       "      <td>1.870057</td>\n",
       "    </tr>\n",
       "    <tr>\n",
       "      <th>109</th>\n",
       "      <td>supertrend</td>\n",
       "      <td>2.023046</td>\n",
       "    </tr>\n",
       "    <tr>\n",
       "      <th>65</th>\n",
       "      <td>mcgd</td>\n",
       "      <td>3.072467</td>\n",
       "    </tr>\n",
       "    <tr>\n",
       "      <th>43</th>\n",
       "      <td>hilo</td>\n",
       "      <td>3.194684</td>\n",
       "    </tr>\n",
       "    <tr>\n",
       "      <th>79</th>\n",
       "      <td>psar</td>\n",
       "      <td>3.866484</td>\n",
       "    </tr>\n",
       "    <tr>\n",
       "      <th>87</th>\n",
       "      <td>qqe</td>\n",
       "      <td>7.254401</td>\n",
       "    </tr>\n",
       "    <tr>\n",
       "      <th>112</th>\n",
       "      <td>td_seq</td>\n",
       "      <td>25.499077</td>\n",
       "    </tr>\n",
       "    <tr>\n",
       "      <th>129</th>\n",
       "      <td>vwap</td>\n",
       "      <td>999.000000</td>\n",
       "    </tr>\n",
       "  </tbody>\n",
       "</table>\n",
       "</div>"
      ],
      "text/plain": [
       "         factor        time\n",
       "126       vidya    1.709454\n",
       "4          alma    1.753654\n",
       "42           ha    1.870057\n",
       "109  supertrend    2.023046\n",
       "65         mcgd    3.072467\n",
       "43         hilo    3.194684\n",
       "79         psar    3.866484\n",
       "87          qqe    7.254401\n",
       "112      td_seq   25.499077\n",
       "129        vwap  999.000000"
      ]
     },
     "execution_count": 10,
     "metadata": {},
     "output_type": "execute_result"
    }
   ],
   "source": [
    "time_df.sort_values('time').tail(10)"
   ]
  },
  {
   "cell_type": "code",
   "execution_count": 11,
   "id": "d1f44b3c-c389-4a03-b02d-21026ee1ead4",
   "metadata": {},
   "outputs": [],
   "source": [
    "valid_core_indicators = list(time_df.sort_values('time')['factor'].values[:100])"
   ]
  },
  {
   "cell_type": "markdown",
   "id": "7ed5c744-3e10-4ce4-9c82-f6c9a19cecc3",
   "metadata": {
    "user_expressions": []
   },
   "source": [
    "### 因子层面：简单判断有效性\n",
    "1. nan值\n",
    "2. mean值"
   ]
  },
  {
   "cell_type": "code",
   "execution_count": 12,
   "id": "a468dca4-21e9-463b-a8cb-d8ea1aaf4f2c",
   "metadata": {
    "tags": []
   },
   "outputs": [
    {
     "name": "stderr",
     "output_type": "stream",
     "text": [
      "100%|███████████████████████████████████████████████████████████████████████████████| 100/100 [00:00<00:00, 407.64it/s]\n"
     ]
    }
   ],
   "source": [
    "test_df = dl.df_dict['110053.csv'].copy()  # 用于测试函数\n",
    "test_df = preprocess(test_df)\n",
    "# 遍历判断哪些是直接可用的\n",
    "current_factor_names = []  # 保存因子名称\n",
    "indicators = []\n",
    "for indicator_name in tqdm(valid_core_indicators):\n",
    "    fun = getattr(test_df.ta, indicator_name)\n",
    "    temp_data = fun(append=True)\n",
    "    temp_factor_names = []\n",
    "    if type(temp_data) == pd.core.series.Series:\n",
    "        temp_factor_names = [temp_data.name]\n",
    "    elif type(temp_data) == tuple:\n",
    "        temp_factor_names = list(temp_data[0].columns)\n",
    "    else:\n",
    "        temp_factor_names = list(temp_data.columns)\n",
    "    \n",
    "    \n",
    "    if 'order_book_id' in temp_factor_names:\n",
    "        continue  # 说明这个不适合存储\n",
    "    \n",
    "    for _ in temp_factor_names:\n",
    "        indicators.append(indicator_name)\n",
    "    current_factor_names +=  temp_factor_names"
   ]
  },
  {
   "cell_type": "code",
   "execution_count": 13,
   "id": "80afaf3a-b4d1-4a56-b891-0df6102810c3",
   "metadata": {},
   "outputs": [
    {
     "name": "stdout",
     "output_type": "stream",
     "text": [
      "(158, 2)\n"
     ]
    }
   ],
   "source": [
    "# 构造一个df，用于特征名称和func之间的对应关系\n",
    "func2factor_df = pd.DataFrame({\n",
    "    'funcName':indicators,\n",
    "    'factorName':current_factor_names,\n",
    "})\n",
    "print(func2factor_df.shape)"
   ]
  },
  {
   "cell_type": "markdown",
   "id": "deb239ac-dc47-4212-bd8a-7970883a6b68",
   "metadata": {
    "user_expressions": []
   },
   "source": [
    "### 清理明显不合适的特征"
   ]
  },
  {
   "cell_type": "code",
   "execution_count": 14,
   "id": "f1dd092f-e762-4b7d-b497-12d487035da2",
   "metadata": {},
   "outputs": [],
   "source": [
    "import cufflinks"
   ]
  },
  {
   "cell_type": "code",
   "execution_count": 15,
   "id": "e9d4b5e1-bee8-4737-8cb4-ee8924246dcd",
   "metadata": {
    "tags": []
   },
   "outputs": [],
   "source": [
    "factors_df = test_df[current_factor_names]"
   ]
  },
  {
   "cell_type": "code",
   "execution_count": 16,
   "id": "038ce073-f8f4-41a4-a40f-62d222a627c9",
   "metadata": {},
   "outputs": [],
   "source": [
    "remove_cols = []\n",
    "remove_cols += list(factors_df.columns[factors_df.isna().sum() > 200])  # nan值太多所以清理掉\n",
    "remove_cols += list(factors_df.columns[factors_df.max() > 10000000])  # 均值过大所以清理掉\n",
    "# 找到那些没有使用未来数据的因子: 最后一行必须有数值\n",
    "invalid_cols = factors_df.columns[factors_df.isna().iloc[-1,:].values]\n",
    "remove_cols += list(invalid_cols)\n",
    "# remove_cols += ['EOM_14_100000000', 'VAR_30']"
   ]
  },
  {
   "cell_type": "markdown",
   "id": "766e0c1e-c110-4bb8-b3de-ef6f6906d658",
   "metadata": {
    "user_expressions": []
   },
   "source": [
    "## 2. 构造cleaned factors函数"
   ]
  },
  {
   "cell_type": "code",
   "execution_count": 17,
   "id": "b1665ae6-ec7b-47dc-9663-3d9bf90c9a9e",
   "metadata": {},
   "outputs": [],
   "source": [
    "cleaned_factors = set(current_factor_names) - set(remove_cols)"
   ]
  },
  {
   "cell_type": "code",
   "execution_count": 18,
   "id": "bd406c79-2336-4fce-b332-9cd2ea818a6d",
   "metadata": {},
   "outputs": [
    {
     "data": {
      "text/plain": [
       "158"
      ]
     },
     "execution_count": 18,
     "metadata": {},
     "output_type": "execute_result"
    }
   ],
   "source": [
    "len(current_factor_names)"
   ]
  },
  {
   "cell_type": "code",
   "execution_count": 19,
   "id": "629752b7-d0c4-4d23-a3fb-d0b7b1c3f992",
   "metadata": {},
   "outputs": [
    {
     "data": {
      "text/plain": [
       "153"
      ]
     },
     "execution_count": 19,
     "metadata": {},
     "output_type": "execute_result"
    }
   ],
   "source": [
    "len(cleaned_factors)"
   ]
  },
  {
   "cell_type": "code",
   "execution_count": 20,
   "id": "138fa0cf-f19e-44c8-b9b9-0c511b38074d",
   "metadata": {},
   "outputs": [
    {
     "data": {
      "text/plain": [
       "<module 'factors' from '..\\\\factors.py'>"
      ]
     },
     "execution_count": 20,
     "metadata": {},
     "output_type": "execute_result"
    }
   ],
   "source": [
    "import importlib\n",
    "# 使用 importlib.reload() 重新导入包\n",
    "importlib.reload(factors)"
   ]
  },
  {
   "cell_type": "code",
   "execution_count": 21,
   "id": "87e69c90-fa30-49f5-a296-36750d4817b7",
   "metadata": {},
   "outputs": [],
   "source": [
    "@factors.handle_list_data\n",
    "def add_core_factors(raw_df:pd.DataFrame, core_indicators)-> pd.DataFrame:\n",
    "    '''\n",
    "    加入新因子的模板。\n",
    "    :param raw_df: 原始数据\n",
    "    :param core_indicators: 因子名称\n",
    "    :return: 原始数据+因子\n",
    "    '''\n",
    "    raw_df = preprocess(raw_df)\n",
    "    for indicator_name in valid_core_indicators:\n",
    "        fun = getattr(raw_df.ta, indicator_name)\n",
    "        temp_data = fun(append=True)\n",
    "    return raw_df"
   ]
  },
  {
   "cell_type": "code",
   "execution_count": 22,
   "id": "fabcc5a8-f683-403e-991c-957ebce7a709",
   "metadata": {},
   "outputs": [],
   "source": [
    "for key, value in dl.df_dict.items():\n",
    "    break"
   ]
  },
  {
   "cell_type": "code",
   "execution_count": 23,
   "id": "c73804c9-cffa-4a5d-bce4-cd8963689d60",
   "metadata": {
    "collapsed": true,
    "jupyter": {
     "outputs_hidden": true
    },
    "tags": []
   },
   "outputs": [
    {
     "name": "stderr",
     "output_type": "stream",
     "text": [
      "F:\\ProgramData\\Anaconda3\\envs\\pythonlab\\lib\\site-packages\\pandas\\core\\arraylike.py:364: RuntimeWarning:\n",
      "\n",
      "divide by zero encountered in log10\n",
      "\n",
      "F:\\ProgramData\\Anaconda3\\envs\\pythonlab\\lib\\site-packages\\pandas\\core\\arraylike.py:364: RuntimeWarning:\n",
      "\n",
      "divide by zero encountered in log10\n",
      "\n",
      "F:\\ProgramData\\Anaconda3\\envs\\pythonlab\\lib\\site-packages\\pandas\\core\\arraylike.py:364: RuntimeWarning:\n",
      "\n",
      "divide by zero encountered in log10\n",
      "\n",
      "F:\\ProgramData\\Anaconda3\\envs\\pythonlab\\lib\\site-packages\\pandas\\core\\arraylike.py:364: RuntimeWarning:\n",
      "\n",
      "divide by zero encountered in log10\n",
      "\n",
      "F:\\ProgramData\\Anaconda3\\envs\\pythonlab\\lib\\site-packages\\pandas\\core\\arraylike.py:364: RuntimeWarning:\n",
      "\n",
      "divide by zero encountered in log10\n",
      "\n",
      "F:\\ProgramData\\Anaconda3\\envs\\pythonlab\\lib\\site-packages\\pandas\\core\\arraylike.py:364: RuntimeWarning:\n",
      "\n",
      "divide by zero encountered in log10\n",
      "\n",
      "F:\\ProgramData\\Anaconda3\\envs\\pythonlab\\lib\\site-packages\\pandas\\core\\arraylike.py:364: RuntimeWarning:\n",
      "\n",
      "divide by zero encountered in log10\n",
      "\n",
      "F:\\ProgramData\\Anaconda3\\envs\\pythonlab\\lib\\site-packages\\pandas\\core\\arraylike.py:364: RuntimeWarning:\n",
      "\n",
      "divide by zero encountered in log10\n",
      "\n",
      "F:\\ProgramData\\Anaconda3\\envs\\pythonlab\\lib\\site-packages\\pandas\\core\\arraylike.py:364: RuntimeWarning:\n",
      "\n",
      "divide by zero encountered in log10\n",
      "\n",
      "F:\\ProgramData\\Anaconda3\\envs\\pythonlab\\lib\\site-packages\\pandas\\core\\arraylike.py:364: RuntimeWarning:\n",
      "\n",
      "divide by zero encountered in log10\n",
      "\n",
      "F:\\ProgramData\\Anaconda3\\envs\\pythonlab\\lib\\site-packages\\pandas\\core\\arraylike.py:364: RuntimeWarning:\n",
      "\n",
      "divide by zero encountered in log10\n",
      "\n",
      "F:\\ProgramData\\Anaconda3\\envs\\pythonlab\\lib\\site-packages\\pandas\\core\\arraylike.py:364: RuntimeWarning:\n",
      "\n",
      "divide by zero encountered in log10\n",
      "\n",
      "F:\\ProgramData\\Anaconda3\\envs\\pythonlab\\lib\\site-packages\\pandas\\core\\arraylike.py:364: RuntimeWarning:\n",
      "\n",
      "divide by zero encountered in log10\n",
      "\n",
      "F:\\ProgramData\\Anaconda3\\envs\\pythonlab\\lib\\site-packages\\pandas\\core\\arraylike.py:364: RuntimeWarning:\n",
      "\n",
      "divide by zero encountered in log10\n",
      "\n",
      "F:\\ProgramData\\Anaconda3\\envs\\pythonlab\\lib\\site-packages\\pandas\\core\\arraylike.py:364: RuntimeWarning:\n",
      "\n",
      "divide by zero encountered in log10\n",
      "\n",
      "F:\\ProgramData\\Anaconda3\\envs\\pythonlab\\lib\\site-packages\\pandas\\core\\arraylike.py:364: RuntimeWarning:\n",
      "\n",
      "divide by zero encountered in log10\n",
      "\n",
      "F:\\ProgramData\\Anaconda3\\envs\\pythonlab\\lib\\site-packages\\pandas\\core\\arraylike.py:364: RuntimeWarning:\n",
      "\n",
      "divide by zero encountered in log10\n",
      "\n",
      "F:\\ProgramData\\Anaconda3\\envs\\pythonlab\\lib\\site-packages\\pandas\\core\\arraylike.py:364: RuntimeWarning:\n",
      "\n",
      "divide by zero encountered in log10\n",
      "\n",
      "F:\\ProgramData\\Anaconda3\\envs\\pythonlab\\lib\\site-packages\\pandas\\core\\arraylike.py:364: RuntimeWarning:\n",
      "\n",
      "divide by zero encountered in log10\n",
      "\n",
      "F:\\ProgramData\\Anaconda3\\envs\\pythonlab\\lib\\site-packages\\pandas\\core\\arraylike.py:364: RuntimeWarning:\n",
      "\n",
      "divide by zero encountered in log10\n",
      "\n",
      "F:\\ProgramData\\Anaconda3\\envs\\pythonlab\\lib\\site-packages\\pandas\\core\\arraylike.py:364: RuntimeWarning:\n",
      "\n",
      "divide by zero encountered in log10\n",
      "\n",
      "F:\\ProgramData\\Anaconda3\\envs\\pythonlab\\lib\\site-packages\\pandas\\core\\arraylike.py:364: RuntimeWarning:\n",
      "\n",
      "divide by zero encountered in log10\n",
      "\n",
      "F:\\ProgramData\\Anaconda3\\envs\\pythonlab\\lib\\site-packages\\pandas\\core\\arraylike.py:364: RuntimeWarning:\n",
      "\n",
      "divide by zero encountered in log10\n",
      "\n",
      "F:\\ProgramData\\Anaconda3\\envs\\pythonlab\\lib\\site-packages\\pandas\\core\\arraylike.py:364: RuntimeWarning:\n",
      "\n",
      "divide by zero encountered in log10\n",
      "\n",
      "F:\\ProgramData\\Anaconda3\\envs\\pythonlab\\lib\\site-packages\\pandas\\core\\arraylike.py:364: RuntimeWarning:\n",
      "\n",
      "divide by zero encountered in log10\n",
      "\n",
      "F:\\ProgramData\\Anaconda3\\envs\\pythonlab\\lib\\site-packages\\pandas\\core\\arraylike.py:364: RuntimeWarning:\n",
      "\n",
      "divide by zero encountered in log10\n",
      "\n",
      "F:\\ProgramData\\Anaconda3\\envs\\pythonlab\\lib\\site-packages\\pandas\\core\\arraylike.py:364: RuntimeWarning:\n",
      "\n",
      "divide by zero encountered in log10\n",
      "\n",
      "F:\\ProgramData\\Anaconda3\\envs\\pythonlab\\lib\\site-packages\\pandas\\core\\arraylike.py:364: RuntimeWarning:\n",
      "\n",
      "divide by zero encountered in log10\n",
      "\n",
      "F:\\ProgramData\\Anaconda3\\envs\\pythonlab\\lib\\site-packages\\pandas\\core\\arraylike.py:364: RuntimeWarning:\n",
      "\n",
      "divide by zero encountered in log10\n",
      "\n",
      "F:\\ProgramData\\Anaconda3\\envs\\pythonlab\\lib\\site-packages\\pandas\\core\\arraylike.py:364: RuntimeWarning:\n",
      "\n",
      "divide by zero encountered in log10\n",
      "\n",
      "F:\\ProgramData\\Anaconda3\\envs\\pythonlab\\lib\\site-packages\\pandas\\core\\arraylike.py:364: RuntimeWarning:\n",
      "\n",
      "divide by zero encountered in log10\n",
      "\n",
      "F:\\ProgramData\\Anaconda3\\envs\\pythonlab\\lib\\site-packages\\pandas\\core\\arraylike.py:364: RuntimeWarning:\n",
      "\n",
      "divide by zero encountered in log10\n",
      "\n",
      "F:\\ProgramData\\Anaconda3\\envs\\pythonlab\\lib\\site-packages\\pandas\\core\\arraylike.py:364: RuntimeWarning:\n",
      "\n",
      "divide by zero encountered in log10\n",
      "\n",
      "F:\\ProgramData\\Anaconda3\\envs\\pythonlab\\lib\\site-packages\\pandas\\core\\arraylike.py:364: RuntimeWarning:\n",
      "\n",
      "divide by zero encountered in log10\n",
      "\n",
      "F:\\ProgramData\\Anaconda3\\envs\\pythonlab\\lib\\site-packages\\pandas\\core\\arraylike.py:364: RuntimeWarning:\n",
      "\n",
      "divide by zero encountered in log10\n",
      "\n",
      "F:\\ProgramData\\Anaconda3\\envs\\pythonlab\\lib\\site-packages\\pandas\\core\\arraylike.py:364: RuntimeWarning:\n",
      "\n",
      "divide by zero encountered in log10\n",
      "\n",
      "F:\\ProgramData\\Anaconda3\\envs\\pythonlab\\lib\\site-packages\\pandas\\core\\arraylike.py:364: RuntimeWarning:\n",
      "\n",
      "divide by zero encountered in log10\n",
      "\n",
      "F:\\ProgramData\\Anaconda3\\envs\\pythonlab\\lib\\site-packages\\pandas\\core\\arraylike.py:364: RuntimeWarning:\n",
      "\n",
      "divide by zero encountered in log10\n",
      "\n",
      "F:\\ProgramData\\Anaconda3\\envs\\pythonlab\\lib\\site-packages\\pandas\\core\\arraylike.py:364: RuntimeWarning:\n",
      "\n",
      "divide by zero encountered in log10\n",
      "\n",
      "F:\\ProgramData\\Anaconda3\\envs\\pythonlab\\lib\\site-packages\\pandas\\core\\arraylike.py:364: RuntimeWarning:\n",
      "\n",
      "divide by zero encountered in log10\n",
      "\n",
      "F:\\ProgramData\\Anaconda3\\envs\\pythonlab\\lib\\site-packages\\pandas\\core\\arraylike.py:364: RuntimeWarning:\n",
      "\n",
      "divide by zero encountered in log10\n",
      "\n",
      "F:\\ProgramData\\Anaconda3\\envs\\pythonlab\\lib\\site-packages\\pandas\\core\\arraylike.py:364: RuntimeWarning:\n",
      "\n",
      "divide by zero encountered in log10\n",
      "\n",
      "F:\\ProgramData\\Anaconda3\\envs\\pythonlab\\lib\\site-packages\\pandas\\core\\arraylike.py:364: RuntimeWarning:\n",
      "\n",
      "divide by zero encountered in log10\n",
      "\n",
      "F:\\ProgramData\\Anaconda3\\envs\\pythonlab\\lib\\site-packages\\pandas\\core\\arraylike.py:364: RuntimeWarning:\n",
      "\n",
      "divide by zero encountered in log10\n",
      "\n",
      "F:\\ProgramData\\Anaconda3\\envs\\pythonlab\\lib\\site-packages\\pandas\\core\\arraylike.py:364: RuntimeWarning:\n",
      "\n",
      "divide by zero encountered in log10\n",
      "\n",
      "F:\\ProgramData\\Anaconda3\\envs\\pythonlab\\lib\\site-packages\\pandas\\core\\arraylike.py:364: RuntimeWarning:\n",
      "\n",
      "divide by zero encountered in log10\n",
      "\n",
      "F:\\ProgramData\\Anaconda3\\envs\\pythonlab\\lib\\site-packages\\pandas\\core\\arraylike.py:364: RuntimeWarning:\n",
      "\n",
      "divide by zero encountered in log10\n",
      "\n",
      "F:\\ProgramData\\Anaconda3\\envs\\pythonlab\\lib\\site-packages\\pandas\\core\\arraylike.py:364: RuntimeWarning:\n",
      "\n",
      "divide by zero encountered in log10\n",
      "\n",
      "F:\\ProgramData\\Anaconda3\\envs\\pythonlab\\lib\\site-packages\\pandas\\core\\arraylike.py:364: RuntimeWarning:\n",
      "\n",
      "divide by zero encountered in log10\n",
      "\n",
      "F:\\ProgramData\\Anaconda3\\envs\\pythonlab\\lib\\site-packages\\pandas\\core\\arraylike.py:364: RuntimeWarning:\n",
      "\n",
      "divide by zero encountered in log10\n",
      "\n",
      "F:\\ProgramData\\Anaconda3\\envs\\pythonlab\\lib\\site-packages\\pandas\\core\\arraylike.py:364: RuntimeWarning:\n",
      "\n",
      "divide by zero encountered in log10\n",
      "\n"
     ]
    }
   ],
   "source": [
    "# 计算因子\n",
    "add_core_factors(dl, core_indicators)"
   ]
  },
  {
   "cell_type": "code",
   "execution_count": 24,
   "id": "8df411d6-8c88-4478-a938-1fe8ca99698d",
   "metadata": {},
   "outputs": [],
   "source": [
    "test_df = dl.df_dict['110053.csv'].copy()"
   ]
  },
  {
   "cell_type": "markdown",
   "id": "eac30875-21eb-4b99-9136-2f242bfcc936",
   "metadata": {
    "user_expressions": []
   },
   "source": [
    "# 3.查看因子IC"
   ]
  },
  {
   "cell_type": "code",
   "execution_count": 25,
   "id": "52482983-795c-428f-8e5e-556da4da002b",
   "metadata": {},
   "outputs": [],
   "source": [
    "test_df.dropna(inplace=True)"
   ]
  },
  {
   "cell_type": "code",
   "execution_count": 26,
   "id": "70d1db94-d542-4597-87eb-2cb5913ac853",
   "metadata": {},
   "outputs": [],
   "source": [
    "record_dict = {}\n",
    "\n",
    "for name, temp_df in dl.df_dict.items():\n",
    "    record_dict[name] = temp_df[cleaned_factors].corrwith(temp_df['fwd_rtn_5_real'])\n",
    "\n",
    "record_df = pd.DataFrame.from_records(record_dict)\n",
    "mean_record = record_df.T.mean()\n",
    "std_record = record_df.T.std()"
   ]
  },
  {
   "cell_type": "code",
   "execution_count": 31,
   "id": "ac230655-471c-4589-bdaf-78bd0be2ec21",
   "metadata": {},
   "outputs": [],
   "source": [
    "mean_df = pd.DataFrame(mean_record)\n",
    "mean_df.columns=['IC']\n",
    "mean_df['IR'] = mean_record / std_record\n",
    "mean_df['std'] = std_record\n",
    "mean_df['abs_IR'] = np.abs(mean_df['IR'])"
   ]
  },
  {
   "cell_type": "code",
   "execution_count": 43,
   "id": "19590903-ba7f-47e0-ac38-e9343c71d95f",
   "metadata": {},
   "outputs": [
    {
     "data": {
      "text/plain": [
       "Index(['INC_1', 'AOBV_LR_2', 'BOP', 'SMIo_5_20_5', 'STOCHRSIk_14_14_3_3',\n",
       "       'TTM_TRND_6', 'CCI_14_0.015', 'J_9_3', 'BULLP_13', 'low_Z_30_1'],\n",
       "      dtype='object')"
      ]
     },
     "execution_count": 43,
     "metadata": {},
     "output_type": "execute_result"
    }
   ],
   "source": [
    "mean_df.sort_values('IR')[:10].index"
   ]
  },
  {
   "cell_type": "code",
   "execution_count": 52,
   "id": "ae30736e-7d1b-429a-bc38-cf3ad47e14e7",
   "metadata": {},
   "outputs": [
    {
     "data": {
      "text/plain": [
       "Index(['UI_14', 'SQZPRO_ON_NARROW', 'TOS_STDEVALL_U_1', 'TOS_STDEVALL_L_1',\n",
       "       'TOS_STDEVALL_U_2', 'TOS_STDEVALL_L_2', 'TOS_STDEVALL_L_3',\n",
       "       'TOS_STDEVALL_U_3', 'TOS_STDEVALL_LR', 'SQZPRO_ON_WIDE'],\n",
       "      dtype='object')"
      ]
     },
     "execution_count": 52,
     "metadata": {},
     "output_type": "execute_result"
    }
   ],
   "source": [
    "mean_df.sort_values('abs_IR')[:10].index"
   ]
  },
  {
   "cell_type": "code",
   "execution_count": 44,
   "id": "aec0a2c6-cc67-409d-a450-626982a0a1fa",
   "metadata": {},
   "outputs": [],
   "source": [
    "best_factors = ['INC_1', 'AOBV_LR_2', 'BOP', 'SMIo_5_20_5', 'STOCHRSIk_14_14_3_3',\n",
    "       'TTM_TRND_6', 'CCI_14_0.015', 'J_9_3', 'BULLP_13', 'low_Z_30_1']"
   ]
  },
  {
   "cell_type": "markdown",
   "id": "92bce580-7988-4c4b-858d-2aefc9f1d17c",
   "metadata": {
    "user_expressions": []
   },
   "source": [
    "## 获取最佳特征和最佳ta functions"
   ]
  },
  {
   "cell_type": "code",
   "execution_count": 45,
   "id": "89d64b26-0968-4b8a-9baa-d6d3a38afb1b",
   "metadata": {},
   "outputs": [],
   "source": [
    "best_funcs = func2factor_df[func2factor_df['factorName'].isin(best_factors)]"
   ]
  },
  {
   "cell_type": "code",
   "execution_count": 46,
   "id": "a156cec3-729a-4e28-bcd9-d0824623276c",
   "metadata": {},
   "outputs": [],
   "source": [
    "best_funcs.reset_index(inplace=True, drop=True)"
   ]
  },
  {
   "cell_type": "code",
   "execution_count": 47,
   "id": "16966107-02b6-470a-a2c7-53371bbba4ef",
   "metadata": {},
   "outputs": [],
   "source": [
    "funcName = list(best_funcs.funcName.values)\n",
    "factorName = list(best_funcs.factorName.values)"
   ]
  },
  {
   "cell_type": "code",
   "execution_count": 48,
   "id": "f44cb251-7708-4d8e-bf28-b0e6d7f3888e",
   "metadata": {},
   "outputs": [
    {
     "data": {
      "text/html": [
       "<div>\n",
       "<style scoped>\n",
       "    .dataframe tbody tr th:only-of-type {\n",
       "        vertical-align: middle;\n",
       "    }\n",
       "\n",
       "    .dataframe tbody tr th {\n",
       "        vertical-align: top;\n",
       "    }\n",
       "\n",
       "    .dataframe thead th {\n",
       "        text-align: right;\n",
       "    }\n",
       "</style>\n",
       "<table border=\"1\" class=\"dataframe\">\n",
       "  <thead>\n",
       "    <tr style=\"text-align: right;\">\n",
       "      <th></th>\n",
       "      <th>funcName</th>\n",
       "      <th>factorName</th>\n",
       "    </tr>\n",
       "  </thead>\n",
       "  <tbody>\n",
       "    <tr>\n",
       "      <th>0</th>\n",
       "      <td>eri</td>\n",
       "      <td>BULLP_13</td>\n",
       "    </tr>\n",
       "    <tr>\n",
       "      <th>1</th>\n",
       "      <td>bop</td>\n",
       "      <td>BOP</td>\n",
       "    </tr>\n",
       "    <tr>\n",
       "      <th>2</th>\n",
       "      <td>cci</td>\n",
       "      <td>CCI_14_0.015</td>\n",
       "    </tr>\n",
       "    <tr>\n",
       "      <th>3</th>\n",
       "      <td>increasing</td>\n",
       "      <td>INC_1</td>\n",
       "    </tr>\n",
       "    <tr>\n",
       "      <th>4</th>\n",
       "      <td>ttm_trend</td>\n",
       "      <td>TTM_TRND_6</td>\n",
       "    </tr>\n",
       "    <tr>\n",
       "      <th>5</th>\n",
       "      <td>smi</td>\n",
       "      <td>SMIo_5_20_5</td>\n",
       "    </tr>\n",
       "    <tr>\n",
       "      <th>6</th>\n",
       "      <td>cdl_z</td>\n",
       "      <td>low_Z_30_1</td>\n",
       "    </tr>\n",
       "    <tr>\n",
       "      <th>7</th>\n",
       "      <td>kdj</td>\n",
       "      <td>J_9_3</td>\n",
       "    </tr>\n",
       "    <tr>\n",
       "      <th>8</th>\n",
       "      <td>stochrsi</td>\n",
       "      <td>STOCHRSIk_14_14_3_3</td>\n",
       "    </tr>\n",
       "    <tr>\n",
       "      <th>9</th>\n",
       "      <td>aobv</td>\n",
       "      <td>AOBV_LR_2</td>\n",
       "    </tr>\n",
       "  </tbody>\n",
       "</table>\n",
       "</div>"
      ],
      "text/plain": [
       "     funcName           factorName\n",
       "0         eri             BULLP_13\n",
       "1         bop                  BOP\n",
       "2         cci         CCI_14_0.015\n",
       "3  increasing                INC_1\n",
       "4   ttm_trend           TTM_TRND_6\n",
       "5         smi          SMIo_5_20_5\n",
       "6       cdl_z           low_Z_30_1\n",
       "7         kdj                J_9_3\n",
       "8    stochrsi  STOCHRSIk_14_14_3_3\n",
       "9        aobv            AOBV_LR_2"
      ]
     },
     "execution_count": 48,
     "metadata": {},
     "output_type": "execute_result"
    }
   ],
   "source": [
    "best_funcs"
   ]
  },
  {
   "cell_type": "code",
   "execution_count": 51,
   "id": "8146c5c1-5c14-48b2-962b-c371c0f88d28",
   "metadata": {},
   "outputs": [
    {
     "name": "stdout",
     "output_type": "stream",
     "text": [
      "['eri', 'bop', 'cci', 'increasing', 'ttm_trend', 'smi', 'cdl_z', 'kdj', 'stochrsi', 'aobv']\n",
      "['BULLP_13', 'BOP', 'CCI_14_0.015', 'INC_1', 'TTM_TRND_6', 'SMIo_5_20_5', 'low_Z_30_1', 'J_9_3', 'STOCHRSIk_14_14_3_3', 'AOBV_LR_2']\n"
     ]
    }
   ],
   "source": [
    "# 2022的IR最高的因子组\n",
    "print(funcName)\n",
    "print(factorName)"
   ]
  },
  {
   "cell_type": "raw",
   "id": "b290a89b-a11d-40c2-88a4-05392824e758",
   "metadata": {},
   "source": [
    "# 2023的IR最高的因子组\n",
    "uncName_list = ['zscore', 'increasing', 'bop', 'ttm_trend', 'smi', 'stochrsi', 'aobv', 'cdl_pattern']\n",
    "\n",
    "factorName_list = ['ZS_30', 'INC_1', 'BOP', 'TTM_TRND_6', 'SMIo_5_20_5', 'STOCHRSIk_14_14_3_3', 'AOBV_LR_2', 'CDL_3OUTSIDE', 'CDL_BELTHOLD', 'CDL_LONGLINE']"
   ]
  }
 ],
 "metadata": {
  "kernelspec": {
   "display_name": "pythonlab(python3.8)",
   "language": "python",
   "name": "pythonlabkernel"
  },
  "language_info": {
   "codemirror_mode": {
    "name": "ipython",
    "version": 3
   },
   "file_extension": ".py",
   "mimetype": "text/x-python",
   "name": "python",
   "nbconvert_exporter": "python",
   "pygments_lexer": "ipython3",
   "version": "3.8.0"
  }
 },
 "nbformat": 4,
 "nbformat_minor": 5
}
