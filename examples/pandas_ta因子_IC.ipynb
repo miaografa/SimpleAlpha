{
 "cells": [
  {
   "cell_type": "markdown",
   "id": "a7007144-757d-4cf1-bed1-92fc6f61e680",
   "metadata": {
    "user_expressions": []
   },
   "source": [
    "<center><font size=5>pandas ta因子选择</font></center>"
   ]
  },
  {
   "cell_type": "markdown",
   "id": "c76bdbc1-8bf9-4544-b7ea-ddfd1aac1254",
   "metadata": {
    "user_expressions": []
   },
   "source": [
    "目前只有IC相关的计算。余下的有待大家探索。"
   ]
  },
  {
   "cell_type": "markdown",
   "id": "26d81b6e-579e-4609-bbfa-db1eba62bcb8",
   "metadata": {
    "user_expressions": []
   },
   "source": [
    "加载各种包"
   ]
  },
  {
   "cell_type": "code",
   "execution_count": 1,
   "id": "dea71b55-a4ec-4897-b39e-ffca62713fa9",
   "metadata": {},
   "outputs": [
    {
     "data": {
      "text/html": [
       "        <script type=\"text/javascript\">\n",
       "        window.PlotlyConfig = {MathJaxConfig: 'local'};\n",
       "        if (window.MathJax) {MathJax.Hub.Config({SVG: {font: \"STIX-Web\"}});}\n",
       "        if (typeof require !== 'undefined') {\n",
       "        require.undef(\"plotly\");\n",
       "        requirejs.config({\n",
       "            paths: {\n",
       "                'plotly': ['https://cdn.plot.ly/plotly-2.2.0.min']\n",
       "            }\n",
       "        });\n",
       "        require(['plotly'], function(Plotly) {\n",
       "            window._Plotly = Plotly;\n",
       "        });\n",
       "        }\n",
       "        </script>\n",
       "        "
      ]
     },
     "metadata": {},
     "output_type": "display_data"
    }
   ],
   "source": [
    "import matplotlib.pyplot as plt\n",
    "import pandas as pd\n",
    "import numpy as np\n",
    "import sys\n",
    "sys.path.append('..')  # 文件位于\n",
    "\n",
    "import factors  # 因子计算\n",
    "import data_utils  # 数据读取\n",
    "import performance as perf  # IC计算\n",
    "import plotting  #绘图"
   ]
  },
  {
   "cell_type": "markdown",
   "id": "3cd6534f-fd4f-46e8-b508-f04c59dac8c7",
   "metadata": {
    "user_expressions": []
   },
   "source": [
    "# 1. 初始化DataLoader "
   ]
  },
  {
   "cell_type": "markdown",
   "id": "7f94af58-9a3d-4aec-8fea-6d1216990a84",
   "metadata": {
    "user_expressions": []
   },
   "source": [
    "DataLoader实现了对csv文件的批量读取，会按照\\[年\\]\\[月\\]保存在dl中。\n",
    "一些重要函数：\n",
    "- init_month_df: 加载目标文件夹下的所有zip文件。这些文件读取后会被保存在dataloader中。注意，"
   ]
  },
  {
   "cell_type": "code",
   "execution_count": 2,
   "id": "441ffc11-0b21-4c2f-9d50-9296e29ce4a5",
   "metadata": {},
   "outputs": [],
   "source": [
    "dl = data_utils.DataLoader()\n",
    "dl.init_month_df('E:/jupyternote/QF/CryptalC/data/UDST_M/15m_data')\n",
    "# 计算未来收益率\n",
    "data_utils.compute_future_rtn_for_all(dl)"
   ]
  },
  {
   "cell_type": "markdown",
   "id": "83738c90-afcc-4e7e-b94b-111020fcd44f",
   "metadata": {
    "user_expressions": []
   },
   "source": [
    "# 2. 计算因子\n",
    "ta Core indicators\n",
    "测试批量生成因子"
   ]
  },
  {
   "cell_type": "code",
   "execution_count": 3,
   "id": "71d10b7a-d256-43c0-bc4e-c005e60cb821",
   "metadata": {},
   "outputs": [],
   "source": [
    "import pandas_ta as ta\n",
    "import pandas as pd\n",
    "from tqdm import tqdm\n",
    "import time\n",
    "\n",
    "e = pd.DataFrame()\n",
    "core_indicators = e.ta.indicators(as_list=True)  # 获取所有indicators列表"
   ]
  },
  {
   "cell_type": "markdown",
   "id": "8feefbc5-089f-409c-99ea-719b9c8eb34e",
   "metadata": {
    "user_expressions": []
   },
   "source": [
    "### indicators函数有效性的检验\n",
    "1. 计算不能报错\n",
    "2. 计算时间不能太长"
   ]
  },
  {
   "cell_type": "code",
   "execution_count": 4,
   "id": "d157aaeb-54b0-44d1-a9ab-3ac7cd4b3d37",
   "metadata": {},
   "outputs": [],
   "source": [
    "test_df = dl.get_month_df('2020','01')[3].copy()  # 用于测试函数"
   ]
  },
  {
   "cell_type": "code",
   "execution_count": 5,
   "id": "88c08b79-08d7-40e2-b95d-087160d9dcf3",
   "metadata": {},
   "outputs": [],
   "source": [
    "def preprocess(df):\n",
    "    df.drop('volume', axis=1, inplace=True)\n",
    "    df.rename({'quote_volume':'volume'},axis=1, inplace=True)\n",
    "#     df['volume'] = np.log(df['volume'] + 1)\n",
    "    return df"
   ]
  },
  {
   "cell_type": "code",
   "execution_count": 6,
   "id": "b344da53-1994-4fd0-8806-1ca2532b547e",
   "metadata": {
    "tags": []
   },
   "outputs": [
    {
     "name": "stderr",
     "output_type": "stream",
     "text": [
      "  6%|████▌                                                                             | 8/143 [00:00<00:02, 61.01it/s]"
     ]
    },
    {
     "name": "stdout",
     "output_type": "stream",
     "text": [
      "[X] Ooops!!! It's True, the series 'b' was not found in open_time, open, high, low, close, volume, close_time, quote_volume, count, taker_buy_volume, taker_buy_quote_volume, ignore, fwd_rtn_5, fwd_rtn_5_real, fwd_rtn_5_bool, fwd_rtn_5_abs, fwd_rtn_10, fwd_rtn_10_real, fwd_rtn_10_bool, fwd_rtn_10_abs, fwd_rtn_20, fwd_rtn_20_real, fwd_rtn_20_bool, fwd_rtn_20_abs, fwd_rtn_50, fwd_rtn_50_real, fwd_rtn_50_bool, fwd_rtn_50_abs, fwd_rtn_1, fwd_rtn_1_real, fwd_rtn_1_bool, ABER_ZG_5_15, ABER_SG_5_15, ABER_XG_5_15, ABER_ATR_5_15\n",
      "[X] value is not a number\n",
      "[X] value is not a number\n"
     ]
    },
    {
     "name": "stderr",
     "output_type": "stream",
     "text": [
      "100%|████████████████████████████████████████████████████████████████████████████████| 143/143 [00:03<00:00, 40.50it/s]"
     ]
    },
    {
     "name": "stdout",
     "output_type": "stream",
     "text": [
      "[!] VWAP volume series is not datetime ordered. Results may not be as expected.\n",
      "[!] VWAP price series is not datetime ordered. Results may not be as expected.\n"
     ]
    },
    {
     "name": "stderr",
     "output_type": "stream",
     "text": [
      "\n"
     ]
    }
   ],
   "source": [
    "# test_df = preprocess(test_df)\n",
    "# 遍历判断哪些是直接可用的\n",
    "remove_fun_list = []  # 不需要计算的func\n",
    "time_list = []  # 保存函数计算的时长\n",
    "for indicator_name in tqdm(core_indicators):\n",
    "    try:\n",
    "        fun = getattr(test_df.ta, indicator_name)\n",
    "        # 记录代码开始时间\n",
    "        start_time = time.time()\n",
    "        for i in range(1):\n",
    "            temp_data = fun(append=True)\n",
    "        # 记录代码结束时间\n",
    "        end_time = time.time()\n",
    "        # 计算代码执行时间\n",
    "        execution_time = end_time - start_time\n",
    "        if type(temp_data) == pd.core.frame.DataFrame and 'open_time' in temp_data.columns:\n",
    "            remove_fun_list.append(indicator_name)\n",
    "            time_list.append(999)\n",
    "        else:\n",
    "            time_list.append(execution_time)\n",
    "    except:\n",
    "        remove_fun_list.append(indicator_name)\n",
    "        time_list.append(999)"
   ]
  },
  {
   "cell_type": "code",
   "execution_count": 7,
   "id": "a20c5523-70ba-4ca1-8718-3d4baaf7f833",
   "metadata": {},
   "outputs": [],
   "source": [
    "time_df = pd.DataFrame({\n",
    "    'factor': core_indicators,\n",
    "    'time':time_list\n",
    "})"
   ]
  },
  {
   "cell_type": "code",
   "execution_count": 8,
   "id": "605608a9-ed6d-419f-ae08-5155b6a650b8",
   "metadata": {},
   "outputs": [
    {
     "data": {
      "text/plain": [
       "(143, 2)"
      ]
     },
     "execution_count": 8,
     "metadata": {},
     "output_type": "execute_result"
    }
   ],
   "source": [
    "time_df.shape"
   ]
  },
  {
   "cell_type": "code",
   "execution_count": 9,
   "id": "3bfb994b-217f-443e-9d32-b51af9b3916c",
   "metadata": {},
   "outputs": [
    {
     "data": {
      "text/html": [
       "<div>\n",
       "<style scoped>\n",
       "    .dataframe tbody tr th:only-of-type {\n",
       "        vertical-align: middle;\n",
       "    }\n",
       "\n",
       "    .dataframe tbody tr th {\n",
       "        vertical-align: top;\n",
       "    }\n",
       "\n",
       "    .dataframe thead th {\n",
       "        text-align: right;\n",
       "    }\n",
       "</style>\n",
       "<table border=\"1\" class=\"dataframe\">\n",
       "  <thead>\n",
       "    <tr style=\"text-align: right;\">\n",
       "      <th></th>\n",
       "      <th>factor</th>\n",
       "      <th>time</th>\n",
       "    </tr>\n",
       "  </thead>\n",
       "  <tbody>\n",
       "    <tr>\n",
       "      <th>93</th>\n",
       "      <td>qqe</td>\n",
       "      <td>0.377478</td>\n",
       "    </tr>\n",
       "    <tr>\n",
       "      <th>118</th>\n",
       "      <td>td_seq</td>\n",
       "      <td>1.485721</td>\n",
       "    </tr>\n",
       "    <tr>\n",
       "      <th>67</th>\n",
       "      <td>long_run</td>\n",
       "      <td>999.000000</td>\n",
       "    </tr>\n",
       "    <tr>\n",
       "      <th>135</th>\n",
       "      <td>vwap</td>\n",
       "      <td>999.000000</td>\n",
       "    </tr>\n",
       "    <tr>\n",
       "      <th>16</th>\n",
       "      <td>below_value</td>\n",
       "      <td>999.000000</td>\n",
       "    </tr>\n",
       "    <tr>\n",
       "      <th>102</th>\n",
       "      <td>short_run</td>\n",
       "      <td>999.000000</td>\n",
       "    </tr>\n",
       "    <tr>\n",
       "      <th>2</th>\n",
       "      <td>above_value</td>\n",
       "      <td>999.000000</td>\n",
       "    </tr>\n",
       "    <tr>\n",
       "      <th>1</th>\n",
       "      <td>above</td>\n",
       "      <td>999.000000</td>\n",
       "    </tr>\n",
       "    <tr>\n",
       "      <th>140</th>\n",
       "      <td>xsignals</td>\n",
       "      <td>999.000000</td>\n",
       "    </tr>\n",
       "    <tr>\n",
       "      <th>126</th>\n",
       "      <td>tsignals</td>\n",
       "      <td>999.000000</td>\n",
       "    </tr>\n",
       "  </tbody>\n",
       "</table>\n",
       "</div>"
      ],
      "text/plain": [
       "          factor        time\n",
       "93           qqe    0.377478\n",
       "118       td_seq    1.485721\n",
       "67      long_run  999.000000\n",
       "135         vwap  999.000000\n",
       "16   below_value  999.000000\n",
       "102    short_run  999.000000\n",
       "2    above_value  999.000000\n",
       "1          above  999.000000\n",
       "140     xsignals  999.000000\n",
       "126     tsignals  999.000000"
      ]
     },
     "execution_count": 9,
     "metadata": {},
     "output_type": "execute_result"
    }
   ],
   "source": [
    "time_df.sort_values('time').tail(10)"
   ]
  },
  {
   "cell_type": "code",
   "execution_count": 10,
   "id": "d1f44b3c-c389-4a03-b02d-21026ee1ead4",
   "metadata": {},
   "outputs": [],
   "source": [
    "valid_core_indicators = list(time_df.sort_values('time')['factor'].values[:100])"
   ]
  },
  {
   "cell_type": "markdown",
   "id": "7ed5c744-3e10-4ce4-9c82-f6c9a19cecc3",
   "metadata": {
    "user_expressions": []
   },
   "source": [
    "### 因子层面：简单判断有效性\n",
    "1. nan值\n",
    "2. mean值\n",
    "3. 粗略估计IC"
   ]
  },
  {
   "cell_type": "code",
   "execution_count": 11,
   "id": "a468dca4-21e9-463b-a8cb-d8ea1aaf4f2c",
   "metadata": {
    "tags": []
   },
   "outputs": [
    {
     "name": "stderr",
     "output_type": "stream",
     "text": [
      "100%|███████████████████████████████████████████████████████████████████████████████| 100/100 [00:00<00:00, 723.75it/s]\n"
     ]
    }
   ],
   "source": [
    "test_df = dl.get_month_df('2021','10')[0].copy()  # 用于测试函数\n",
    "test_df = preprocess(test_df)\n",
    "# 遍历判断哪些是直接可用的\n",
    "current_factor_names = []  # 保存因子名称\n",
    "indicators = []\n",
    "for indicator_name in tqdm(valid_core_indicators):\n",
    "    fun = getattr(test_df.ta, indicator_name)\n",
    "    temp_data = fun(append=True)\n",
    "    temp_factor_names = []\n",
    "    if type(temp_data) == pd.core.series.Series:\n",
    "        temp_factor_names = [temp_data.name]\n",
    "    elif type(temp_data) == tuple:\n",
    "        temp_factor_names = list(temp_data[0].columns)\n",
    "    else:\n",
    "        temp_factor_names = list(temp_data.columns)\n",
    "    \n",
    "    for _ in temp_factor_names:\n",
    "        indicators.append(indicator_name)\n",
    "    \n",
    "    current_factor_names +=  temp_factor_names"
   ]
  },
  {
   "cell_type": "code",
   "execution_count": 12,
   "id": "80afaf3a-b4d1-4a56-b891-0df6102810c3",
   "metadata": {},
   "outputs": [],
   "source": [
    "# 构造一个df，用于特征名称和func之间的对应关系\n",
    "func2factor_df = pd.DataFrame({\n",
    "    'funcName':indicators,\n",
    "    'factorName':current_factor_names,\n",
    "})"
   ]
  },
  {
   "cell_type": "markdown",
   "id": "deb239ac-dc47-4212-bd8a-7970883a6b68",
   "metadata": {
    "user_expressions": []
   },
   "source": [
    "### 清理明显不合适的特征"
   ]
  },
  {
   "cell_type": "code",
   "execution_count": 13,
   "id": "f1dd092f-e762-4b7d-b497-12d487035da2",
   "metadata": {},
   "outputs": [],
   "source": [
    "import cufflinks"
   ]
  },
  {
   "cell_type": "code",
   "execution_count": 14,
   "id": "e9d4b5e1-bee8-4737-8cb4-ee8924246dcd",
   "metadata": {
    "tags": []
   },
   "outputs": [],
   "source": [
    "factors_df = test_df[current_factor_names]"
   ]
  },
  {
   "cell_type": "code",
   "execution_count": 15,
   "id": "038ce073-f8f4-41a4-a40f-62d222a627c9",
   "metadata": {},
   "outputs": [],
   "source": [
    "remove_cols = []\n",
    "remove_cols += list(factors_df.columns[factors_df.isna().sum() > 200])  # nan值太多所以清理掉\n",
    "remove_cols += list(factors_df.columns[factors_df.mean() > 100000])  # 均值过大所以清理掉\n",
    "# 找到那些没有使用未来数据的因子: 最后一行必须有数值\n",
    "invalid_cols = factors_df.columns[factors_df.isna().iloc[-1,:].values]\n",
    "remove_cols += list(invalid_cols)"
   ]
  },
  {
   "cell_type": "raw",
   "id": "87303ae5-f6f9-418b-9b7f-1b4840aa1407",
   "metadata": {
    "tags": []
   },
   "source": [
    "# 选择IC大于一定阈值的因子\n",
    "corr_Series = factors_df.corrwith(test_df['fwd_rtn_10_real'], method='spearman')\n",
    "corr_Series = corr_Series.dropna()\n",
    "\n",
    "upper = np.percentile(corr_Series,60)\n",
    "lower = np.percentile(corr_Series,40)\n",
    "\n",
    "corr_high_Series = corr_Series[np.logical_or(corr_Series > upper, corr_Series < lower)]  # 取出前后10%"
   ]
  },
  {
   "cell_type": "markdown",
   "id": "766e0c1e-c110-4bb8-b3de-ef6f6906d658",
   "metadata": {
    "user_expressions": []
   },
   "source": [
    "## 2. 构造cleaned factors函数"
   ]
  },
  {
   "cell_type": "code",
   "execution_count": 16,
   "id": "b1665ae6-ec7b-47dc-9663-3d9bf90c9a9e",
   "metadata": {},
   "outputs": [],
   "source": [
    "cleaned_factors = set(current_factor_names) - set(remove_cols)"
   ]
  },
  {
   "cell_type": "code",
   "execution_count": 17,
   "id": "bd406c79-2336-4fce-b332-9cd2ea818a6d",
   "metadata": {},
   "outputs": [
    {
     "data": {
      "text/plain": [
       "144"
      ]
     },
     "execution_count": 17,
     "metadata": {},
     "output_type": "execute_result"
    }
   ],
   "source": [
    "len(current_factor_names)"
   ]
  },
  {
   "cell_type": "code",
   "execution_count": 18,
   "id": "629752b7-d0c4-4d23-a3fb-d0b7b1c3f992",
   "metadata": {},
   "outputs": [
    {
     "data": {
      "text/plain": [
       "133"
      ]
     },
     "execution_count": 18,
     "metadata": {},
     "output_type": "execute_result"
    }
   ],
   "source": [
    "len(cleaned_factors)"
   ]
  },
  {
   "cell_type": "code",
   "execution_count": 19,
   "id": "87e69c90-fa30-49f5-a296-36750d4817b7",
   "metadata": {},
   "outputs": [],
   "source": [
    "@factors.handle_dataloader_data\n",
    "def add_core_factors(raw_df:pd.DataFrame, core_indicators)-> pd.DataFrame:\n",
    "    '''\n",
    "    加入新因子的模板。\n",
    "    :param raw_df: 原始数据\n",
    "    :param core_indicators: 因子名称\n",
    "    :return: 原始数据+因子\n",
    "    '''\n",
    "    raw_df = preprocess(raw_df)\n",
    "    for indicator_name in valid_core_indicators:\n",
    "        fun = getattr(raw_df.ta, indicator_name)\n",
    "        temp_data = fun(append=True)\n",
    "    return raw_df"
   ]
  },
  {
   "cell_type": "code",
   "execution_count": 20,
   "id": "c73804c9-cffa-4a5d-bce4-cd8963689d60",
   "metadata": {
    "tags": []
   },
   "outputs": [
    {
     "name": "stdout",
     "output_type": "stream",
     "text": [
      "year: 2020\n"
     ]
    },
    {
     "name": "stderr",
     "output_type": "stream",
     "text": [
      "100%|██████████████████████████████████████████████████████████████████████████████████| 12/12 [00:38<00:00,  3.18s/it]\n"
     ]
    },
    {
     "name": "stdout",
     "output_type": "stream",
     "text": [
      "year: 2021\n"
     ]
    },
    {
     "name": "stderr",
     "output_type": "stream",
     "text": [
      "100%|██████████████████████████████████████████████████████████████████████████████████| 12/12 [01:54<00:00,  9.53s/it]\n"
     ]
    },
    {
     "name": "stdout",
     "output_type": "stream",
     "text": [
      "year: 2022\n"
     ]
    },
    {
     "name": "stderr",
     "output_type": "stream",
     "text": [
      " 33%|███████████████████████████▋                                                       | 4/12 [00:48<01:33, 11.70s/it]F:\\ProgramData\\Anaconda3\\envs\\pythonlab\\lib\\site-packages\\pandas\\core\\arraylike.py:364: RuntimeWarning:\n",
      "\n",
      "divide by zero encountered in log10\n",
      "\n",
      " 42%|██████████████████████████████████▌                                                | 5/12 [01:00<01:23, 11.93s/it]F:\\ProgramData\\Anaconda3\\envs\\pythonlab\\lib\\site-packages\\pandas\\core\\arraylike.py:364: RuntimeWarning:\n",
      "\n",
      "divide by zero encountered in log10\n",
      "\n",
      " 50%|█████████████████████████████████████████▌                                         | 6/12 [01:12<01:10, 11.83s/it]F:\\ProgramData\\Anaconda3\\envs\\pythonlab\\lib\\site-packages\\pandas\\core\\arraylike.py:364: RuntimeWarning:\n",
      "\n",
      "divide by zero encountered in log10\n",
      "\n"
     ]
    },
    {
     "name": "stdout",
     "output_type": "stream",
     "text": [
      "Exception: inputs are all NaN\n",
      "Error: year: 2022, month:07, i:33\n"
     ]
    },
    {
     "name": "stderr",
     "output_type": "stream",
     "text": [
      " 58%|████████████████████████████████████████████████▍                                  | 7/12 [01:27<01:03, 12.74s/it]F:\\ProgramData\\Anaconda3\\envs\\pythonlab\\lib\\site-packages\\pandas\\core\\arraylike.py:364: RuntimeWarning:\n",
      "\n",
      "divide by zero encountered in log10\n",
      "\n"
     ]
    },
    {
     "name": "stdout",
     "output_type": "stream",
     "text": [
      "Exception: inputs are all NaN\n",
      "Error: year: 2022, month:08, i:33\n"
     ]
    },
    {
     "name": "stderr",
     "output_type": "stream",
     "text": [
      " 83%|████████████████████████████████████████████████████████████████████▎             | 10/12 [02:16<00:30, 15.36s/it]F:\\ProgramData\\Anaconda3\\envs\\pythonlab\\lib\\site-packages\\pandas\\core\\arraylike.py:364: RuntimeWarning:\n",
      "\n",
      "divide by zero encountered in log10\n",
      "\n",
      " 92%|███████████████████████████████████████████████████████████████████████████▏      | 11/12 [02:33<00:16, 16.15s/it]F:\\ProgramData\\Anaconda3\\envs\\pythonlab\\lib\\site-packages\\pandas\\core\\arraylike.py:364: RuntimeWarning:\n",
      "\n",
      "divide by zero encountered in log10\n",
      "\n"
     ]
    },
    {
     "name": "stdout",
     "output_type": "stream",
     "text": [
      "Exception: inputs are all NaN\n",
      "Error: year: 2022, month:12, i:31\n"
     ]
    },
    {
     "name": "stderr",
     "output_type": "stream",
     "text": [
      "100%|██████████████████████████████████████████████████████████████████████████████████| 12/12 [02:55<00:00, 14.65s/it]\n"
     ]
    },
    {
     "name": "stdout",
     "output_type": "stream",
     "text": [
      "year: 2023\n"
     ]
    },
    {
     "name": "stderr",
     "output_type": "stream",
     "text": [
      "  0%|                                                                                           | 0/12 [00:00<?, ?it/s]F:\\ProgramData\\Anaconda3\\envs\\pythonlab\\lib\\site-packages\\pandas\\core\\arraylike.py:364: RuntimeWarning:\n",
      "\n",
      "divide by zero encountered in log10\n",
      "\n"
     ]
    },
    {
     "name": "stdout",
     "output_type": "stream",
     "text": [
      "Exception: inputs are all NaN\n",
      "Error: year: 2023, month:01, i:32\n"
     ]
    },
    {
     "name": "stderr",
     "output_type": "stream",
     "text": [
      "  8%|██████▉                                                                            | 1/12 [00:24<04:34, 24.95s/it]F:\\ProgramData\\Anaconda3\\envs\\pythonlab\\lib\\site-packages\\pandas\\core\\arraylike.py:364: RuntimeWarning:\n",
      "\n",
      "divide by zero encountered in log10\n",
      "\n"
     ]
    },
    {
     "name": "stdout",
     "output_type": "stream",
     "text": [
      "Exception: inputs are all NaN\n",
      "Error: year: 2023, month:02, i:33\n"
     ]
    },
    {
     "name": "stderr",
     "output_type": "stream",
     "text": [
      " 17%|█████████████▊                                                                     | 2/12 [00:38<03:05, 18.53s/it]F:\\ProgramData\\Anaconda3\\envs\\pythonlab\\lib\\site-packages\\pandas\\core\\arraylike.py:364: RuntimeWarning:\n",
      "\n",
      "divide by zero encountered in log10\n",
      "\n"
     ]
    },
    {
     "name": "stdout",
     "output_type": "stream",
     "text": [
      "Exception: inputs are all NaN\n",
      "Error: year: 2023, month:03, i:34\n"
     ]
    },
    {
     "name": "stderr",
     "output_type": "stream",
     "text": [
      " 25%|████████████████████▊                                                              | 3/12 [00:56<02:42, 18.01s/it]F:\\ProgramData\\Anaconda3\\envs\\pythonlab\\lib\\site-packages\\pandas\\core\\arraylike.py:364: RuntimeWarning:\n",
      "\n",
      "divide by zero encountered in log10\n",
      "\n"
     ]
    },
    {
     "name": "stdout",
     "output_type": "stream",
     "text": [
      "Exception: inputs are all NaN\n",
      "Error: year: 2023, month:04, i:34\n"
     ]
    },
    {
     "name": "stderr",
     "output_type": "stream",
     "text": [
      " 33%|███████████████████████████▋                                                       | 4/12 [01:12<02:19, 17.41s/it]F:\\ProgramData\\Anaconda3\\envs\\pythonlab\\lib\\site-packages\\pandas\\core\\arraylike.py:364: RuntimeWarning:\n",
      "\n",
      "divide by zero encountered in log10\n",
      "\n"
     ]
    },
    {
     "name": "stdout",
     "output_type": "stream",
     "text": [
      "Exception: inputs are all NaN\n",
      "Error: year: 2023, month:05, i:35\n"
     ]
    },
    {
     "name": "stderr",
     "output_type": "stream",
     "text": [
      " 42%|██████████████████████████████████▌                                                | 5/12 [01:35<02:14, 19.23s/it]F:\\ProgramData\\Anaconda3\\envs\\pythonlab\\lib\\site-packages\\pandas\\core\\arraylike.py:364: RuntimeWarning:\n",
      "\n",
      "divide by zero encountered in log10\n",
      "\n"
     ]
    },
    {
     "name": "stdout",
     "output_type": "stream",
     "text": [
      "Exception: inputs are all NaN\n",
      "Error: year: 2023, month:06, i:36\n"
     ]
    },
    {
     "name": "stderr",
     "output_type": "stream",
     "text": [
      " 50%|█████████████████████████████████████████▌                                         | 6/12 [01:55<01:57, 19.54s/it]F:\\ProgramData\\Anaconda3\\envs\\pythonlab\\lib\\site-packages\\pandas\\core\\arraylike.py:364: RuntimeWarning:\n",
      "\n",
      "divide by zero encountered in log10\n",
      "\n"
     ]
    },
    {
     "name": "stdout",
     "output_type": "stream",
     "text": [
      "Exception: inputs are all NaN\n",
      "Error: year: 2023, month:07, i:36\n"
     ]
    },
    {
     "name": "stderr",
     "output_type": "stream",
     "text": [
      " 58%|████████████████████████████████████████████████▍                                  | 7/12 [02:22<01:49, 21.95s/it]F:\\ProgramData\\Anaconda3\\envs\\pythonlab\\lib\\site-packages\\pandas\\core\\arraylike.py:364: RuntimeWarning:\n",
      "\n",
      "divide by zero encountered in log10\n",
      "\n"
     ]
    },
    {
     "name": "stdout",
     "output_type": "stream",
     "text": [
      "Exception: inputs are all NaN\n",
      "Error: year: 2023, month:08, i:40\n"
     ]
    },
    {
     "name": "stderr",
     "output_type": "stream",
     "text": [
      " 67%|███████████████████████████████████████████████████████▎                           | 8/12 [02:59<01:46, 26.65s/it]F:\\ProgramData\\Anaconda3\\envs\\pythonlab\\lib\\site-packages\\pandas\\core\\arraylike.py:364: RuntimeWarning:\n",
      "\n",
      "divide by zero encountered in log10\n",
      "\n"
     ]
    },
    {
     "name": "stdout",
     "output_type": "stream",
     "text": [
      "Exception: inputs are all NaN\n",
      "Error: year: 2023, month:09, i:42\n"
     ]
    },
    {
     "name": "stderr",
     "output_type": "stream",
     "text": [
      " 75%|██████████████████████████████████████████████████████████████▎                    | 9/12 [03:25<01:19, 26.62s/it]F:\\ProgramData\\Anaconda3\\envs\\pythonlab\\lib\\site-packages\\pandas\\core\\arraylike.py:364: RuntimeWarning:\n",
      "\n",
      "divide by zero encountered in log10\n",
      "\n"
     ]
    },
    {
     "name": "stdout",
     "output_type": "stream",
     "text": [
      "Exception: inputs are all NaN\n",
      "Error: year: 2023, month:10, i:43\n"
     ]
    },
    {
     "name": "stderr",
     "output_type": "stream",
     "text": [
      "100%|██████████████████████████████████████████████████████████████████████████████████| 12/12 [04:01<00:00, 20.10s/it]\n"
     ]
    }
   ],
   "source": [
    "# 计算因子\n",
    "add_core_factors(dl, core_indicators)"
   ]
  },
  {
   "cell_type": "markdown",
   "id": "00b366a3-4e08-4aa3-b809-cc04e6b256e4",
   "metadata": {
    "user_expressions": []
   },
   "source": [
    "# 3.查看因子IC"
   ]
  },
  {
   "cell_type": "code",
   "execution_count": 21,
   "id": "1684f68e-cea8-46fd-b3dd-853966029cf4",
   "metadata": {
    "tags": []
   },
   "outputs": [
    {
     "name": "stderr",
     "output_type": "stream",
     "text": [
      " 14%|███████████▎                                                                   | 19/133 [19:50<1:34:27, 49.72s/it]F:\\ProgramData\\Anaconda3\\envs\\pythonlab\\lib\\site-packages\\scipy\\stats\\_stats_py.py:4916: ConstantInputWarning:\n",
      "\n",
      "An input array is constant; the correlation coefficient is not defined.\n",
      "\n",
      "100%|██████████████████████████████████████████████████████████████████████████████| 133/133 [1:53:56<00:00, 51.40s/it]\n"
     ]
    }
   ],
   "source": [
    "for colname in tqdm(cleaned_factors):\n",
    "#     print(f'feat name: {colname}')\n",
    "    tests_factor_name = colname\n",
    "    # 计算因子IC\n",
    "    month_mean_ic = perf.cal_monthly_mean_ic(dl, factor_name=tests_factor_name, use_real_rtn=True)\n",
    "    # 保存记录\n",
    "    dl.set_record_df(kind='Info', factor_name=tests_factor_name, result_df=month_mean_ic)\n",
    "    # 读取记录，并且展示作图\n",
    "#     month_mean_ic = dl.get_record_df(kind='Info', factor_name=tests_factor_name)\n",
    "#     plotting.plot_information_table(month_mean_ic)"
   ]
  },
  {
   "cell_type": "markdown",
   "id": "7cfc730d-dc2a-4637-95b8-d544c7b8a0ee",
   "metadata": {
    "user_expressions": []
   },
   "source": [
    "总结，并且整理一下每个因子的平均iC"
   ]
  },
  {
   "cell_type": "markdown",
   "id": "8622f2fb-745e-45d7-9a74-c950824ed87a",
   "metadata": {
    "user_expressions": []
   },
   "source": [
    "## 分别统计 mean ic 和 adjusted ic"
   ]
  },
  {
   "cell_type": "code",
   "execution_count": 22,
   "id": "b7609b9d-18e4-4373-a3ca-1cce0b6e5e4d",
   "metadata": {},
   "outputs": [],
   "source": [
    "record_mean_ic = []\n",
    "record_adjustd_ic = []\n",
    "for factor_name in cleaned_factors:\n",
    "    temp_month_ic = dl.get_record_df(kind='Info', factor_name=factor_name).copy()\n",
    "    # 分别计算mean ic 和 adjusted ic\n",
    "    mean_IC_Series = temp_month_ic.mean()\n",
    "    mean_IC_Series.name = factor_name    \n",
    "\n",
    "    std_Series = temp_month_ic.std()\n",
    "    adjusted_IC_Series = mean_IC_Series / std_Series\n",
    "    adjusted_IC_Series.name = factor_name     \n",
    "    \n",
    "    record_mean_ic.append(mean_IC_Series)\n",
    "    record_adjustd_ic.append(adjusted_IC_Series)\n",
    "\n"
   ]
  },
  {
   "cell_type": "code",
   "execution_count": 23,
   "id": "45828267-b9af-4acb-95c5-b0054875756e",
   "metadata": {},
   "outputs": [],
   "source": [
    "mean_IC_df = pd.concat(record_mean_ic, axis=1).T\n",
    "adjusted_IC_df = pd.concat(record_adjustd_ic, axis=1).T"
   ]
  },
  {
   "cell_type": "code",
   "execution_count": 24,
   "id": "13139135-0b57-46a4-bfc8-cfc597666301",
   "metadata": {},
   "outputs": [
    {
     "data": {
      "text/plain": [
       "fwd_rtn_1_real     1\n",
       "fwd_rtn_5_real     1\n",
       "fwd_rtn_10_real    1\n",
       "fwd_rtn_20_real    1\n",
       "fwd_rtn_50_real    1\n",
       "fwd_rtn_10_abs     1\n",
       "dtype: int64"
      ]
     },
     "execution_count": 24,
     "metadata": {},
     "output_type": "execute_result"
    }
   ],
   "source": [
    "mean_IC_df.isna().sum()"
   ]
  },
  {
   "cell_type": "code",
   "execution_count": 28,
   "id": "dba9e820-77cd-42dd-9e12-67f836e0f49b",
   "metadata": {},
   "outputs": [],
   "source": [
    "drop_list = ['EOM_14_100000000']"
   ]
  },
  {
   "cell_type": "code",
   "execution_count": 29,
   "id": "2ccfa3c1-7254-48d9-b294-204e00b1a4bf",
   "metadata": {
    "tags": []
   },
   "outputs": [],
   "source": [
    "mean_IC_df.drop(drop_list, inplace=True)\n",
    "adjusted_IC_df.drop(drop_list, inplace=True)\n",
    "mean_IC_df.dropna(inplace=True)\n",
    "adjusted_IC_df.dropna(inplace=True)"
   ]
  },
  {
   "cell_type": "markdown",
   "id": "1dc58271-18a8-45ef-952d-9333ee42a3be",
   "metadata": {
    "user_expressions": []
   },
   "source": [
    "### 观察IC和IR的分布"
   ]
  },
  {
   "cell_type": "code",
   "execution_count": 30,
   "id": "a4bb367b-6d5d-47b2-9a45-b8e82a9e84a5",
   "metadata": {},
   "outputs": [
    {
     "data": {
      "application/vnd.plotly.v1+json": {
       "config": {
        "linkText": "Export to plot.ly",
        "plotlyServerURL": "https://plot.ly",
        "showLink": true
       },
       "data": [
        {
         "boxpoints": false,
         "line": {
          "width": 1.3
         },
         "marker": {
          "color": "rgba(255, 153, 51, 1.0)"
         },
         "name": "fwd_rtn_1_real",
         "orientation": "v",
         "type": "box",
         "y": [
          -0.01653733332739918,
          -0.043546040116175154,
          -0.036872722166042766,
          -0.041995165713035354,
          0.034808543978284895,
          -0.03137195182763225,
          0.002492028583444221,
          0.0041948745619558,
          0.0012666691035669905,
          -0.03171574806849379,
          -0.019582782832219436,
          -0.030323387411268075,
          -0.033761141595842925,
          -0.027944732376387237,
          -0.04860457562776233,
          0.0031336789163559876,
          -0.032685684173891776,
          -0.03660567982029389,
          0.0005063315347682277,
          -0.027531748675082183,
          -0.018246728622252146,
          -0.013352833944732707,
          -0.03370613775880047,
          0.006734697838712226,
          -0.044977196694532796,
          -0.028351626528472007,
          -0.038966265561690555,
          -0.028418708467913327,
          0.028163353243391847,
          -0.027547641089698826,
          -0.010132960331223642,
          0.0033717175088800702,
          -0.007541820613382947,
          -0.04874347744819952,
          0.005759652809759756,
          -0.036614198071782775,
          0.0037418320590096154,
          -0.021251368202705578,
          -0.00041165467995729664,
          -0.030375832986870573,
          -0.028408695806006416,
          -0.03665116230266275,
          -0.028975581902677548,
          -0.022522537155427253,
          -0.02346939416142368,
          -0.029700765677452105,
          -0.03680518037638668,
          -0.03771867977293405,
          -0.03713740749319164,
          0.0027916594807780386,
          -0.021685845371627484,
          -0.04577006722281806,
          -0.029553110222583005,
          -0.03647570869850597,
          -0.03530231945421348,
          -0.004341368427829138,
          0.00457017747263909,
          -0.029102338614777856,
          -0.038114616425007186,
          -0.04505825586322179,
          -0.029423163774982636,
          -0.050324136758879645,
          -0.034942804010071354,
          -0.02952593689579103,
          0.007146291477541474,
          -0.027798142497670406,
          -0.03660567982029389,
          -0.0008028375217732787,
          -0.02924433053689061,
          -0.05032759817461637,
          -0.052940445280138575,
          -0.03246645399329818,
          -0.02724237199131967,
          0.022403947489248753,
          -0.02803369005094686,
          -0.037062949852388206,
          -0.02680589831046006,
          -0.04866976768582405,
          -0.04860457562776233,
          -0.0072663325830986175,
          -0.03158393460929691,
          -0.03547527408505335,
          -0.03761732898528639,
          -0.013843230871555156,
          -0.030794013578554453,
          -0.040978987587479,
          0.002275968731174921,
          0.03842034839262531,
          -0.020429274881031755,
          -0.03467567375692632,
          0.003849716630538944,
          -0.030361050581196956,
          -0.041621182105809174,
          -0.054324409808672106,
          -0.0021726344401487847,
          -0.028236234386302468,
          -0.026593532171155097,
          -0.02969774020308787,
          -0.027837582336829744,
          -0.03750341060798488,
          -0.026806659414461764,
          -0.03066496927191848,
          -0.029169918886323608,
          -0.04502601035899708,
          -0.046191625172978076,
          -0.04953755549288712,
          -0.026163100165182987,
          -0.02962507375567918,
          0.02497453775623557,
          -0.009642077554694761,
          -0.03641335335350346,
          0.004694723770676121,
          -0.016826298508522863,
          0.044121760528703736,
          -0.04439931361373553,
          -0.03657869738764926,
          -0.02680589831046006,
          0.026533868191564523,
          -0.0028770220422827644,
          -0.021598766682489556,
          0.0021988678197061933,
          -0.03537905921225267,
          -0.030351130056848398,
          -0.03426180462731401,
          -0.0446094121782324,
          -0.03603107329074106,
          -0.04497237047310691,
          -0.029699139458732628,
          -0.02263221929151654,
          -0.037380045258399344,
          -0.04610645371444035
         ]
        },
        {
         "boxpoints": false,
         "line": {
          "width": 1.3
         },
         "marker": {
          "color": "rgba(55, 128, 191, 1.0)"
         },
         "name": "fwd_rtn_5_real",
         "orientation": "v",
         "type": "box",
         "y": [
          -0.03380185139429782,
          -0.10333664702316392,
          -0.07934066696629921,
          -0.0882788805842237,
          0.0762681033277347,
          -0.06827395204415662,
          0.003979153513586324,
          0.004966532864956225,
          -0.00042635440107399036,
          -0.06868064654337355,
          -0.040785199900397424,
          -0.06530637792880721,
          -0.07027651016245252,
          -0.05825868781865764,
          -0.10856995397577887,
          0.006274624599315289,
          -0.0700656754732364,
          -0.0937893273716213,
          -0.0017079512127642566,
          -0.06023617348654308,
          -0.038731767586414785,
          -0.027283726185836226,
          -0.0702234682893348,
          0.0071324830731612,
          -0.09971321167298443,
          -0.059718626104658425,
          -0.09206282664301524,
          -0.06170080751102603,
          0.07673038553930847,
          -0.0596255700088187,
          -0.022577227354558648,
          0.003976763595266974,
          -0.017605808323596803,
          -0.10682659201257783,
          0.011257882169564647,
          -0.07938173585289951,
          0.005353172467715703,
          -0.047429945184126375,
          0.0001191322390462847,
          -0.06554144508410874,
          -0.06251828987403024,
          -0.09362982668101885,
          -0.06262139310257851,
          -0.04637417020954144,
          -0.056807929847444656,
          -0.06305876555696543,
          -0.08235108483626882,
          -0.08132597828638578,
          -0.08093898677494411,
          0.004020181675160872,
          -0.04876933171502872,
          -0.09634487951056174,
          -0.06762256277263846,
          -0.07898654404232171,
          -0.0754937329296028,
          -0.006416593035492008,
          0.005045213500612168,
          -0.0617612326349596,
          -0.08198602791916935,
          -0.09996865013236853,
          -0.06359570180394312,
          -0.11060159188933577,
          -0.07494346560706706,
          -0.06449681017348595,
          0.015513897875373241,
          -0.0612406720443786,
          -0.0937893273716213,
          -0.0016688429635149274,
          -0.06406126366923118,
          -0.1104625813471559,
          -0.11295527466259225,
          -0.06954394233033992,
          -0.059721877881411777,
          0.04657465638456939,
          -0.06100483433841815,
          -0.07919506821167988,
          -0.058140096750814545,
          -0.11563337296907795,
          -0.10856995397577887,
          -0.010748241196608818,
          -0.06712021398056854,
          -0.07619151289208513,
          -0.08109322579429215,
          -0.035860486516788144,
          -0.06620261402652532,
          -0.08813261396312057,
          0.002896911865492067,
          0.08827610974846876,
          -0.0424341289834475,
          -0.0747125452723724,
          0.0020776511602155602,
          -0.06489709403019699,
          -0.09527050476498557,
          -0.12160683522069135,
          -0.004335631065842932,
          -0.07648388313906754,
          -0.058489420820562556,
          -0.06413927528538062,
          -0.05920705152326139,
          -0.07805477669052141,
          -0.05857580714189875,
          -0.06605779954946837,
          -0.06335003717920361,
          -0.10435686626361047,
          -0.1043014111503822,
          -0.10539249466317668,
          -0.061132965204479105,
          -0.06077790396040679,
          0.06863065648822977,
          -0.012977950480064553,
          -0.08764688240644099,
          0.01014650939815247,
          -0.03488085243230593,
          0.09819336647001038,
          -0.09847227403684602,
          -0.07823432182581744,
          -0.058140096750814545,
          0.05778101504429962,
          -0.004455319841582761,
          -0.04370948174626026,
          0.003252231272454195,
          -0.07677951679806261,
          -0.06392925469146031,
          -0.07440313209480837,
          -0.10590324085859627,
          -0.08508341620202632,
          -0.09989109495583565,
          -0.06413537750822992,
          -0.04644257191599019,
          -0.08072128570856905,
          -0.09064055352834054
         ]
        },
        {
         "boxpoints": false,
         "line": {
          "width": 1.3
         },
         "marker": {
          "color": "rgba(50, 171, 96, 1.0)"
         },
         "name": "fwd_rtn_10_real",
         "orientation": "v",
         "type": "box",
         "y": [
          -0.055478730975369095,
          -0.12771666466868264,
          -0.10840480298132853,
          -0.10948379957511467,
          0.10265698876896699,
          -0.09595387588397376,
          0.00585936335177679,
          0.0009940591903875823,
          -0.002907252336275662,
          -0.09659735546110017,
          -0.06345342539217669,
          -0.0910415462220124,
          -0.09376650995824068,
          -0.08783613791744048,
          -0.13263691181551576,
          0.007183252463099039,
          -0.09820174569580707,
          -0.08339430031444608,
          -0.004163356531005496,
          -0.07351385315446038,
          -0.05746775340608621,
          -0.04345976654177049,
          -0.08275288108766007,
          0.0037848218035859155,
          -0.12225578180367971,
          -0.0895559589200059,
          -0.11948799611175494,
          -0.08646150445433377,
          0.06718182818169102,
          -0.07500662911169761,
          -0.034377187251505,
          0.004666049426166185,
          -0.026434903013617072,
          -0.13279490520287224,
          0.013792526350941388,
          -0.10848916997243414,
          0.0036613485732454264,
          -0.06634195733558527,
          0.00018292011325697958,
          -0.09156878991053721,
          -0.08728991808247522,
          -0.08335188552591015,
          -0.08975359902017244,
          -0.07264338441964875,
          -0.07782238937851946,
          -0.09039169255694278,
          -0.10136599068652127,
          -0.11023900892000263,
          -0.10108864473066495,
          0.002859691447568099,
          -0.06802353619101514,
          -0.11417055888941031,
          -0.09152580979455832,
          -0.10501527908725194,
          -0.10427194049183146,
          -0.008782661507814447,
          0.0016188727429006945,
          -0.08798909597531365,
          -0.11072281646434226,
          -0.12252492648430725,
          -0.09034504882877284,
          -0.13322990714244776,
          -0.10454657583891126,
          -0.09013375623104677,
          0.020812539296777587,
          -0.08571332579221012,
          -0.08339430031444608,
          -0.002956084047915412,
          -0.08959522672466876,
          -0.1332900006099988,
          -0.12600870343432885,
          -0.09692393487518844,
          -0.08336012886259121,
          0.06825598722470941,
          -0.08579181811529653,
          -0.10820674027252715,
          -0.08081008669705582,
          -0.13396875897705832,
          -0.13263691181551576,
          -0.009876389533008848,
          -0.09216748548987018,
          -0.10576485123636666,
          -0.09129833064147397,
          -0.04922098675858833,
          -0.09255887493912743,
          -0.11586499262508759,
          0.0038643360034620595,
          0.111761595641123,
          -0.06556095345666155,
          -0.10432900825593228,
          -0.0015863254132507192,
          -0.09419762004618146,
          -0.12198222213996983,
          -0.1398015902296787,
          -0.006060436272164093,
          -0.0669850248859414,
          -0.08208849065096033,
          -0.09125582889587527,
          -0.08869323684423923,
          -0.1070398832234167,
          -0.08234517296804579,
          -0.09315735551923486,
          -0.08870782235238008,
          -0.12595809436635788,
          -0.10700488785786115,
          -0.11391168519735,
          -0.08375597230294822,
          -0.07666239619701247,
          0.060404250414283656,
          -0.014870791406318364,
          -0.07673455815872324,
          0.0034730825907948585,
          -0.05429810047350893,
          0.11102528214784037,
          -0.11158481786973937,
          -0.10824006807659411,
          -0.08081008669705582,
          0.0775176368962879,
          -0.00653922340898387,
          -0.06417968612952334,
          0.004098179368202244,
          -0.10599292258763793,
          -0.09250611549746932,
          -0.09763970741373319,
          -0.10846927911573621,
          -0.10874479367419258,
          -0.12255054171401965,
          -0.09128976852479721,
          -0.07260134522761591,
          -0.10970051800615856,
          -0.1046091769940793
         ]
        },
        {
         "boxpoints": false,
         "line": {
          "width": 1.3
         },
         "marker": {
          "color": "rgba(128, 0, 128, 1.0)"
         },
         "name": "fwd_rtn_20_real",
         "orientation": "v",
         "type": "box",
         "y": [
          -0.08233716118570374,
          -0.13745938305739475,
          -0.14794094519145676,
          -0.1164874424625182,
          0.12015141497172385,
          -0.1357873763441988,
          0.008507229544928243,
          -0.005102171557546161,
          -0.008129556438071936,
          -0.13678094762440407,
          -0.09001872566074119,
          -0.12916390091693808,
          -0.10633591531826067,
          -0.11281913784398379,
          -0.1453249116386304,
          0.008010906046576073,
          -0.13841931952620176,
          -0.06603323119671436,
          -0.007547103216474286,
          -0.07971705838535968,
          -0.06930700345406568,
          -0.06607342036029436,
          -0.08656999913549392,
          -0.00023172836927507433,
          -0.13085736491328348,
          -0.11576036190670001,
          -0.13645705711750117,
          -0.12377106639932531,
          0.05174018101615641,
          -0.07542558668486583,
          -0.05303924078630665,
          0.0065989614279176444,
          -0.0419943965051446,
          -0.14872420129354522,
          0.01756245416549212,
          -0.14800915833430262,
          -0.00012204430879172212,
          -0.09605085029837034,
          -0.00019303373340344643,
          -0.12974925756794198,
          -0.12420831148520137,
          -0.06602061261862643,
          -0.12997895285382496,
          -0.10070444508584772,
          -0.09025140563753309,
          -0.1171050424976169,
          -0.10916376358446349,
          -0.14947324175808685,
          -0.10593172244345904,
          0.0010596307981782516,
          -0.09798846693769113,
          -0.11556443634312928,
          -0.10502970765603553,
          -0.12090777087107905,
          -0.14441610642400302,
          -0.012019783967456362,
          -0.004149238864859082,
          -0.11297740449582082,
          -0.14976871326656313,
          -0.13113142809337708,
          -0.13019047095703945,
          -0.14524078940317628,
          -0.1454674374705993,
          -0.1281137067949004,
          0.026623747994463206,
          -0.12174584984704669,
          -0.06603323119671436,
          -0.006461372126167169,
          -0.12727853930985217,
          -0.1451822878713034,
          -0.12381543345735917,
          -0.1364610856218246,
          -0.11926654707010433,
          0.08997859763450627,
          -0.12343201637853429,
          -0.14775557802116382,
          -0.11579701074267465,
          -0.1327008535199375,
          -0.1453249116386304,
          -0.007388236639068316,
          -0.10598135941568762,
          -0.1464334463174549,
          -0.08402470023645366,
          -0.05459408368726609,
          -0.13107501132238816,
          -0.13554962971701381,
          0.005604104248153182,
          0.12609909875310266,
          -0.09267611067118213,
          -0.1452398246084,
          -0.0061799196944361074,
          -0.11730769117551734,
          -0.13777047959153083,
          -0.14125325426372728,
          -0.009798862040194777,
          -0.051711136790921486,
          -0.11753706650312941,
          -0.13133133226359503,
          -0.11708374584319031,
          -0.12712662763437263,
          -0.11829117304284752,
          -0.13292785221102063,
          -0.12618183288090631,
          -0.13164900417656575,
          -0.08816190970293854,
          -0.10285175600078716,
          -0.11403860363919055,
          -0.08912735422267909,
          0.04690413335256724,
          -0.017588345197931617,
          -0.059448697129284515,
          -0.0034038319076310558,
          -0.07848018129551801,
          0.10833819505206019,
          -0.10939160135907307,
          -0.14921191556928462,
          -0.11579701074267465,
          0.08893778219720556,
          -0.009563274029982515,
          -0.08172811820224465,
          0.006070813090983559,
          -0.14590665255006854,
          -0.11831573756212033,
          -0.11296441108642707,
          -0.09393293282158637,
          -0.1238796922330362,
          -0.13127391860059748,
          -0.1313451553271947,
          -0.10048366113407244,
          -0.14903184025781097,
          -0.10516595354904033
         ]
        },
        {
         "boxpoints": false,
         "line": {
          "width": 1.3
         },
         "marker": {
          "color": "rgba(219, 64, 82, 1.0)"
         },
         "name": "fwd_rtn_50_real",
         "orientation": "v",
         "type": "box",
         "y": [
          -0.09469548805207027,
          -0.12680075846222574,
          -0.22050017205450018,
          -0.10424891432208029,
          0.11405390330329314,
          -0.21017778353531993,
          0.011449436588566692,
          -0.016831724988066687,
          -0.007204432093390756,
          -0.21139688612207902,
          -0.1078755024502832,
          -0.20370360330322318,
          -0.09815940847113067,
          -0.11249792107920661,
          -0.13569773122370646,
          0.011038131879157795,
          -0.21273312389435567,
          -0.04857506251020213,
          -0.010894667159168136,
          -0.07007673040975888,
          -0.0627562511640277,
          -0.08288159325301692,
          -0.0767495325627088,
          -0.0038140138838579146,
          -0.11651349711443215,
          -0.11715554171793752,
          -0.13000226638154144,
          -0.198267907788094,
          0.036636460770245044,
          -0.0592957982452724,
          -0.08795751870566149,
          0.008040310441916911,
          -0.07774133724259832,
          -0.1409635366024406,
          0.02282655365122604,
          -0.22050915668565804,
          -0.00819004129704978,
          -0.15834258080370625,
          -0.005891556614012244,
          -0.2042036415229718,
          -0.19808189505177778,
          -0.048487084687447425,
          -0.20509925105829235,
          -0.10816746390661909,
          -0.08279840413481626,
          -0.12785648004235803,
          -0.08651129517716133,
          -0.22169235086998818,
          -0.0858209237481349,
          -0.0010155114456057454,
          -0.16496976927671805,
          -0.09977679173963842,
          -0.09628757631147891,
          -0.1139861799378915,
          -0.21792733111387688,
          -0.01593750908834202,
          -0.015184652694316148,
          -0.12092685304023912,
          -0.22185090896644996,
          -0.11681892770669204,
          -0.204148009418474,
          -0.13744807853076185,
          -0.21900721506712054,
          -0.20212240013024144,
          0.0341693022867013,
          -0.1937845243352286,
          -0.04857506251020213,
          -0.015213241059821407,
          -0.20155784655735753,
          -0.137470427227847,
          -0.10579003810146577,
          -0.2108393774679913,
          -0.19227336383756544,
          0.09647732040438672,
          -0.1985565136402275,
          -0.22037649823485092,
          -0.1887178757187618,
          -0.11225258328381985,
          -0.13569773122370646,
          -0.0051156133290938205,
          -0.09884871518485759,
          -0.21970790988915653,
          -0.06321304966659584,
          -0.05191699263952623,
          -0.20609804470157575,
          -0.1314352196961976,
          0.005647237304051617,
          0.12223522024714913,
          -0.10646051726168601,
          -0.2184830178431248,
          -0.010902398777557257,
          -0.1145143787517449,
          -0.13056886863613384,
          -0.12238549970225174,
          -0.020058528617798478,
          -0.036834594191859284,
          -0.19047569046218343,
          -0.20638142149496305,
          -0.12343807458185374,
          -0.12361719165025302,
          -0.19089538082576746,
          -0.20773262042425925,
          -0.19926569278433579,
          -0.11552357294664783,
          -0.06226814276682956,
          -0.08183068986628031,
          -0.16989642123853593,
          -0.08957568753013707,
          0.03355337520146508,
          -0.02219900513856037,
          -0.04260653659839515,
          -0.005417271535615952,
          -0.09516848125380072,
          0.09092129201793739,
          -0.09191658279139316,
          -0.22195526630315363,
          -0.1887178757187618,
          0.08246797651984349,
          -0.012554876048364283,
          -0.06960349818860603,
          0.0022374832762679085,
          -0.21885722483865283,
          -0.12126870684172857,
          -0.10528864928931413,
          -0.07293994202385361,
          -0.11881668808075131,
          -0.11732404676458211,
          -0.206362278351316,
          -0.1077614488664515,
          -0.22134440452675416,
          -0.09399234319313773
         ]
        },
        {
         "boxpoints": false,
         "line": {
          "width": 1.3
         },
         "marker": {
          "color": "rgba(0, 128, 128, 1.0)"
         },
         "name": "fwd_rtn_10_abs",
         "orientation": "v",
         "type": "box",
         "y": [
          -0.011623876012238089,
          -0.008336478774054707,
          -0.0018431792763987922,
          -0.01669644658722715,
          0.005316140265218692,
          -9.793900759797913e-05,
          -0.0007191704599190959,
          0.05840252316978924,
          0.025494833165985033,
          8.101320833367201e-05,
          -0.010599793800904674,
          0.0007406569311584,
          -0.014522188984128586,
          -0.014736405541439746,
          -0.019788115205560886,
          -0.0014011974292828281,
          -0.00045353428557582445,
          -0.011952382189473934,
          0.07896567718601279,
          0.004497309355444476,
          -0.008657889121707592,
          -0.009471254341219664,
          -0.012620573519201575,
          0.07536899787745967,
          -0.018520872521998945,
          -0.016456429987023364,
          -0.00886653742790282,
          0.0013011509489309694,
          0.010111839086895388,
          -0.011342446232606192,
          -0.002367313416038857,
          0.02462181403750408,
          -0.0005641341630076236,
          -0.022249757028534486,
          0.01610700144423009,
          -0.0018966333332094618,
          0.0512055212783825,
          0.004846217201406565,
          -0.021504846431841942,
          0.0007572580530723561,
          0.0019988719891735197,
          -0.011329797612513886,
          0.00036547543056091774,
          -0.01403656677208204,
          0.010102691361007037,
          -0.014447343268087696,
          -0.015165019051791406,
          -0.002131721359272698,
          -0.015975530917826254,
          0.03203002796688035,
          0.004456833490772359,
          -0.01640634620033324,
          -0.013813515700325501,
          -0.029250628491979524,
          -0.0013083110040476506,
          -0.012469377142416978,
          0.06168620761214072,
          -0.015016010260494742,
          -0.0017995147885321932,
          -0.01895932987115073,
          0.0010941564856633925,
          -0.019962871369162173,
          -0.0014754173783850435,
          0.0024810086321691784,
          -0.009625530265104279,
          0.00026744303585016433,
          -0.011952382189473934,
          0.004403857354935853,
          0.001370598536734261,
          -0.020437084823618043,
          -0.02003128241158863,
          -0.00016441729592496924,
          0.002270143927291747,
          -0.00860379864898029,
          0.002834669512550711,
          -0.0017760303688018101,
          0.002411973892874411,
          -0.019388654238462144,
          -0.019788115205560886,
          -0.06256551083600408,
          -0.014597905893887006,
          -0.001617836592014692,
          -0.01319596528351409,
          -0.0035772203439465937,
          0.0003857259003866612,
          -0.018966138119526264,
          0.029858561148953383,
          0.01937729064959819,
          -0.012839658477010784,
          -0.001520653888805476,
          0.10486669175520892,
          -0.016871608868622268,
          -0.026892873083879994,
          -0.020172611326737856,
          -0.008697413873850679,
          -0.007717617469963707,
          0.002647671375777241,
          0.00024928227674687523,
          -0.015345177477273382,
          -0.016778885494305274,
          -3.3306316172390755e-05,
          0.00018271126323037677,
          0.0010318911838655916,
          -0.030575504459506804,
          -0.013296247676782008,
          -0.015391122953666896,
          -0.004835889999883995,
          -0.007724325672170645,
          -0.0006497314548290792,
          -0.0006990392683047377,
          -0.010353994678124956,
          -0.0020675400935420796,
          -0.011109100877506724,
          0.016388209761792196,
          -0.020643511711810603,
          -0.001877177052915357,
          0.002411973892874411,
          0.03442526461313612,
          -0.0039332681816924885,
          -0.012288117416485387,
          0.06552402703894188,
          -0.0015150053353654212,
          -0.01618534430832499,
          -0.014620427757484481,
          -0.015623387867295075,
          -0.016329666811502216,
          -0.020118114414984935,
          0.0003013214993764723,
          -0.012980307569940624,
          -0.002052054469066068,
          -0.012146027448375896
         ]
        }
       ],
       "layout": {
        "autosize": true,
        "legend": {
         "bgcolor": "#FFFFFF",
         "font": {
          "color": "#4D5663"
         }
        },
        "paper_bgcolor": "#FFFFFF",
        "plot_bgcolor": "#FFFFFF",
        "template": {
         "data": {
          "bar": [
           {
            "error_x": {
             "color": "#2a3f5f"
            },
            "error_y": {
             "color": "#2a3f5f"
            },
            "marker": {
             "line": {
              "color": "#E5ECF6",
              "width": 0.5
             },
             "pattern": {
              "fillmode": "overlay",
              "size": 10,
              "solidity": 0.2
             }
            },
            "type": "bar"
           }
          ],
          "barpolar": [
           {
            "marker": {
             "line": {
              "color": "#E5ECF6",
              "width": 0.5
             },
             "pattern": {
              "fillmode": "overlay",
              "size": 10,
              "solidity": 0.2
             }
            },
            "type": "barpolar"
           }
          ],
          "carpet": [
           {
            "aaxis": {
             "endlinecolor": "#2a3f5f",
             "gridcolor": "white",
             "linecolor": "white",
             "minorgridcolor": "white",
             "startlinecolor": "#2a3f5f"
            },
            "baxis": {
             "endlinecolor": "#2a3f5f",
             "gridcolor": "white",
             "linecolor": "white",
             "minorgridcolor": "white",
             "startlinecolor": "#2a3f5f"
            },
            "type": "carpet"
           }
          ],
          "choropleth": [
           {
            "colorbar": {
             "outlinewidth": 0,
             "ticks": ""
            },
            "type": "choropleth"
           }
          ],
          "contour": [
           {
            "colorbar": {
             "outlinewidth": 0,
             "ticks": ""
            },
            "colorscale": [
             [
              0,
              "#0d0887"
             ],
             [
              0.1111111111111111,
              "#46039f"
             ],
             [
              0.2222222222222222,
              "#7201a8"
             ],
             [
              0.3333333333333333,
              "#9c179e"
             ],
             [
              0.4444444444444444,
              "#bd3786"
             ],
             [
              0.5555555555555556,
              "#d8576b"
             ],
             [
              0.6666666666666666,
              "#ed7953"
             ],
             [
              0.7777777777777778,
              "#fb9f3a"
             ],
             [
              0.8888888888888888,
              "#fdca26"
             ],
             [
              1,
              "#f0f921"
             ]
            ],
            "type": "contour"
           }
          ],
          "contourcarpet": [
           {
            "colorbar": {
             "outlinewidth": 0,
             "ticks": ""
            },
            "type": "contourcarpet"
           }
          ],
          "heatmap": [
           {
            "colorbar": {
             "outlinewidth": 0,
             "ticks": ""
            },
            "colorscale": [
             [
              0,
              "#0d0887"
             ],
             [
              0.1111111111111111,
              "#46039f"
             ],
             [
              0.2222222222222222,
              "#7201a8"
             ],
             [
              0.3333333333333333,
              "#9c179e"
             ],
             [
              0.4444444444444444,
              "#bd3786"
             ],
             [
              0.5555555555555556,
              "#d8576b"
             ],
             [
              0.6666666666666666,
              "#ed7953"
             ],
             [
              0.7777777777777778,
              "#fb9f3a"
             ],
             [
              0.8888888888888888,
              "#fdca26"
             ],
             [
              1,
              "#f0f921"
             ]
            ],
            "type": "heatmap"
           }
          ],
          "heatmapgl": [
           {
            "colorbar": {
             "outlinewidth": 0,
             "ticks": ""
            },
            "colorscale": [
             [
              0,
              "#0d0887"
             ],
             [
              0.1111111111111111,
              "#46039f"
             ],
             [
              0.2222222222222222,
              "#7201a8"
             ],
             [
              0.3333333333333333,
              "#9c179e"
             ],
             [
              0.4444444444444444,
              "#bd3786"
             ],
             [
              0.5555555555555556,
              "#d8576b"
             ],
             [
              0.6666666666666666,
              "#ed7953"
             ],
             [
              0.7777777777777778,
              "#fb9f3a"
             ],
             [
              0.8888888888888888,
              "#fdca26"
             ],
             [
              1,
              "#f0f921"
             ]
            ],
            "type": "heatmapgl"
           }
          ],
          "histogram": [
           {
            "marker": {
             "pattern": {
              "fillmode": "overlay",
              "size": 10,
              "solidity": 0.2
             }
            },
            "type": "histogram"
           }
          ],
          "histogram2d": [
           {
            "colorbar": {
             "outlinewidth": 0,
             "ticks": ""
            },
            "colorscale": [
             [
              0,
              "#0d0887"
             ],
             [
              0.1111111111111111,
              "#46039f"
             ],
             [
              0.2222222222222222,
              "#7201a8"
             ],
             [
              0.3333333333333333,
              "#9c179e"
             ],
             [
              0.4444444444444444,
              "#bd3786"
             ],
             [
              0.5555555555555556,
              "#d8576b"
             ],
             [
              0.6666666666666666,
              "#ed7953"
             ],
             [
              0.7777777777777778,
              "#fb9f3a"
             ],
             [
              0.8888888888888888,
              "#fdca26"
             ],
             [
              1,
              "#f0f921"
             ]
            ],
            "type": "histogram2d"
           }
          ],
          "histogram2dcontour": [
           {
            "colorbar": {
             "outlinewidth": 0,
             "ticks": ""
            },
            "colorscale": [
             [
              0,
              "#0d0887"
             ],
             [
              0.1111111111111111,
              "#46039f"
             ],
             [
              0.2222222222222222,
              "#7201a8"
             ],
             [
              0.3333333333333333,
              "#9c179e"
             ],
             [
              0.4444444444444444,
              "#bd3786"
             ],
             [
              0.5555555555555556,
              "#d8576b"
             ],
             [
              0.6666666666666666,
              "#ed7953"
             ],
             [
              0.7777777777777778,
              "#fb9f3a"
             ],
             [
              0.8888888888888888,
              "#fdca26"
             ],
             [
              1,
              "#f0f921"
             ]
            ],
            "type": "histogram2dcontour"
           }
          ],
          "mesh3d": [
           {
            "colorbar": {
             "outlinewidth": 0,
             "ticks": ""
            },
            "type": "mesh3d"
           }
          ],
          "parcoords": [
           {
            "line": {
             "colorbar": {
              "outlinewidth": 0,
              "ticks": ""
             }
            },
            "type": "parcoords"
           }
          ],
          "pie": [
           {
            "automargin": true,
            "type": "pie"
           }
          ],
          "scatter": [
           {
            "marker": {
             "colorbar": {
              "outlinewidth": 0,
              "ticks": ""
             }
            },
            "type": "scatter"
           }
          ],
          "scatter3d": [
           {
            "line": {
             "colorbar": {
              "outlinewidth": 0,
              "ticks": ""
             }
            },
            "marker": {
             "colorbar": {
              "outlinewidth": 0,
              "ticks": ""
             }
            },
            "type": "scatter3d"
           }
          ],
          "scattercarpet": [
           {
            "marker": {
             "colorbar": {
              "outlinewidth": 0,
              "ticks": ""
             }
            },
            "type": "scattercarpet"
           }
          ],
          "scattergeo": [
           {
            "marker": {
             "colorbar": {
              "outlinewidth": 0,
              "ticks": ""
             }
            },
            "type": "scattergeo"
           }
          ],
          "scattergl": [
           {
            "marker": {
             "colorbar": {
              "outlinewidth": 0,
              "ticks": ""
             }
            },
            "type": "scattergl"
           }
          ],
          "scattermapbox": [
           {
            "marker": {
             "colorbar": {
              "outlinewidth": 0,
              "ticks": ""
             }
            },
            "type": "scattermapbox"
           }
          ],
          "scatterpolar": [
           {
            "marker": {
             "colorbar": {
              "outlinewidth": 0,
              "ticks": ""
             }
            },
            "type": "scatterpolar"
           }
          ],
          "scatterpolargl": [
           {
            "marker": {
             "colorbar": {
              "outlinewidth": 0,
              "ticks": ""
             }
            },
            "type": "scatterpolargl"
           }
          ],
          "scatterternary": [
           {
            "marker": {
             "colorbar": {
              "outlinewidth": 0,
              "ticks": ""
             }
            },
            "type": "scatterternary"
           }
          ],
          "surface": [
           {
            "colorbar": {
             "outlinewidth": 0,
             "ticks": ""
            },
            "colorscale": [
             [
              0,
              "#0d0887"
             ],
             [
              0.1111111111111111,
              "#46039f"
             ],
             [
              0.2222222222222222,
              "#7201a8"
             ],
             [
              0.3333333333333333,
              "#9c179e"
             ],
             [
              0.4444444444444444,
              "#bd3786"
             ],
             [
              0.5555555555555556,
              "#d8576b"
             ],
             [
              0.6666666666666666,
              "#ed7953"
             ],
             [
              0.7777777777777778,
              "#fb9f3a"
             ],
             [
              0.8888888888888888,
              "#fdca26"
             ],
             [
              1,
              "#f0f921"
             ]
            ],
            "type": "surface"
           }
          ],
          "table": [
           {
            "cells": {
             "fill": {
              "color": "#EBF0F8"
             },
             "line": {
              "color": "white"
             }
            },
            "header": {
             "fill": {
              "color": "#C8D4E3"
             },
             "line": {
              "color": "white"
             }
            },
            "type": "table"
           }
          ]
         },
         "layout": {
          "annotationdefaults": {
           "arrowcolor": "#2a3f5f",
           "arrowhead": 0,
           "arrowwidth": 1
          },
          "autotypenumbers": "strict",
          "coloraxis": {
           "colorbar": {
            "outlinewidth": 0,
            "ticks": ""
           }
          },
          "colorscale": {
           "diverging": [
            [
             0,
             "#8e0152"
            ],
            [
             0.1,
             "#c51b7d"
            ],
            [
             0.2,
             "#de77ae"
            ],
            [
             0.3,
             "#f1b6da"
            ],
            [
             0.4,
             "#fde0ef"
            ],
            [
             0.5,
             "#f7f7f7"
            ],
            [
             0.6,
             "#e6f5d0"
            ],
            [
             0.7,
             "#b8e186"
            ],
            [
             0.8,
             "#7fbc41"
            ],
            [
             0.9,
             "#4d9221"
            ],
            [
             1,
             "#276419"
            ]
           ],
           "sequential": [
            [
             0,
             "#0d0887"
            ],
            [
             0.1111111111111111,
             "#46039f"
            ],
            [
             0.2222222222222222,
             "#7201a8"
            ],
            [
             0.3333333333333333,
             "#9c179e"
            ],
            [
             0.4444444444444444,
             "#bd3786"
            ],
            [
             0.5555555555555556,
             "#d8576b"
            ],
            [
             0.6666666666666666,
             "#ed7953"
            ],
            [
             0.7777777777777778,
             "#fb9f3a"
            ],
            [
             0.8888888888888888,
             "#fdca26"
            ],
            [
             1,
             "#f0f921"
            ]
           ],
           "sequentialminus": [
            [
             0,
             "#0d0887"
            ],
            [
             0.1111111111111111,
             "#46039f"
            ],
            [
             0.2222222222222222,
             "#7201a8"
            ],
            [
             0.3333333333333333,
             "#9c179e"
            ],
            [
             0.4444444444444444,
             "#bd3786"
            ],
            [
             0.5555555555555556,
             "#d8576b"
            ],
            [
             0.6666666666666666,
             "#ed7953"
            ],
            [
             0.7777777777777778,
             "#fb9f3a"
            ],
            [
             0.8888888888888888,
             "#fdca26"
            ],
            [
             1,
             "#f0f921"
            ]
           ]
          },
          "colorway": [
           "#636efa",
           "#EF553B",
           "#00cc96",
           "#ab63fa",
           "#FFA15A",
           "#19d3f3",
           "#FF6692",
           "#B6E880",
           "#FF97FF",
           "#FECB52"
          ],
          "font": {
           "color": "#2a3f5f"
          },
          "geo": {
           "bgcolor": "white",
           "lakecolor": "white",
           "landcolor": "#E5ECF6",
           "showlakes": true,
           "showland": true,
           "subunitcolor": "white"
          },
          "hoverlabel": {
           "align": "left"
          },
          "hovermode": "closest",
          "mapbox": {
           "style": "light"
          },
          "paper_bgcolor": "white",
          "plot_bgcolor": "#E5ECF6",
          "polar": {
           "angularaxis": {
            "gridcolor": "white",
            "linecolor": "white",
            "ticks": ""
           },
           "bgcolor": "#E5ECF6",
           "radialaxis": {
            "gridcolor": "white",
            "linecolor": "white",
            "ticks": ""
           }
          },
          "scene": {
           "xaxis": {
            "backgroundcolor": "#E5ECF6",
            "gridcolor": "white",
            "gridwidth": 2,
            "linecolor": "white",
            "showbackground": true,
            "ticks": "",
            "zerolinecolor": "white"
           },
           "yaxis": {
            "backgroundcolor": "#E5ECF6",
            "gridcolor": "white",
            "gridwidth": 2,
            "linecolor": "white",
            "showbackground": true,
            "ticks": "",
            "zerolinecolor": "white"
           },
           "zaxis": {
            "backgroundcolor": "#E5ECF6",
            "gridcolor": "white",
            "gridwidth": 2,
            "linecolor": "white",
            "showbackground": true,
            "ticks": "",
            "zerolinecolor": "white"
           }
          },
          "shapedefaults": {
           "line": {
            "color": "#2a3f5f"
           }
          },
          "ternary": {
           "aaxis": {
            "gridcolor": "white",
            "linecolor": "white",
            "ticks": ""
           },
           "baxis": {
            "gridcolor": "white",
            "linecolor": "white",
            "ticks": ""
           },
           "bgcolor": "#E5ECF6",
           "caxis": {
            "gridcolor": "white",
            "linecolor": "white",
            "ticks": ""
           }
          },
          "title": {
           "x": 0.05
          },
          "xaxis": {
           "automargin": true,
           "gridcolor": "white",
           "linecolor": "white",
           "ticks": "",
           "title": {
            "standoff": 15
           },
           "zerolinecolor": "white",
           "zerolinewidth": 2
          },
          "yaxis": {
           "automargin": true,
           "gridcolor": "white",
           "linecolor": "white",
           "ticks": "",
           "title": {
            "standoff": 15
           },
           "zerolinecolor": "white",
           "zerolinewidth": 2
          }
         }
        },
        "title": {
         "font": {
          "color": "#4D5663"
         }
        },
        "xaxis": {
         "autorange": true,
         "gridcolor": "#E1E5ED",
         "range": [
          -0.5,
          5.5
         ],
         "showgrid": true,
         "tickfont": {
          "color": "#4D5663"
         },
         "title": {
          "font": {
           "color": "#4D5663"
          },
          "text": ""
         },
         "type": "category",
         "zerolinecolor": "#E1E5ED"
        },
        "yaxis": {
         "autorange": true,
         "gridcolor": "#E1E5ED",
         "range": [
          -0.2412916199173901,
          0.14543545236733912
         ],
         "showgrid": true,
         "tickfont": {
          "color": "#4D5663"
         },
         "title": {
          "font": {
           "color": "#4D5663"
          },
          "text": ""
         },
         "type": "linear",
         "zerolinecolor": "#E1E5ED"
        }
       }
      },
      "image/png": "[encoded data removed]",
      "text/html": [
       "<div>                            <div id=\"c8116d50-8017-4baa-84e9-afcbf1c1d149\" class=\"plotly-graph-div\" style=\"height:525px; width:100%;\"></div>            <script type=\"text/javascript\">                require([\"plotly\"], function(Plotly) {                    window.PLOTLYENV=window.PLOTLYENV || {};\n",
       "                    window.PLOTLYENV.BASE_URL='https://plot.ly';                                    if (document.getElementById(\"c8116d50-8017-4baa-84e9-afcbf1c1d149\")) {                    Plotly.newPlot(                        \"c8116d50-8017-4baa-84e9-afcbf1c1d149\",                        [{\"boxpoints\":false,\"line\":{\"width\":1.3},\"marker\":{\"color\":\"rgba(255, 153, 51, 1.0)\"},\"name\":\"fwd_rtn_1_real\",\"orientation\":\"v\",\"type\":\"box\",\"y\":[-0.01653733332739918,-0.043546040116175154,-0.036872722166042766,-0.041995165713035354,0.034808543978284895,-0.03137195182763225,0.002492028583444221,0.0041948745619558,0.0012666691035669905,-0.03171574806849379,-0.019582782832219436,-0.030323387411268075,-0.033761141595842925,-0.027944732376387237,-0.04860457562776233,0.0031336789163559876,-0.032685684173891776,-0.03660567982029389,0.0005063315347682277,-0.027531748675082183,-0.018246728622252146,-0.013352833944732707,-0.03370613775880047,0.006734697838712226,-0.044977196694532796,-0.028351626528472007,-0.038966265561690555,-0.028418708467913327,0.028163353243391847,-0.027547641089698826,-0.010132960331223642,0.0033717175088800702,-0.007541820613382947,-0.04874347744819952,0.005759652809759756,-0.036614198071782775,0.0037418320590096154,-0.021251368202705578,-0.00041165467995729664,-0.030375832986870573,-0.028408695806006416,-0.03665116230266275,-0.028975581902677548,-0.022522537155427253,-0.02346939416142368,-0.029700765677452105,-0.03680518037638668,-0.03771867977293405,-0.03713740749319164,0.0027916594807780386,-0.021685845371627484,-0.04577006722281806,-0.029553110222583005,-0.03647570869850597,-0.03530231945421348,-0.004341368427829138,0.00457017747263909,-0.029102338614777856,-0.038114616425007186,-0.04505825586322179,-0.029423163774982636,-0.050324136758879645,-0.034942804010071354,-0.02952593689579103,0.007146291477541474,-0.027798142497670406,-0.03660567982029389,-0.0008028375217732787,-0.02924433053689061,-0.05032759817461637,-0.052940445280138575,-0.03246645399329818,-0.02724237199131967,0.022403947489248753,-0.02803369005094686,-0.037062949852388206,-0.02680589831046006,-0.04866976768582405,-0.04860457562776233,-0.0072663325830986175,-0.03158393460929691,-0.03547527408505335,-0.03761732898528639,-0.013843230871555156,-0.030794013578554453,-0.040978987587479,0.002275968731174921,0.03842034839262531,-0.020429274881031755,-0.03467567375692632,0.003849716630538944,-0.030361050581196956,-0.041621182105809174,-0.054324409808672106,-0.0021726344401487847,-0.028236234386302468,-0.026593532171155097,-0.02969774020308787,-0.027837582336829744,-0.03750341060798488,-0.026806659414461764,-0.03066496927191848,-0.029169918886323608,-0.04502601035899708,-0.046191625172978076,-0.04953755549288712,-0.026163100165182987,-0.02962507375567918,0.02497453775623557,-0.009642077554694761,-0.03641335335350346,0.004694723770676121,-0.016826298508522863,0.044121760528703736,-0.04439931361373553,-0.03657869738764926,-0.02680589831046006,0.026533868191564523,-0.0028770220422827644,-0.021598766682489556,0.0021988678197061933,-0.03537905921225267,-0.030351130056848398,-0.03426180462731401,-0.0446094121782324,-0.03603107329074106,-0.04497237047310691,-0.029699139458732628,-0.02263221929151654,-0.037380045258399344,-0.04610645371444035]},{\"boxpoints\":false,\"line\":{\"width\":1.3},\"marker\":{\"color\":\"rgba(55, 128, 191, 1.0)\"},\"name\":\"fwd_rtn_5_real\",\"orientation\":\"v\",\"type\":\"box\",\"y\":[-0.03380185139429782,-0.10333664702316392,-0.07934066696629921,-0.0882788805842237,0.0762681033277347,-0.06827395204415662,0.003979153513586324,0.004966532864956225,-0.00042635440107399036,-0.06868064654337355,-0.040785199900397424,-0.06530637792880721,-0.07027651016245252,-0.05825868781865764,-0.10856995397577887,0.006274624599315289,-0.0700656754732364,-0.0937893273716213,-0.0017079512127642566,-0.06023617348654308,-0.038731767586414785,-0.027283726185836226,-0.0702234682893348,0.0071324830731612,-0.09971321167298443,-0.059718626104658425,-0.09206282664301524,-0.06170080751102603,0.07673038553930847,-0.0596255700088187,-0.022577227354558648,0.003976763595266974,-0.017605808323596803,-0.10682659201257783,0.011257882169564647,-0.07938173585289951,0.005353172467715703,-0.047429945184126375,0.0001191322390462847,-0.06554144508410874,-0.06251828987403024,-0.09362982668101885,-0.06262139310257851,-0.04637417020954144,-0.056807929847444656,-0.06305876555696543,-0.08235108483626882,-0.08132597828638578,-0.08093898677494411,0.004020181675160872,-0.04876933171502872,-0.09634487951056174,-0.06762256277263846,-0.07898654404232171,-0.0754937329296028,-0.006416593035492008,0.005045213500612168,-0.0617612326349596,-0.08198602791916935,-0.09996865013236853,-0.06359570180394312,-0.11060159188933577,-0.07494346560706706,-0.06449681017348595,0.015513897875373241,-0.0612406720443786,-0.0937893273716213,-0.0016688429635149274,-0.06406126366923118,-0.1104625813471559,-0.11295527466259225,-0.06954394233033992,-0.059721877881411777,0.04657465638456939,-0.06100483433841815,-0.07919506821167988,-0.058140096750814545,-0.11563337296907795,-0.10856995397577887,-0.010748241196608818,-0.06712021398056854,-0.07619151289208513,-0.08109322579429215,-0.035860486516788144,-0.06620261402652532,-0.08813261396312057,0.002896911865492067,0.08827610974846876,-0.0424341289834475,-0.0747125452723724,0.0020776511602155602,-0.06489709403019699,-0.09527050476498557,-0.12160683522069135,-0.004335631065842932,-0.07648388313906754,-0.058489420820562556,-0.06413927528538062,-0.05920705152326139,-0.07805477669052141,-0.05857580714189875,-0.06605779954946837,-0.06335003717920361,-0.10435686626361047,-0.1043014111503822,-0.10539249466317668,-0.061132965204479105,-0.06077790396040679,0.06863065648822977,-0.012977950480064553,-0.08764688240644099,0.01014650939815247,-0.03488085243230593,0.09819336647001038,-0.09847227403684602,-0.07823432182581744,-0.058140096750814545,0.05778101504429962,-0.004455319841582761,-0.04370948174626026,0.003252231272454195,-0.07677951679806261,-0.06392925469146031,-0.07440313209480837,-0.10590324085859627,-0.08508341620202632,-0.09989109495583565,-0.06413537750822992,-0.04644257191599019,-0.08072128570856905,-0.09064055352834054]},{\"boxpoints\":false,\"line\":{\"width\":1.3},\"marker\":{\"color\":\"rgba(50, 171, 96, 1.0)\"},\"name\":\"fwd_rtn_10_real\",\"orientation\":\"v\",\"type\":\"box\",\"y\":[-0.055478730975369095,-0.12771666466868264,-0.10840480298132853,-0.10948379957511467,0.10265698876896699,-0.09595387588397376,0.00585936335177679,0.0009940591903875823,-0.002907252336275662,-0.09659735546110017,-0.06345342539217669,-0.0910415462220124,-0.09376650995824068,-0.08783613791744048,-0.13263691181551576,0.007183252463099039,-0.09820174569580707,-0.08339430031444608,-0.004163356531005496,-0.07351385315446038,-0.05746775340608621,-0.04345976654177049,-0.08275288108766007,0.0037848218035859155,-0.12225578180367971,-0.0895559589200059,-0.11948799611175494,-0.08646150445433377,0.06718182818169102,-0.07500662911169761,-0.034377187251505,0.004666049426166185,-0.026434903013617072,-0.13279490520287224,0.013792526350941388,-0.10848916997243414,0.0036613485732454264,-0.06634195733558527,0.00018292011325697958,-0.09156878991053721,-0.08728991808247522,-0.08335188552591015,-0.08975359902017244,-0.07264338441964875,-0.07782238937851946,-0.09039169255694278,-0.10136599068652127,-0.11023900892000263,-0.10108864473066495,0.002859691447568099,-0.06802353619101514,-0.11417055888941031,-0.09152580979455832,-0.10501527908725194,-0.10427194049183146,-0.008782661507814447,0.0016188727429006945,-0.08798909597531365,-0.11072281646434226,-0.12252492648430725,-0.09034504882877284,-0.13322990714244776,-0.10454657583891126,-0.09013375623104677,0.020812539296777587,-0.08571332579221012,-0.08339430031444608,-0.002956084047915412,-0.08959522672466876,-0.1332900006099988,-0.12600870343432885,-0.09692393487518844,-0.08336012886259121,0.06825598722470941,-0.08579181811529653,-0.10820674027252715,-0.08081008669705582,-0.13396875897705832,-0.13263691181551576,-0.009876389533008848,-0.09216748548987018,-0.10576485123636666,-0.09129833064147397,-0.04922098675858833,-0.09255887493912743,-0.11586499262508759,0.0038643360034620595,0.111761595641123,-0.06556095345666155,-0.10432900825593228,-0.0015863254132507192,-0.09419762004618146,-0.12198222213996983,-0.1398015902296787,-0.006060436272164093,-0.0669850248859414,-0.08208849065096033,-0.09125582889587527,-0.08869323684423923,-0.1070398832234167,-0.08234517296804579,-0.09315735551923486,-0.08870782235238008,-0.12595809436635788,-0.10700488785786115,-0.11391168519735,-0.08375597230294822,-0.07666239619701247,0.060404250414283656,-0.014870791406318364,-0.07673455815872324,0.0034730825907948585,-0.05429810047350893,0.11102528214784037,-0.11158481786973937,-0.10824006807659411,-0.08081008669705582,0.0775176368962879,-0.00653922340898387,-0.06417968612952334,0.004098179368202244,-0.10599292258763793,-0.09250611549746932,-0.09763970741373319,-0.10846927911573621,-0.10874479367419258,-0.12255054171401965,-0.09128976852479721,-0.07260134522761591,-0.10970051800615856,-0.1046091769940793]},{\"boxpoints\":false,\"line\":{\"width\":1.3},\"marker\":{\"color\":\"rgba(128, 0, 128, 1.0)\"},\"name\":\"fwd_rtn_20_real\",\"orientation\":\"v\",\"type\":\"box\",\"y\":[-0.08233716118570374,-0.13745938305739475,-0.14794094519145676,-0.1164874424625182,0.12015141497172385,-0.1357873763441988,0.008507229544928243,-0.005102171557546161,-0.008129556438071936,-0.13678094762440407,-0.09001872566074119,-0.12916390091693808,-0.10633591531826067,-0.11281913784398379,-0.1453249116386304,0.008010906046576073,-0.13841931952620176,-0.06603323119671436,-0.007547103216474286,-0.07971705838535968,-0.06930700345406568,-0.06607342036029436,-0.08656999913549392,-0.00023172836927507433,-0.13085736491328348,-0.11576036190670001,-0.13645705711750117,-0.12377106639932531,0.05174018101615641,-0.07542558668486583,-0.05303924078630665,0.0065989614279176444,-0.0419943965051446,-0.14872420129354522,0.01756245416549212,-0.14800915833430262,-0.00012204430879172212,-0.09605085029837034,-0.00019303373340344643,-0.12974925756794198,-0.12420831148520137,-0.06602061261862643,-0.12997895285382496,-0.10070444508584772,-0.09025140563753309,-0.1171050424976169,-0.10916376358446349,-0.14947324175808685,-0.10593172244345904,0.0010596307981782516,-0.09798846693769113,-0.11556443634312928,-0.10502970765603553,-0.12090777087107905,-0.14441610642400302,-0.012019783967456362,-0.004149238864859082,-0.11297740449582082,-0.14976871326656313,-0.13113142809337708,-0.13019047095703945,-0.14524078940317628,-0.1454674374705993,-0.1281137067949004,0.026623747994463206,-0.12174584984704669,-0.06603323119671436,-0.006461372126167169,-0.12727853930985217,-0.1451822878713034,-0.12381543345735917,-0.1364610856218246,-0.11926654707010433,0.08997859763450627,-0.12343201637853429,-0.14775557802116382,-0.11579701074267465,-0.1327008535199375,-0.1453249116386304,-0.007388236639068316,-0.10598135941568762,-0.1464334463174549,-0.08402470023645366,-0.05459408368726609,-0.13107501132238816,-0.13554962971701381,0.005604104248153182,0.12609909875310266,-0.09267611067118213,-0.1452398246084,-0.0061799196944361074,-0.11730769117551734,-0.13777047959153083,-0.14125325426372728,-0.009798862040194777,-0.051711136790921486,-0.11753706650312941,-0.13133133226359503,-0.11708374584319031,-0.12712662763437263,-0.11829117304284752,-0.13292785221102063,-0.12618183288090631,-0.13164900417656575,-0.08816190970293854,-0.10285175600078716,-0.11403860363919055,-0.08912735422267909,0.04690413335256724,-0.017588345197931617,-0.059448697129284515,-0.0034038319076310558,-0.07848018129551801,0.10833819505206019,-0.10939160135907307,-0.14921191556928462,-0.11579701074267465,0.08893778219720556,-0.009563274029982515,-0.08172811820224465,0.006070813090983559,-0.14590665255006854,-0.11831573756212033,-0.11296441108642707,-0.09393293282158637,-0.1238796922330362,-0.13127391860059748,-0.1313451553271947,-0.10048366113407244,-0.14903184025781097,-0.10516595354904033]},{\"boxpoints\":false,\"line\":{\"width\":1.3},\"marker\":{\"color\":\"rgba(219, 64, 82, 1.0)\"},\"name\":\"fwd_rtn_50_real\",\"orientation\":\"v\",\"type\":\"box\",\"y\":[-0.09469548805207027,-0.12680075846222574,-0.22050017205450018,-0.10424891432208029,0.11405390330329314,-0.21017778353531993,0.011449436588566692,-0.016831724988066687,-0.007204432093390756,-0.21139688612207902,-0.1078755024502832,-0.20370360330322318,-0.09815940847113067,-0.11249792107920661,-0.13569773122370646,0.011038131879157795,-0.21273312389435567,-0.04857506251020213,-0.010894667159168136,-0.07007673040975888,-0.0627562511640277,-0.08288159325301692,-0.0767495325627088,-0.0038140138838579146,-0.11651349711443215,-0.11715554171793752,-0.13000226638154144,-0.198267907788094,0.036636460770245044,-0.0592957982452724,-0.08795751870566149,0.008040310441916911,-0.07774133724259832,-0.1409635366024406,0.02282655365122604,-0.22050915668565804,-0.00819004129704978,-0.15834258080370625,-0.005891556614012244,-0.2042036415229718,-0.19808189505177778,-0.048487084687447425,-0.20509925105829235,-0.10816746390661909,-0.08279840413481626,-0.12785648004235803,-0.08651129517716133,-0.22169235086998818,-0.0858209237481349,-0.0010155114456057454,-0.16496976927671805,-0.09977679173963842,-0.09628757631147891,-0.1139861799378915,-0.21792733111387688,-0.01593750908834202,-0.015184652694316148,-0.12092685304023912,-0.22185090896644996,-0.11681892770669204,-0.204148009418474,-0.13744807853076185,-0.21900721506712054,-0.20212240013024144,0.0341693022867013,-0.1937845243352286,-0.04857506251020213,-0.015213241059821407,-0.20155784655735753,-0.137470427227847,-0.10579003810146577,-0.2108393774679913,-0.19227336383756544,0.09647732040438672,-0.1985565136402275,-0.22037649823485092,-0.1887178757187618,-0.11225258328381985,-0.13569773122370646,-0.0051156133290938205,-0.09884871518485759,-0.21970790988915653,-0.06321304966659584,-0.05191699263952623,-0.20609804470157575,-0.1314352196961976,0.005647237304051617,0.12223522024714913,-0.10646051726168601,-0.2184830178431248,-0.010902398777557257,-0.1145143787517449,-0.13056886863613384,-0.12238549970225174,-0.020058528617798478,-0.036834594191859284,-0.19047569046218343,-0.20638142149496305,-0.12343807458185374,-0.12361719165025302,-0.19089538082576746,-0.20773262042425925,-0.19926569278433579,-0.11552357294664783,-0.06226814276682956,-0.08183068986628031,-0.16989642123853593,-0.08957568753013707,0.03355337520146508,-0.02219900513856037,-0.04260653659839515,-0.005417271535615952,-0.09516848125380072,0.09092129201793739,-0.09191658279139316,-0.22195526630315363,-0.1887178757187618,0.08246797651984349,-0.012554876048364283,-0.06960349818860603,0.0022374832762679085,-0.21885722483865283,-0.12126870684172857,-0.10528864928931413,-0.07293994202385361,-0.11881668808075131,-0.11732404676458211,-0.206362278351316,-0.1077614488664515,-0.22134440452675416,-0.09399234319313773]},{\"boxpoints\":false,\"line\":{\"width\":1.3},\"marker\":{\"color\":\"rgba(0, 128, 128, 1.0)\"},\"name\":\"fwd_rtn_10_abs\",\"orientation\":\"v\",\"type\":\"box\",\"y\":[-0.011623876012238089,-0.008336478774054707,-0.0018431792763987922,-0.01669644658722715,0.005316140265218692,-9.793900759797913e-05,-0.0007191704599190959,0.05840252316978924,0.025494833165985033,8.101320833367201e-05,-0.010599793800904674,0.0007406569311584,-0.014522188984128586,-0.014736405541439746,-0.019788115205560886,-0.0014011974292828281,-0.00045353428557582445,-0.011952382189473934,0.07896567718601279,0.004497309355444476,-0.008657889121707592,-0.009471254341219664,-0.012620573519201575,0.07536899787745967,-0.018520872521998945,-0.016456429987023364,-0.00886653742790282,0.0013011509489309694,0.010111839086895388,-0.011342446232606192,-0.002367313416038857,0.02462181403750408,-0.0005641341630076236,-0.022249757028534486,0.01610700144423009,-0.0018966333332094618,0.0512055212783825,0.004846217201406565,-0.021504846431841942,0.0007572580530723561,0.0019988719891735197,-0.011329797612513886,0.00036547543056091774,-0.01403656677208204,0.010102691361007037,-0.014447343268087696,-0.015165019051791406,-0.002131721359272698,-0.015975530917826254,0.03203002796688035,0.004456833490772359,-0.01640634620033324,-0.013813515700325501,-0.029250628491979524,-0.0013083110040476506,-0.012469377142416978,0.06168620761214072,-0.015016010260494742,-0.0017995147885321932,-0.01895932987115073,0.0010941564856633925,-0.019962871369162173,-0.0014754173783850435,0.0024810086321691784,-0.009625530265104279,0.00026744303585016433,-0.011952382189473934,0.004403857354935853,0.001370598536734261,-0.020437084823618043,-0.02003128241158863,-0.00016441729592496924,0.002270143927291747,-0.00860379864898029,0.002834669512550711,-0.0017760303688018101,0.002411973892874411,-0.019388654238462144,-0.019788115205560886,-0.06256551083600408,-0.014597905893887006,-0.001617836592014692,-0.01319596528351409,-0.0035772203439465937,0.0003857259003866612,-0.018966138119526264,0.029858561148953383,0.01937729064959819,-0.012839658477010784,-0.001520653888805476,0.10486669175520892,-0.016871608868622268,-0.026892873083879994,-0.020172611326737856,-0.008697413873850679,-0.007717617469963707,0.002647671375777241,0.00024928227674687523,-0.015345177477273382,-0.016778885494305274,-3.3306316172390755e-05,0.00018271126323037677,0.0010318911838655916,-0.030575504459506804,-0.013296247676782008,-0.015391122953666896,-0.004835889999883995,-0.007724325672170645,-0.0006497314548290792,-0.0006990392683047377,-0.010353994678124956,-0.0020675400935420796,-0.011109100877506724,0.016388209761792196,-0.020643511711810603,-0.001877177052915357,0.002411973892874411,0.03442526461313612,-0.0039332681816924885,-0.012288117416485387,0.06552402703894188,-0.0015150053353654212,-0.01618534430832499,-0.014620427757484481,-0.015623387867295075,-0.016329666811502216,-0.020118114414984935,0.0003013214993764723,-0.012980307569940624,-0.002052054469066068,-0.012146027448375896]}],                        {\"legend\":{\"bgcolor\":\"#FFFFFF\",\"font\":{\"color\":\"#4D5663\"}},\"paper_bgcolor\":\"#FFFFFF\",\"plot_bgcolor\":\"#FFFFFF\",\"template\":{\"data\":{\"bar\":[{\"error_x\":{\"color\":\"#2a3f5f\"},\"error_y\":{\"color\":\"#2a3f5f\"},\"marker\":{\"line\":{\"color\":\"#E5ECF6\",\"width\":0.5},\"pattern\":{\"fillmode\":\"overlay\",\"size\":10,\"solidity\":0.2}},\"type\":\"bar\"}],\"barpolar\":[{\"marker\":{\"line\":{\"color\":\"#E5ECF6\",\"width\":0.5},\"pattern\":{\"fillmode\":\"overlay\",\"size\":10,\"solidity\":0.2}},\"type\":\"barpolar\"}],\"carpet\":[{\"aaxis\":{\"endlinecolor\":\"#2a3f5f\",\"gridcolor\":\"white\",\"linecolor\":\"white\",\"minorgridcolor\":\"white\",\"startlinecolor\":\"#2a3f5f\"},\"baxis\":{\"endlinecolor\":\"#2a3f5f\",\"gridcolor\":\"white\",\"linecolor\":\"white\",\"minorgridcolor\":\"white\",\"startlinecolor\":\"#2a3f5f\"},\"type\":\"carpet\"}],\"choropleth\":[{\"colorbar\":{\"outlinewidth\":0,\"ticks\":\"\"},\"type\":\"choropleth\"}],\"contour\":[{\"colorbar\":{\"outlinewidth\":0,\"ticks\":\"\"},\"colorscale\":[[0.0,\"#0d0887\"],[0.1111111111111111,\"#46039f\"],[0.2222222222222222,\"#7201a8\"],[0.3333333333333333,\"#9c179e\"],[0.4444444444444444,\"#bd3786\"],[0.5555555555555556,\"#d8576b\"],[0.6666666666666666,\"#ed7953\"],[0.7777777777777778,\"#fb9f3a\"],[0.8888888888888888,\"#fdca26\"],[1.0,\"#f0f921\"]],\"type\":\"contour\"}],\"contourcarpet\":[{\"colorbar\":{\"outlinewidth\":0,\"ticks\":\"\"},\"type\":\"contourcarpet\"}],\"heatmap\":[{\"colorbar\":{\"outlinewidth\":0,\"ticks\":\"\"},\"colorscale\":[[0.0,\"#0d0887\"],[0.1111111111111111,\"#46039f\"],[0.2222222222222222,\"#7201a8\"],[0.3333333333333333,\"#9c179e\"],[0.4444444444444444,\"#bd3786\"],[0.5555555555555556,\"#d8576b\"],[0.6666666666666666,\"#ed7953\"],[0.7777777777777778,\"#fb9f3a\"],[0.8888888888888888,\"#fdca26\"],[1.0,\"#f0f921\"]],\"type\":\"heatmap\"}],\"heatmapgl\":[{\"colorbar\":{\"outlinewidth\":0,\"ticks\":\"\"},\"colorscale\":[[0.0,\"#0d0887\"],[0.1111111111111111,\"#46039f\"],[0.2222222222222222,\"#7201a8\"],[0.3333333333333333,\"#9c179e\"],[0.4444444444444444,\"#bd3786\"],[0.5555555555555556,\"#d8576b\"],[0.6666666666666666,\"#ed7953\"],[0.7777777777777778,\"#fb9f3a\"],[0.8888888888888888,\"#fdca26\"],[1.0,\"#f0f921\"]],\"type\":\"heatmapgl\"}],\"histogram\":[{\"marker\":{\"pattern\":{\"fillmode\":\"overlay\",\"size\":10,\"solidity\":0.2}},\"type\":\"histogram\"}],\"histogram2d\":[{\"colorbar\":{\"outlinewidth\":0,\"ticks\":\"\"},\"colorscale\":[[0.0,\"#0d0887\"],[0.1111111111111111,\"#46039f\"],[0.2222222222222222,\"#7201a8\"],[0.3333333333333333,\"#9c179e\"],[0.4444444444444444,\"#bd3786\"],[0.5555555555555556,\"#d8576b\"],[0.6666666666666666,\"#ed7953\"],[0.7777777777777778,\"#fb9f3a\"],[0.8888888888888888,\"#fdca26\"],[1.0,\"#f0f921\"]],\"type\":\"histogram2d\"}],\"histogram2dcontour\":[{\"colorbar\":{\"outlinewidth\":0,\"ticks\":\"\"},\"colorscale\":[[0.0,\"#0d0887\"],[0.1111111111111111,\"#46039f\"],[0.2222222222222222,\"#7201a8\"],[0.3333333333333333,\"#9c179e\"],[0.4444444444444444,\"#bd3786\"],[0.5555555555555556,\"#d8576b\"],[0.6666666666666666,\"#ed7953\"],[0.7777777777777778,\"#fb9f3a\"],[0.8888888888888888,\"#fdca26\"],[1.0,\"#f0f921\"]],\"type\":\"histogram2dcontour\"}],\"mesh3d\":[{\"colorbar\":{\"outlinewidth\":0,\"ticks\":\"\"},\"type\":\"mesh3d\"}],\"parcoords\":[{\"line\":{\"colorbar\":{\"outlinewidth\":0,\"ticks\":\"\"}},\"type\":\"parcoords\"}],\"pie\":[{\"automargin\":true,\"type\":\"pie\"}],\"scatter\":[{\"marker\":{\"colorbar\":{\"outlinewidth\":0,\"ticks\":\"\"}},\"type\":\"scatter\"}],\"scatter3d\":[{\"line\":{\"colorbar\":{\"outlinewidth\":0,\"ticks\":\"\"}},\"marker\":{\"colorbar\":{\"outlinewidth\":0,\"ticks\":\"\"}},\"type\":\"scatter3d\"}],\"scattercarpet\":[{\"marker\":{\"colorbar\":{\"outlinewidth\":0,\"ticks\":\"\"}},\"type\":\"scattercarpet\"}],\"scattergeo\":[{\"marker\":{\"colorbar\":{\"outlinewidth\":0,\"ticks\":\"\"}},\"type\":\"scattergeo\"}],\"scattergl\":[{\"marker\":{\"colorbar\":{\"outlinewidth\":0,\"ticks\":\"\"}},\"type\":\"scattergl\"}],\"scattermapbox\":[{\"marker\":{\"colorbar\":{\"outlinewidth\":0,\"ticks\":\"\"}},\"type\":\"scattermapbox\"}],\"scatterpolar\":[{\"marker\":{\"colorbar\":{\"outlinewidth\":0,\"ticks\":\"\"}},\"type\":\"scatterpolar\"}],\"scatterpolargl\":[{\"marker\":{\"colorbar\":{\"outlinewidth\":0,\"ticks\":\"\"}},\"type\":\"scatterpolargl\"}],\"scatterternary\":[{\"marker\":{\"colorbar\":{\"outlinewidth\":0,\"ticks\":\"\"}},\"type\":\"scatterternary\"}],\"surface\":[{\"colorbar\":{\"outlinewidth\":0,\"ticks\":\"\"},\"colorscale\":[[0.0,\"#0d0887\"],[0.1111111111111111,\"#46039f\"],[0.2222222222222222,\"#7201a8\"],[0.3333333333333333,\"#9c179e\"],[0.4444444444444444,\"#bd3786\"],[0.5555555555555556,\"#d8576b\"],[0.6666666666666666,\"#ed7953\"],[0.7777777777777778,\"#fb9f3a\"],[0.8888888888888888,\"#fdca26\"],[1.0,\"#f0f921\"]],\"type\":\"surface\"}],\"table\":[{\"cells\":{\"fill\":{\"color\":\"#EBF0F8\"},\"line\":{\"color\":\"white\"}},\"header\":{\"fill\":{\"color\":\"#C8D4E3\"},\"line\":{\"color\":\"white\"}},\"type\":\"table\"}]},\"layout\":{\"annotationdefaults\":{\"arrowcolor\":\"#2a3f5f\",\"arrowhead\":0,\"arrowwidth\":1},\"autotypenumbers\":\"strict\",\"coloraxis\":{\"colorbar\":{\"outlinewidth\":0,\"ticks\":\"\"}},\"colorscale\":{\"diverging\":[[0,\"#8e0152\"],[0.1,\"#c51b7d\"],[0.2,\"#de77ae\"],[0.3,\"#f1b6da\"],[0.4,\"#fde0ef\"],[0.5,\"#f7f7f7\"],[0.6,\"#e6f5d0\"],[0.7,\"#b8e186\"],[0.8,\"#7fbc41\"],[0.9,\"#4d9221\"],[1,\"#276419\"]],\"sequential\":[[0.0,\"#0d0887\"],[0.1111111111111111,\"#46039f\"],[0.2222222222222222,\"#7201a8\"],[0.3333333333333333,\"#9c179e\"],[0.4444444444444444,\"#bd3786\"],[0.5555555555555556,\"#d8576b\"],[0.6666666666666666,\"#ed7953\"],[0.7777777777777778,\"#fb9f3a\"],[0.8888888888888888,\"#fdca26\"],[1.0,\"#f0f921\"]],\"sequentialminus\":[[0.0,\"#0d0887\"],[0.1111111111111111,\"#46039f\"],[0.2222222222222222,\"#7201a8\"],[0.3333333333333333,\"#9c179e\"],[0.4444444444444444,\"#bd3786\"],[0.5555555555555556,\"#d8576b\"],[0.6666666666666666,\"#ed7953\"],[0.7777777777777778,\"#fb9f3a\"],[0.8888888888888888,\"#fdca26\"],[1.0,\"#f0f921\"]]},\"colorway\":[\"#636efa\",\"#EF553B\",\"#00cc96\",\"#ab63fa\",\"#FFA15A\",\"#19d3f3\",\"#FF6692\",\"#B6E880\",\"#FF97FF\",\"#FECB52\"],\"font\":{\"color\":\"#2a3f5f\"},\"geo\":{\"bgcolor\":\"white\",\"lakecolor\":\"white\",\"landcolor\":\"#E5ECF6\",\"showlakes\":true,\"showland\":true,\"subunitcolor\":\"white\"},\"hoverlabel\":{\"align\":\"left\"},\"hovermode\":\"closest\",\"mapbox\":{\"style\":\"light\"},\"paper_bgcolor\":\"white\",\"plot_bgcolor\":\"#E5ECF6\",\"polar\":{\"angularaxis\":{\"gridcolor\":\"white\",\"linecolor\":\"white\",\"ticks\":\"\"},\"bgcolor\":\"#E5ECF6\",\"radialaxis\":{\"gridcolor\":\"white\",\"linecolor\":\"white\",\"ticks\":\"\"}},\"scene\":{\"xaxis\":{\"backgroundcolor\":\"#E5ECF6\",\"gridcolor\":\"white\",\"gridwidth\":2,\"linecolor\":\"white\",\"showbackground\":true,\"ticks\":\"\",\"zerolinecolor\":\"white\"},\"yaxis\":{\"backgroundcolor\":\"#E5ECF6\",\"gridcolor\":\"white\",\"gridwidth\":2,\"linecolor\":\"white\",\"showbackground\":true,\"ticks\":\"\",\"zerolinecolor\":\"white\"},\"zaxis\":{\"backgroundcolor\":\"#E5ECF6\",\"gridcolor\":\"white\",\"gridwidth\":2,\"linecolor\":\"white\",\"showbackground\":true,\"ticks\":\"\",\"zerolinecolor\":\"white\"}},\"shapedefaults\":{\"line\":{\"color\":\"#2a3f5f\"}},\"ternary\":{\"aaxis\":{\"gridcolor\":\"white\",\"linecolor\":\"white\",\"ticks\":\"\"},\"baxis\":{\"gridcolor\":\"white\",\"linecolor\":\"white\",\"ticks\":\"\"},\"bgcolor\":\"#E5ECF6\",\"caxis\":{\"gridcolor\":\"white\",\"linecolor\":\"white\",\"ticks\":\"\"}},\"title\":{\"x\":0.05},\"xaxis\":{\"automargin\":true,\"gridcolor\":\"white\",\"linecolor\":\"white\",\"ticks\":\"\",\"title\":{\"standoff\":15},\"zerolinecolor\":\"white\",\"zerolinewidth\":2},\"yaxis\":{\"automargin\":true,\"gridcolor\":\"white\",\"linecolor\":\"white\",\"ticks\":\"\",\"title\":{\"standoff\":15},\"zerolinecolor\":\"white\",\"zerolinewidth\":2}}},\"title\":{\"font\":{\"color\":\"#4D5663\"}},\"xaxis\":{\"gridcolor\":\"#E1E5ED\",\"showgrid\":true,\"tickfont\":{\"color\":\"#4D5663\"},\"title\":{\"font\":{\"color\":\"#4D5663\"},\"text\":\"\"},\"zerolinecolor\":\"#E1E5ED\"},\"yaxis\":{\"gridcolor\":\"#E1E5ED\",\"showgrid\":true,\"tickfont\":{\"color\":\"#4D5663\"},\"title\":{\"font\":{\"color\":\"#4D5663\"},\"text\":\"\"},\"zerolinecolor\":\"#E1E5ED\"}},                        {\"showLink\": true, \"linkText\": \"Export to plot.ly\", \"plotlyServerURL\": \"https://plot.ly\", \"responsive\": true}                    ).then(function(){\n",
       "                            \n",
       "var gd = document.getElementById('c8116d50-8017-4baa-84e9-afcbf1c1d149');\n",
       "var x = new MutationObserver(function (mutations, observer) {{\n",
       "        var display = window.getComputedStyle(gd).display;\n",
       "        if (!display || display === 'none') {{\n",
       "            console.log([gd, 'removed!']);\n",
       "            Plotly.purge(gd);\n",
       "            observer.disconnect();\n",
       "        }}\n",
       "}});\n",
       "\n",
       "// Listen for the removal of the full notebook cells\n",
       "var notebookContainer = gd.closest('#notebook-container');\n",
       "if (notebookContainer) {{\n",
       "    x.observe(notebookContainer, {childList: true});\n",
       "}}\n",
       "\n",
       "// Listen for the clearing of the current output cell\n",
       "var outputEl = gd.closest('.output');\n",
       "if (outputEl) {{\n",
       "    x.observe(outputEl, {childList: true});\n",
       "}}\n",
       "\n",
       "                        })                };                });            </script>        </div>"
      ]
     },
     "metadata": {},
     "output_type": "display_data"
    }
   ],
   "source": [
    "mean_IC_df.iplot('box')"
   ]
  },
  {
   "cell_type": "code",
   "execution_count": 31,
   "id": "c2a01322-d96b-4e39-85e8-039a58c8060f",
   "metadata": {},
   "outputs": [
    {
     "data": {
      "application/vnd.plotly.v1+json": {
       "config": {
        "linkText": "Export to plot.ly",
        "plotlyServerURL": "https://plot.ly",
        "showLink": true
       },
       "data": [
        {
         "boxpoints": false,
         "line": {
          "width": 1.3
         },
         "marker": {
          "color": "rgba(255, 153, 51, 1.0)"
         },
         "name": "fwd_rtn_1_real",
         "orientation": "v",
         "type": "box",
         "y": [
          -1.5601842513821518,
          -2.758004891506442,
          -3.633193926653139,
          -3.2874304961442236,
          2.6583282092052727,
          -3.249284807569881,
          0.3180328741768607,
          0.2997681916532422,
          0.1583484290247809,
          -3.2834471334442736,
          -1.8760946526028268,
          -3.301113981782242,
          -2.878954881700431,
          -2.3521694672568896,
          -3.039790594474302,
          0.2787637619196361,
          -3.403545475879631,
          -1.1616722904793177,
          0.051034519465991704,
          -2.5612439146475747,
          -1.5159205460843668,
          -1.4210799871673228,
          -2.844146068851467,
          0.6432892956806703,
          -2.729748221754068,
          -2.2902169742776244,
          -2.6678783419919094,
          -3.150261778188434,
          1.0459635913050394,
          -2.403130984342645,
          -0.9300522552216963,
          0.3318506503627075,
          -0.6890423626679313,
          -3.1033159419464584,
          0.6225478428383988,
          -3.5913525666967967,
          0.29309562716944565,
          -2.6342021584780464,
          -0.03914960000280189,
          -3.2919966244016328,
          -3.1196097875110547,
          -1.1704532038547144,
          -3.0679604661505886,
          -1.983813535371706,
          -2.4526791012118054,
          -2.5496210282885285,
          -3.176963639173102,
          -3.6930981651585633,
          -2.9802716638722386,
          0.34013051147763446,
          -2.638258600812388,
          -3.22964570550799,
          -2.458834308090648,
          -2.6037071778953615,
          -3.580249689805823,
          -0.4242812262055971,
          0.3391688905628935,
          -2.4450947660299636,
          -3.760681611970166,
          -2.7316915691050796,
          -3.190234368343882,
          -3.0259365991710827,
          -3.5056884707509766,
          -3.08415660499213,
          0.8325406829419204,
          -3.1295472455722093,
          -1.1616722904793177,
          -0.07784592590980988,
          -3.1812603882968844,
          -3.0268151570018524,
          -2.8933518024507885,
          -3.4271790324683744,
          -3.075296727018474,
          1.9597363343087064,
          -3.0223871520767194,
          -3.669800875804037,
          -3.064074805644813,
          -2.809406161568524,
          -3.039790594474302,
          -0.5302077527254305,
          -2.784151300543232,
          -3.5524588882425117,
          -2.815407226575325,
          -1.2162304325505189,
          -3.2179098541844398,
          -3.015397142772504,
          0.18491492215532104,
          2.743301645974576,
          -1.9566524268663181,
          -3.4518458322004113,
          0.3837117144281953,
          -2.3664922932408694,
          -2.9017782199992315,
          -2.9759612129074107,
          -0.227073967998649,
          -1.048104440811754,
          -3.0678617846452907,
          -3.146939839023056,
          -2.439441109211142,
          -2.655252971397181,
          -3.043594973065081,
          -3.2518197595432214,
          -3.2233557605706284,
          -2.6759997371750077,
          -2.567313009911872,
          -2.9650594982863696,
          -2.9225355987728214,
          -2.8575984825889105,
          1.011648572861618,
          -0.8891666145258131,
          -1.1702768238445578,
          0.5729394513473615,
          -1.6060910205489924,
          2.956114022446973,
          -2.935236266914756,
          -3.5736630524142328,
          -3.064074805644813,
          2.078260079838912,
          -0.3544308595100722,
          -2.2583172946306633,
          0.19801943974747,
          -3.544682787993965,
          -2.4988711105666854,
          -2.8274718144058264,
          -2.213636844055607,
          -2.643209671828574,
          -2.6995068409762184,
          -3.1467017941976994,
          -2.0011375927270656,
          -3.663312871810521,
          -3.3560244781566255
         ]
        },
        {
         "boxpoints": false,
         "line": {
          "width": 1.3
         },
         "marker": {
          "color": "rgba(55, 128, 191, 1.0)"
         },
         "name": "fwd_rtn_5_real",
         "orientation": "v",
         "type": "box",
         "y": [
          -1.721543870053089,
          -4.868019482649625,
          -4.4834117422227875,
          -4.232822033001442,
          3.715123774144827,
          -4.039801106044447,
          0.2294569484820835,
          0.31850354520178675,
          -0.025629385092502042,
          -4.072708025462987,
          -2.294156093926298,
          -4.045127161947286,
          -3.3692733648282363,
          -2.7787774064150432,
          -4.802390988931814,
          0.2918448336699936,
          -4.171876763262823,
          -4.731162800524222,
          -0.09094602850878176,
          -3.5334042185436862,
          -1.834122690038181,
          -1.5346264294323972,
          -4.3416005187476685,
          0.33419092423008223,
          -4.534179028079591,
          -2.8326493937217507,
          -4.248456466282298,
          -3.9036243666709134,
          4.551788118287307,
          -3.0570724071410607,
          -1.3139217439582636,
          0.21886149175640016,
          -1.0086172691539936,
          -4.648949637666528,
          0.6787055337685772,
          -4.4796152027265865,
          0.4456829707672814,
          -3.1207293774587637,
          0.006308137043794131,
          -4.056044566573227,
          -3.8858129713056706,
          -4.740683650544025,
          -3.852630430142308,
          -2.3069923785776933,
          -3.3846470647169586,
          -3.213409932077953,
          -4.402966487074786,
          -4.53026598407185,
          -3.849947983988643,
          0.5007724772468358,
          -3.12548226416295,
          -4.432224786456248,
          -3.3110690019263287,
          -3.683347723861505,
          -4.342564468022722,
          -0.3139716484852196,
          0.3466712562212873,
          -3.1160143484352445,
          -4.567014801420241,
          -4.519238385281827,
          -3.9633583023602728,
          -4.679207800666815,
          -4.2951362307373895,
          -3.924713105220582,
          1.1129190913661988,
          -3.8472661291716377,
          -4.731162800524222,
          -0.0960661484540163,
          -4.000447655994057,
          -4.67059323964778,
          -5.221726170995894,
          -4.18178372393763,
          -3.7962394090125797,
          2.584231899826103,
          -3.8055702657318653,
          -4.483252125597074,
          -3.7045602076810935,
          -4.817803534830235,
          -4.802390988931814,
          -0.8232595664158724,
          -3.172459548280652,
          -4.3246012978388135,
          -3.935382185191729,
          -1.8944110864257895,
          -4.011436932155258,
          -3.9158504153020344,
          0.1157061480609206,
          4.216400809872288,
          -2.259765172817286,
          -4.264127562072966,
          0.12488143195904744,
          -3.116923970234989,
          -4.4255145578855775,
          -4.965101688999787,
          -0.2673984083849139,
          -4.562464198009274,
          -3.7205490745778773,
          -3.9275489268711268,
          -2.8968353974510714,
          -3.726225240948509,
          -3.7631444900758058,
          -4.018918306324814,
          -3.9730259657220834,
          -4.633806170224299,
          -4.3669350879172715,
          -4.7375493863567195,
          -3.9557518376050163,
          -3.4241376974759112,
          4.37491888061784,
          -0.6123045844586463,
          -4.4809623439324495,
          1.3497268217657188,
          -2.0442236546532344,
          4.860820149649017,
          -4.73300225768199,
          -4.309557744955208,
          -3.7045602076810935,
          2.663645191013915,
          -0.2544820044493006,
          -2.334028987821579,
          0.14914890886260468,
          -4.422357440864993,
          -3.0716803135357975,
          -3.8183816686832475,
          -4.975158650178526,
          -4.120742458960303,
          -4.432404434431826,
          -3.9280118510552677,
          -2.323798609372142,
          -4.516327165628446,
          -4.306146127957197
         ]
        },
        {
         "boxpoints": false,
         "line": {
          "width": 1.3
         },
         "marker": {
          "color": "rgba(50, 171, 96, 1.0)"
         },
         "name": "fwd_rtn_10_real",
         "orientation": "v",
         "type": "box",
         "y": [
          -2.107163153868064,
          -5.2399229837951635,
          -4.589122979046078,
          -4.230960589948148,
          4.051830803899954,
          -4.1847811998630355,
          0.2457200197180817,
          0.053704366349987785,
          -0.14490754974636488,
          -4.235714904163679,
          -2.831563258675586,
          -4.1230844510347975,
          -3.7630982662282904,
          -3.455949955035298,
          -5.044836624291999,
          0.24803363872365777,
          -4.305222205874965,
          -5.5880488422780745,
          -0.15657913690476363,
          -3.6804447000668588,
          -2.0193757724638304,
          -1.7975713108952103,
          -4.250936015463088,
          0.14751597311492295,
          -4.866332074926609,
          -3.47755985428709,
          -4.786949134608203,
          -3.979269730374092,
          5.322014368448813,
          -2.9339271397065594,
          -1.557132387906841,
          0.21268768848074837,
          -1.1640815523324024,
          -4.837564693080545,
          0.6212671706759002,
          -4.5860271675016095,
          0.272170970907033,
          -3.258132573289175,
          0.007435270401307619,
          -4.130317916194762,
          -3.992402306858949,
          -5.650819261007826,
          -4.042812547197606,
          -2.7887950522319986,
          -3.55900417828966,
          -3.8097694449661232,
          -4.297331742343038,
          -4.623871416527937,
          -3.791721641773563,
          0.37296133757685224,
          -3.174281383138788,
          -4.578915466519896,
          -3.6708884116707416,
          -3.978153054495711,
          -4.460075241822919,
          -0.32686348392743003,
          0.0929874097160485,
          -3.701189928964932,
          -4.649491195438772,
          -4.830630186207863,
          -4.1284866936365106,
          -4.927872995638521,
          -4.451966280810141,
          -4.083018145798011,
          1.1424149039438727,
          -3.910155676026758,
          -5.5880488422780745,
          -0.12894993513069758,
          -4.098582057560431,
          -4.934245744121868,
          -5.04216319622016,
          -4.2894337343454625,
          -3.9102873179806172,
          3.0978865898949537,
          -3.926179320881188,
          -4.588755022585461,
          -3.7686085631976862,
          -4.92563412598893,
          -5.044836624291999,
          -0.6556017013185184,
          -3.5600628563798855,
          -4.475143105313813,
          -3.536669662324245,
          -2.065967166464163,
          -4.1179587823049735,
          -4.392523219399821,
          0.11324482773833869,
          4.392352253052754,
          -2.6836556975881316,
          -4.412507342486601,
          -0.07326140528659957,
          -3.731281814241966,
          -4.740221723243315,
          -5.066485585978639,
          -0.28404117334639317,
          -5.351134096634255,
          -3.7963838083092543,
          -4.099072209776513,
          -3.588785574595976,
          -4.357317140424699,
          -3.8398545041352157,
          -4.159043888537571,
          -4.035112820425226,
          -4.9653052906245305,
          -4.081226814757551,
          -4.797578046975423,
          -4.0556537399410635,
          -3.516663920163459,
          4.896001759612498,
          -0.5271961517938892,
          -5.208959664531173,
          0.4647102100513837,
          -2.508070327396571,
          4.977224880965951,
          -4.857729530239,
          -4.47152882951632,
          -3.7686085631976862,
          3.1242196088457255,
          -0.2769918927593861,
          -2.5400556123104066,
          0.13167423632673342,
          -4.536855764218875,
          -3.721205473333264,
          -4.081728475906326,
          -5.619768938345584,
          -4.449709000298672,
          -4.7723279048614655,
          -4.095661256356686,
          -2.8157935083444445,
          -4.613431832006027,
          -4.529360165008476
         ]
        },
        {
         "boxpoints": false,
         "line": {
          "width": 1.3
         },
         "marker": {
          "color": "rgba(128, 0, 128, 1.0)"
         },
         "name": "fwd_rtn_20_real",
         "orientation": "v",
         "type": "box",
         "y": [
          -2.4258902522184003,
          -5.054596752052243,
          -4.440863915901524,
          -4.290762123067085,
          4.194843563276177,
          -4.169253908902725,
          0.30215423078475717,
          -0.24303584945945045,
          -0.3795538967208511,
          -4.2114420463677735,
          -3.0884958190449816,
          -4.078362099119107,
          -3.940232325045792,
          -3.9426948368652286,
          -4.976164672231779,
          0.22649153986759088,
          -4.258922945271564,
          -5.646766539972416,
          -0.1933037135717405,
          -3.2525736297292536,
          -2.107378986022019,
          -2.1707495352584996,
          -4.110588485334797,
          -0.010004510419002455,
          -5.088954773132785,
          -3.8428334942952707,
          -4.822418619299755,
          -3.9557062810742782,
          5.1965665584965715,
          -2.549259793455324,
          -1.6401640670098498,
          0.27390180507904005,
          -1.237321265902904,
          -4.793543477504446,
          0.6160434480695167,
          -4.437562470059914,
          -0.007842966205085424,
          -3.370255351042769,
          -0.005968763066402799,
          -4.0877468491411655,
          -3.9398351126110622,
          -5.711475272412798,
          -4.083035042560962,
          -3.1249536876070785,
          -3.823621794359936,
          -3.9792722302160297,
          -3.6734283367492844,
          -4.463046330738844,
          -3.484922934716688,
          0.1125375209942919,
          -3.2471807198370795,
          -4.539739773097272,
          -3.9849148497336135,
          -4.182449540237744,
          -4.3640557543549825,
          -0.39358409977115055,
          -0.20378872662815992,
          -3.821106833733766,
          -4.476547124530287,
          -5.062566257847418,
          -4.183807185645828,
          -4.9924161656759605,
          -4.370694673584857,
          -4.0573415220410265,
          0.9672727500743149,
          -3.871779294732561,
          -5.646766539972416,
          -0.20314691511152744,
          -4.0361717064296645,
          -4.9873566847260244,
          -4.90362523887006,
          -4.2291130735142275,
          -3.8945113782329264,
          3.218691986685635,
          -3.9612723384407658,
          -4.44218361649032,
          -3.776514572035564,
          -4.903269945375853,
          -4.976164672231779,
          -0.44301205415935085,
          -3.853785138451946,
          -4.378385782128447,
          -2.9179456825871792,
          -1.9802640240829703,
          -4.115042655020426,
          -4.523314662378456,
          0.11473839958611612,
          4.008957136458296,
          -3.0260004183090374,
          -4.348215199016294,
          -0.20736471417491711,
          -4.221521718491655,
          -4.715624135880177,
          -5.1050385583729945,
          -0.3211948984991605,
          -5.2614633166741225,
          -3.7756779403517924,
          -4.115455086604265,
          -3.7935878146623163,
          -4.476795078095922,
          -3.82322822043442,
          -4.149962205310478,
          -4.001397775135799,
          -5.131734661708047,
          -3.3623345254220043,
          -4.703225674977412,
          -3.947916991119395,
          -3.0828983818466313,
          4.6608757349513805,
          -0.4454405101253066,
          -5.259387239292578,
          -0.543430242163693,
          -2.678391789532626,
          4.913371011043401,
          -4.913536422344092,
          -4.412792801276763,
          -3.776514572035564,
          3.5090703691462775,
          -0.3627420696397535,
          -2.360957575268526,
          0.14164784976061898,
          -4.405501977667967,
          -3.9343678884379734,
          -4.063382421987887,
          -5.715321844803409,
          -4.64265328165171,
          -5.0055553198191065,
          -4.11379694177475,
          -3.1479444392105718,
          -4.455974588707982,
          -4.550753134828219
         ]
        },
        {
         "boxpoints": false,
         "line": {
          "width": 1.3
         },
         "marker": {
          "color": "rgba(219, 64, 82, 1.0)"
         },
         "name": "fwd_rtn_50_real",
         "orientation": "v",
         "type": "box",
         "y": [
          -2.9087836145677923,
          -4.660751744228163,
          -4.267656489227786,
          -4.923312596987377,
          4.428146685554995,
          -4.134694671161518,
          0.39346901082815,
          -0.4621992314060313,
          -0.3019624746353522,
          -4.165142898648232,
          -2.513947777246419,
          -4.076383223144883,
          -4.499043428331715,
          -4.440855369636236,
          -4.576886084843712,
          0.31144046255999236,
          -4.192756114509298,
          -5.628114618559568,
          -0.25379977680947174,
          -2.551805815133831,
          -2.5677929723976334,
          -1.973559388969604,
          -3.535761821556073,
          -0.2178855407165082,
          -5.232841667763292,
          -4.4117490791229494,
          -4.563925018664441,
          -4.01878650894714,
          5.023748477645063,
          -2.553415501551347,
          -1.5700555409591699,
          0.34351700718820305,
          -1.3511740261313645,
          -4.7223733745629195,
          0.7567415304305974,
          -4.265181621899939,
          -0.3064180259707991,
          -3.544052509664086,
          -0.11659926570258798,
          -4.105625291746531,
          -3.99073457071862,
          -5.618867956127541,
          -4.091842846378867,
          -3.7921049545912617,
          -4.189462174442542,
          -3.2343505603606295,
          -2.4804369558173898,
          -4.279957737246926,
          -2.805416649691446,
          -0.08919060696145864,
          -3.556710293742365,
          -5.090633731221502,
          -4.204090027678117,
          -4.325391616927171,
          -4.250312994159508,
          -0.49574939062035517,
          -0.4245236550845467,
          -2.9883355110109253,
          -4.28751878137462,
          -5.2488455413293424,
          -4.201172269248812,
          -4.01002974998978,
          -4.28073915694196,
          -4.072187321523539,
          0.578021891901696,
          -3.9260794859959525,
          -5.628114618559568,
          -0.25905653339846285,
          -4.051527781282557,
          -4.004753719006558,
          -5.354559994935234,
          -4.168621457846974,
          -3.9529019521994075,
          2.63388797227281,
          -4.037004867327016,
          -4.268925508905674,
          -3.910133970853806,
          -5.109666786306688,
          -4.576886084843712,
          -0.2893409446789886,
          -4.581765835660471,
          -4.27655410337539,
          -2.8608665293565005,
          -1.676442247159125,
          -4.143203092161133,
          -3.967532714472286,
          0.09345222752153035,
          2.81018676489153,
          -2.7953510647595006,
          -4.261454648187843,
          -0.2956711642588681,
          -4.721763711527782,
          -4.367399685866455,
          -5.270907532709266,
          -0.3290877243456474,
          -5.071796639119672,
          -3.9065779792013666,
          -4.105213239115746,
          -3.7963338710556305,
          -4.329190123123385,
          -3.90865800303,
          -4.124374484431841,
          -4.026251947928232,
          -4.690497637042291,
          -3.4963345442220444,
          -5.473423615379279,
          -3.6636744335391955,
          -2.69816616326636,
          4.419030706538498,
          -0.3392668433655456,
          -5.190674285898632,
          -0.7516851467702514,
          -2.0463403747379605,
          5.155974546506825,
          -5.048854959678999,
          -4.328321467710767,
          -3.910133970853806,
          3.634122716688921,
          -0.4562173756308306,
          -1.8102140705031493,
          0.05710462946471639,
          -4.247870094459449,
          -3.506234242790375,
          -3.77612735620971,
          -6.400507971667435,
          -3.2803817265332125,
          -5.321359383915457,
          -4.1069805127816394,
          -3.745906548544523,
          -4.275693868353301,
          -3.785761679183627
         ]
        },
        {
         "boxpoints": false,
         "line": {
          "width": 1.3
         },
         "marker": {
          "color": "rgba(0, 128, 128, 1.0)"
         },
         "name": "fwd_rtn_10_abs",
         "orientation": "v",
         "type": "box",
         "y": [
          -0.2699834479219249,
          -0.23626562803628348,
          -0.05524483932680003,
          -0.5248931772700477,
          0.14199339459974894,
          -0.002950223649587916,
          -0.0416227275694391,
          2.3993088674576,
          1.3568709782661084,
          0.002440165665432693,
          -0.23600658139321912,
          0.02210303007964282,
          -0.45216118573111325,
          -0.37413982662666195,
          -0.4915022786944802,
          -0.0627223425181354,
          -0.013626668376684069,
          -0.9315879581656076,
          2.1204486259364637,
          0.15350935772896726,
          -0.37530763580316756,
          -0.23594251371218325,
          -0.4674708872821917,
          3.9632665824864426,
          -0.5575805331993317,
          -0.3915372965099797,
          -0.22004330087866844,
          0.03849239132443064,
          0.944009925972509,
          -0.5840602583466934,
          -0.06109529085578185,
          1.2377682646685482,
          -0.015649399965546217,
          -0.517090105056763,
          0.525652520669196,
          -0.05689901880982397,
          3.172612122864923,
          0.13737318275740137,
          -0.8734771108711891,
          0.022586773176981895,
          0.059226901429050724,
          -0.8919505773713945,
          0.010928718817623874,
          -0.3218267671595604,
          0.3201874474422663,
          -0.312051564524821,
          -0.5222269047535801,
          -0.06391037629247838,
          -0.6528475210714286,
          3.8230113487289814,
          0.126750256451283,
          -0.5551162468631,
          -0.4443901685532351,
          -0.8148681658467825,
          -0.03939467942082907,
          -0.6689981928502232,
          2.737744908133709,
          -0.3378585696036173,
          -0.05394292595029438,
          -0.5697282203485504,
          0.03230522158575014,
          -0.47764245646303594,
          -0.04428918387516933,
          0.07267082176328027,
          -0.33592912529144664,
          0.008052064527942005,
          -0.9315879581656076,
          0.1691482509450056,
          0.040753023385702525,
          -0.4866659529130116,
          -0.6361356400224237,
          -0.004933791587227694,
          0.06749799706748308,
          -0.2515718382088593,
          0.08208736051667817,
          -0.05317227493346987,
          0.07034757260791709,
          -0.6225138532763702,
          -0.4915022786944802,
          -4.081962289339954,
          -0.45335676822727755,
          -0.048859575956580054,
          -0.6692073440779359,
          -0.212921190899783,
          0.011317042750606205,
          -0.44463142840932296,
          1.3658260666589346,
          0.5136554237798071,
          -0.28767373762135356,
          -0.04584902570304888,
          3.1851306551053993,
          -0.4375357812583922,
          -0.6889475127733296,
          -0.6151293607845384,
          -0.32806471198573994,
          -0.7142235096417126,
          0.07756370740003468,
          0.0074701334240814075,
          -0.3458226771218656,
          -0.42765304834612167,
          -0.001003916070298345,
          0.005474935475810503,
          0.031185580267743325,
          -0.85940941642916,
          -0.6609710348466762,
          -0.6496162046048746,
          -0.20967475657414084,
          -0.251670340775016,
          -0.06209045223151961,
          -0.02912676968794096,
          -0.8517552231765119,
          -0.3307852490503531,
          -0.26793074806745176,
          0.6105598675813565,
          -0.7862409129208001,
          -0.056229013929707514,
          0.07034757260791709,
          1.3605923002732663,
          -0.22989099040896474,
          -0.38321259942885866,
          1.6402570217753702,
          -0.04550035942978567,
          -0.3724977295462678,
          -0.4303138275219167,
          -0.7828397669267024,
          -0.40109115572452203,
          -0.5968739631398707,
          0.00902052466530447,
          -0.30241847037337566,
          -0.061539836331514976,
          -0.4735900073133076
         ]
        }
       ],
       "layout": {
        "autosize": true,
        "legend": {
         "bgcolor": "#FFFFFF",
         "font": {
          "color": "#4D5663"
         }
        },
        "paper_bgcolor": "#FFFFFF",
        "plot_bgcolor": "#FFFFFF",
        "template": {
         "data": {
          "bar": [
           {
            "error_x": {
             "color": "#2a3f5f"
            },
            "error_y": {
             "color": "#2a3f5f"
            },
            "marker": {
             "line": {
              "color": "#E5ECF6",
              "width": 0.5
             },
             "pattern": {
              "fillmode": "overlay",
              "size": 10,
              "solidity": 0.2
             }
            },
            "type": "bar"
           }
          ],
          "barpolar": [
           {
            "marker": {
             "line": {
              "color": "#E5ECF6",
              "width": 0.5
             },
             "pattern": {
              "fillmode": "overlay",
              "size": 10,
              "solidity": 0.2
             }
            },
            "type": "barpolar"
           }
          ],
          "carpet": [
           {
            "aaxis": {
             "endlinecolor": "#2a3f5f",
             "gridcolor": "white",
             "linecolor": "white",
             "minorgridcolor": "white",
             "startlinecolor": "#2a3f5f"
            },
            "baxis": {
             "endlinecolor": "#2a3f5f",
             "gridcolor": "white",
             "linecolor": "white",
             "minorgridcolor": "white",
             "startlinecolor": "#2a3f5f"
            },
            "type": "carpet"
           }
          ],
          "choropleth": [
           {
            "colorbar": {
             "outlinewidth": 0,
             "ticks": ""
            },
            "type": "choropleth"
           }
          ],
          "contour": [
           {
            "colorbar": {
             "outlinewidth": 0,
             "ticks": ""
            },
            "colorscale": [
             [
              0,
              "#0d0887"
             ],
             [
              0.1111111111111111,
              "#46039f"
             ],
             [
              0.2222222222222222,
              "#7201a8"
             ],
             [
              0.3333333333333333,
              "#9c179e"
             ],
             [
              0.4444444444444444,
              "#bd3786"
             ],
             [
              0.5555555555555556,
              "#d8576b"
             ],
             [
              0.6666666666666666,
              "#ed7953"
             ],
             [
              0.7777777777777778,
              "#fb9f3a"
             ],
             [
              0.8888888888888888,
              "#fdca26"
             ],
             [
              1,
              "#f0f921"
             ]
            ],
            "type": "contour"
           }
          ],
          "contourcarpet": [
           {
            "colorbar": {
             "outlinewidth": 0,
             "ticks": ""
            },
            "type": "contourcarpet"
           }
          ],
          "heatmap": [
           {
            "colorbar": {
             "outlinewidth": 0,
             "ticks": ""
            },
            "colorscale": [
             [
              0,
              "#0d0887"
             ],
             [
              0.1111111111111111,
              "#46039f"
             ],
             [
              0.2222222222222222,
              "#7201a8"
             ],
             [
              0.3333333333333333,
              "#9c179e"
             ],
             [
              0.4444444444444444,
              "#bd3786"
             ],
             [
              0.5555555555555556,
              "#d8576b"
             ],
             [
              0.6666666666666666,
              "#ed7953"
             ],
             [
              0.7777777777777778,
              "#fb9f3a"
             ],
             [
              0.8888888888888888,
              "#fdca26"
             ],
             [
              1,
              "#f0f921"
             ]
            ],
            "type": "heatmap"
           }
          ],
          "heatmapgl": [
           {
            "colorbar": {
             "outlinewidth": 0,
             "ticks": ""
            },
            "colorscale": [
             [
              0,
              "#0d0887"
             ],
             [
              0.1111111111111111,
              "#46039f"
             ],
             [
              0.2222222222222222,
              "#7201a8"
             ],
             [
              0.3333333333333333,
              "#9c179e"
             ],
             [
              0.4444444444444444,
              "#bd3786"
             ],
             [
              0.5555555555555556,
              "#d8576b"
             ],
             [
              0.6666666666666666,
              "#ed7953"
             ],
             [
              0.7777777777777778,
              "#fb9f3a"
             ],
             [
              0.8888888888888888,
              "#fdca26"
             ],
             [
              1,
              "#f0f921"
             ]
            ],
            "type": "heatmapgl"
           }
          ],
          "histogram": [
           {
            "marker": {
             "pattern": {
              "fillmode": "overlay",
              "size": 10,
              "solidity": 0.2
             }
            },
            "type": "histogram"
           }
          ],
          "histogram2d": [
           {
            "colorbar": {
             "outlinewidth": 0,
             "ticks": ""
            },
            "colorscale": [
             [
              0,
              "#0d0887"
             ],
             [
              0.1111111111111111,
              "#46039f"
             ],
             [
              0.2222222222222222,
              "#7201a8"
             ],
             [
              0.3333333333333333,
              "#9c179e"
             ],
             [
              0.4444444444444444,
              "#bd3786"
             ],
             [
              0.5555555555555556,
              "#d8576b"
             ],
             [
              0.6666666666666666,
              "#ed7953"
             ],
             [
              0.7777777777777778,
              "#fb9f3a"
             ],
             [
              0.8888888888888888,
              "#fdca26"
             ],
             [
              1,
              "#f0f921"
             ]
            ],
            "type": "histogram2d"
           }
          ],
          "histogram2dcontour": [
           {
            "colorbar": {
             "outlinewidth": 0,
             "ticks": ""
            },
            "colorscale": [
             [
              0,
              "#0d0887"
             ],
             [
              0.1111111111111111,
              "#46039f"
             ],
             [
              0.2222222222222222,
              "#7201a8"
             ],
             [
              0.3333333333333333,
              "#9c179e"
             ],
             [
              0.4444444444444444,
              "#bd3786"
             ],
             [
              0.5555555555555556,
              "#d8576b"
             ],
             [
              0.6666666666666666,
              "#ed7953"
             ],
             [
              0.7777777777777778,
              "#fb9f3a"
             ],
             [
              0.8888888888888888,
              "#fdca26"
             ],
             [
              1,
              "#f0f921"
             ]
            ],
            "type": "histogram2dcontour"
           }
          ],
          "mesh3d": [
           {
            "colorbar": {
             "outlinewidth": 0,
             "ticks": ""
            },
            "type": "mesh3d"
           }
          ],
          "parcoords": [
           {
            "line": {
             "colorbar": {
              "outlinewidth": 0,
              "ticks": ""
             }
            },
            "type": "parcoords"
           }
          ],
          "pie": [
           {
            "automargin": true,
            "type": "pie"
           }
          ],
          "scatter": [
           {
            "marker": {
             "colorbar": {
              "outlinewidth": 0,
              "ticks": ""
             }
            },
            "type": "scatter"
           }
          ],
          "scatter3d": [
           {
            "line": {
             "colorbar": {
              "outlinewidth": 0,
              "ticks": ""
             }
            },
            "marker": {
             "colorbar": {
              "outlinewidth": 0,
              "ticks": ""
             }
            },
            "type": "scatter3d"
           }
          ],
          "scattercarpet": [
           {
            "marker": {
             "colorbar": {
              "outlinewidth": 0,
              "ticks": ""
             }
            },
            "type": "scattercarpet"
           }
          ],
          "scattergeo": [
           {
            "marker": {
             "colorbar": {
              "outlinewidth": 0,
              "ticks": ""
             }
            },
            "type": "scattergeo"
           }
          ],
          "scattergl": [
           {
            "marker": {
             "colorbar": {
              "outlinewidth": 0,
              "ticks": ""
             }
            },
            "type": "scattergl"
           }
          ],
          "scattermapbox": [
           {
            "marker": {
             "colorbar": {
              "outlinewidth": 0,
              "ticks": ""
             }
            },
            "type": "scattermapbox"
           }
          ],
          "scatterpolar": [
           {
            "marker": {
             "colorbar": {
              "outlinewidth": 0,
              "ticks": ""
             }
            },
            "type": "scatterpolar"
           }
          ],
          "scatterpolargl": [
           {
            "marker": {
             "colorbar": {
              "outlinewidth": 0,
              "ticks": ""
             }
            },
            "type": "scatterpolargl"
           }
          ],
          "scatterternary": [
           {
            "marker": {
             "colorbar": {
              "outlinewidth": 0,
              "ticks": ""
             }
            },
            "type": "scatterternary"
           }
          ],
          "surface": [
           {
            "colorbar": {
             "outlinewidth": 0,
             "ticks": ""
            },
            "colorscale": [
             [
              0,
              "#0d0887"
             ],
             [
              0.1111111111111111,
              "#46039f"
             ],
             [
              0.2222222222222222,
              "#7201a8"
             ],
             [
              0.3333333333333333,
              "#9c179e"
             ],
             [
              0.4444444444444444,
              "#bd3786"
             ],
             [
              0.5555555555555556,
              "#d8576b"
             ],
             [
              0.6666666666666666,
              "#ed7953"
             ],
             [
              0.7777777777777778,
              "#fb9f3a"
             ],
             [
              0.8888888888888888,
              "#fdca26"
             ],
             [
              1,
              "#f0f921"
             ]
            ],
            "type": "surface"
           }
          ],
          "table": [
           {
            "cells": {
             "fill": {
              "color": "#EBF0F8"
             },
             "line": {
              "color": "white"
             }
            },
            "header": {
             "fill": {
              "color": "#C8D4E3"
             },
             "line": {
              "color": "white"
             }
            },
            "type": "table"
           }
          ]
         },
         "layout": {
          "annotationdefaults": {
           "arrowcolor": "#2a3f5f",
           "arrowhead": 0,
           "arrowwidth": 1
          },
          "autotypenumbers": "strict",
          "coloraxis": {
           "colorbar": {
            "outlinewidth": 0,
            "ticks": ""
           }
          },
          "colorscale": {
           "diverging": [
            [
             0,
             "#8e0152"
            ],
            [
             0.1,
             "#c51b7d"
            ],
            [
             0.2,
             "#de77ae"
            ],
            [
             0.3,
             "#f1b6da"
            ],
            [
             0.4,
             "#fde0ef"
            ],
            [
             0.5,
             "#f7f7f7"
            ],
            [
             0.6,
             "#e6f5d0"
            ],
            [
             0.7,
             "#b8e186"
            ],
            [
             0.8,
             "#7fbc41"
            ],
            [
             0.9,
             "#4d9221"
            ],
            [
             1,
             "#276419"
            ]
           ],
           "sequential": [
            [
             0,
             "#0d0887"
            ],
            [
             0.1111111111111111,
             "#46039f"
            ],
            [
             0.2222222222222222,
             "#7201a8"
            ],
            [
             0.3333333333333333,
             "#9c179e"
            ],
            [
             0.4444444444444444,
             "#bd3786"
            ],
            [
             0.5555555555555556,
             "#d8576b"
            ],
            [
             0.6666666666666666,
             "#ed7953"
            ],
            [
             0.7777777777777778,
             "#fb9f3a"
            ],
            [
             0.8888888888888888,
             "#fdca26"
            ],
            [
             1,
             "#f0f921"
            ]
           ],
           "sequentialminus": [
            [
             0,
             "#0d0887"
            ],
            [
             0.1111111111111111,
             "#46039f"
            ],
            [
             0.2222222222222222,
             "#7201a8"
            ],
            [
             0.3333333333333333,
             "#9c179e"
            ],
            [
             0.4444444444444444,
             "#bd3786"
            ],
            [
             0.5555555555555556,
             "#d8576b"
            ],
            [
             0.6666666666666666,
             "#ed7953"
            ],
            [
             0.7777777777777778,
             "#fb9f3a"
            ],
            [
             0.8888888888888888,
             "#fdca26"
            ],
            [
             1,
             "#f0f921"
            ]
           ]
          },
          "colorway": [
           "#636efa",
           "#EF553B",
           "#00cc96",
           "#ab63fa",
           "#FFA15A",
           "#19d3f3",
           "#FF6692",
           "#B6E880",
           "#FF97FF",
           "#FECB52"
          ],
          "font": {
           "color": "#2a3f5f"
          },
          "geo": {
           "bgcolor": "white",
           "lakecolor": "white",
           "landcolor": "#E5ECF6",
           "showlakes": true,
           "showland": true,
           "subunitcolor": "white"
          },
          "hoverlabel": {
           "align": "left"
          },
          "hovermode": "closest",
          "mapbox": {
           "style": "light"
          },
          "paper_bgcolor": "white",
          "plot_bgcolor": "#E5ECF6",
          "polar": {
           "angularaxis": {
            "gridcolor": "white",
            "linecolor": "white",
            "ticks": ""
           },
           "bgcolor": "#E5ECF6",
           "radialaxis": {
            "gridcolor": "white",
            "linecolor": "white",
            "ticks": ""
           }
          },
          "scene": {
           "xaxis": {
            "backgroundcolor": "#E5ECF6",
            "gridcolor": "white",
            "gridwidth": 2,
            "linecolor": "white",
            "showbackground": true,
            "ticks": "",
            "zerolinecolor": "white"
           },
           "yaxis": {
            "backgroundcolor": "#E5ECF6",
            "gridcolor": "white",
            "gridwidth": 2,
            "linecolor": "white",
            "showbackground": true,
            "ticks": "",
            "zerolinecolor": "white"
           },
           "zaxis": {
            "backgroundcolor": "#E5ECF6",
            "gridcolor": "white",
            "gridwidth": 2,
            "linecolor": "white",
            "showbackground": true,
            "ticks": "",
            "zerolinecolor": "white"
           }
          },
          "shapedefaults": {
           "line": {
            "color": "#2a3f5f"
           }
          },
          "ternary": {
           "aaxis": {
            "gridcolor": "white",
            "linecolor": "white",
            "ticks": ""
           },
           "baxis": {
            "gridcolor": "white",
            "linecolor": "white",
            "ticks": ""
           },
           "bgcolor": "#E5ECF6",
           "caxis": {
            "gridcolor": "white",
            "linecolor": "white",
            "ticks": ""
           }
          },
          "title": {
           "x": 0.05
          },
          "xaxis": {
           "automargin": true,
           "gridcolor": "white",
           "linecolor": "white",
           "ticks": "",
           "title": {
            "standoff": 15
           },
           "zerolinecolor": "white",
           "zerolinewidth": 2
          },
          "yaxis": {
           "automargin": true,
           "gridcolor": "white",
           "linecolor": "white",
           "ticks": "",
           "title": {
            "standoff": 15
           },
           "zerolinecolor": "white",
           "zerolinewidth": 2
          }
         }
        },
        "title": {
         "font": {
          "color": "#4D5663"
         }
        },
        "xaxis": {
         "autorange": true,
         "gridcolor": "#E1E5ED",
         "range": [
          -0.5,
          5.5
         ],
         "showgrid": true,
         "tickfont": {
          "color": "#4D5663"
         },
         "title": {
          "font": {
           "color": "#4D5663"
          },
          "text": ""
         },
         "type": "category",
         "zerolinecolor": "#E1E5ED"
        },
        "yaxis": {
         "autorange": true,
         "gridcolor": "#E1E5ED",
         "range": [
          -7.051759212785004,
          5.973265609566383
         ],
         "showgrid": true,
         "tickfont": {
          "color": "#4D5663"
         },
         "title": {
          "font": {
           "color": "#4D5663"
          },
          "text": ""
         },
         "type": "linear",
         "zerolinecolor": "#E1E5ED"
        }
       }
      },
      "image/png": "[encoded data removed]",
      "text/html": [
       "<div>                            <div id=\"6fb99d58-ea48-4ced-b030-d4fcf3a29d44\" class=\"plotly-graph-div\" style=\"height:525px; width:100%;\"></div>            <script type=\"text/javascript\">                require([\"plotly\"], function(Plotly) {                    window.PLOTLYENV=window.PLOTLYENV || {};\n",
       "                    window.PLOTLYENV.BASE_URL='https://plot.ly';                                    if (document.getElementById(\"6fb99d58-ea48-4ced-b030-d4fcf3a29d44\")) {                    Plotly.newPlot(                        \"6fb99d58-ea48-4ced-b030-d4fcf3a29d44\",                        [{\"boxpoints\":false,\"line\":{\"width\":1.3},\"marker\":{\"color\":\"rgba(255, 153, 51, 1.0)\"},\"name\":\"fwd_rtn_1_real\",\"orientation\":\"v\",\"type\":\"box\",\"y\":[-1.5601842513821518,-2.758004891506442,-3.633193926653139,-3.2874304961442236,2.6583282092052727,-3.249284807569881,0.3180328741768607,0.2997681916532422,0.1583484290247809,-3.2834471334442736,-1.8760946526028268,-3.301113981782242,-2.878954881700431,-2.3521694672568896,-3.039790594474302,0.2787637619196361,-3.403545475879631,-1.1616722904793177,0.051034519465991704,-2.5612439146475747,-1.5159205460843668,-1.4210799871673228,-2.844146068851467,0.6432892956806703,-2.729748221754068,-2.2902169742776244,-2.6678783419919094,-3.150261778188434,1.0459635913050394,-2.403130984342645,-0.9300522552216963,0.3318506503627075,-0.6890423626679313,-3.1033159419464584,0.6225478428383988,-3.5913525666967967,0.29309562716944565,-2.6342021584780464,-0.03914960000280189,-3.2919966244016328,-3.1196097875110547,-1.1704532038547144,-3.0679604661505886,-1.983813535371706,-2.4526791012118054,-2.5496210282885285,-3.176963639173102,-3.6930981651585633,-2.9802716638722386,0.34013051147763446,-2.638258600812388,-3.22964570550799,-2.458834308090648,-2.6037071778953615,-3.580249689805823,-0.4242812262055971,0.3391688905628935,-2.4450947660299636,-3.760681611970166,-2.7316915691050796,-3.190234368343882,-3.0259365991710827,-3.5056884707509766,-3.08415660499213,0.8325406829419204,-3.1295472455722093,-1.1616722904793177,-0.07784592590980988,-3.1812603882968844,-3.0268151570018524,-2.8933518024507885,-3.4271790324683744,-3.075296727018474,1.9597363343087064,-3.0223871520767194,-3.669800875804037,-3.064074805644813,-2.809406161568524,-3.039790594474302,-0.5302077527254305,-2.784151300543232,-3.5524588882425117,-2.815407226575325,-1.2162304325505189,-3.2179098541844398,-3.015397142772504,0.18491492215532104,2.743301645974576,-1.9566524268663181,-3.4518458322004113,0.3837117144281953,-2.3664922932408694,-2.9017782199992315,-2.9759612129074107,-0.227073967998649,-1.048104440811754,-3.0678617846452907,-3.146939839023056,-2.439441109211142,-2.655252971397181,-3.043594973065081,-3.2518197595432214,-3.2233557605706284,-2.6759997371750077,-2.567313009911872,-2.9650594982863696,-2.9225355987728214,-2.8575984825889105,1.011648572861618,-0.8891666145258131,-1.1702768238445578,0.5729394513473615,-1.6060910205489924,2.956114022446973,-2.935236266914756,-3.5736630524142328,-3.064074805644813,2.078260079838912,-0.3544308595100722,-2.2583172946306633,0.19801943974747,-3.544682787993965,-2.4988711105666854,-2.8274718144058264,-2.213636844055607,-2.643209671828574,-2.6995068409762184,-3.1467017941976994,-2.0011375927270656,-3.663312871810521,-3.3560244781566255]},{\"boxpoints\":false,\"line\":{\"width\":1.3},\"marker\":{\"color\":\"rgba(55, 128, 191, 1.0)\"},\"name\":\"fwd_rtn_5_real\",\"orientation\":\"v\",\"type\":\"box\",\"y\":[-1.721543870053089,-4.868019482649625,-4.4834117422227875,-4.232822033001442,3.715123774144827,-4.039801106044447,0.2294569484820835,0.31850354520178675,-0.025629385092502042,-4.072708025462987,-2.294156093926298,-4.045127161947286,-3.3692733648282363,-2.7787774064150432,-4.802390988931814,0.2918448336699936,-4.171876763262823,-4.731162800524222,-0.09094602850878176,-3.5334042185436862,-1.834122690038181,-1.5346264294323972,-4.3416005187476685,0.33419092423008223,-4.534179028079591,-2.8326493937217507,-4.248456466282298,-3.9036243666709134,4.551788118287307,-3.0570724071410607,-1.3139217439582636,0.21886149175640016,-1.0086172691539936,-4.648949637666528,0.6787055337685772,-4.4796152027265865,0.4456829707672814,-3.1207293774587637,0.006308137043794131,-4.056044566573227,-3.8858129713056706,-4.740683650544025,-3.852630430142308,-2.3069923785776933,-3.3846470647169586,-3.213409932077953,-4.402966487074786,-4.53026598407185,-3.849947983988643,0.5007724772468358,-3.12548226416295,-4.432224786456248,-3.3110690019263287,-3.683347723861505,-4.342564468022722,-0.3139716484852196,0.3466712562212873,-3.1160143484352445,-4.567014801420241,-4.519238385281827,-3.9633583023602728,-4.679207800666815,-4.2951362307373895,-3.924713105220582,1.1129190913661988,-3.8472661291716377,-4.731162800524222,-0.0960661484540163,-4.000447655994057,-4.67059323964778,-5.221726170995894,-4.18178372393763,-3.7962394090125797,2.584231899826103,-3.8055702657318653,-4.483252125597074,-3.7045602076810935,-4.817803534830235,-4.802390988931814,-0.8232595664158724,-3.172459548280652,-4.3246012978388135,-3.935382185191729,-1.8944110864257895,-4.011436932155258,-3.9158504153020344,0.1157061480609206,4.216400809872288,-2.259765172817286,-4.264127562072966,0.12488143195904744,-3.116923970234989,-4.4255145578855775,-4.965101688999787,-0.2673984083849139,-4.562464198009274,-3.7205490745778773,-3.9275489268711268,-2.8968353974510714,-3.726225240948509,-3.7631444900758058,-4.018918306324814,-3.9730259657220834,-4.633806170224299,-4.3669350879172715,-4.7375493863567195,-3.9557518376050163,-3.4241376974759112,4.37491888061784,-0.6123045844586463,-4.4809623439324495,1.3497268217657188,-2.0442236546532344,4.860820149649017,-4.73300225768199,-4.309557744955208,-3.7045602076810935,2.663645191013915,-0.2544820044493006,-2.334028987821579,0.14914890886260468,-4.422357440864993,-3.0716803135357975,-3.8183816686832475,-4.975158650178526,-4.120742458960303,-4.432404434431826,-3.9280118510552677,-2.323798609372142,-4.516327165628446,-4.306146127957197]},{\"boxpoints\":false,\"line\":{\"width\":1.3},\"marker\":{\"color\":\"rgba(50, 171, 96, 1.0)\"},\"name\":\"fwd_rtn_10_real\",\"orientation\":\"v\",\"type\":\"box\",\"y\":[-2.107163153868064,-5.2399229837951635,-4.589122979046078,-4.230960589948148,4.051830803899954,-4.1847811998630355,0.2457200197180817,0.053704366349987785,-0.14490754974636488,-4.235714904163679,-2.831563258675586,-4.1230844510347975,-3.7630982662282904,-3.455949955035298,-5.044836624291999,0.24803363872365777,-4.305222205874965,-5.5880488422780745,-0.15657913690476363,-3.6804447000668588,-2.0193757724638304,-1.7975713108952103,-4.250936015463088,0.14751597311492295,-4.866332074926609,-3.47755985428709,-4.786949134608203,-3.979269730374092,5.322014368448813,-2.9339271397065594,-1.557132387906841,0.21268768848074837,-1.1640815523324024,-4.837564693080545,0.6212671706759002,-4.5860271675016095,0.272170970907033,-3.258132573289175,0.007435270401307619,-4.130317916194762,-3.992402306858949,-5.650819261007826,-4.042812547197606,-2.7887950522319986,-3.55900417828966,-3.8097694449661232,-4.297331742343038,-4.623871416527937,-3.791721641773563,0.37296133757685224,-3.174281383138788,-4.578915466519896,-3.6708884116707416,-3.978153054495711,-4.460075241822919,-0.32686348392743003,0.0929874097160485,-3.701189928964932,-4.649491195438772,-4.830630186207863,-4.1284866936365106,-4.927872995638521,-4.451966280810141,-4.083018145798011,1.1424149039438727,-3.910155676026758,-5.5880488422780745,-0.12894993513069758,-4.098582057560431,-4.934245744121868,-5.04216319622016,-4.2894337343454625,-3.9102873179806172,3.0978865898949537,-3.926179320881188,-4.588755022585461,-3.7686085631976862,-4.92563412598893,-5.044836624291999,-0.6556017013185184,-3.5600628563798855,-4.475143105313813,-3.536669662324245,-2.065967166464163,-4.1179587823049735,-4.392523219399821,0.11324482773833869,4.392352253052754,-2.6836556975881316,-4.412507342486601,-0.07326140528659957,-3.731281814241966,-4.740221723243315,-5.066485585978639,-0.28404117334639317,-5.351134096634255,-3.7963838083092543,-4.099072209776513,-3.588785574595976,-4.357317140424699,-3.8398545041352157,-4.159043888537571,-4.035112820425226,-4.9653052906245305,-4.081226814757551,-4.797578046975423,-4.0556537399410635,-3.516663920163459,4.896001759612498,-0.5271961517938892,-5.208959664531173,0.4647102100513837,-2.508070327396571,4.977224880965951,-4.857729530239,-4.47152882951632,-3.7686085631976862,3.1242196088457255,-0.2769918927593861,-2.5400556123104066,0.13167423632673342,-4.536855764218875,-3.721205473333264,-4.081728475906326,-5.619768938345584,-4.449709000298672,-4.7723279048614655,-4.095661256356686,-2.8157935083444445,-4.613431832006027,-4.529360165008476]},{\"boxpoints\":false,\"line\":{\"width\":1.3},\"marker\":{\"color\":\"rgba(128, 0, 128, 1.0)\"},\"name\":\"fwd_rtn_20_real\",\"orientation\":\"v\",\"type\":\"box\",\"y\":[-2.4258902522184003,-5.054596752052243,-4.440863915901524,-4.290762123067085,4.194843563276177,-4.169253908902725,0.30215423078475717,-0.24303584945945045,-0.3795538967208511,-4.2114420463677735,-3.0884958190449816,-4.078362099119107,-3.940232325045792,-3.9426948368652286,-4.976164672231779,0.22649153986759088,-4.258922945271564,-5.646766539972416,-0.1933037135717405,-3.2525736297292536,-2.107378986022019,-2.1707495352584996,-4.110588485334797,-0.010004510419002455,-5.088954773132785,-3.8428334942952707,-4.822418619299755,-3.9557062810742782,5.1965665584965715,-2.549259793455324,-1.6401640670098498,0.27390180507904005,-1.237321265902904,-4.793543477504446,0.6160434480695167,-4.437562470059914,-0.007842966205085424,-3.370255351042769,-0.005968763066402799,-4.0877468491411655,-3.9398351126110622,-5.711475272412798,-4.083035042560962,-3.1249536876070785,-3.823621794359936,-3.9792722302160297,-3.6734283367492844,-4.463046330738844,-3.484922934716688,0.1125375209942919,-3.2471807198370795,-4.539739773097272,-3.9849148497336135,-4.182449540237744,-4.3640557543549825,-0.39358409977115055,-0.20378872662815992,-3.821106833733766,-4.476547124530287,-5.062566257847418,-4.183807185645828,-4.9924161656759605,-4.370694673584857,-4.0573415220410265,0.9672727500743149,-3.871779294732561,-5.646766539972416,-0.20314691511152744,-4.0361717064296645,-4.9873566847260244,-4.90362523887006,-4.2291130735142275,-3.8945113782329264,3.218691986685635,-3.9612723384407658,-4.44218361649032,-3.776514572035564,-4.903269945375853,-4.976164672231779,-0.44301205415935085,-3.853785138451946,-4.378385782128447,-2.9179456825871792,-1.9802640240829703,-4.115042655020426,-4.523314662378456,0.11473839958611612,4.008957136458296,-3.0260004183090374,-4.348215199016294,-0.20736471417491711,-4.221521718491655,-4.715624135880177,-5.1050385583729945,-0.3211948984991605,-5.2614633166741225,-3.7756779403517924,-4.115455086604265,-3.7935878146623163,-4.476795078095922,-3.82322822043442,-4.149962205310478,-4.001397775135799,-5.131734661708047,-3.3623345254220043,-4.703225674977412,-3.947916991119395,-3.0828983818466313,4.6608757349513805,-0.4454405101253066,-5.259387239292578,-0.543430242163693,-2.678391789532626,4.913371011043401,-4.913536422344092,-4.412792801276763,-3.776514572035564,3.5090703691462775,-0.3627420696397535,-2.360957575268526,0.14164784976061898,-4.405501977667967,-3.9343678884379734,-4.063382421987887,-5.715321844803409,-4.64265328165171,-5.0055553198191065,-4.11379694177475,-3.1479444392105718,-4.455974588707982,-4.550753134828219]},{\"boxpoints\":false,\"line\":{\"width\":1.3},\"marker\":{\"color\":\"rgba(219, 64, 82, 1.0)\"},\"name\":\"fwd_rtn_50_real\",\"orientation\":\"v\",\"type\":\"box\",\"y\":[-2.9087836145677923,-4.660751744228163,-4.267656489227786,-4.923312596987377,4.428146685554995,-4.134694671161518,0.39346901082815,-0.4621992314060313,-0.3019624746353522,-4.165142898648232,-2.513947777246419,-4.076383223144883,-4.499043428331715,-4.440855369636236,-4.576886084843712,0.31144046255999236,-4.192756114509298,-5.628114618559568,-0.25379977680947174,-2.551805815133831,-2.5677929723976334,-1.973559388969604,-3.535761821556073,-0.2178855407165082,-5.232841667763292,-4.4117490791229494,-4.563925018664441,-4.01878650894714,5.023748477645063,-2.553415501551347,-1.5700555409591699,0.34351700718820305,-1.3511740261313645,-4.7223733745629195,0.7567415304305974,-4.265181621899939,-0.3064180259707991,-3.544052509664086,-0.11659926570258798,-4.105625291746531,-3.99073457071862,-5.618867956127541,-4.091842846378867,-3.7921049545912617,-4.189462174442542,-3.2343505603606295,-2.4804369558173898,-4.279957737246926,-2.805416649691446,-0.08919060696145864,-3.556710293742365,-5.090633731221502,-4.204090027678117,-4.325391616927171,-4.250312994159508,-0.49574939062035517,-0.4245236550845467,-2.9883355110109253,-4.28751878137462,-5.2488455413293424,-4.201172269248812,-4.01002974998978,-4.28073915694196,-4.072187321523539,0.578021891901696,-3.9260794859959525,-5.628114618559568,-0.25905653339846285,-4.051527781282557,-4.004753719006558,-5.354559994935234,-4.168621457846974,-3.9529019521994075,2.63388797227281,-4.037004867327016,-4.268925508905674,-3.910133970853806,-5.109666786306688,-4.576886084843712,-0.2893409446789886,-4.581765835660471,-4.27655410337539,-2.8608665293565005,-1.676442247159125,-4.143203092161133,-3.967532714472286,0.09345222752153035,2.81018676489153,-2.7953510647595006,-4.261454648187843,-0.2956711642588681,-4.721763711527782,-4.367399685866455,-5.270907532709266,-0.3290877243456474,-5.071796639119672,-3.9065779792013666,-4.105213239115746,-3.7963338710556305,-4.329190123123385,-3.90865800303,-4.124374484431841,-4.026251947928232,-4.690497637042291,-3.4963345442220444,-5.473423615379279,-3.6636744335391955,-2.69816616326636,4.419030706538498,-0.3392668433655456,-5.190674285898632,-0.7516851467702514,-2.0463403747379605,5.155974546506825,-5.048854959678999,-4.328321467710767,-3.910133970853806,3.634122716688921,-0.4562173756308306,-1.8102140705031493,0.05710462946471639,-4.247870094459449,-3.506234242790375,-3.77612735620971,-6.400507971667435,-3.2803817265332125,-5.321359383915457,-4.1069805127816394,-3.745906548544523,-4.275693868353301,-3.785761679183627]},{\"boxpoints\":false,\"line\":{\"width\":1.3},\"marker\":{\"color\":\"rgba(0, 128, 128, 1.0)\"},\"name\":\"fwd_rtn_10_abs\",\"orientation\":\"v\",\"type\":\"box\",\"y\":[-0.2699834479219249,-0.23626562803628348,-0.05524483932680003,-0.5248931772700477,0.14199339459974894,-0.002950223649587916,-0.0416227275694391,2.3993088674576,1.3568709782661084,0.002440165665432693,-0.23600658139321912,0.02210303007964282,-0.45216118573111325,-0.37413982662666195,-0.4915022786944802,-0.0627223425181354,-0.013626668376684069,-0.9315879581656076,2.1204486259364637,0.15350935772896726,-0.37530763580316756,-0.23594251371218325,-0.4674708872821917,3.9632665824864426,-0.5575805331993317,-0.3915372965099797,-0.22004330087866844,0.03849239132443064,0.944009925972509,-0.5840602583466934,-0.06109529085578185,1.2377682646685482,-0.015649399965546217,-0.517090105056763,0.525652520669196,-0.05689901880982397,3.172612122864923,0.13737318275740137,-0.8734771108711891,0.022586773176981895,0.059226901429050724,-0.8919505773713945,0.010928718817623874,-0.3218267671595604,0.3201874474422663,-0.312051564524821,-0.5222269047535801,-0.06391037629247838,-0.6528475210714286,3.8230113487289814,0.126750256451283,-0.5551162468631,-0.4443901685532351,-0.8148681658467825,-0.03939467942082907,-0.6689981928502232,2.737744908133709,-0.3378585696036173,-0.05394292595029438,-0.5697282203485504,0.03230522158575014,-0.47764245646303594,-0.04428918387516933,0.07267082176328027,-0.33592912529144664,0.008052064527942005,-0.9315879581656076,0.1691482509450056,0.040753023385702525,-0.4866659529130116,-0.6361356400224237,-0.004933791587227694,0.06749799706748308,-0.2515718382088593,0.08208736051667817,-0.05317227493346987,0.07034757260791709,-0.6225138532763702,-0.4915022786944802,-4.081962289339954,-0.45335676822727755,-0.048859575956580054,-0.6692073440779359,-0.212921190899783,0.011317042750606205,-0.44463142840932296,1.3658260666589346,0.5136554237798071,-0.28767373762135356,-0.04584902570304888,3.1851306551053993,-0.4375357812583922,-0.6889475127733296,-0.6151293607845384,-0.32806471198573994,-0.7142235096417126,0.07756370740003468,0.0074701334240814075,-0.3458226771218656,-0.42765304834612167,-0.001003916070298345,0.005474935475810503,0.031185580267743325,-0.85940941642916,-0.6609710348466762,-0.6496162046048746,-0.20967475657414084,-0.251670340775016,-0.06209045223151961,-0.02912676968794096,-0.8517552231765119,-0.3307852490503531,-0.26793074806745176,0.6105598675813565,-0.7862409129208001,-0.056229013929707514,0.07034757260791709,1.3605923002732663,-0.22989099040896474,-0.38321259942885866,1.6402570217753702,-0.04550035942978567,-0.3724977295462678,-0.4303138275219167,-0.7828397669267024,-0.40109115572452203,-0.5968739631398707,0.00902052466530447,-0.30241847037337566,-0.061539836331514976,-0.4735900073133076]}],                        {\"legend\":{\"bgcolor\":\"#FFFFFF\",\"font\":{\"color\":\"#4D5663\"}},\"paper_bgcolor\":\"#FFFFFF\",\"plot_bgcolor\":\"#FFFFFF\",\"template\":{\"data\":{\"bar\":[{\"error_x\":{\"color\":\"#2a3f5f\"},\"error_y\":{\"color\":\"#2a3f5f\"},\"marker\":{\"line\":{\"color\":\"#E5ECF6\",\"width\":0.5},\"pattern\":{\"fillmode\":\"overlay\",\"size\":10,\"solidity\":0.2}},\"type\":\"bar\"}],\"barpolar\":[{\"marker\":{\"line\":{\"color\":\"#E5ECF6\",\"width\":0.5},\"pattern\":{\"fillmode\":\"overlay\",\"size\":10,\"solidity\":0.2}},\"type\":\"barpolar\"}],\"carpet\":[{\"aaxis\":{\"endlinecolor\":\"#2a3f5f\",\"gridcolor\":\"white\",\"linecolor\":\"white\",\"minorgridcolor\":\"white\",\"startlinecolor\":\"#2a3f5f\"},\"baxis\":{\"endlinecolor\":\"#2a3f5f\",\"gridcolor\":\"white\",\"linecolor\":\"white\",\"minorgridcolor\":\"white\",\"startlinecolor\":\"#2a3f5f\"},\"type\":\"carpet\"}],\"choropleth\":[{\"colorbar\":{\"outlinewidth\":0,\"ticks\":\"\"},\"type\":\"choropleth\"}],\"contour\":[{\"colorbar\":{\"outlinewidth\":0,\"ticks\":\"\"},\"colorscale\":[[0.0,\"#0d0887\"],[0.1111111111111111,\"#46039f\"],[0.2222222222222222,\"#7201a8\"],[0.3333333333333333,\"#9c179e\"],[0.4444444444444444,\"#bd3786\"],[0.5555555555555556,\"#d8576b\"],[0.6666666666666666,\"#ed7953\"],[0.7777777777777778,\"#fb9f3a\"],[0.8888888888888888,\"#fdca26\"],[1.0,\"#f0f921\"]],\"type\":\"contour\"}],\"contourcarpet\":[{\"colorbar\":{\"outlinewidth\":0,\"ticks\":\"\"},\"type\":\"contourcarpet\"}],\"heatmap\":[{\"colorbar\":{\"outlinewidth\":0,\"ticks\":\"\"},\"colorscale\":[[0.0,\"#0d0887\"],[0.1111111111111111,\"#46039f\"],[0.2222222222222222,\"#7201a8\"],[0.3333333333333333,\"#9c179e\"],[0.4444444444444444,\"#bd3786\"],[0.5555555555555556,\"#d8576b\"],[0.6666666666666666,\"#ed7953\"],[0.7777777777777778,\"#fb9f3a\"],[0.8888888888888888,\"#fdca26\"],[1.0,\"#f0f921\"]],\"type\":\"heatmap\"}],\"heatmapgl\":[{\"colorbar\":{\"outlinewidth\":0,\"ticks\":\"\"},\"colorscale\":[[0.0,\"#0d0887\"],[0.1111111111111111,\"#46039f\"],[0.2222222222222222,\"#7201a8\"],[0.3333333333333333,\"#9c179e\"],[0.4444444444444444,\"#bd3786\"],[0.5555555555555556,\"#d8576b\"],[0.6666666666666666,\"#ed7953\"],[0.7777777777777778,\"#fb9f3a\"],[0.8888888888888888,\"#fdca26\"],[1.0,\"#f0f921\"]],\"type\":\"heatmapgl\"}],\"histogram\":[{\"marker\":{\"pattern\":{\"fillmode\":\"overlay\",\"size\":10,\"solidity\":0.2}},\"type\":\"histogram\"}],\"histogram2d\":[{\"colorbar\":{\"outlinewidth\":0,\"ticks\":\"\"},\"colorscale\":[[0.0,\"#0d0887\"],[0.1111111111111111,\"#46039f\"],[0.2222222222222222,\"#7201a8\"],[0.3333333333333333,\"#9c179e\"],[0.4444444444444444,\"#bd3786\"],[0.5555555555555556,\"#d8576b\"],[0.6666666666666666,\"#ed7953\"],[0.7777777777777778,\"#fb9f3a\"],[0.8888888888888888,\"#fdca26\"],[1.0,\"#f0f921\"]],\"type\":\"histogram2d\"}],\"histogram2dcontour\":[{\"colorbar\":{\"outlinewidth\":0,\"ticks\":\"\"},\"colorscale\":[[0.0,\"#0d0887\"],[0.1111111111111111,\"#46039f\"],[0.2222222222222222,\"#7201a8\"],[0.3333333333333333,\"#9c179e\"],[0.4444444444444444,\"#bd3786\"],[0.5555555555555556,\"#d8576b\"],[0.6666666666666666,\"#ed7953\"],[0.7777777777777778,\"#fb9f3a\"],[0.8888888888888888,\"#fdca26\"],[1.0,\"#f0f921\"]],\"type\":\"histogram2dcontour\"}],\"mesh3d\":[{\"colorbar\":{\"outlinewidth\":0,\"ticks\":\"\"},\"type\":\"mesh3d\"}],\"parcoords\":[{\"line\":{\"colorbar\":{\"outlinewidth\":0,\"ticks\":\"\"}},\"type\":\"parcoords\"}],\"pie\":[{\"automargin\":true,\"type\":\"pie\"}],\"scatter\":[{\"marker\":{\"colorbar\":{\"outlinewidth\":0,\"ticks\":\"\"}},\"type\":\"scatter\"}],\"scatter3d\":[{\"line\":{\"colorbar\":{\"outlinewidth\":0,\"ticks\":\"\"}},\"marker\":{\"colorbar\":{\"outlinewidth\":0,\"ticks\":\"\"}},\"type\":\"scatter3d\"}],\"scattercarpet\":[{\"marker\":{\"colorbar\":{\"outlinewidth\":0,\"ticks\":\"\"}},\"type\":\"scattercarpet\"}],\"scattergeo\":[{\"marker\":{\"colorbar\":{\"outlinewidth\":0,\"ticks\":\"\"}},\"type\":\"scattergeo\"}],\"scattergl\":[{\"marker\":{\"colorbar\":{\"outlinewidth\":0,\"ticks\":\"\"}},\"type\":\"scattergl\"}],\"scattermapbox\":[{\"marker\":{\"colorbar\":{\"outlinewidth\":0,\"ticks\":\"\"}},\"type\":\"scattermapbox\"}],\"scatterpolar\":[{\"marker\":{\"colorbar\":{\"outlinewidth\":0,\"ticks\":\"\"}},\"type\":\"scatterpolar\"}],\"scatterpolargl\":[{\"marker\":{\"colorbar\":{\"outlinewidth\":0,\"ticks\":\"\"}},\"type\":\"scatterpolargl\"}],\"scatterternary\":[{\"marker\":{\"colorbar\":{\"outlinewidth\":0,\"ticks\":\"\"}},\"type\":\"scatterternary\"}],\"surface\":[{\"colorbar\":{\"outlinewidth\":0,\"ticks\":\"\"},\"colorscale\":[[0.0,\"#0d0887\"],[0.1111111111111111,\"#46039f\"],[0.2222222222222222,\"#7201a8\"],[0.3333333333333333,\"#9c179e\"],[0.4444444444444444,\"#bd3786\"],[0.5555555555555556,\"#d8576b\"],[0.6666666666666666,\"#ed7953\"],[0.7777777777777778,\"#fb9f3a\"],[0.8888888888888888,\"#fdca26\"],[1.0,\"#f0f921\"]],\"type\":\"surface\"}],\"table\":[{\"cells\":{\"fill\":{\"color\":\"#EBF0F8\"},\"line\":{\"color\":\"white\"}},\"header\":{\"fill\":{\"color\":\"#C8D4E3\"},\"line\":{\"color\":\"white\"}},\"type\":\"table\"}]},\"layout\":{\"annotationdefaults\":{\"arrowcolor\":\"#2a3f5f\",\"arrowhead\":0,\"arrowwidth\":1},\"autotypenumbers\":\"strict\",\"coloraxis\":{\"colorbar\":{\"outlinewidth\":0,\"ticks\":\"\"}},\"colorscale\":{\"diverging\":[[0,\"#8e0152\"],[0.1,\"#c51b7d\"],[0.2,\"#de77ae\"],[0.3,\"#f1b6da\"],[0.4,\"#fde0ef\"],[0.5,\"#f7f7f7\"],[0.6,\"#e6f5d0\"],[0.7,\"#b8e186\"],[0.8,\"#7fbc41\"],[0.9,\"#4d9221\"],[1,\"#276419\"]],\"sequential\":[[0.0,\"#0d0887\"],[0.1111111111111111,\"#46039f\"],[0.2222222222222222,\"#7201a8\"],[0.3333333333333333,\"#9c179e\"],[0.4444444444444444,\"#bd3786\"],[0.5555555555555556,\"#d8576b\"],[0.6666666666666666,\"#ed7953\"],[0.7777777777777778,\"#fb9f3a\"],[0.8888888888888888,\"#fdca26\"],[1.0,\"#f0f921\"]],\"sequentialminus\":[[0.0,\"#0d0887\"],[0.1111111111111111,\"#46039f\"],[0.2222222222222222,\"#7201a8\"],[0.3333333333333333,\"#9c179e\"],[0.4444444444444444,\"#bd3786\"],[0.5555555555555556,\"#d8576b\"],[0.6666666666666666,\"#ed7953\"],[0.7777777777777778,\"#fb9f3a\"],[0.8888888888888888,\"#fdca26\"],[1.0,\"#f0f921\"]]},\"colorway\":[\"#636efa\",\"#EF553B\",\"#00cc96\",\"#ab63fa\",\"#FFA15A\",\"#19d3f3\",\"#FF6692\",\"#B6E880\",\"#FF97FF\",\"#FECB52\"],\"font\":{\"color\":\"#2a3f5f\"},\"geo\":{\"bgcolor\":\"white\",\"lakecolor\":\"white\",\"landcolor\":\"#E5ECF6\",\"showlakes\":true,\"showland\":true,\"subunitcolor\":\"white\"},\"hoverlabel\":{\"align\":\"left\"},\"hovermode\":\"closest\",\"mapbox\":{\"style\":\"light\"},\"paper_bgcolor\":\"white\",\"plot_bgcolor\":\"#E5ECF6\",\"polar\":{\"angularaxis\":{\"gridcolor\":\"white\",\"linecolor\":\"white\",\"ticks\":\"\"},\"bgcolor\":\"#E5ECF6\",\"radialaxis\":{\"gridcolor\":\"white\",\"linecolor\":\"white\",\"ticks\":\"\"}},\"scene\":{\"xaxis\":{\"backgroundcolor\":\"#E5ECF6\",\"gridcolor\":\"white\",\"gridwidth\":2,\"linecolor\":\"white\",\"showbackground\":true,\"ticks\":\"\",\"zerolinecolor\":\"white\"},\"yaxis\":{\"backgroundcolor\":\"#E5ECF6\",\"gridcolor\":\"white\",\"gridwidth\":2,\"linecolor\":\"white\",\"showbackground\":true,\"ticks\":\"\",\"zerolinecolor\":\"white\"},\"zaxis\":{\"backgroundcolor\":\"#E5ECF6\",\"gridcolor\":\"white\",\"gridwidth\":2,\"linecolor\":\"white\",\"showbackground\":true,\"ticks\":\"\",\"zerolinecolor\":\"white\"}},\"shapedefaults\":{\"line\":{\"color\":\"#2a3f5f\"}},\"ternary\":{\"aaxis\":{\"gridcolor\":\"white\",\"linecolor\":\"white\",\"ticks\":\"\"},\"baxis\":{\"gridcolor\":\"white\",\"linecolor\":\"white\",\"ticks\":\"\"},\"bgcolor\":\"#E5ECF6\",\"caxis\":{\"gridcolor\":\"white\",\"linecolor\":\"white\",\"ticks\":\"\"}},\"title\":{\"x\":0.05},\"xaxis\":{\"automargin\":true,\"gridcolor\":\"white\",\"linecolor\":\"white\",\"ticks\":\"\",\"title\":{\"standoff\":15},\"zerolinecolor\":\"white\",\"zerolinewidth\":2},\"yaxis\":{\"automargin\":true,\"gridcolor\":\"white\",\"linecolor\":\"white\",\"ticks\":\"\",\"title\":{\"standoff\":15},\"zerolinecolor\":\"white\",\"zerolinewidth\":2}}},\"title\":{\"font\":{\"color\":\"#4D5663\"}},\"xaxis\":{\"gridcolor\":\"#E1E5ED\",\"showgrid\":true,\"tickfont\":{\"color\":\"#4D5663\"},\"title\":{\"font\":{\"color\":\"#4D5663\"},\"text\":\"\"},\"zerolinecolor\":\"#E1E5ED\"},\"yaxis\":{\"gridcolor\":\"#E1E5ED\",\"showgrid\":true,\"tickfont\":{\"color\":\"#4D5663\"},\"title\":{\"font\":{\"color\":\"#4D5663\"},\"text\":\"\"},\"zerolinecolor\":\"#E1E5ED\"}},                        {\"showLink\": true, \"linkText\": \"Export to plot.ly\", \"plotlyServerURL\": \"https://plot.ly\", \"responsive\": true}                    ).then(function(){\n",
       "                            \n",
       "var gd = document.getElementById('6fb99d58-ea48-4ced-b030-d4fcf3a29d44');\n",
       "var x = new MutationObserver(function (mutations, observer) {{\n",
       "        var display = window.getComputedStyle(gd).display;\n",
       "        if (!display || display === 'none') {{\n",
       "            console.log([gd, 'removed!']);\n",
       "            Plotly.purge(gd);\n",
       "            observer.disconnect();\n",
       "        }}\n",
       "}});\n",
       "\n",
       "// Listen for the removal of the full notebook cells\n",
       "var notebookContainer = gd.closest('#notebook-container');\n",
       "if (notebookContainer) {{\n",
       "    x.observe(notebookContainer, {childList: true});\n",
       "}}\n",
       "\n",
       "// Listen for the clearing of the current output cell\n",
       "var outputEl = gd.closest('.output');\n",
       "if (outputEl) {{\n",
       "    x.observe(outputEl, {childList: true});\n",
       "}}\n",
       "\n",
       "                        })                };                });            </script>        </div>"
      ]
     },
     "metadata": {},
     "output_type": "display_data"
    }
   ],
   "source": [
    "adjusted_IC_df.iplot('box')"
   ]
  },
  {
   "cell_type": "code",
   "execution_count": 32,
   "id": "f3f87256-5ba6-4705-a723-f002cf5f5d63",
   "metadata": {},
   "outputs": [],
   "source": [
    "def get_indices_by_percentile(df, target_col, upper_p=80, lower_p=20):\n",
    "    '''\n",
    "    取出一个df中对应列满足条件的索引。默认首尾20%。\n",
    "    '''\n",
    "    upper = np.percentile(df[target_col],upper_p)\n",
    "    lower = np.percentile(df[target_col],lower_p)\n",
    "    high_value_indices = df[np.logical_or(df[target_col] > upper, df[target_col] < lower)].index\n",
    "    \n",
    "    return list(high_value_indices)"
   ]
  },
  {
   "cell_type": "code",
   "execution_count": 33,
   "id": "d8fe233c-2f7a-48ab-a03c-7dcc5e7025d8",
   "metadata": {},
   "outputs": [
    {
     "data": {
      "text/plain": [
       "-0.11281913784398379"
      ]
     },
     "execution_count": 33,
     "metadata": {},
     "output_type": "execute_result"
    }
   ],
   "source": [
    "np.percentile(mean_IC_df['fwd_rtn_20_real'],50)"
   ]
  },
  {
   "cell_type": "code",
   "execution_count": 34,
   "id": "124c4de0-d0b8-4813-b1f8-77f5b4730b53",
   "metadata": {},
   "outputs": [
    {
     "data": {
      "text/plain": [
       "0.08904186374093563"
      ]
     },
     "execution_count": 34,
     "metadata": {},
     "output_type": "execute_result"
    }
   ],
   "source": [
    "np.percentile(mean_IC_df['fwd_rtn_20_real'],97)"
   ]
  },
  {
   "cell_type": "code",
   "execution_count": 35,
   "id": "4254eef7-d9d4-4187-8ca8-d2e72908f88c",
   "metadata": {},
   "outputs": [
    {
     "data": {
      "text/plain": [
       "0.04281539294575931"
      ]
     },
     "execution_count": 35,
     "metadata": {},
     "output_type": "execute_result"
    }
   ],
   "source": [
    "np.percentile(mean_IC_df['fwd_rtn_10_abs'],95)"
   ]
  },
  {
   "cell_type": "code",
   "execution_count": 36,
   "id": "e590f197-21d1-44c9-9ce1-5103458bb72e",
   "metadata": {},
   "outputs": [
    {
     "name": "stdout",
     "output_type": "stream",
     "text": [
      "all: 131\n",
      "high_ic: 19\n",
      "high_abs: 26\n",
      "high_ic_factor_60: 84\n",
      "high_ic_factor_40: 58\n",
      "high_ic_factor_20: 32\n"
     ]
    }
   ],
   "source": [
    "all_valid_factors = list(mean_IC_df.index)\n",
    "high_ic_factors = get_indices_by_percentile(mean_IC_df, 'fwd_rtn_20_real', 96, 10)\n",
    "high_abs_ic_factors = list(set(high_ic_factors + get_indices_by_percentile(mean_IC_df, 'fwd_rtn_10_abs', 95, 0)))\n",
    "high_ic_factor_60 = get_indices_by_percentile(mean_IC_df, 'fwd_rtn_20_real', 96, 60)\n",
    "high_ic_factor_40 = get_indices_by_percentile(mean_IC_df, 'fwd_rtn_20_real', 96, 40)\n",
    "high_ic_factor_20 = get_indices_by_percentile(mean_IC_df, 'fwd_rtn_20_real', 96, 20)\n",
    "\n",
    "print(f'all: {len(all_valid_factors)}')\n",
    "print(f'high_ic: {len(high_ic_factors)}')\n",
    "print(f'high_abs: {len(high_abs_ic_factors)}')\n",
    "print(f'high_ic_factor_60: {len(high_ic_factor_60)}')\n",
    "print(f'high_ic_factor_40: {len(high_ic_factor_40)}')\n",
    "print(f'high_ic_factor_20: {len(high_ic_factor_20)}')"
   ]
  },
  {
   "cell_type": "markdown",
   "id": "787671c5-0d06-4d0a-8499-42ff36c7c0f0",
   "metadata": {
    "user_expressions": []
   },
   "source": [
    "# 4. 观察ml 效果 "
   ]
  },
  {
   "cell_type": "markdown",
   "id": "c6d812ea-2e21-4383-8105-9cc98044342c",
   "metadata": {
    "user_expressions": []
   },
   "source": [
    "准备一下Z_score"
   ]
  },
  {
   "cell_type": "code",
   "execution_count": 37,
   "id": "5839b5d1-80d9-474c-9aa8-536e09d8da14",
   "metadata": {},
   "outputs": [],
   "source": [
    "def cal_Z_score(factor_df, column_lists, span):\n",
    "    '''Z-score'''\n",
    "    for column_name in column_lists:\n",
    "        mean_20 = factor_df[column_name].ewm(span, adjust=False).mean()\n",
    "        std_20 = factor_df[column_name].ewm(96, adjust=False).std()  # todo 超参数搜索\n",
    "        factor_df[f'{column_name}_Z'] = (factor_df[column_name].values - mean_20) / std_20\n",
    "    return factor_df\n",
    "\n",
    "@factors.handle_dataloader_data\n",
    "def add_close_Z(raw_df:pd.DataFrame)-> pd.DataFrame:\n",
    "    raw_df = cal_Z_score(raw_df, ['close'], 30)\n",
    "    return raw_df\n",
    "\n",
    "@factors.handle_dataloader_data\n",
    "def add_base_factors(raw_df:pd.DataFrame)-> pd.DataFrame:\n",
    "    '''\n",
    "    加入新因子的模板。\n",
    "    :param raw_df: 原始数据\n",
    "    :param factor_name: 因子名称\n",
    "    :return: 原始数据+因子\n",
    "    '''\n",
    "    raw_df['macd'] = raw_df.ta.macd()['MACD_12_26_9']\n",
    "    raw_df['rsi'] = raw_df.ta.rsi()    \n",
    "    return raw_df"
   ]
  },
  {
   "cell_type": "code",
   "execution_count": 59,
   "id": "ceb5951d-2c0c-47cb-8b9f-c2af5e671ecb",
   "metadata": {},
   "outputs": [
    {
     "name": "stdout",
     "output_type": "stream",
     "text": [
      "year: 2020\n"
     ]
    },
    {
     "name": "stderr",
     "output_type": "stream",
     "text": [
      "100%|██████████████████████████████████████████████████████████████████████████████████| 12/12 [00:00<00:00, 14.63it/s]\n"
     ]
    },
    {
     "name": "stdout",
     "output_type": "stream",
     "text": [
      "year: 2021\n"
     ]
    },
    {
     "name": "stderr",
     "output_type": "stream",
     "text": [
      "100%|██████████████████████████████████████████████████████████████████████████████████| 12/12 [00:01<00:00,  7.18it/s]\n"
     ]
    },
    {
     "name": "stdout",
     "output_type": "stream",
     "text": [
      "year: 2022\n"
     ]
    },
    {
     "name": "stderr",
     "output_type": "stream",
     "text": [
      "100%|██████████████████████████████████████████████████████████████████████████████████| 12/12 [00:02<00:00,  5.11it/s]\n"
     ]
    },
    {
     "name": "stdout",
     "output_type": "stream",
     "text": [
      "year: 2023\n"
     ]
    },
    {
     "name": "stderr",
     "output_type": "stream",
     "text": [
      "100%|██████████████████████████████████████████████████████████████████████████████████| 12/12 [00:02<00:00,  5.64it/s]\n"
     ]
    }
   ],
   "source": [
    "add_base_factors(dl)"
   ]
  },
  {
   "cell_type": "code",
   "execution_count": 38,
   "id": "47818613-93e7-44d3-9c92-e58877a66ab9",
   "metadata": {},
   "outputs": [
    {
     "name": "stdout",
     "output_type": "stream",
     "text": [
      "year: 2020\n"
     ]
    },
    {
     "name": "stderr",
     "output_type": "stream",
     "text": [
      "100%|██████████████████████████████████████████████████████████████████████████████████| 12/12 [00:00<00:00, 14.04it/s]\n"
     ]
    },
    {
     "name": "stdout",
     "output_type": "stream",
     "text": [
      "year: 2021\n"
     ]
    },
    {
     "name": "stderr",
     "output_type": "stream",
     "text": [
      "100%|██████████████████████████████████████████████████████████████████████████████████| 12/12 [00:01<00:00,  6.07it/s]\n"
     ]
    },
    {
     "name": "stdout",
     "output_type": "stream",
     "text": [
      "year: 2022\n"
     ]
    },
    {
     "name": "stderr",
     "output_type": "stream",
     "text": [
      "100%|██████████████████████████████████████████████████████████████████████████████████| 12/12 [00:02<00:00,  5.84it/s]\n"
     ]
    },
    {
     "name": "stdout",
     "output_type": "stream",
     "text": [
      "year: 2023\n"
     ]
    },
    {
     "name": "stderr",
     "output_type": "stream",
     "text": [
      "100%|██████████████████████████████████████████████████████████████████████████████████| 12/12 [00:02<00:00,  5.05it/s]\n"
     ]
    }
   ],
   "source": [
    "add_close_Z(dl)"
   ]
  },
  {
   "cell_type": "code",
   "execution_count": 39,
   "id": "f91b6c3f-e639-4e6c-b786-15d961bb628b",
   "metadata": {},
   "outputs": [],
   "source": [
    "from ml_performance import MLFactorEvaluator"
   ]
  },
  {
   "cell_type": "markdown",
   "id": "13bdfbfa-ef44-4f40-8e7c-6c8356c182d8",
   "metadata": {
    "user_expressions": []
   },
   "source": [
    "## 一定要注意未来数据，比如centered=True"
   ]
  },
  {
   "cell_type": "code",
   "execution_count": 72,
   "id": "01bee06b-a969-4631-a27b-00206b1986c5",
   "metadata": {},
   "outputs": [],
   "source": [
    "record_names = ['baseline'] + all_valid_factors[:10]"
   ]
  },
  {
   "cell_type": "code",
   "execution_count": 73,
   "id": "390e593c-3e15-4263-9763-838146bc8565",
   "metadata": {},
   "outputs": [],
   "source": [
    "factor_names = [\n",
    "        ['macd', 'rsi'],\n",
    "] + [[x] for x in all_valid_factors[:10]]"
   ]
  },
  {
   "cell_type": "code",
   "execution_count": 62,
   "id": "966a268b-c14a-4ef5-973e-c04c3f3d30b6",
   "metadata": {},
   "outputs": [],
   "source": [
    "from sklearn.ensemble import RandomForestClassifier\n",
    "from xgboost import XGBClassifier"
   ]
  },
  {
   "cell_type": "code",
   "execution_count": 75,
   "id": "caae4fd4-b734-432e-af67-7bda0852748d",
   "metadata": {},
   "outputs": [],
   "source": [
    "best_params = {\n",
    "    'max_depth': 4,\n",
    "    'n_estimators': 50,\n",
    "    'n_jobs': 4,\n",
    "    'reg_lambda': 10,\n",
    "    'subsample': 0.5,\n",
    "    'gamma': 5\n",
    "}"
   ]
  },
  {
   "cell_type": "code",
   "execution_count": 76,
   "id": "94b5b265-e445-4f14-b096-fd23d9bfbd7e",
   "metadata": {},
   "outputs": [],
   "source": [
    "ml_evaluator = MLFactorEvaluator(\n",
    "    method = XGBClassifier, \n",
    "    record_names = record_names, \n",
    "    factor_names = factor_names,\n",
    "    params_dict = best_params\n",
    ")"
   ]
  },
  {
   "cell_type": "code",
   "execution_count": 77,
   "id": "0feaac68-d84e-45cf-915c-2272979df097",
   "metadata": {
    "collapsed": true,
    "jupyter": {
     "outputs_hidden": true
    },
    "tags": []
   },
   "outputs": [
    {
     "name": "stderr",
     "output_type": "stream",
     "text": [
      " 10%|████████▎                                                                          | 1/10 [00:55<08:21, 55.76s/it]\n",
      "ERROR:root:Internal Python error in the inspect module.\n",
      "Below is the traceback from this internal error.\n",
      "\n"
     ]
    },
    {
     "name": "stdout",
     "output_type": "stream",
     "text": [
      "Traceback (most recent call last):\n",
      "  File \"F:\\ProgramData\\Anaconda3\\envs\\pythonlab\\lib\\site-packages\\IPython\\core\\interactiveshell.py\", line 3441, in run_code\n",
      "    exec(code_obj, self.user_global_ns, self.user_ns)\n",
      "  File \"C:\\Users\\naesar\\AppData\\Local\\Temp/ipykernel_12076/1882701393.py\", line 1, in <module>\n",
      "    ml_evaluator.evaluate(dl, 'fwd_rtn_20_bool')\n",
      "  File \"..\\ml_performance.py\", line 44, in evaluate\n",
      "    test_df = self.get_data(dataloader, test_ind)\n",
      "  File \"..\\ml_performance.py\", line 82, in get_data\n",
      "    data_df = pd.concat(df_list, axis=0)\n",
      "  File \"F:\\ProgramData\\Anaconda3\\envs\\pythonlab\\lib\\site-packages\\pandas\\util\\_decorators.py\", line 311, in wrapper\n",
      "    return func(*args, **kwargs)\n",
      "  File \"F:\\ProgramData\\Anaconda3\\envs\\pythonlab\\lib\\site-packages\\pandas\\core\\reshape\\concat.py\", line 307, in concat\n",
      "    return op.get_result()\n",
      "  File \"F:\\ProgramData\\Anaconda3\\envs\\pythonlab\\lib\\site-packages\\pandas\\core\\reshape\\concat.py\", line 532, in get_result\n",
      "    new_data = concatenate_managers(\n",
      "  File \"F:\\ProgramData\\Anaconda3\\envs\\pythonlab\\lib\\site-packages\\pandas\\core\\internals\\concat.py\", line 222, in concatenate_managers\n",
      "    values = _concatenate_join_units(join_units, concat_axis, copy=copy)\n",
      "  File \"F:\\ProgramData\\Anaconda3\\envs\\pythonlab\\lib\\site-packages\\pandas\\core\\internals\\concat.py\", line 486, in _concatenate_join_units\n",
      "    to_concat = [\n",
      "  File \"F:\\ProgramData\\Anaconda3\\envs\\pythonlab\\lib\\site-packages\\pandas\\core\\internals\\concat.py\", line 487, in <listcomp>\n",
      "    ju.get_reindexed_values(empty_dtype=empty_dtype, upcasted_na=upcasted_na)\n",
      "  File \"F:\\ProgramData\\Anaconda3\\envs\\pythonlab\\lib\\site-packages\\pandas\\core\\internals\\concat.py\", line 466, in get_reindexed_values\n",
      "    values = algos.take_nd(values, indexer, axis=ax)\n",
      "  File \"F:\\ProgramData\\Anaconda3\\envs\\pythonlab\\lib\\site-packages\\pandas\\core\\array_algos\\take.py\", line 108, in take_nd\n",
      "    return _take_nd_ndarray(arr, indexer, axis, fill_value, allow_fill)\n",
      "  File \"F:\\ProgramData\\Anaconda3\\envs\\pythonlab\\lib\\site-packages\\pandas\\core\\array_algos\\take.py\", line 154, in _take_nd_ndarray\n",
      "    func(arr, indexer, out, fill_value)\n",
      "KeyboardInterrupt\n",
      "\n",
      "During handling of the above exception, another exception occurred:\n",
      "\n",
      "Traceback (most recent call last):\n",
      "  File \"F:\\ProgramData\\Anaconda3\\envs\\pythonlab\\lib\\site-packages\\IPython\\core\\interactiveshell.py\", line 2061, in showtraceback\n",
      "    stb = value._render_traceback_()\n",
      "AttributeError: 'KeyboardInterrupt' object has no attribute '_render_traceback_'\n",
      "\n",
      "During handling of the above exception, another exception occurred:\n",
      "\n",
      "Traceback (most recent call last):\n",
      "  File \"F:\\ProgramData\\Anaconda3\\envs\\pythonlab\\lib\\site-packages\\IPython\\core\\ultratb.py\", line 1101, in get_records\n",
      "    return _fixed_getinnerframes(etb, number_of_lines_of_context, tb_offset)\n",
      "  File \"F:\\ProgramData\\Anaconda3\\envs\\pythonlab\\lib\\site-packages\\IPython\\core\\ultratb.py\", line 248, in wrapped\n",
      "    return f(*args, **kwargs)\n",
      "  File \"F:\\ProgramData\\Anaconda3\\envs\\pythonlab\\lib\\site-packages\\IPython\\core\\ultratb.py\", line 281, in _fixed_getinnerframes\n",
      "    records = fix_frame_records_filenames(inspect.getinnerframes(etb, context))\n",
      "  File \"F:\\ProgramData\\Anaconda3\\envs\\pythonlab\\lib\\inspect.py\", line 1503, in getinnerframes\n",
      "    frameinfo = (tb.tb_frame,) + getframeinfo(tb, context)\n",
      "  File \"F:\\ProgramData\\Anaconda3\\envs\\pythonlab\\lib\\inspect.py\", line 1461, in getframeinfo\n",
      "    filename = getsourcefile(frame) or getfile(frame)\n",
      "  File \"F:\\ProgramData\\Anaconda3\\envs\\pythonlab\\lib\\inspect.py\", line 708, in getsourcefile\n",
      "    if getattr(getmodule(object, filename), '__loader__', None) is not None:\n",
      "  File \"F:\\ProgramData\\Anaconda3\\envs\\pythonlab\\lib\\inspect.py\", line 746, in getmodule\n",
      "    f = module.__file__\n",
      "KeyboardInterrupt\n"
     ]
    },
    {
     "ename": "TypeError",
     "evalue": "object of type 'NoneType' has no len()",
     "output_type": "error",
     "traceback": [
      "\u001b[1;31m---------------------------------------------------------------------------\u001b[0m",
      "\u001b[1;31mKeyboardInterrupt\u001b[0m                         Traceback (most recent call last)",
      "    \u001b[1;31m[... skipping hidden 1 frame]\u001b[0m\n",
      "\u001b[1;32m~\\AppData\\Local\\Temp/ipykernel_12076/1882701393.py\u001b[0m in \u001b[0;36m<module>\u001b[1;34m\u001b[0m\n\u001b[1;32m----> 1\u001b[1;33m \u001b[0mml_evaluator\u001b[0m\u001b[1;33m.\u001b[0m\u001b[0mevaluate\u001b[0m\u001b[1;33m(\u001b[0m\u001b[0mdl\u001b[0m\u001b[1;33m,\u001b[0m \u001b[1;34m'fwd_rtn_20_bool'\u001b[0m\u001b[1;33m)\u001b[0m\u001b[1;33m\u001b[0m\u001b[1;33m\u001b[0m\u001b[0m\n\u001b[0m",
      "\u001b[1;32mE:\\jupyternote\\QF\\CryptalC\\SimpleAlpha\\ml_performance.py\u001b[0m in \u001b[0;36mevaluate\u001b[1;34m(self, dataloader, y_col)\u001b[0m\n\u001b[0;32m     43\u001b[0m                 \u001b[0mtrain_df\u001b[0m \u001b[1;33m=\u001b[0m \u001b[0mself\u001b[0m\u001b[1;33m.\u001b[0m\u001b[0mget_data\u001b[0m\u001b[1;33m(\u001b[0m\u001b[0mdataloader\u001b[0m\u001b[1;33m,\u001b[0m \u001b[0mtrain_ind\u001b[0m\u001b[1;33m)\u001b[0m\u001b[1;33m\u001b[0m\u001b[1;33m\u001b[0m\u001b[0m\n\u001b[1;32m---> 44\u001b[1;33m                 \u001b[0mtest_df\u001b[0m \u001b[1;33m=\u001b[0m \u001b[0mself\u001b[0m\u001b[1;33m.\u001b[0m\u001b[0mget_data\u001b[0m\u001b[1;33m(\u001b[0m\u001b[0mdataloader\u001b[0m\u001b[1;33m,\u001b[0m \u001b[0mtest_ind\u001b[0m\u001b[1;33m)\u001b[0m\u001b[1;33m\u001b[0m\u001b[1;33m\u001b[0m\u001b[0m\n\u001b[0m\u001b[0;32m     45\u001b[0m                 \u001b[0my_train\u001b[0m \u001b[1;33m=\u001b[0m \u001b[0mtrain_df\u001b[0m\u001b[1;33m[\u001b[0m\u001b[0my_col\u001b[0m\u001b[1;33m]\u001b[0m\u001b[1;33m\u001b[0m\u001b[1;33m\u001b[0m\u001b[0m\n",
      "\u001b[1;32mE:\\jupyternote\\QF\\CryptalC\\SimpleAlpha\\ml_performance.py\u001b[0m in \u001b[0;36mget_data\u001b[1;34m(self, dataloader, indices)\u001b[0m\n\u001b[0;32m     81\u001b[0m             \u001b[0mdf_list\u001b[0m \u001b[1;33m+=\u001b[0m \u001b[0mtemp_df_list\u001b[0m  \u001b[1;31m# 合并为一个更长的list，每一个元素都是一个df\u001b[0m\u001b[1;33m\u001b[0m\u001b[1;33m\u001b[0m\u001b[0m\n\u001b[1;32m---> 82\u001b[1;33m         \u001b[0mdata_df\u001b[0m \u001b[1;33m=\u001b[0m \u001b[0mpd\u001b[0m\u001b[1;33m.\u001b[0m\u001b[0mconcat\u001b[0m\u001b[1;33m(\u001b[0m\u001b[0mdf_list\u001b[0m\u001b[1;33m,\u001b[0m \u001b[0maxis\u001b[0m\u001b[1;33m=\u001b[0m\u001b[1;36m0\u001b[0m\u001b[1;33m)\u001b[0m\u001b[1;33m\u001b[0m\u001b[1;33m\u001b[0m\u001b[0m\n\u001b[0m\u001b[0;32m     83\u001b[0m         \u001b[0mdata_df\u001b[0m \u001b[1;33m=\u001b[0m \u001b[0mdata_df\u001b[0m\u001b[1;33m[\u001b[0m\u001b[0mnp\u001b[0m\u001b[1;33m.\u001b[0m\u001b[0mabs\u001b[0m\u001b[1;33m(\u001b[0m\u001b[0mdata_df\u001b[0m\u001b[1;33m[\u001b[0m\u001b[1;34m'close_Z'\u001b[0m\u001b[1;33m]\u001b[0m\u001b[1;33m)\u001b[0m \u001b[1;33m>\u001b[0m \u001b[1;36m1.07\u001b[0m\u001b[1;33m]\u001b[0m  \u001b[1;31m# 默认的cut\u001b[0m\u001b[1;33m\u001b[0m\u001b[1;33m\u001b[0m\u001b[0m\n",
      "\u001b[1;32mF:\\ProgramData\\Anaconda3\\envs\\pythonlab\\lib\\site-packages\\pandas\\util\\_decorators.py\u001b[0m in \u001b[0;36mwrapper\u001b[1;34m(*args, **kwargs)\u001b[0m\n\u001b[0;32m    310\u001b[0m                 )\n\u001b[1;32m--> 311\u001b[1;33m             \u001b[1;32mreturn\u001b[0m \u001b[0mfunc\u001b[0m\u001b[1;33m(\u001b[0m\u001b[1;33m*\u001b[0m\u001b[0margs\u001b[0m\u001b[1;33m,\u001b[0m \u001b[1;33m**\u001b[0m\u001b[0mkwargs\u001b[0m\u001b[1;33m)\u001b[0m\u001b[1;33m\u001b[0m\u001b[1;33m\u001b[0m\u001b[0m\n\u001b[0m\u001b[0;32m    312\u001b[0m \u001b[1;33m\u001b[0m\u001b[0m\n",
      "\u001b[1;32mF:\\ProgramData\\Anaconda3\\envs\\pythonlab\\lib\\site-packages\\pandas\\core\\reshape\\concat.py\u001b[0m in \u001b[0;36mconcat\u001b[1;34m(objs, axis, join, ignore_index, keys, levels, names, verify_integrity, sort, copy)\u001b[0m\n\u001b[0;32m    306\u001b[0m \u001b[1;33m\u001b[0m\u001b[0m\n\u001b[1;32m--> 307\u001b[1;33m     \u001b[1;32mreturn\u001b[0m \u001b[0mop\u001b[0m\u001b[1;33m.\u001b[0m\u001b[0mget_result\u001b[0m\u001b[1;33m(\u001b[0m\u001b[1;33m)\u001b[0m\u001b[1;33m\u001b[0m\u001b[1;33m\u001b[0m\u001b[0m\n\u001b[0m\u001b[0;32m    308\u001b[0m \u001b[1;33m\u001b[0m\u001b[0m\n",
      "\u001b[1;32mF:\\ProgramData\\Anaconda3\\envs\\pythonlab\\lib\\site-packages\\pandas\\core\\reshape\\concat.py\u001b[0m in \u001b[0;36mget_result\u001b[1;34m(self)\u001b[0m\n\u001b[0;32m    531\u001b[0m \u001b[1;33m\u001b[0m\u001b[0m\n\u001b[1;32m--> 532\u001b[1;33m             new_data = concatenate_managers(\n\u001b[0m\u001b[0;32m    533\u001b[0m                 \u001b[0mmgrs_indexers\u001b[0m\u001b[1;33m,\u001b[0m \u001b[0mself\u001b[0m\u001b[1;33m.\u001b[0m\u001b[0mnew_axes\u001b[0m\u001b[1;33m,\u001b[0m \u001b[0mconcat_axis\u001b[0m\u001b[1;33m=\u001b[0m\u001b[0mself\u001b[0m\u001b[1;33m.\u001b[0m\u001b[0mbm_axis\u001b[0m\u001b[1;33m,\u001b[0m \u001b[0mcopy\u001b[0m\u001b[1;33m=\u001b[0m\u001b[0mself\u001b[0m\u001b[1;33m.\u001b[0m\u001b[0mcopy\u001b[0m\u001b[1;33m\u001b[0m\u001b[1;33m\u001b[0m\u001b[0m\n",
      "\u001b[1;32mF:\\ProgramData\\Anaconda3\\envs\\pythonlab\\lib\\site-packages\\pandas\\core\\internals\\concat.py\u001b[0m in \u001b[0;36mconcatenate_managers\u001b[1;34m(mgrs_indexers, axes, concat_axis, copy)\u001b[0m\n\u001b[0;32m    221\u001b[0m         \u001b[1;32melse\u001b[0m\u001b[1;33m:\u001b[0m\u001b[1;33m\u001b[0m\u001b[1;33m\u001b[0m\u001b[0m\n\u001b[1;32m--> 222\u001b[1;33m             \u001b[0mvalues\u001b[0m \u001b[1;33m=\u001b[0m \u001b[0m_concatenate_join_units\u001b[0m\u001b[1;33m(\u001b[0m\u001b[0mjoin_units\u001b[0m\u001b[1;33m,\u001b[0m \u001b[0mconcat_axis\u001b[0m\u001b[1;33m,\u001b[0m \u001b[0mcopy\u001b[0m\u001b[1;33m=\u001b[0m\u001b[0mcopy\u001b[0m\u001b[1;33m)\u001b[0m\u001b[1;33m\u001b[0m\u001b[1;33m\u001b[0m\u001b[0m\n\u001b[0m\u001b[0;32m    223\u001b[0m             \u001b[0mfastpath\u001b[0m \u001b[1;33m=\u001b[0m \u001b[1;32mFalse\u001b[0m\u001b[1;33m\u001b[0m\u001b[1;33m\u001b[0m\u001b[0m\n",
      "\u001b[1;32mF:\\ProgramData\\Anaconda3\\envs\\pythonlab\\lib\\site-packages\\pandas\\core\\internals\\concat.py\u001b[0m in \u001b[0;36m_concatenate_join_units\u001b[1;34m(join_units, concat_axis, copy)\u001b[0m\n\u001b[0;32m    485\u001b[0m \u001b[1;33m\u001b[0m\u001b[0m\n\u001b[1;32m--> 486\u001b[1;33m     to_concat = [\n\u001b[0m\u001b[0;32m    487\u001b[0m         \u001b[0mju\u001b[0m\u001b[1;33m.\u001b[0m\u001b[0mget_reindexed_values\u001b[0m\u001b[1;33m(\u001b[0m\u001b[0mempty_dtype\u001b[0m\u001b[1;33m=\u001b[0m\u001b[0mempty_dtype\u001b[0m\u001b[1;33m,\u001b[0m \u001b[0mupcasted_na\u001b[0m\u001b[1;33m=\u001b[0m\u001b[0mupcasted_na\u001b[0m\u001b[1;33m)\u001b[0m\u001b[1;33m\u001b[0m\u001b[1;33m\u001b[0m\u001b[0m\n",
      "\u001b[1;32mF:\\ProgramData\\Anaconda3\\envs\\pythonlab\\lib\\site-packages\\pandas\\core\\internals\\concat.py\u001b[0m in \u001b[0;36m<listcomp>\u001b[1;34m(.0)\u001b[0m\n\u001b[0;32m    486\u001b[0m     to_concat = [\n\u001b[1;32m--> 487\u001b[1;33m         \u001b[0mju\u001b[0m\u001b[1;33m.\u001b[0m\u001b[0mget_reindexed_values\u001b[0m\u001b[1;33m(\u001b[0m\u001b[0mempty_dtype\u001b[0m\u001b[1;33m=\u001b[0m\u001b[0mempty_dtype\u001b[0m\u001b[1;33m,\u001b[0m \u001b[0mupcasted_na\u001b[0m\u001b[1;33m=\u001b[0m\u001b[0mupcasted_na\u001b[0m\u001b[1;33m)\u001b[0m\u001b[1;33m\u001b[0m\u001b[1;33m\u001b[0m\u001b[0m\n\u001b[0m\u001b[0;32m    488\u001b[0m         \u001b[1;32mfor\u001b[0m \u001b[0mju\u001b[0m \u001b[1;32min\u001b[0m \u001b[0mjoin_units\u001b[0m\u001b[1;33m\u001b[0m\u001b[1;33m\u001b[0m\u001b[0m\n",
      "\u001b[1;32mF:\\ProgramData\\Anaconda3\\envs\\pythonlab\\lib\\site-packages\\pandas\\core\\internals\\concat.py\u001b[0m in \u001b[0;36mget_reindexed_values\u001b[1;34m(self, empty_dtype, upcasted_na)\u001b[0m\n\u001b[0;32m    465\u001b[0m             \u001b[1;32mfor\u001b[0m \u001b[0max\u001b[0m\u001b[1;33m,\u001b[0m \u001b[0mindexer\u001b[0m \u001b[1;32min\u001b[0m \u001b[0mself\u001b[0m\u001b[1;33m.\u001b[0m\u001b[0mindexers\u001b[0m\u001b[1;33m.\u001b[0m\u001b[0mitems\u001b[0m\u001b[1;33m(\u001b[0m\u001b[1;33m)\u001b[0m\u001b[1;33m:\u001b[0m\u001b[1;33m\u001b[0m\u001b[1;33m\u001b[0m\u001b[0m\n\u001b[1;32m--> 466\u001b[1;33m                 \u001b[0mvalues\u001b[0m \u001b[1;33m=\u001b[0m \u001b[0malgos\u001b[0m\u001b[1;33m.\u001b[0m\u001b[0mtake_nd\u001b[0m\u001b[1;33m(\u001b[0m\u001b[0mvalues\u001b[0m\u001b[1;33m,\u001b[0m \u001b[0mindexer\u001b[0m\u001b[1;33m,\u001b[0m \u001b[0maxis\u001b[0m\u001b[1;33m=\u001b[0m\u001b[0max\u001b[0m\u001b[1;33m)\u001b[0m\u001b[1;33m\u001b[0m\u001b[1;33m\u001b[0m\u001b[0m\n\u001b[0m\u001b[0;32m    467\u001b[0m \u001b[1;33m\u001b[0m\u001b[0m\n",
      "\u001b[1;32mF:\\ProgramData\\Anaconda3\\envs\\pythonlab\\lib\\site-packages\\pandas\\core\\array_algos\\take.py\u001b[0m in \u001b[0;36mtake_nd\u001b[1;34m(arr, indexer, axis, fill_value, allow_fill)\u001b[0m\n\u001b[0;32m    107\u001b[0m     \u001b[0marr\u001b[0m \u001b[1;33m=\u001b[0m \u001b[0mnp\u001b[0m\u001b[1;33m.\u001b[0m\u001b[0masarray\u001b[0m\u001b[1;33m(\u001b[0m\u001b[0marr\u001b[0m\u001b[1;33m)\u001b[0m\u001b[1;33m\u001b[0m\u001b[1;33m\u001b[0m\u001b[0m\n\u001b[1;32m--> 108\u001b[1;33m     \u001b[1;32mreturn\u001b[0m \u001b[0m_take_nd_ndarray\u001b[0m\u001b[1;33m(\u001b[0m\u001b[0marr\u001b[0m\u001b[1;33m,\u001b[0m \u001b[0mindexer\u001b[0m\u001b[1;33m,\u001b[0m \u001b[0maxis\u001b[0m\u001b[1;33m,\u001b[0m \u001b[0mfill_value\u001b[0m\u001b[1;33m,\u001b[0m \u001b[0mallow_fill\u001b[0m\u001b[1;33m)\u001b[0m\u001b[1;33m\u001b[0m\u001b[1;33m\u001b[0m\u001b[0m\n\u001b[0m\u001b[0;32m    109\u001b[0m \u001b[1;33m\u001b[0m\u001b[0m\n",
      "\u001b[1;32mF:\\ProgramData\\Anaconda3\\envs\\pythonlab\\lib\\site-packages\\pandas\\core\\array_algos\\take.py\u001b[0m in \u001b[0;36m_take_nd_ndarray\u001b[1;34m(arr, indexer, axis, fill_value, allow_fill)\u001b[0m\n\u001b[0;32m    153\u001b[0m     )\n\u001b[1;32m--> 154\u001b[1;33m     \u001b[0mfunc\u001b[0m\u001b[1;33m(\u001b[0m\u001b[0marr\u001b[0m\u001b[1;33m,\u001b[0m \u001b[0mindexer\u001b[0m\u001b[1;33m,\u001b[0m \u001b[0mout\u001b[0m\u001b[1;33m,\u001b[0m \u001b[0mfill_value\u001b[0m\u001b[1;33m)\u001b[0m\u001b[1;33m\u001b[0m\u001b[1;33m\u001b[0m\u001b[0m\n\u001b[0m\u001b[0;32m    155\u001b[0m \u001b[1;33m\u001b[0m\u001b[0m\n",
      "\u001b[1;31mKeyboardInterrupt\u001b[0m: ",
      "\nDuring handling of the above exception, another exception occurred:\n",
      "\u001b[1;31mAttributeError\u001b[0m                            Traceback (most recent call last)",
      "\u001b[1;32mF:\\ProgramData\\Anaconda3\\envs\\pythonlab\\lib\\site-packages\\IPython\\core\\interactiveshell.py\u001b[0m in \u001b[0;36mshowtraceback\u001b[1;34m(self, exc_tuple, filename, tb_offset, exception_only, running_compiled_code)\u001b[0m\n\u001b[0;32m   2060\u001b[0m                         \u001b[1;31m# in the engines. This should return a list of strings.\u001b[0m\u001b[1;33m\u001b[0m\u001b[1;33m\u001b[0m\u001b[1;33m\u001b[0m\u001b[0m\n\u001b[1;32m-> 2061\u001b[1;33m                         \u001b[0mstb\u001b[0m \u001b[1;33m=\u001b[0m \u001b[0mvalue\u001b[0m\u001b[1;33m.\u001b[0m\u001b[0m_render_traceback_\u001b[0m\u001b[1;33m(\u001b[0m\u001b[1;33m)\u001b[0m\u001b[1;33m\u001b[0m\u001b[1;33m\u001b[0m\u001b[0m\n\u001b[0m\u001b[0;32m   2062\u001b[0m                     \u001b[1;32mexcept\u001b[0m \u001b[0mException\u001b[0m\u001b[1;33m:\u001b[0m\u001b[1;33m\u001b[0m\u001b[1;33m\u001b[0m\u001b[0m\n",
      "\u001b[1;31mAttributeError\u001b[0m: 'KeyboardInterrupt' object has no attribute '_render_traceback_'",
      "\nDuring handling of the above exception, another exception occurred:\n",
      "\u001b[1;31mTypeError\u001b[0m                                 Traceback (most recent call last)",
      "    \u001b[1;31m[... skipping hidden 1 frame]\u001b[0m\n",
      "\u001b[1;32mF:\\ProgramData\\Anaconda3\\envs\\pythonlab\\lib\\site-packages\\IPython\\core\\interactiveshell.py\u001b[0m in \u001b[0;36mshowtraceback\u001b[1;34m(self, exc_tuple, filename, tb_offset, exception_only, running_compiled_code)\u001b[0m\n\u001b[0;32m   2061\u001b[0m                         \u001b[0mstb\u001b[0m \u001b[1;33m=\u001b[0m \u001b[0mvalue\u001b[0m\u001b[1;33m.\u001b[0m\u001b[0m_render_traceback_\u001b[0m\u001b[1;33m(\u001b[0m\u001b[1;33m)\u001b[0m\u001b[1;33m\u001b[0m\u001b[1;33m\u001b[0m\u001b[0m\n\u001b[0;32m   2062\u001b[0m                     \u001b[1;32mexcept\u001b[0m \u001b[0mException\u001b[0m\u001b[1;33m:\u001b[0m\u001b[1;33m\u001b[0m\u001b[1;33m\u001b[0m\u001b[0m\n\u001b[1;32m-> 2063\u001b[1;33m                         stb = self.InteractiveTB.structured_traceback(etype,\n\u001b[0m\u001b[0;32m   2064\u001b[0m                                             value, tb, tb_offset=tb_offset)\n\u001b[0;32m   2065\u001b[0m \u001b[1;33m\u001b[0m\u001b[0m\n",
      "\u001b[1;32mF:\\ProgramData\\Anaconda3\\envs\\pythonlab\\lib\\site-packages\\IPython\\core\\ultratb.py\u001b[0m in \u001b[0;36mstructured_traceback\u001b[1;34m(self, etype, value, tb, tb_offset, number_of_lines_of_context)\u001b[0m\n\u001b[0;32m   1365\u001b[0m         \u001b[1;32melse\u001b[0m\u001b[1;33m:\u001b[0m\u001b[1;33m\u001b[0m\u001b[1;33m\u001b[0m\u001b[0m\n\u001b[0;32m   1366\u001b[0m             \u001b[0mself\u001b[0m\u001b[1;33m.\u001b[0m\u001b[0mtb\u001b[0m \u001b[1;33m=\u001b[0m \u001b[0mtb\u001b[0m\u001b[1;33m\u001b[0m\u001b[1;33m\u001b[0m\u001b[0m\n\u001b[1;32m-> 1367\u001b[1;33m         return FormattedTB.structured_traceback(\n\u001b[0m\u001b[0;32m   1368\u001b[0m             self, etype, value, tb, tb_offset, number_of_lines_of_context)\n\u001b[0;32m   1369\u001b[0m \u001b[1;33m\u001b[0m\u001b[0m\n",
      "\u001b[1;32mF:\\ProgramData\\Anaconda3\\envs\\pythonlab\\lib\\site-packages\\IPython\\core\\ultratb.py\u001b[0m in \u001b[0;36mstructured_traceback\u001b[1;34m(self, etype, value, tb, tb_offset, number_of_lines_of_context)\u001b[0m\n\u001b[0;32m   1265\u001b[0m         \u001b[1;32mif\u001b[0m \u001b[0mmode\u001b[0m \u001b[1;32min\u001b[0m \u001b[0mself\u001b[0m\u001b[1;33m.\u001b[0m\u001b[0mverbose_modes\u001b[0m\u001b[1;33m:\u001b[0m\u001b[1;33m\u001b[0m\u001b[1;33m\u001b[0m\u001b[0m\n\u001b[0;32m   1266\u001b[0m             \u001b[1;31m# Verbose modes need a full traceback\u001b[0m\u001b[1;33m\u001b[0m\u001b[1;33m\u001b[0m\u001b[1;33m\u001b[0m\u001b[0m\n\u001b[1;32m-> 1267\u001b[1;33m             return VerboseTB.structured_traceback(\n\u001b[0m\u001b[0;32m   1268\u001b[0m                 \u001b[0mself\u001b[0m\u001b[1;33m,\u001b[0m \u001b[0metype\u001b[0m\u001b[1;33m,\u001b[0m \u001b[0mvalue\u001b[0m\u001b[1;33m,\u001b[0m \u001b[0mtb\u001b[0m\u001b[1;33m,\u001b[0m \u001b[0mtb_offset\u001b[0m\u001b[1;33m,\u001b[0m \u001b[0mnumber_of_lines_of_context\u001b[0m\u001b[1;33m\u001b[0m\u001b[1;33m\u001b[0m\u001b[0m\n\u001b[0;32m   1269\u001b[0m             )\n",
      "\u001b[1;32mF:\\ProgramData\\Anaconda3\\envs\\pythonlab\\lib\\site-packages\\IPython\\core\\ultratb.py\u001b[0m in \u001b[0;36mstructured_traceback\u001b[1;34m(self, etype, evalue, etb, tb_offset, number_of_lines_of_context)\u001b[0m\n\u001b[0;32m   1122\u001b[0m         \u001b[1;34m\"\"\"Return a nice text document describing the traceback.\"\"\"\u001b[0m\u001b[1;33m\u001b[0m\u001b[1;33m\u001b[0m\u001b[0m\n\u001b[0;32m   1123\u001b[0m \u001b[1;33m\u001b[0m\u001b[0m\n\u001b[1;32m-> 1124\u001b[1;33m         formatted_exception = self.format_exception_as_a_whole(etype, evalue, etb, number_of_lines_of_context,\n\u001b[0m\u001b[0;32m   1125\u001b[0m                                                                tb_offset)\n\u001b[0;32m   1126\u001b[0m \u001b[1;33m\u001b[0m\u001b[0m\n",
      "\u001b[1;32mF:\\ProgramData\\Anaconda3\\envs\\pythonlab\\lib\\site-packages\\IPython\\core\\ultratb.py\u001b[0m in \u001b[0;36mformat_exception_as_a_whole\u001b[1;34m(self, etype, evalue, etb, number_of_lines_of_context, tb_offset)\u001b[0m\n\u001b[0;32m   1080\u001b[0m \u001b[1;33m\u001b[0m\u001b[0m\n\u001b[0;32m   1081\u001b[0m \u001b[1;33m\u001b[0m\u001b[0m\n\u001b[1;32m-> 1082\u001b[1;33m         \u001b[0mlast_unique\u001b[0m\u001b[1;33m,\u001b[0m \u001b[0mrecursion_repeat\u001b[0m \u001b[1;33m=\u001b[0m \u001b[0mfind_recursion\u001b[0m\u001b[1;33m(\u001b[0m\u001b[0morig_etype\u001b[0m\u001b[1;33m,\u001b[0m \u001b[0mevalue\u001b[0m\u001b[1;33m,\u001b[0m \u001b[0mrecords\u001b[0m\u001b[1;33m)\u001b[0m\u001b[1;33m\u001b[0m\u001b[1;33m\u001b[0m\u001b[0m\n\u001b[0m\u001b[0;32m   1083\u001b[0m \u001b[1;33m\u001b[0m\u001b[0m\n\u001b[0;32m   1084\u001b[0m         \u001b[0mframes\u001b[0m \u001b[1;33m=\u001b[0m \u001b[0mself\u001b[0m\u001b[1;33m.\u001b[0m\u001b[0mformat_records\u001b[0m\u001b[1;33m(\u001b[0m\u001b[0mrecords\u001b[0m\u001b[1;33m,\u001b[0m \u001b[0mlast_unique\u001b[0m\u001b[1;33m,\u001b[0m \u001b[0mrecursion_repeat\u001b[0m\u001b[1;33m)\u001b[0m\u001b[1;33m\u001b[0m\u001b[1;33m\u001b[0m\u001b[0m\n",
      "\u001b[1;32mF:\\ProgramData\\Anaconda3\\envs\\pythonlab\\lib\\site-packages\\IPython\\core\\ultratb.py\u001b[0m in \u001b[0;36mfind_recursion\u001b[1;34m(etype, value, records)\u001b[0m\n\u001b[0;32m    380\u001b[0m     \u001b[1;31m# first frame (from in to out) that looks different.\u001b[0m\u001b[1;33m\u001b[0m\u001b[1;33m\u001b[0m\u001b[1;33m\u001b[0m\u001b[0m\n\u001b[0;32m    381\u001b[0m     \u001b[1;32mif\u001b[0m \u001b[1;32mnot\u001b[0m \u001b[0mis_recursion_error\u001b[0m\u001b[1;33m(\u001b[0m\u001b[0metype\u001b[0m\u001b[1;33m,\u001b[0m \u001b[0mvalue\u001b[0m\u001b[1;33m,\u001b[0m \u001b[0mrecords\u001b[0m\u001b[1;33m)\u001b[0m\u001b[1;33m:\u001b[0m\u001b[1;33m\u001b[0m\u001b[1;33m\u001b[0m\u001b[0m\n\u001b[1;32m--> 382\u001b[1;33m         \u001b[1;32mreturn\u001b[0m \u001b[0mlen\u001b[0m\u001b[1;33m(\u001b[0m\u001b[0mrecords\u001b[0m\u001b[1;33m)\u001b[0m\u001b[1;33m,\u001b[0m \u001b[1;36m0\u001b[0m\u001b[1;33m\u001b[0m\u001b[1;33m\u001b[0m\u001b[0m\n\u001b[0m\u001b[0;32m    383\u001b[0m \u001b[1;33m\u001b[0m\u001b[0m\n\u001b[0;32m    384\u001b[0m     \u001b[1;31m# Select filename, lineno, func_name to track frames with\u001b[0m\u001b[1;33m\u001b[0m\u001b[1;33m\u001b[0m\u001b[1;33m\u001b[0m\u001b[0m\n",
      "\u001b[1;31mTypeError\u001b[0m: object of type 'NoneType' has no len()"
     ]
    }
   ],
   "source": [
    "ml_evaluator.evaluate(dl, 'fwd_rtn_20_bool')"
   ]
  },
  {
   "cell_type": "code",
   "execution_count": 66,
   "id": "c13eab84-7891-4ed2-98a7-511de166d347",
   "metadata": {},
   "outputs": [],
   "source": [
    "ml_record = ml_evaluator.get_assess_df('f1')"
   ]
  },
  {
   "cell_type": "code",
   "execution_count": 67,
   "id": "96d8a2b7-6dcc-49d6-bc2c-5b7b460c22f9",
   "metadata": {},
   "outputs": [
    {
     "name": "stdout",
     "output_type": "stream",
     "text": [
      "Machine Learning records\n"
     ]
    },
    {
     "data": {
      "text/html": [
       "<div>\n",
       "<style scoped>\n",
       "    .dataframe tbody tr th:only-of-type {\n",
       "        vertical-align: middle;\n",
       "    }\n",
       "\n",
       "    .dataframe tbody tr th {\n",
       "        vertical-align: top;\n",
       "    }\n",
       "\n",
       "    .dataframe thead th {\n",
       "        text-align: right;\n",
       "    }\n",
       "</style>\n",
       "<table border=\"1\" class=\"dataframe\">\n",
       "  <thead>\n",
       "    <tr style=\"text-align: right;\">\n",
       "      <th></th>\n",
       "      <th>0</th>\n",
       "      <th>1</th>\n",
       "      <th>2</th>\n",
       "      <th>3</th>\n",
       "      <th>4</th>\n",
       "      <th>5</th>\n",
       "      <th>6</th>\n",
       "      <th>7</th>\n",
       "      <th>8</th>\n",
       "      <th>9</th>\n",
       "      <th>mean</th>\n",
       "      <th>std</th>\n",
       "    </tr>\n",
       "  </thead>\n",
       "  <tbody>\n",
       "    <tr>\n",
       "      <th>baseline</th>\n",
       "      <td>0.6135</td>\n",
       "      <td>0.6072</td>\n",
       "      <td>0.6028</td>\n",
       "      <td>0.6311</td>\n",
       "      <td>0.6191</td>\n",
       "      <td>0.6246</td>\n",
       "      <td>0.6046</td>\n",
       "      <td>0.6473</td>\n",
       "      <td>0.6185</td>\n",
       "      <td>0.6074</td>\n",
       "      <td>0.6176</td>\n",
       "      <td>0.0139</td>\n",
       "    </tr>\n",
       "    <tr>\n",
       "      <th>high_ic</th>\n",
       "      <td>0.6027</td>\n",
       "      <td>0.5745</td>\n",
       "      <td>0.5883</td>\n",
       "      <td>0.5807</td>\n",
       "      <td>0.5765</td>\n",
       "      <td>0.5990</td>\n",
       "      <td>0.5734</td>\n",
       "      <td>0.6275</td>\n",
       "      <td>0.6106</td>\n",
       "      <td>0.5766</td>\n",
       "      <td>0.5910</td>\n",
       "      <td>0.0184</td>\n",
       "    </tr>\n",
       "  </tbody>\n",
       "</table>\n",
       "</div>"
      ],
      "text/plain": [
       "               0       1       2       3       4       5       6       7  \\\n",
       "baseline  0.6135  0.6072  0.6028  0.6311  0.6191  0.6246  0.6046  0.6473   \n",
       "high_ic   0.6027  0.5745  0.5883  0.5807  0.5765  0.5990  0.5734  0.6275   \n",
       "\n",
       "               8       9    mean     std  \n",
       "baseline  0.6185  0.6074  0.6176  0.0139  \n",
       "high_ic   0.6106  0.5766  0.5910  0.0184  "
      ]
     },
     "metadata": {},
     "output_type": "display_data"
    },
    {
     "name": "stdout",
     "output_type": "stream",
     "text": [
      "Machine Learning T-test Analysis\n"
     ]
    },
    {
     "data": {
      "text/html": [
       "<div>\n",
       "<style scoped>\n",
       "    .dataframe tbody tr th:only-of-type {\n",
       "        vertical-align: middle;\n",
       "    }\n",
       "\n",
       "    .dataframe tbody tr th {\n",
       "        vertical-align: top;\n",
       "    }\n",
       "\n",
       "    .dataframe thead th {\n",
       "        text-align: right;\n",
       "    }\n",
       "</style>\n",
       "<table border=\"1\" class=\"dataframe\">\n",
       "  <thead>\n",
       "    <tr style=\"text-align: right;\">\n",
       "      <th></th>\n",
       "      <th>t_ind</th>\n",
       "      <th>p_ind</th>\n",
       "      <th>t_rel</th>\n",
       "      <th>p_rel</th>\n",
       "    </tr>\n",
       "    <tr>\n",
       "      <th>record_name</th>\n",
       "      <th></th>\n",
       "      <th></th>\n",
       "      <th></th>\n",
       "      <th></th>\n",
       "    </tr>\n",
       "  </thead>\n",
       "  <tbody>\n",
       "    <tr>\n",
       "      <th>high_ic</th>\n",
       "      <td>3.6631</td>\n",
       "      <td>0.0018</td>\n",
       "      <td>6.1492</td>\n",
       "      <td>0.0002</td>\n",
       "    </tr>\n",
       "  </tbody>\n",
       "</table>\n",
       "</div>"
      ],
      "text/plain": [
       "              t_ind   p_ind   t_rel   p_rel\n",
       "record_name                                \n",
       "high_ic      3.6631  0.0018  6.1492  0.0002"
      ]
     },
     "metadata": {},
     "output_type": "display_data"
    }
   ],
   "source": [
    "plotting.plot_ML_table(ml_record)"
   ]
  },
  {
   "cell_type": "code",
   "execution_count": 68,
   "id": "f633eb98-a523-4aec-a415-0f8e9277d054",
   "metadata": {},
   "outputs": [
    {
     "data": {
      "application/vnd.plotly.v1+json": {
       "config": {
        "linkText": "Export to plot.ly",
        "plotlyServerURL": "https://plot.ly",
        "showLink": true
       },
       "data": [
        {
         "marker": {
          "color": "rgba(255, 153, 51, 0.6)",
          "line": {
           "color": "rgba(255, 153, 51, 1.0)",
           "width": 1
          }
         },
         "name": "baseline",
         "orientation": "v",
         "text": "",
         "type": "bar",
         "x": [
          0,
          1,
          2,
          3,
          4,
          5,
          6,
          7,
          8,
          9
         ],
         "y": [
          0.6135372122154552,
          0.6071987480438185,
          0.6028391584598227,
          0.631091798703478,
          0.6191322152298937,
          0.6246395237061615,
          0.6046094958872872,
          0.6472642962827377,
          0.6185185185185186,
          0.6074358842045513
         ]
        },
        {
         "marker": {
          "color": "rgba(55, 128, 191, 0.6)",
          "line": {
           "color": "rgba(55, 128, 191, 1.0)",
           "width": 1
          }
         },
         "name": "high_ic",
         "orientation": "v",
         "text": "",
         "type": "bar",
         "x": [
          0,
          1,
          2,
          3,
          4,
          5,
          6,
          7,
          8,
          9
         ],
         "y": [
          0.6026984571022788,
          0.5745441779845097,
          0.5882777071513956,
          0.5806864519904182,
          0.576493963013908,
          0.5990066739096694,
          0.5734282009508926,
          0.6275446955326872,
          0.610581862333053,
          0.5765567575961489
         ]
        }
       ],
       "layout": {
        "autosize": true,
        "legend": {
         "bgcolor": "#FFFFFF",
         "font": {
          "color": "#4D5663"
         }
        },
        "paper_bgcolor": "#FFFFFF",
        "plot_bgcolor": "#FFFFFF",
        "template": {
         "data": {
          "bar": [
           {
            "error_x": {
             "color": "#2a3f5f"
            },
            "error_y": {
             "color": "#2a3f5f"
            },
            "marker": {
             "line": {
              "color": "#E5ECF6",
              "width": 0.5
             },
             "pattern": {
              "fillmode": "overlay",
              "size": 10,
              "solidity": 0.2
             }
            },
            "type": "bar"
           }
          ],
          "barpolar": [
           {
            "marker": {
             "line": {
              "color": "#E5ECF6",
              "width": 0.5
             },
             "pattern": {
              "fillmode": "overlay",
              "size": 10,
              "solidity": 0.2
             }
            },
            "type": "barpolar"
           }
          ],
          "carpet": [
           {
            "aaxis": {
             "endlinecolor": "#2a3f5f",
             "gridcolor": "white",
             "linecolor": "white",
             "minorgridcolor": "white",
             "startlinecolor": "#2a3f5f"
            },
            "baxis": {
             "endlinecolor": "#2a3f5f",
             "gridcolor": "white",
             "linecolor": "white",
             "minorgridcolor": "white",
             "startlinecolor": "#2a3f5f"
            },
            "type": "carpet"
           }
          ],
          "choropleth": [
           {
            "colorbar": {
             "outlinewidth": 0,
             "ticks": ""
            },
            "type": "choropleth"
           }
          ],
          "contour": [
           {
            "colorbar": {
             "outlinewidth": 0,
             "ticks": ""
            },
            "colorscale": [
             [
              0,
              "#0d0887"
             ],
             [
              0.1111111111111111,
              "#46039f"
             ],
             [
              0.2222222222222222,
              "#7201a8"
             ],
             [
              0.3333333333333333,
              "#9c179e"
             ],
             [
              0.4444444444444444,
              "#bd3786"
             ],
             [
              0.5555555555555556,
              "#d8576b"
             ],
             [
              0.6666666666666666,
              "#ed7953"
             ],
             [
              0.7777777777777778,
              "#fb9f3a"
             ],
             [
              0.8888888888888888,
              "#fdca26"
             ],
             [
              1,
              "#f0f921"
             ]
            ],
            "type": "contour"
           }
          ],
          "contourcarpet": [
           {
            "colorbar": {
             "outlinewidth": 0,
             "ticks": ""
            },
            "type": "contourcarpet"
           }
          ],
          "heatmap": [
           {
            "colorbar": {
             "outlinewidth": 0,
             "ticks": ""
            },
            "colorscale": [
             [
              0,
              "#0d0887"
             ],
             [
              0.1111111111111111,
              "#46039f"
             ],
             [
              0.2222222222222222,
              "#7201a8"
             ],
             [
              0.3333333333333333,
              "#9c179e"
             ],
             [
              0.4444444444444444,
              "#bd3786"
             ],
             [
              0.5555555555555556,
              "#d8576b"
             ],
             [
              0.6666666666666666,
              "#ed7953"
             ],
             [
              0.7777777777777778,
              "#fb9f3a"
             ],
             [
              0.8888888888888888,
              "#fdca26"
             ],
             [
              1,
              "#f0f921"
             ]
            ],
            "type": "heatmap"
           }
          ],
          "heatmapgl": [
           {
            "colorbar": {
             "outlinewidth": 0,
             "ticks": ""
            },
            "colorscale": [
             [
              0,
              "#0d0887"
             ],
             [
              0.1111111111111111,
              "#46039f"
             ],
             [
              0.2222222222222222,
              "#7201a8"
             ],
             [
              0.3333333333333333,
              "#9c179e"
             ],
             [
              0.4444444444444444,
              "#bd3786"
             ],
             [
              0.5555555555555556,
              "#d8576b"
             ],
             [
              0.6666666666666666,
              "#ed7953"
             ],
             [
              0.7777777777777778,
              "#fb9f3a"
             ],
             [
              0.8888888888888888,
              "#fdca26"
             ],
             [
              1,
              "#f0f921"
             ]
            ],
            "type": "heatmapgl"
           }
          ],
          "histogram": [
           {
            "marker": {
             "pattern": {
              "fillmode": "overlay",
              "size": 10,
              "solidity": 0.2
             }
            },
            "type": "histogram"
           }
          ],
          "histogram2d": [
           {
            "colorbar": {
             "outlinewidth": 0,
             "ticks": ""
            },
            "colorscale": [
             [
              0,
              "#0d0887"
             ],
             [
              0.1111111111111111,
              "#46039f"
             ],
             [
              0.2222222222222222,
              "#7201a8"
             ],
             [
              0.3333333333333333,
              "#9c179e"
             ],
             [
              0.4444444444444444,
              "#bd3786"
             ],
             [
              0.5555555555555556,
              "#d8576b"
             ],
             [
              0.6666666666666666,
              "#ed7953"
             ],
             [
              0.7777777777777778,
              "#fb9f3a"
             ],
             [
              0.8888888888888888,
              "#fdca26"
             ],
             [
              1,
              "#f0f921"
             ]
            ],
            "type": "histogram2d"
           }
          ],
          "histogram2dcontour": [
           {
            "colorbar": {
             "outlinewidth": 0,
             "ticks": ""
            },
            "colorscale": [
             [
              0,
              "#0d0887"
             ],
             [
              0.1111111111111111,
              "#46039f"
             ],
             [
              0.2222222222222222,
              "#7201a8"
             ],
             [
              0.3333333333333333,
              "#9c179e"
             ],
             [
              0.4444444444444444,
              "#bd3786"
             ],
             [
              0.5555555555555556,
              "#d8576b"
             ],
             [
              0.6666666666666666,
              "#ed7953"
             ],
             [
              0.7777777777777778,
              "#fb9f3a"
             ],
             [
              0.8888888888888888,
              "#fdca26"
             ],
             [
              1,
              "#f0f921"
             ]
            ],
            "type": "histogram2dcontour"
           }
          ],
          "mesh3d": [
           {
            "colorbar": {
             "outlinewidth": 0,
             "ticks": ""
            },
            "type": "mesh3d"
           }
          ],
          "parcoords": [
           {
            "line": {
             "colorbar": {
              "outlinewidth": 0,
              "ticks": ""
             }
            },
            "type": "parcoords"
           }
          ],
          "pie": [
           {
            "automargin": true,
            "type": "pie"
           }
          ],
          "scatter": [
           {
            "marker": {
             "colorbar": {
              "outlinewidth": 0,
              "ticks": ""
             }
            },
            "type": "scatter"
           }
          ],
          "scatter3d": [
           {
            "line": {
             "colorbar": {
              "outlinewidth": 0,
              "ticks": ""
             }
            },
            "marker": {
             "colorbar": {
              "outlinewidth": 0,
              "ticks": ""
             }
            },
            "type": "scatter3d"
           }
          ],
          "scattercarpet": [
           {
            "marker": {
             "colorbar": {
              "outlinewidth": 0,
              "ticks": ""
             }
            },
            "type": "scattercarpet"
           }
          ],
          "scattergeo": [
           {
            "marker": {
             "colorbar": {
              "outlinewidth": 0,
              "ticks": ""
             }
            },
            "type": "scattergeo"
           }
          ],
          "scattergl": [
           {
            "marker": {
             "colorbar": {
              "outlinewidth": 0,
              "ticks": ""
             }
            },
            "type": "scattergl"
           }
          ],
          "scattermapbox": [
           {
            "marker": {
             "colorbar": {
              "outlinewidth": 0,
              "ticks": ""
             }
            },
            "type": "scattermapbox"
           }
          ],
          "scatterpolar": [
           {
            "marker": {
             "colorbar": {
              "outlinewidth": 0,
              "ticks": ""
             }
            },
            "type": "scatterpolar"
           }
          ],
          "scatterpolargl": [
           {
            "marker": {
             "colorbar": {
              "outlinewidth": 0,
              "ticks": ""
             }
            },
            "type": "scatterpolargl"
           }
          ],
          "scatterternary": [
           {
            "marker": {
             "colorbar": {
              "outlinewidth": 0,
              "ticks": ""
             }
            },
            "type": "scatterternary"
           }
          ],
          "surface": [
           {
            "colorbar": {
             "outlinewidth": 0,
             "ticks": ""
            },
            "colorscale": [
             [
              0,
              "#0d0887"
             ],
             [
              0.1111111111111111,
              "#46039f"
             ],
             [
              0.2222222222222222,
              "#7201a8"
             ],
             [
              0.3333333333333333,
              "#9c179e"
             ],
             [
              0.4444444444444444,
              "#bd3786"
             ],
             [
              0.5555555555555556,
              "#d8576b"
             ],
             [
              0.6666666666666666,
              "#ed7953"
             ],
             [
              0.7777777777777778,
              "#fb9f3a"
             ],
             [
              0.8888888888888888,
              "#fdca26"
             ],
             [
              1,
              "#f0f921"
             ]
            ],
            "type": "surface"
           }
          ],
          "table": [
           {
            "cells": {
             "fill": {
              "color": "#EBF0F8"
             },
             "line": {
              "color": "white"
             }
            },
            "header": {
             "fill": {
              "color": "#C8D4E3"
             },
             "line": {
              "color": "white"
             }
            },
            "type": "table"
           }
          ]
         },
         "layout": {
          "annotationdefaults": {
           "arrowcolor": "#2a3f5f",
           "arrowhead": 0,
           "arrowwidth": 1
          },
          "autotypenumbers": "strict",
          "coloraxis": {
           "colorbar": {
            "outlinewidth": 0,
            "ticks": ""
           }
          },
          "colorscale": {
           "diverging": [
            [
             0,
             "#8e0152"
            ],
            [
             0.1,
             "#c51b7d"
            ],
            [
             0.2,
             "#de77ae"
            ],
            [
             0.3,
             "#f1b6da"
            ],
            [
             0.4,
             "#fde0ef"
            ],
            [
             0.5,
             "#f7f7f7"
            ],
            [
             0.6,
             "#e6f5d0"
            ],
            [
             0.7,
             "#b8e186"
            ],
            [
             0.8,
             "#7fbc41"
            ],
            [
             0.9,
             "#4d9221"
            ],
            [
             1,
             "#276419"
            ]
           ],
           "sequential": [
            [
             0,
             "#0d0887"
            ],
            [
             0.1111111111111111,
             "#46039f"
            ],
            [
             0.2222222222222222,
             "#7201a8"
            ],
            [
             0.3333333333333333,
             "#9c179e"
            ],
            [
             0.4444444444444444,
             "#bd3786"
            ],
            [
             0.5555555555555556,
             "#d8576b"
            ],
            [
             0.6666666666666666,
             "#ed7953"
            ],
            [
             0.7777777777777778,
             "#fb9f3a"
            ],
            [
             0.8888888888888888,
             "#fdca26"
            ],
            [
             1,
             "#f0f921"
            ]
           ],
           "sequentialminus": [
            [
             0,
             "#0d0887"
            ],
            [
             0.1111111111111111,
             "#46039f"
            ],
            [
             0.2222222222222222,
             "#7201a8"
            ],
            [
             0.3333333333333333,
             "#9c179e"
            ],
            [
             0.4444444444444444,
             "#bd3786"
            ],
            [
             0.5555555555555556,
             "#d8576b"
            ],
            [
             0.6666666666666666,
             "#ed7953"
            ],
            [
             0.7777777777777778,
             "#fb9f3a"
            ],
            [
             0.8888888888888888,
             "#fdca26"
            ],
            [
             1,
             "#f0f921"
            ]
           ]
          },
          "colorway": [
           "#636efa",
           "#EF553B",
           "#00cc96",
           "#ab63fa",
           "#FFA15A",
           "#19d3f3",
           "#FF6692",
           "#B6E880",
           "#FF97FF",
           "#FECB52"
          ],
          "font": {
           "color": "#2a3f5f"
          },
          "geo": {
           "bgcolor": "white",
           "lakecolor": "white",
           "landcolor": "#E5ECF6",
           "showlakes": true,
           "showland": true,
           "subunitcolor": "white"
          },
          "hoverlabel": {
           "align": "left"
          },
          "hovermode": "closest",
          "mapbox": {
           "style": "light"
          },
          "paper_bgcolor": "white",
          "plot_bgcolor": "#E5ECF6",
          "polar": {
           "angularaxis": {
            "gridcolor": "white",
            "linecolor": "white",
            "ticks": ""
           },
           "bgcolor": "#E5ECF6",
           "radialaxis": {
            "gridcolor": "white",
            "linecolor": "white",
            "ticks": ""
           }
          },
          "scene": {
           "xaxis": {
            "backgroundcolor": "#E5ECF6",
            "gridcolor": "white",
            "gridwidth": 2,
            "linecolor": "white",
            "showbackground": true,
            "ticks": "",
            "zerolinecolor": "white"
           },
           "yaxis": {
            "backgroundcolor": "#E5ECF6",
            "gridcolor": "white",
            "gridwidth": 2,
            "linecolor": "white",
            "showbackground": true,
            "ticks": "",
            "zerolinecolor": "white"
           },
           "zaxis": {
            "backgroundcolor": "#E5ECF6",
            "gridcolor": "white",
            "gridwidth": 2,
            "linecolor": "white",
            "showbackground": true,
            "ticks": "",
            "zerolinecolor": "white"
           }
          },
          "shapedefaults": {
           "line": {
            "color": "#2a3f5f"
           }
          },
          "ternary": {
           "aaxis": {
            "gridcolor": "white",
            "linecolor": "white",
            "ticks": ""
           },
           "baxis": {
            "gridcolor": "white",
            "linecolor": "white",
            "ticks": ""
           },
           "bgcolor": "#E5ECF6",
           "caxis": {
            "gridcolor": "white",
            "linecolor": "white",
            "ticks": ""
           }
          },
          "title": {
           "x": 0.05
          },
          "xaxis": {
           "automargin": true,
           "gridcolor": "white",
           "linecolor": "white",
           "ticks": "",
           "title": {
            "standoff": 15
           },
           "zerolinecolor": "white",
           "zerolinewidth": 2
          },
          "yaxis": {
           "automargin": true,
           "gridcolor": "white",
           "linecolor": "white",
           "ticks": "",
           "title": {
            "standoff": 15
           },
           "zerolinecolor": "white",
           "zerolinewidth": 2
          }
         }
        },
        "title": {
         "font": {
          "color": "#4D5663"
         }
        },
        "xaxis": {
         "autorange": true,
         "gridcolor": "#E1E5ED",
         "range": [
          -0.5,
          9.5
         ],
         "showgrid": true,
         "tickfont": {
          "color": "#4D5663"
         },
         "title": {
          "font": {
           "color": "#4D5663"
          },
          "text": ""
         },
         "type": "linear",
         "zerolinecolor": "#E1E5ED"
        },
        "yaxis": {
         "autorange": true,
         "gridcolor": "#E1E5ED",
         "range": [
          0,
          0.6813308381923555
         ],
         "showgrid": true,
         "tickfont": {
          "color": "#4D5663"
         },
         "title": {
          "font": {
           "color": "#4D5663"
          },
          "text": ""
         },
         "type": "linear",
         "zerolinecolor": "#E1E5ED"
        }
       }
      },
      "image/png": "[encoded data removed]",
      "text/html": [
       "<div>                            <div id=\"60b67971-a344-45cd-a76c-357a50dbea3a\" class=\"plotly-graph-div\" style=\"height:525px; width:100%;\"></div>            <script type=\"text/javascript\">                require([\"plotly\"], function(Plotly) {                    window.PLOTLYENV=window.PLOTLYENV || {};\n",
       "                    window.PLOTLYENV.BASE_URL='https://plot.ly';                                    if (document.getElementById(\"60b67971-a344-45cd-a76c-357a50dbea3a\")) {                    Plotly.newPlot(                        \"60b67971-a344-45cd-a76c-357a50dbea3a\",                        [{\"marker\":{\"color\":\"rgba(255, 153, 51, 0.6)\",\"line\":{\"color\":\"rgba(255, 153, 51, 1.0)\",\"width\":1}},\"name\":\"baseline\",\"orientation\":\"v\",\"text\":\"\",\"type\":\"bar\",\"x\":[0,1,2,3,4,5,6,7,8,9],\"y\":[0.6135372122154552,0.6071987480438185,0.6028391584598227,0.631091798703478,0.6191322152298937,0.6246395237061615,0.6046094958872872,0.6472642962827377,0.6185185185185186,0.6074358842045513]},{\"marker\":{\"color\":\"rgba(55, 128, 191, 0.6)\",\"line\":{\"color\":\"rgba(55, 128, 191, 1.0)\",\"width\":1}},\"name\":\"high_ic\",\"orientation\":\"v\",\"text\":\"\",\"type\":\"bar\",\"x\":[0,1,2,3,4,5,6,7,8,9],\"y\":[0.6026984571022788,0.5745441779845097,0.5882777071513956,0.5806864519904182,0.576493963013908,0.5990066739096694,0.5734282009508926,0.6275446955326872,0.610581862333053,0.5765567575961489]}],                        {\"legend\":{\"bgcolor\":\"#FFFFFF\",\"font\":{\"color\":\"#4D5663\"}},\"paper_bgcolor\":\"#FFFFFF\",\"plot_bgcolor\":\"#FFFFFF\",\"template\":{\"data\":{\"bar\":[{\"error_x\":{\"color\":\"#2a3f5f\"},\"error_y\":{\"color\":\"#2a3f5f\"},\"marker\":{\"line\":{\"color\":\"#E5ECF6\",\"width\":0.5},\"pattern\":{\"fillmode\":\"overlay\",\"size\":10,\"solidity\":0.2}},\"type\":\"bar\"}],\"barpolar\":[{\"marker\":{\"line\":{\"color\":\"#E5ECF6\",\"width\":0.5},\"pattern\":{\"fillmode\":\"overlay\",\"size\":10,\"solidity\":0.2}},\"type\":\"barpolar\"}],\"carpet\":[{\"aaxis\":{\"endlinecolor\":\"#2a3f5f\",\"gridcolor\":\"white\",\"linecolor\":\"white\",\"minorgridcolor\":\"white\",\"startlinecolor\":\"#2a3f5f\"},\"baxis\":{\"endlinecolor\":\"#2a3f5f\",\"gridcolor\":\"white\",\"linecolor\":\"white\",\"minorgridcolor\":\"white\",\"startlinecolor\":\"#2a3f5f\"},\"type\":\"carpet\"}],\"choropleth\":[{\"colorbar\":{\"outlinewidth\":0,\"ticks\":\"\"},\"type\":\"choropleth\"}],\"contour\":[{\"colorbar\":{\"outlinewidth\":0,\"ticks\":\"\"},\"colorscale\":[[0.0,\"#0d0887\"],[0.1111111111111111,\"#46039f\"],[0.2222222222222222,\"#7201a8\"],[0.3333333333333333,\"#9c179e\"],[0.4444444444444444,\"#bd3786\"],[0.5555555555555556,\"#d8576b\"],[0.6666666666666666,\"#ed7953\"],[0.7777777777777778,\"#fb9f3a\"],[0.8888888888888888,\"#fdca26\"],[1.0,\"#f0f921\"]],\"type\":\"contour\"}],\"contourcarpet\":[{\"colorbar\":{\"outlinewidth\":0,\"ticks\":\"\"},\"type\":\"contourcarpet\"}],\"heatmap\":[{\"colorbar\":{\"outlinewidth\":0,\"ticks\":\"\"},\"colorscale\":[[0.0,\"#0d0887\"],[0.1111111111111111,\"#46039f\"],[0.2222222222222222,\"#7201a8\"],[0.3333333333333333,\"#9c179e\"],[0.4444444444444444,\"#bd3786\"],[0.5555555555555556,\"#d8576b\"],[0.6666666666666666,\"#ed7953\"],[0.7777777777777778,\"#fb9f3a\"],[0.8888888888888888,\"#fdca26\"],[1.0,\"#f0f921\"]],\"type\":\"heatmap\"}],\"heatmapgl\":[{\"colorbar\":{\"outlinewidth\":0,\"ticks\":\"\"},\"colorscale\":[[0.0,\"#0d0887\"],[0.1111111111111111,\"#46039f\"],[0.2222222222222222,\"#7201a8\"],[0.3333333333333333,\"#9c179e\"],[0.4444444444444444,\"#bd3786\"],[0.5555555555555556,\"#d8576b\"],[0.6666666666666666,\"#ed7953\"],[0.7777777777777778,\"#fb9f3a\"],[0.8888888888888888,\"#fdca26\"],[1.0,\"#f0f921\"]],\"type\":\"heatmapgl\"}],\"histogram\":[{\"marker\":{\"pattern\":{\"fillmode\":\"overlay\",\"size\":10,\"solidity\":0.2}},\"type\":\"histogram\"}],\"histogram2d\":[{\"colorbar\":{\"outlinewidth\":0,\"ticks\":\"\"},\"colorscale\":[[0.0,\"#0d0887\"],[0.1111111111111111,\"#46039f\"],[0.2222222222222222,\"#7201a8\"],[0.3333333333333333,\"#9c179e\"],[0.4444444444444444,\"#bd3786\"],[0.5555555555555556,\"#d8576b\"],[0.6666666666666666,\"#ed7953\"],[0.7777777777777778,\"#fb9f3a\"],[0.8888888888888888,\"#fdca26\"],[1.0,\"#f0f921\"]],\"type\":\"histogram2d\"}],\"histogram2dcontour\":[{\"colorbar\":{\"outlinewidth\":0,\"ticks\":\"\"},\"colorscale\":[[0.0,\"#0d0887\"],[0.1111111111111111,\"#46039f\"],[0.2222222222222222,\"#7201a8\"],[0.3333333333333333,\"#9c179e\"],[0.4444444444444444,\"#bd3786\"],[0.5555555555555556,\"#d8576b\"],[0.6666666666666666,\"#ed7953\"],[0.7777777777777778,\"#fb9f3a\"],[0.8888888888888888,\"#fdca26\"],[1.0,\"#f0f921\"]],\"type\":\"histogram2dcontour\"}],\"mesh3d\":[{\"colorbar\":{\"outlinewidth\":0,\"ticks\":\"\"},\"type\":\"mesh3d\"}],\"parcoords\":[{\"line\":{\"colorbar\":{\"outlinewidth\":0,\"ticks\":\"\"}},\"type\":\"parcoords\"}],\"pie\":[{\"automargin\":true,\"type\":\"pie\"}],\"scatter\":[{\"marker\":{\"colorbar\":{\"outlinewidth\":0,\"ticks\":\"\"}},\"type\":\"scatter\"}],\"scatter3d\":[{\"line\":{\"colorbar\":{\"outlinewidth\":0,\"ticks\":\"\"}},\"marker\":{\"colorbar\":{\"outlinewidth\":0,\"ticks\":\"\"}},\"type\":\"scatter3d\"}],\"scattercarpet\":[{\"marker\":{\"colorbar\":{\"outlinewidth\":0,\"ticks\":\"\"}},\"type\":\"scattercarpet\"}],\"scattergeo\":[{\"marker\":{\"colorbar\":{\"outlinewidth\":0,\"ticks\":\"\"}},\"type\":\"scattergeo\"}],\"scattergl\":[{\"marker\":{\"colorbar\":{\"outlinewidth\":0,\"ticks\":\"\"}},\"type\":\"scattergl\"}],\"scattermapbox\":[{\"marker\":{\"colorbar\":{\"outlinewidth\":0,\"ticks\":\"\"}},\"type\":\"scattermapbox\"}],\"scatterpolar\":[{\"marker\":{\"colorbar\":{\"outlinewidth\":0,\"ticks\":\"\"}},\"type\":\"scatterpolar\"}],\"scatterpolargl\":[{\"marker\":{\"colorbar\":{\"outlinewidth\":0,\"ticks\":\"\"}},\"type\":\"scatterpolargl\"}],\"scatterternary\":[{\"marker\":{\"colorbar\":{\"outlinewidth\":0,\"ticks\":\"\"}},\"type\":\"scatterternary\"}],\"surface\":[{\"colorbar\":{\"outlinewidth\":0,\"ticks\":\"\"},\"colorscale\":[[0.0,\"#0d0887\"],[0.1111111111111111,\"#46039f\"],[0.2222222222222222,\"#7201a8\"],[0.3333333333333333,\"#9c179e\"],[0.4444444444444444,\"#bd3786\"],[0.5555555555555556,\"#d8576b\"],[0.6666666666666666,\"#ed7953\"],[0.7777777777777778,\"#fb9f3a\"],[0.8888888888888888,\"#fdca26\"],[1.0,\"#f0f921\"]],\"type\":\"surface\"}],\"table\":[{\"cells\":{\"fill\":{\"color\":\"#EBF0F8\"},\"line\":{\"color\":\"white\"}},\"header\":{\"fill\":{\"color\":\"#C8D4E3\"},\"line\":{\"color\":\"white\"}},\"type\":\"table\"}]},\"layout\":{\"annotationdefaults\":{\"arrowcolor\":\"#2a3f5f\",\"arrowhead\":0,\"arrowwidth\":1},\"autotypenumbers\":\"strict\",\"coloraxis\":{\"colorbar\":{\"outlinewidth\":0,\"ticks\":\"\"}},\"colorscale\":{\"diverging\":[[0,\"#8e0152\"],[0.1,\"#c51b7d\"],[0.2,\"#de77ae\"],[0.3,\"#f1b6da\"],[0.4,\"#fde0ef\"],[0.5,\"#f7f7f7\"],[0.6,\"#e6f5d0\"],[0.7,\"#b8e186\"],[0.8,\"#7fbc41\"],[0.9,\"#4d9221\"],[1,\"#276419\"]],\"sequential\":[[0.0,\"#0d0887\"],[0.1111111111111111,\"#46039f\"],[0.2222222222222222,\"#7201a8\"],[0.3333333333333333,\"#9c179e\"],[0.4444444444444444,\"#bd3786\"],[0.5555555555555556,\"#d8576b\"],[0.6666666666666666,\"#ed7953\"],[0.7777777777777778,\"#fb9f3a\"],[0.8888888888888888,\"#fdca26\"],[1.0,\"#f0f921\"]],\"sequentialminus\":[[0.0,\"#0d0887\"],[0.1111111111111111,\"#46039f\"],[0.2222222222222222,\"#7201a8\"],[0.3333333333333333,\"#9c179e\"],[0.4444444444444444,\"#bd3786\"],[0.5555555555555556,\"#d8576b\"],[0.6666666666666666,\"#ed7953\"],[0.7777777777777778,\"#fb9f3a\"],[0.8888888888888888,\"#fdca26\"],[1.0,\"#f0f921\"]]},\"colorway\":[\"#636efa\",\"#EF553B\",\"#00cc96\",\"#ab63fa\",\"#FFA15A\",\"#19d3f3\",\"#FF6692\",\"#B6E880\",\"#FF97FF\",\"#FECB52\"],\"font\":{\"color\":\"#2a3f5f\"},\"geo\":{\"bgcolor\":\"white\",\"lakecolor\":\"white\",\"landcolor\":\"#E5ECF6\",\"showlakes\":true,\"showland\":true,\"subunitcolor\":\"white\"},\"hoverlabel\":{\"align\":\"left\"},\"hovermode\":\"closest\",\"mapbox\":{\"style\":\"light\"},\"paper_bgcolor\":\"white\",\"plot_bgcolor\":\"#E5ECF6\",\"polar\":{\"angularaxis\":{\"gridcolor\":\"white\",\"linecolor\":\"white\",\"ticks\":\"\"},\"bgcolor\":\"#E5ECF6\",\"radialaxis\":{\"gridcolor\":\"white\",\"linecolor\":\"white\",\"ticks\":\"\"}},\"scene\":{\"xaxis\":{\"backgroundcolor\":\"#E5ECF6\",\"gridcolor\":\"white\",\"gridwidth\":2,\"linecolor\":\"white\",\"showbackground\":true,\"ticks\":\"\",\"zerolinecolor\":\"white\"},\"yaxis\":{\"backgroundcolor\":\"#E5ECF6\",\"gridcolor\":\"white\",\"gridwidth\":2,\"linecolor\":\"white\",\"showbackground\":true,\"ticks\":\"\",\"zerolinecolor\":\"white\"},\"zaxis\":{\"backgroundcolor\":\"#E5ECF6\",\"gridcolor\":\"white\",\"gridwidth\":2,\"linecolor\":\"white\",\"showbackground\":true,\"ticks\":\"\",\"zerolinecolor\":\"white\"}},\"shapedefaults\":{\"line\":{\"color\":\"#2a3f5f\"}},\"ternary\":{\"aaxis\":{\"gridcolor\":\"white\",\"linecolor\":\"white\",\"ticks\":\"\"},\"baxis\":{\"gridcolor\":\"white\",\"linecolor\":\"white\",\"ticks\":\"\"},\"bgcolor\":\"#E5ECF6\",\"caxis\":{\"gridcolor\":\"white\",\"linecolor\":\"white\",\"ticks\":\"\"}},\"title\":{\"x\":0.05},\"xaxis\":{\"automargin\":true,\"gridcolor\":\"white\",\"linecolor\":\"white\",\"ticks\":\"\",\"title\":{\"standoff\":15},\"zerolinecolor\":\"white\",\"zerolinewidth\":2},\"yaxis\":{\"automargin\":true,\"gridcolor\":\"white\",\"linecolor\":\"white\",\"ticks\":\"\",\"title\":{\"standoff\":15},\"zerolinecolor\":\"white\",\"zerolinewidth\":2}}},\"title\":{\"font\":{\"color\":\"#4D5663\"}},\"xaxis\":{\"gridcolor\":\"#E1E5ED\",\"showgrid\":true,\"tickfont\":{\"color\":\"#4D5663\"},\"title\":{\"font\":{\"color\":\"#4D5663\"},\"text\":\"\"},\"zerolinecolor\":\"#E1E5ED\"},\"yaxis\":{\"gridcolor\":\"#E1E5ED\",\"showgrid\":true,\"tickfont\":{\"color\":\"#4D5663\"},\"title\":{\"font\":{\"color\":\"#4D5663\"},\"text\":\"\"},\"zerolinecolor\":\"#E1E5ED\"}},                        {\"showLink\": true, \"linkText\": \"Export to plot.ly\", \"plotlyServerURL\": \"https://plot.ly\", \"responsive\": true}                    ).then(function(){\n",
       "                            \n",
       "var gd = document.getElementById('60b67971-a344-45cd-a76c-357a50dbea3a');\n",
       "var x = new MutationObserver(function (mutations, observer) {{\n",
       "        var display = window.getComputedStyle(gd).display;\n",
       "        if (!display || display === 'none') {{\n",
       "            console.log([gd, 'removed!']);\n",
       "            Plotly.purge(gd);\n",
       "            observer.disconnect();\n",
       "        }}\n",
       "}});\n",
       "\n",
       "// Listen for the removal of the full notebook cells\n",
       "var notebookContainer = gd.closest('#notebook-container');\n",
       "if (notebookContainer) {{\n",
       "    x.observe(notebookContainer, {childList: true});\n",
       "}}\n",
       "\n",
       "// Listen for the clearing of the current output cell\n",
       "var outputEl = gd.closest('.output');\n",
       "if (outputEl) {{\n",
       "    x.observe(outputEl, {childList: true});\n",
       "}}\n",
       "\n",
       "                        })                };                });            </script>        </div>"
      ]
     },
     "metadata": {},
     "output_type": "display_data"
    }
   ],
   "source": [
    "plotting.plot_ML_records(ml_record)"
   ]
  },
  {
   "cell_type": "markdown",
   "id": "61f5529e-dc83-4e5c-88c8-9c6ef294f78d",
   "metadata": {
    "tags": [],
    "user_expressions": []
   },
   "source": [
    "### t test"
   ]
  },
  {
   "cell_type": "raw",
   "id": "e446b5cd-9fe4-47c8-bcae-69ba28b0e742",
   "metadata": {},
   "source": [
    "from scipy import stats"
   ]
  },
  {
   "cell_type": "raw",
   "id": "f90f86ac-5420-4809-865d-835332d8b92b",
   "metadata": {},
   "source": [
    "stats.ttest_rel(ml_record['high_ic'],ml_record['ic_40'])"
   ]
  },
  {
   "cell_type": "markdown",
   "id": "32f76451-3616-43da-a2de-07c1b0c9debc",
   "metadata": {
    "user_expressions": []
   },
   "source": [
    "## 获取最佳特征和最佳ta functions"
   ]
  },
  {
   "cell_type": "code",
   "execution_count": 52,
   "id": "c78c9234-85ef-4002-8eb9-c0dfcc747fbf",
   "metadata": {},
   "outputs": [
    {
     "data": {
      "text/plain": [
       "19"
      ]
     },
     "execution_count": 52,
     "metadata": {},
     "output_type": "execute_result"
    }
   ],
   "source": [
    "len(high_ic_factors)"
   ]
  },
  {
   "cell_type": "code",
   "execution_count": 53,
   "id": "4b2b3b6e-4149-44a9-b9cb-022583e8c4dd",
   "metadata": {},
   "outputs": [],
   "source": [
    "best_funcs = func2factor_df[func2factor_df['factorName'].isin(high_ic_factors)]"
   ]
  },
  {
   "cell_type": "code",
   "execution_count": 54,
   "id": "c316fcd8-2a2a-45b2-9845-7170b1af3e9f",
   "metadata": {},
   "outputs": [],
   "source": [
    "best_funcs.reset_index(inplace=True, drop=True)"
   ]
  },
  {
   "cell_type": "code",
   "execution_count": 55,
   "id": "28e6e9aa-d8c1-45d4-9fe8-0a1f374d5454",
   "metadata": {},
   "outputs": [],
   "source": [
    "funcName = list(best_funcs.funcName.values)\n",
    "factorName = list(best_funcs.factorName.values)"
   ]
  },
  {
   "cell_type": "code",
   "execution_count": 56,
   "id": "1bb5d8b8-b3aa-4bbd-a257-befeb5f4b1b4",
   "metadata": {},
   "outputs": [
    {
     "data": {
      "text/html": [
       "<div>\n",
       "<style scoped>\n",
       "    .dataframe tbody tr th:only-of-type {\n",
       "        vertical-align: middle;\n",
       "    }\n",
       "\n",
       "    .dataframe tbody tr th {\n",
       "        vertical-align: top;\n",
       "    }\n",
       "\n",
       "    .dataframe thead th {\n",
       "        text-align: right;\n",
       "    }\n",
       "</style>\n",
       "<table border=\"1\" class=\"dataframe\">\n",
       "  <thead>\n",
       "    <tr style=\"text-align: right;\">\n",
       "      <th></th>\n",
       "      <th>funcName</th>\n",
       "      <th>factorName</th>\n",
       "    </tr>\n",
       "  </thead>\n",
       "  <tbody>\n",
       "    <tr>\n",
       "      <th>0</th>\n",
       "      <td>zscore</td>\n",
       "      <td>ZS_30</td>\n",
       "    </tr>\n",
       "    <tr>\n",
       "      <th>1</th>\n",
       "      <td>dema</td>\n",
       "      <td>DEMA_10</td>\n",
       "    </tr>\n",
       "    <tr>\n",
       "      <th>2</th>\n",
       "      <td>hl2</td>\n",
       "      <td>HL2</td>\n",
       "    </tr>\n",
       "    <tr>\n",
       "      <th>3</th>\n",
       "      <td>midprice</td>\n",
       "      <td>MIDPRICE_2</td>\n",
       "    </tr>\n",
       "    <tr>\n",
       "      <th>4</th>\n",
       "      <td>bias</td>\n",
       "      <td>BIAS_SMA_26</td>\n",
       "    </tr>\n",
       "    <tr>\n",
       "      <th>5</th>\n",
       "      <td>wcp</td>\n",
       "      <td>WCP</td>\n",
       "    </tr>\n",
       "    <tr>\n",
       "      <th>6</th>\n",
       "      <td>midpoint</td>\n",
       "      <td>MIDPOINT_2</td>\n",
       "    </tr>\n",
       "    <tr>\n",
       "      <th>7</th>\n",
       "      <td>ui</td>\n",
       "      <td>UI_14</td>\n",
       "    </tr>\n",
       "    <tr>\n",
       "      <th>8</th>\n",
       "      <td>ohlc4</td>\n",
       "      <td>OHLC4</td>\n",
       "    </tr>\n",
       "    <tr>\n",
       "      <th>9</th>\n",
       "      <td>dm</td>\n",
       "      <td>DMN_14</td>\n",
       "    </tr>\n",
       "    <tr>\n",
       "      <th>10</th>\n",
       "      <td>aroon</td>\n",
       "      <td>AROOND_14</td>\n",
       "    </tr>\n",
       "    <tr>\n",
       "      <th>11</th>\n",
       "      <td>hlc3</td>\n",
       "      <td>HLC3</td>\n",
       "    </tr>\n",
       "    <tr>\n",
       "      <th>12</th>\n",
       "      <td>zlma</td>\n",
       "      <td>ZL_EMA_10</td>\n",
       "    </tr>\n",
       "    <tr>\n",
       "      <th>13</th>\n",
       "      <td>decreasing</td>\n",
       "      <td>DEC_1</td>\n",
       "    </tr>\n",
       "    <tr>\n",
       "      <th>14</th>\n",
       "      <td>decay</td>\n",
       "      <td>LDECAY_5</td>\n",
       "    </tr>\n",
       "    <tr>\n",
       "      <th>15</th>\n",
       "      <td>tema</td>\n",
       "      <td>TEMA_10</td>\n",
       "    </tr>\n",
       "    <tr>\n",
       "      <th>16</th>\n",
       "      <td>cdl_z</td>\n",
       "      <td>close_Z_30_1</td>\n",
       "    </tr>\n",
       "    <tr>\n",
       "      <th>17</th>\n",
       "      <td>vortex</td>\n",
       "      <td>VTXM_14</td>\n",
       "    </tr>\n",
       "    <tr>\n",
       "      <th>18</th>\n",
       "      <td>amat</td>\n",
       "      <td>AMATe_SR_8_21_2</td>\n",
       "    </tr>\n",
       "    <tr>\n",
       "      <th>19</th>\n",
       "      <td>adx</td>\n",
       "      <td>DMN_14</td>\n",
       "    </tr>\n",
       "  </tbody>\n",
       "</table>\n",
       "</div>"
      ],
      "text/plain": [
       "      funcName       factorName\n",
       "0       zscore            ZS_30\n",
       "1         dema          DEMA_10\n",
       "2          hl2              HL2\n",
       "3     midprice       MIDPRICE_2\n",
       "4         bias      BIAS_SMA_26\n",
       "5          wcp              WCP\n",
       "6     midpoint       MIDPOINT_2\n",
       "7           ui            UI_14\n",
       "8        ohlc4            OHLC4\n",
       "9           dm           DMN_14\n",
       "10       aroon        AROOND_14\n",
       "11        hlc3             HLC3\n",
       "12        zlma        ZL_EMA_10\n",
       "13  decreasing            DEC_1\n",
       "14       decay         LDECAY_5\n",
       "15        tema          TEMA_10\n",
       "16       cdl_z     close_Z_30_1\n",
       "17      vortex          VTXM_14\n",
       "18        amat  AMATe_SR_8_21_2\n",
       "19         adx           DMN_14"
      ]
     },
     "execution_count": 56,
     "metadata": {},
     "output_type": "execute_result"
    }
   ],
   "source": [
    "best_funcs"
   ]
  },
  {
   "cell_type": "code",
   "execution_count": 57,
   "id": "b1ad25da-d293-4f6a-8a99-2b2022865d76",
   "metadata": {},
   "outputs": [
    {
     "name": "stdout",
     "output_type": "stream",
     "text": [
      "['zscore', 'dema', 'hl2', 'midprice', 'bias', 'wcp', 'midpoint', 'ui', 'ohlc4', 'dm', 'aroon', 'hlc3', 'zlma', 'decreasing', 'decay', 'tema', 'cdl_z', 'vortex', 'amat', 'adx']\n"
     ]
    }
   ],
   "source": [
    "print(funcName)"
   ]
  },
  {
   "cell_type": "code",
   "execution_count": 58,
   "id": "45cfadbd-391e-46c7-a59a-47a655880782",
   "metadata": {},
   "outputs": [
    {
     "name": "stdout",
     "output_type": "stream",
     "text": [
      "['ZS_30', 'DEMA_10', 'HL2', 'MIDPRICE_2', 'BIAS_SMA_26', 'WCP', 'MIDPOINT_2', 'UI_14', 'OHLC4', 'DMN_14', 'AROOND_14', 'HLC3', 'ZL_EMA_10', 'DEC_1', 'LDECAY_5', 'TEMA_10', 'close_Z_30_1', 'VTXM_14', 'AMATe_SR_8_21_2', 'DMN_14']\n"
     ]
    }
   ],
   "source": [
    "print(factorName)"
   ]
  }
 ],
 "metadata": {
  "kernelspec": {
   "display_name": "pythonlab(python3.8)",
   "language": "python",
   "name": "pythonlabkernel"
  },
  "language_info": {
   "codemirror_mode": {
    "name": "ipython",
    "version": 3
   },
   "file_extension": ".py",
   "mimetype": "text/x-python",
   "name": "python",
   "nbconvert_exporter": "python",
   "pygments_lexer": "ipython3",
   "version": "3.8.0"
  }
 },
 "nbformat": 4,
 "nbformat_minor": 5
}
