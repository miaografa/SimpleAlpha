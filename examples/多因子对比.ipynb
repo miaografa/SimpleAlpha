{
 "cells": [
  {
   "cell_type": "markdown",
   "id": "a7007144-757d-4cf1-bed1-92fc6f61e680",
   "metadata": {
    "user_expressions": []
   },
   "source": [
    "<center><font size=5>多因子对比示例</font></center>"
   ]
  },
  {
   "cell_type": "markdown",
   "id": "c76bdbc1-8bf9-4544-b7ea-ddfd1aac1254",
   "metadata": {
    "user_expressions": []
   },
   "source": [
    "仅仅比单因子多一个循环"
   ]
  },
  {
   "cell_type": "markdown",
   "id": "26d81b6e-579e-4609-bbfa-db1eba62bcb8",
   "metadata": {
    "user_expressions": []
   },
   "source": [
    "加载各种包"
   ]
  },
  {
   "cell_type": "code",
   "execution_count": 1,
   "id": "dea71b55-a4ec-4897-b39e-ffca62713fa9",
   "metadata": {},
   "outputs": [
    {
     "data": {
      "text/html": [
       "        <script type=\"text/javascript\">\n",
       "        window.PlotlyConfig = {MathJaxConfig: 'local'};\n",
       "        if (window.MathJax) {MathJax.Hub.Config({SVG: {font: \"STIX-Web\"}});}\n",
       "        if (typeof require !== 'undefined') {\n",
       "        require.undef(\"plotly\");\n",
       "        requirejs.config({\n",
       "            paths: {\n",
       "                'plotly': ['https://cdn.plot.ly/plotly-2.2.0.min']\n",
       "            }\n",
       "        });\n",
       "        require(['plotly'], function(Plotly) {\n",
       "            window._Plotly = Plotly;\n",
       "        });\n",
       "        }\n",
       "        </script>\n",
       "        "
      ]
     },
     "metadata": {},
     "output_type": "display_data"
    }
   ],
   "source": [
    "import matplotlib.pyplot as plt\n",
    "import sys\n",
    "sys.path.append('..')  # 文件位于\n",
    "\n",
    "import factors  # 因子计算\n",
    "import data_utils  # 数据读取\n",
    "import performance as perf  # IC计算\n",
    "import plotting  #绘图"
   ]
  },
  {
   "cell_type": "markdown",
   "id": "3cd6534f-fd4f-46e8-b508-f04c59dac8c7",
   "metadata": {
    "user_expressions": []
   },
   "source": [
    "# 1. 初始化DataLoader "
   ]
  },
  {
   "cell_type": "markdown",
   "id": "7f94af58-9a3d-4aec-8fea-6d1216990a84",
   "metadata": {
    "user_expressions": []
   },
   "source": [
    "DataLoader实现了对csv文件的批量读取，会按照\\[年\\]\\[月\\]保存在dl中。\n",
    "一些重要函数：\n",
    "- init_month_df: 加载目标文件夹下的所有zip文件。这些文件读取后会被保存在dataloader中。注意，"
   ]
  },
  {
   "cell_type": "code",
   "execution_count": 2,
   "id": "441ffc11-0b21-4c2f-9d50-9296e29ce4a5",
   "metadata": {},
   "outputs": [],
   "source": [
    "dl = data_utils.DataLoader()\n",
    "dl.init_month_df('../../data/15m_data/')\n",
    "# 计算未来收益率\n",
    "data_utils.compute_future_rtn_for_all(dl)"
   ]
  },
  {
   "cell_type": "code",
   "execution_count": 3,
   "id": "693f1586-7b6f-45d1-ba75-49a81913c599",
   "metadata": {},
   "outputs": [],
   "source": [
    "import pandas as pd\n",
    "import numpy as np\n",
    "from pandas_ta.core import macd, rsi, atr, vwap, ohlc4, bop"
   ]
  },
  {
   "cell_type": "code",
   "execution_count": 4,
   "id": "a7335244-8809-4609-9ba1-a0241efec334",
   "metadata": {},
   "outputs": [],
   "source": [
    "def cal_Z_score(factor_df, column_lists, span):\n",
    "    '''Z-score'''\n",
    "\n",
    "    for column_name in column_lists:\n",
    "        mean_20 = factor_df[column_name].ewm(span, adjust=False).mean()\n",
    "        std_20 = factor_df[column_name].ewm(96, adjust=False).std()  # todo 超参数搜索\n",
    "        factor_df[f'{column_name}_Z'] = (factor_df[column_name].values - mean_20) / std_20\n",
    "\n",
    "    return factor_df"
   ]
  },
  {
   "cell_type": "code",
   "execution_count": 5,
   "id": "2228dd54-7172-4331-a541-13f16315d151",
   "metadata": {},
   "outputs": [],
   "source": [
    "from pandas_ta.core import adx, cci, macd, rsi, obv, vwap, atr, bop, ohlc4"
   ]
  },
  {
   "cell_type": "code",
   "execution_count": 7,
   "id": "8b74cfc7-470f-4fff-9d52-7b8880cb6811",
   "metadata": {},
   "outputs": [],
   "source": [
    "@factors.handle_dataloader_data\n",
    "def add_new_factor(raw_df:pd.DataFrame)-> pd.DataFrame:\n",
    "    '''\n",
    "    加入新因子的模板。\n",
    "    :param raw_df: 原始数据\n",
    "    :param factor_name: 因子名称\n",
    "    :return: 原始数据+因子\n",
    "    '''\n",
    "    data_df = raw_df[['open', 'close', 'high', 'low', 'volume','taker_buy_volume']]\n",
    "    data_df.index = pd.to_datetime(raw_df.open_time, unit='ms')\n",
    "    temp_factor_df = pd.DataFrame()  # 暂存特征，避免index不一致导致的错误\n",
    "    temp_factor_df['trend_adx'] = adx(data_df['high'], data_df['low'], data_df['close'])['ADX_14']\n",
    "    temp_factor_df['trend_cci'] = cci(data_df['high'], data_df['low'], data_df['close'])\n",
    "    temp_factor_df['macd'] = macd(data_df['close'])['MACD_12_26_9']\n",
    "    temp_factor_df['momentum_rsi'] = rsi(data_df['close'])\n",
    "    temp_factor_df['volume_obv'] = obv(data_df['close'], data_df['volume'])\n",
    "    temp_factor_df['volume_vwap'] = vwap(data_df['high'], data_df['low'], data_df['close'], data_df['volume'])\n",
    "    temp_factor_df['volatility_atr'] = atr(data_df['high'], data_df['low'], data_df['close'])\n",
    "    temp_factor_df['bop'] = bop(data_df['open'], data_df['high'], data_df['low'],\n",
    "                            data_df['close'])  # (open - close)/(high - low)\n",
    "    temp_factor_df['ohlc4'] = ohlc4(data_df['open'], data_df['high'], data_df['low'], data_df['close'])\n",
    "    temp_factor_df['buy_taker_prop'] = data_df['taker_buy_volume']/data_df['volume']\n",
    "    temp_factor_df.reset_index(drop=True, inplace=True)\n",
    "    raw_df = pd.concat([raw_df, temp_factor_df], axis=1)\n",
    "    \n",
    "    \n",
    "    cal_Z_score(raw_df,['buy_taker_prop'], 100)\n",
    "#     raw_df['bw_rtn_10'] = raw_df['fwd_rtn_10'].shift(10)\n",
    "\n",
    "    return raw_df"
   ]
  },
  {
   "cell_type": "code",
   "execution_count": null,
   "id": "652132c2-43b4-43f4-97d5-75d2167f4a95",
   "metadata": {},
   "outputs": [],
   "source": [
    "z_targets = ['close', 'trend_adx', 'trend_cci', 'macd', 'momentum_rsi', \\\n",
    "                        'volume_obv', 'volume_vwap', 'volatility_atr', \\\n",
    "                        'bop', 'ohlc4', 'volume']"
   ]
  },
  {
   "cell_type": "code",
   "execution_count": null,
   "id": "e07676e0-49b5-484c-a492-c927222a477c",
   "metadata": {},
   "outputs": [],
   "source": [
    "Z_cols = [f'{col}_Z' for col in z_targets]"
   ]
  },
  {
   "cell_type": "code",
   "execution_count": 8,
   "id": "82e2f18f-af36-4952-b9e5-aa92c810a377",
   "metadata": {},
   "outputs": [],
   "source": [
    "# 计算因子\n",
    "add_new_factor(dl)"
   ]
  },
  {
   "cell_type": "code",
   "execution_count": null,
   "id": "caa574f0-c706-428b-9fb9-e00d3fb17e3d",
   "metadata": {
    "collapsed": true,
    "jupyter": {
     "outputs_hidden": true
    },
    "tags": []
   },
   "outputs": [],
   "source": [
    "for colname in z_targets:\n",
    "    for col in [colname +'_Z', colname]:\n",
    "        print(f'feat name: {col}')\n",
    "        tests_factor_name = col\n",
    "        # 计算因子IC\n",
    "        month_mean_ic = perf.cal_monthly_mean_ic(dl, factor_name=tests_factor_name, use_real_rtn=True)\n",
    "        # 保存记录\n",
    "        dl.set_record_df(kind='Info', factor_name=tests_factor_name, result_df=month_mean_ic)\n",
    "        # 读取记录，并且展示作图\n",
    "        month_mean_ic = dl.get_record_df(kind='Info', factor_name=tests_factor_name)\n",
    "        plotting.plot_information_table(month_mean_ic)\n"
   ]
  },
  {
   "cell_type": "code",
   "execution_count": null,
   "id": "9c9db47a-9fff-4a3d-b1ea-87f7797c8ef7",
   "metadata": {},
   "outputs": [],
   "source": []
  }
 ],
 "metadata": {
  "kernelspec": {
   "display_name": "pythonlab(python3.8)",
   "language": "python",
   "name": "pythonlabkernel"
  },
  "language_info": {
   "codemirror_mode": {
    "name": "ipython",
    "version": 3
   },
   "file_extension": ".py",
   "mimetype": "text/x-python",
   "name": "python",
   "nbconvert_exporter": "python",
   "pygments_lexer": "ipython3",
   "version": "3.8.0"
  }
 },
 "nbformat": 4,
 "nbformat_minor": 5
}
