{
 "cells": [
  {
   "cell_type": "markdown",
   "id": "a7007144-757d-4cf1-bed1-92fc6f61e680",
   "metadata": {
    "user_expressions": []
   },
   "source": [
    "<center><font size=5>单因子示例</font></center>"
   ]
  },
  {
   "cell_type": "markdown",
   "id": "c76bdbc1-8bf9-4544-b7ea-ddfd1aac1254",
   "metadata": {
    "user_expressions": []
   },
   "source": [
    "目前只有IC相关的计算。余下的有待大家探索。"
   ]
  },
  {
   "cell_type": "markdown",
   "id": "26d81b6e-579e-4609-bbfa-db1eba62bcb8",
   "metadata": {
    "user_expressions": []
   },
   "source": [
    "加载各种包"
   ]
  },
  {
   "cell_type": "code",
   "execution_count": 1,
   "id": "dea71b55-a4ec-4897-b39e-ffca62713fa9",
   "metadata": {},
   "outputs": [
    {
     "data": {
      "text/html": [
       "        <script type=\"text/javascript\">\n",
       "        window.PlotlyConfig = {MathJaxConfig: 'local'};\n",
       "        if (window.MathJax) {MathJax.Hub.Config({SVG: {font: \"STIX-Web\"}});}\n",
       "        if (typeof require !== 'undefined') {\n",
       "        require.undef(\"plotly\");\n",
       "        requirejs.config({\n",
       "            paths: {\n",
       "                'plotly': ['https://cdn.plot.ly/plotly-2.2.0.min']\n",
       "            }\n",
       "        });\n",
       "        require(['plotly'], function(Plotly) {\n",
       "            window._Plotly = Plotly;\n",
       "        });\n",
       "        }\n",
       "        </script>\n",
       "        "
      ]
     },
     "metadata": {},
     "output_type": "display_data"
    }
   ],
   "source": [
    "import matplotlib.pyplot as plt\n",
    "import sys\n",
    "sys.path.append('..')  # 文件位于\n",
    "\n",
    "import factors  # 因子计算\n",
    "import data_utils  # 数据读取\n",
    "import performance as perf  # IC计算\n",
    "import plotting  #绘图"
   ]
  },
  {
   "cell_type": "markdown",
   "id": "3cd6534f-fd4f-46e8-b508-f04c59dac8c7",
   "metadata": {
    "user_expressions": []
   },
   "source": [
    "# 1. 初始化DataLoader "
   ]
  },
  {
   "cell_type": "markdown",
   "id": "7f94af58-9a3d-4aec-8fea-6d1216990a84",
   "metadata": {
    "user_expressions": []
   },
   "source": [
    "DataLoader实现了对csv文件的批量读取，会按照\\[年\\]\\[月\\]保存在dl中。\n",
    "一些重要函数：\n",
    "- init_month_df: 加载目标文件夹下的所有zip文件。这些文件读取后会被保存在dataloader中。注意，"
   ]
  },
  {
   "cell_type": "code",
   "execution_count": 2,
   "id": "441ffc11-0b21-4c2f-9d50-9296e29ce4a5",
   "metadata": {},
   "outputs": [],
   "source": [
    "dl = data_utils.DataLoader()\n",
    "dl.init_month_df('../../data/UDST_M/15m_data/')\n",
    "# 计算未来收益率\n",
    "data_utils.compute_future_rtn_for_all(dl)"
   ]
  },
  {
   "cell_type": "code",
   "execution_count": 3,
   "id": "693f1586-7b6f-45d1-ba75-49a81913c599",
   "metadata": {},
   "outputs": [],
   "source": [
    "import pandas as pd\n",
    "import numpy as np"
   ]
  },
  {
   "cell_type": "code",
   "execution_count": 4,
   "id": "a7335244-8809-4609-9ba1-a0241efec334",
   "metadata": {},
   "outputs": [],
   "source": [
    "def cal_Z_score(factor_df, column_lists, span):\n",
    "    '''Z-score'''\n",
    "    for column_name in column_lists:\n",
    "        mean_20 = factor_df[column_name].ewm(span, adjust=False).mean()\n",
    "        std_20 = factor_df[column_name].ewm(96, adjust=False).std()  # todo 超参数搜索\n",
    "        factor_df[f'{column_name}_Z'] = (factor_df[column_name].values - mean_20) / std_20\n",
    "    return factor_df\n",
    "\n",
    "@factors.handle_dataloader_data\n",
    "def add_close_Z(raw_df:pd.DataFrame)-> pd.DataFrame:\n",
    "    raw_df = cal_Z_score(raw_df, ['close'], 30)\n",
    "    return raw_df"
   ]
  },
  {
   "cell_type": "markdown",
   "id": "43fb659c-d6bc-4619-bf1a-74460f58206c",
   "metadata": {
    "user_expressions": []
   },
   "source": [
    "# pandas_ta 因子"
   ]
  },
  {
   "cell_type": "markdown",
   "id": "46cdbb99-4404-49e8-bd17-6ef3781fbb61",
   "metadata": {
    "user_expressions": []
   },
   "source": [
    "## Statistics (11)\n",
    "\n",
    "* _Entropy_: **entropy**\n",
    "* _Kurtosis_: **kurtosis**\n",
    "* _Mean Absolute Deviation_: **mad**\n",
    "* _Median_: **median**\n",
    "* _Quantile_: **quantile**\n",
    "* _Skew_: **skew**\n",
    "* _Standard Deviation_: **stdev**\n",
    "* _Think or Swim Standard Deviation All_: **tos_stdevall**\n",
    "* _Variance_: **variance**\n",
    "* _Z Score_: **zscore**"
   ]
  },
  {
   "cell_type": "code",
   "execution_count": 5,
   "id": "cc3d7677-2822-43d1-b580-abc95a75509b",
   "metadata": {},
   "outputs": [],
   "source": [
    "from pandas_ta import statistics"
   ]
  },
  {
   "cell_type": "code",
   "execution_count": 28,
   "id": "8b74cfc7-470f-4fff-9d52-7b8880cb6811",
   "metadata": {},
   "outputs": [],
   "source": [
    "@factors.handle_dataloader_data\n",
    "def add_new_factor(raw_df:pd.DataFrame)-> pd.DataFrame:\n",
    "    '''\n",
    "    加入新因子的模板。\n",
    "    :param raw_df: 原始数据\n",
    "    :param factor_name: 因子名称\n",
    "    :return: 原始数据+因子\n",
    "    '''\n",
    "    l = 100\n",
    "    try:\n",
    "        data_df = raw_df[['open', 'close', 'high', 'low', 'volume','taker_buy_volume','fwd_rtn_1_real']]\n",
    "        data_df.index = pd.to_datetime(raw_df.open_time, unit='ms')\n",
    "        temp_factor_df = pd.DataFrame()  # 暂存特征，避免index不一致导致的错误\n",
    "        data_df['zscore']   = statistics.zscore(data_df['close'], length=20)\n",
    "        temp_factor_df['zscore']   = data_df['zscore']\n",
    "        temp_factor_df['kurtosis'] = statistics.kurtosis(data_df['fwd_rtn_1_real'], length=l)\n",
    "        temp_factor_df['mad']      = statistics.mad(data_df['fwd_rtn_1_real'], length=l)\n",
    "        temp_factor_df['median']   = statistics.median(data_df['fwd_rtn_1_real'], length=l)\n",
    "        temp_factor_df['quantile'] = statistics.quantile(data_df['fwd_rtn_1_real'], length=l)\n",
    "        temp_factor_df['skew']     = statistics.skew(data_df['fwd_rtn_1_real'], length=l)\n",
    "        temp_factor_df['stdev']    = statistics.stdev(data_df['fwd_rtn_1_real'], length=l)\n",
    "        temp_factor_df['variance'] = statistics.variance(data_df['fwd_rtn_1_real'], length=l)\n",
    "        temp_factor_df.reset_index(drop=True, inplace=True)\n",
    "        raw_df = pd.concat([raw_df, temp_factor_df], axis=1)\n",
    "        return raw_df\n",
    "    except:\n",
    "        return pd.DataFrame()"
   ]
  },
  {
   "cell_type": "code",
   "execution_count": 29,
   "id": "2141dde0-ca99-4ba4-9ff4-71b3fd09bc77",
   "metadata": {
    "tags": []
   },
   "outputs": [
    {
     "name": "stderr",
     "output_type": "stream",
     "text": [
      "F:\\ProgramData\\Anaconda3\\envs\\pythonlab\\lib\\site-packages\\pandas\\core\\window\\rolling.py:525: RuntimeWarning:\n",
      "\n",
      "All-NaN slice encountered\n",
      "\n"
     ]
    }
   ],
   "source": [
    "# 计算因子\n",
    "add_new_factor(dl)"
   ]
  },
  {
   "cell_type": "code",
   "execution_count": null,
   "id": "dfc24e72-11f9-4562-a8b4-85355f359053",
   "metadata": {},
   "outputs": [],
   "source": [
    "add_close_Z(dl)"
   ]
  },
  {
   "cell_type": "code",
   "execution_count": null,
   "id": "c9eb3626-9b1f-4695-aa3e-8777ab68319e",
   "metadata": {},
   "outputs": [],
   "source": [
    "from ml_performance import MLFactorEvaluator"
   ]
  },
  {
   "cell_type": "code",
   "execution_count": null,
   "id": "d8f1caa7-7bf8-40d6-9fe0-58c0a9614a07",
   "metadata": {},
   "outputs": [],
   "source": [
    "record_names = ['baseline', 'setA']"
   ]
  },
  {
   "cell_type": "code",
   "execution_count": null,
   "id": "cd25cb57-e597-4eb3-b7b0-9365377333b6",
   "metadata": {},
   "outputs": [],
   "source": [
    "factor_names = [\n",
    "    ['zscore'],\n",
    "    ['kurtosis', 'mad', 'median', 'quantile', 'skew', 'stdev', 'variance', 'zscore']\n",
    "]"
   ]
  },
  {
   "cell_type": "code",
   "execution_count": null,
   "id": "f223b872-c555-4966-809b-ab3160c879cf",
   "metadata": {},
   "outputs": [],
   "source": [
    "from sklearn.ensemble import RandomForestClassifier"
   ]
  },
  {
   "cell_type": "code",
   "execution_count": null,
   "id": "8c27b3e4-a511-4136-b3a6-a8653c86d155",
   "metadata": {},
   "outputs": [],
   "source": [
    "from xgboost import XGBClassifier"
   ]
  },
  {
   "cell_type": "code",
   "execution_count": null,
   "id": "a059b12a-cbec-4305-bfed-1239a2207f5c",
   "metadata": {},
   "outputs": [],
   "source": [
    "params = {\n",
    "    'n_jobs' : -1,\n",
    "    'max_depth' : 5,\n",
    "    'n_estimators' : 30,\n",
    "#     'reg_alpha' : 0.4,\n",
    "}"
   ]
  },
  {
   "cell_type": "code",
   "execution_count": null,
   "id": "1633caff-7677-4762-b541-bf3ae88ed7f6",
   "metadata": {},
   "outputs": [],
   "source": [
    "ml_evaluator = MLFactorEvaluator(\n",
    "    method = RandomForestClassifier, \n",
    "    record_names = record_names, \n",
    "    factor_names = factor_names,\n",
    "    params_dict = params\n",
    ")"
   ]
  },
  {
   "cell_type": "code",
   "execution_count": null,
   "id": "738c9cf0-11f8-45e0-8fe5-e5d861439c1a",
   "metadata": {
    "tags": []
   },
   "outputs": [],
   "source": [
    "ml_evaluator.evaluate(dl, 'fwd_rtn_20_bool')"
   ]
  },
  {
   "cell_type": "code",
   "execution_count": null,
   "id": "0ff84a31-263e-451a-902a-b050877598f5",
   "metadata": {},
   "outputs": [],
   "source": [
    "ml_record = ml_evaluator.get_assess_df('f1')"
   ]
  },
  {
   "cell_type": "code",
   "execution_count": null,
   "id": "e2053934-b275-45fb-8bbd-286086e483d9",
   "metadata": {},
   "outputs": [],
   "source": [
    "plotting.plot_ML_table(ml_record)"
   ]
  },
  {
   "cell_type": "code",
   "execution_count": null,
   "id": "7a893f9a-47f0-4319-b461-3515e1bafcdc",
   "metadata": {},
   "outputs": [],
   "source": [
    "plotting.plot_ML_records(ml_record)"
   ]
  },
  {
   "cell_type": "code",
   "execution_count": null,
   "id": "a00ee95c-e58d-435d-a292-e2e79c3b8e64",
   "metadata": {},
   "outputs": [],
   "source": [
    "test_df = dl.get_month_df('2021','10')[0]"
   ]
  },
  {
   "cell_type": "code",
   "execution_count": null,
   "id": "afacddb0-401f-4eaf-9eb3-bb99d19a85ae",
   "metadata": {},
   "outputs": [],
   "source": [
    "test_df = test_df.dropna()"
   ]
  },
  {
   "cell_type": "code",
   "execution_count": null,
   "id": "e7dedff7-4b7b-4ef6-93d6-61a82586d245",
   "metadata": {},
   "outputs": [],
   "source": [
    "import cufflinks"
   ]
  },
  {
   "cell_type": "code",
   "execution_count": null,
   "id": "a8c3d6a1-de83-4823-971d-6124f34236e3",
   "metadata": {},
   "outputs": [],
   "source": [
    "test_df[['kurtosis', 'mad', 'median', 'quantile', 'skew', 'stdev', 'variance', 'zscore']].iplot(kind='box')"
   ]
  },
  {
   "cell_type": "code",
   "execution_count": null,
   "id": "399a3966-139a-477a-86a6-80970a75bf3d",
   "metadata": {},
   "outputs": [],
   "source": []
  },
  {
   "cell_type": "code",
   "execution_count": null,
   "id": "5788da0b-9f5f-44ef-8b12-1f2863d759d9",
   "metadata": {},
   "outputs": [],
   "source": []
  },
  {
   "cell_type": "code",
   "execution_count": 16,
   "id": "09f6aff8-7137-4cc7-ad5b-53fd1afeef40",
   "metadata": {},
   "outputs": [],
   "source": [
    "def check_validation(df:pd.DataFrame):\n",
    "    '''检查数据是不是有效'''\n",
    "    df_length = len(df)\n",
    "    if len(df.dropna()) == 0:\n",
    "        return False\n",
    "    else:\n",
    "        return True"
   ]
  },
  {
   "cell_type": "code",
   "execution_count": 19,
   "id": "e754dc93-7c22-40d1-a726-2e6f79c86f06",
   "metadata": {},
   "outputs": [
    {
     "name": "stdout",
     "output_type": "stream",
     "text": [
      "year:2020, month:01, i2, is not valid\n",
      "year:2020, month:06, i5, is not valid\n",
      "year:2021, month:03, i28, is not valid\n",
      "year:2022, month:07, i31, is not valid\n",
      "year:2022, month:08, i31, is not valid\n",
      "year:2022, month:12, i29, is not valid\n",
      "year:2023, month:01, i30, is not valid\n",
      "year:2023, month:02, i31, is not valid\n",
      "year:2023, month:03, i32, is not valid\n",
      "year:2023, month:04, i25, is not valid\n",
      "year:2023, month:04, i33, is not valid\n",
      "year:2023, month:05, i33, is not valid\n",
      "year:2023, month:06, i34, is not valid\n",
      "year:2023, month:07, i36, is not valid\n",
      "year:2023, month:08, i38, is not valid\n",
      "year:2023, month:09, i40, is not valid\n",
      "year:2023, month:10, i41, is not valid\n"
     ]
    }
   ],
   "source": [
    "valid_list = dl.get_valid_year_month()\n",
    "for year, month in valid_list:\n",
    "    temp_df_list = dl.get_month_df(year, month)\n",
    "    for i, df in enumerate(temp_df_list):\n",
    "        valid = check_validation(df)\n",
    "        if not valid:\n",
    "            print(f'year:{year}, month:{month}, i:{i}, is not valid')"
   ]
  },
  {
   "cell_type": "code",
   "execution_count": 20,
   "id": "cc1e0518-8067-453f-be4b-a580af86fb3f",
   "metadata": {},
   "outputs": [],
   "source": [
    "test_df = dl.get_month_df('2020','01')[2]"
   ]
  },
  {
   "cell_type": "code",
   "execution_count": 26,
   "id": "5a9d743c-f977-4a16-8483-9ae38a0642ce",
   "metadata": {},
   "outputs": [
    {
     "data": {
      "text/plain": [
       "(63, 38)"
      ]
     },
     "execution_count": 26,
     "metadata": {},
     "output_type": "execute_result"
    }
   ],
   "source": [
    "test_df.shape"
   ]
  },
  {
   "cell_type": "code",
   "execution_count": 23,
   "id": "d92db428-13ef-465a-ae09-fe087c4cf94a",
   "metadata": {},
   "outputs": [
    {
     "data": {
      "text/plain": [
       "open_time                  0\n",
       "open                       0\n",
       "high                       0\n",
       "low                        0\n",
       "close                      0\n",
       "volume                     0\n",
       "close_time                 0\n",
       "quote_volume               0\n",
       "count                      0\n",
       "taker_buy_volume           0\n",
       "taker_buy_quote_volume     0\n",
       "ignore                     0\n",
       "fwd_rtn_5                  5\n",
       "fwd_rtn_5_real             9\n",
       "fwd_rtn_5_bool             0\n",
       "fwd_rtn_10                10\n",
       "fwd_rtn_10_real           14\n",
       "fwd_rtn_10_bool            0\n",
       "fwd_rtn_20                20\n",
       "fwd_rtn_20_real           24\n",
       "fwd_rtn_20_bool            0\n",
       "fwd_rtn_50                50\n",
       "fwd_rtn_50_real           54\n",
       "fwd_rtn_50_bool            0\n",
       "fwd_rtn_100               63\n",
       "fwd_rtn_100_real          63\n",
       "fwd_rtn_100_bool           0\n",
       "fwd_rtn_1                  1\n",
       "fwd_rtn_1_real             5\n",
       "fwd_rtn_1_bool             0\n",
       "zscore                    19\n",
       "kurtosis                  63\n",
       "mad                       63\n",
       "median                    63\n",
       "quantile                  63\n",
       "skew                      63\n",
       "stdev                     63\n",
       "variance                  63\n",
       "dtype: int64"
      ]
     },
     "execution_count": 23,
     "metadata": {},
     "output_type": "execute_result"
    }
   ],
   "source": [
    "test_df.isna().sum()"
   ]
  },
  {
   "cell_type": "code",
   "execution_count": 21,
   "id": "ac6695f9-5a51-49cc-9dcc-423d76071d91",
   "metadata": {},
   "outputs": [
    {
     "data": {
      "text/plain": [
       "0"
      ]
     },
     "execution_count": 21,
     "metadata": {},
     "output_type": "execute_result"
    }
   ],
   "source": [
    "len(test_df.dropna())"
   ]
  },
  {
   "cell_type": "code",
   "execution_count": 15,
   "id": "b2df02c5-24f3-4b4a-8259-5486ead7c514",
   "metadata": {},
   "outputs": [
    {
     "data": {
      "text/plain": [
       "2975"
      ]
     },
     "execution_count": 15,
     "metadata": {},
     "output_type": "execute_result"
    }
   ],
   "source": [
    "len(test_df)"
   ]
  },
  {
   "cell_type": "code",
   "execution_count": 27,
   "id": "5c071581-b9a8-44ae-a330-aabd71575c5e",
   "metadata": {},
   "outputs": [
    {
     "data": {
      "text/html": [
       "<div>\n",
       "<style scoped>\n",
       "    .dataframe tbody tr th:only-of-type {\n",
       "        vertical-align: middle;\n",
       "    }\n",
       "\n",
       "    .dataframe tbody tr th {\n",
       "        vertical-align: top;\n",
       "    }\n",
       "\n",
       "    .dataframe thead th {\n",
       "        text-align: right;\n",
       "    }\n",
       "</style>\n",
       "<table border=\"1\" class=\"dataframe\">\n",
       "  <thead>\n",
       "    <tr style=\"text-align: right;\">\n",
       "      <th></th>\n",
       "      <th>open_time</th>\n",
       "      <th>open</th>\n",
       "      <th>high</th>\n",
       "      <th>low</th>\n",
       "      <th>close</th>\n",
       "      <th>volume</th>\n",
       "      <th>close_time</th>\n",
       "      <th>quote_volume</th>\n",
       "      <th>count</th>\n",
       "      <th>taker_buy_volume</th>\n",
       "      <th>...</th>\n",
       "      <th>fwd_rtn_1_real</th>\n",
       "      <th>fwd_rtn_1_bool</th>\n",
       "      <th>zscore</th>\n",
       "      <th>kurtosis</th>\n",
       "      <th>mad</th>\n",
       "      <th>median</th>\n",
       "      <th>quantile</th>\n",
       "      <th>skew</th>\n",
       "      <th>stdev</th>\n",
       "      <th>variance</th>\n",
       "    </tr>\n",
       "  </thead>\n",
       "  <tbody>\n",
       "    <tr>\n",
       "      <th>0</th>\n",
       "      <td>1580458500000</td>\n",
       "      <td>0.05386</td>\n",
       "      <td>0.05404</td>\n",
       "      <td>0.05374</td>\n",
       "      <td>0.05393</td>\n",
       "      <td>2154869</td>\n",
       "      <td>1580459399999</td>\n",
       "      <td>116140.60669</td>\n",
       "      <td>1811</td>\n",
       "      <td>1338371</td>\n",
       "      <td>...</td>\n",
       "      <td>NaN</td>\n",
       "      <td>True</td>\n",
       "      <td>NaN</td>\n",
       "      <td>None</td>\n",
       "      <td>None</td>\n",
       "      <td>None</td>\n",
       "      <td>None</td>\n",
       "      <td>None</td>\n",
       "      <td>None</td>\n",
       "      <td>None</td>\n",
       "    </tr>\n",
       "    <tr>\n",
       "      <th>1</th>\n",
       "      <td>1580459400000</td>\n",
       "      <td>0.05393</td>\n",
       "      <td>0.05484</td>\n",
       "      <td>0.05386</td>\n",
       "      <td>0.05448</td>\n",
       "      <td>5057082</td>\n",
       "      <td>1580460299999</td>\n",
       "      <td>274981.55592</td>\n",
       "      <td>942</td>\n",
       "      <td>2921377</td>\n",
       "      <td>...</td>\n",
       "      <td>NaN</td>\n",
       "      <td>True</td>\n",
       "      <td>NaN</td>\n",
       "      <td>None</td>\n",
       "      <td>None</td>\n",
       "      <td>None</td>\n",
       "      <td>None</td>\n",
       "      <td>None</td>\n",
       "      <td>None</td>\n",
       "      <td>None</td>\n",
       "    </tr>\n",
       "    <tr>\n",
       "      <th>2</th>\n",
       "      <td>1580460300000</td>\n",
       "      <td>0.05448</td>\n",
       "      <td>0.05494</td>\n",
       "      <td>0.05431</td>\n",
       "      <td>0.05458</td>\n",
       "      <td>3089624</td>\n",
       "      <td>1580461199999</td>\n",
       "      <td>168650.55881</td>\n",
       "      <td>747</td>\n",
       "      <td>1684088</td>\n",
       "      <td>...</td>\n",
       "      <td>NaN</td>\n",
       "      <td>True</td>\n",
       "      <td>NaN</td>\n",
       "      <td>None</td>\n",
       "      <td>None</td>\n",
       "      <td>None</td>\n",
       "      <td>None</td>\n",
       "      <td>None</td>\n",
       "      <td>None</td>\n",
       "      <td>None</td>\n",
       "    </tr>\n",
       "    <tr>\n",
       "      <th>3</th>\n",
       "      <td>1580461200000</td>\n",
       "      <td>0.05459</td>\n",
       "      <td>0.05539</td>\n",
       "      <td>0.05457</td>\n",
       "      <td>0.05525</td>\n",
       "      <td>3704440</td>\n",
       "      <td>1580462099999</td>\n",
       "      <td>203682.18638</td>\n",
       "      <td>1030</td>\n",
       "      <td>2402933</td>\n",
       "      <td>...</td>\n",
       "      <td>NaN</td>\n",
       "      <td>False</td>\n",
       "      <td>NaN</td>\n",
       "      <td>None</td>\n",
       "      <td>None</td>\n",
       "      <td>None</td>\n",
       "      <td>None</td>\n",
       "      <td>None</td>\n",
       "      <td>None</td>\n",
       "      <td>None</td>\n",
       "    </tr>\n",
       "    <tr>\n",
       "      <th>4</th>\n",
       "      <td>1580462100000</td>\n",
       "      <td>0.05524</td>\n",
       "      <td>0.05559</td>\n",
       "      <td>0.05465</td>\n",
       "      <td>0.05481</td>\n",
       "      <td>6240834</td>\n",
       "      <td>1580462999999</td>\n",
       "      <td>344513.97519</td>\n",
       "      <td>1025</td>\n",
       "      <td>3366330</td>\n",
       "      <td>...</td>\n",
       "      <td>-0.379964</td>\n",
       "      <td>False</td>\n",
       "      <td>NaN</td>\n",
       "      <td>None</td>\n",
       "      <td>None</td>\n",
       "      <td>None</td>\n",
       "      <td>None</td>\n",
       "      <td>None</td>\n",
       "      <td>None</td>\n",
       "      <td>None</td>\n",
       "    </tr>\n",
       "    <tr>\n",
       "      <th>...</th>\n",
       "      <td>...</td>\n",
       "      <td>...</td>\n",
       "      <td>...</td>\n",
       "      <td>...</td>\n",
       "      <td>...</td>\n",
       "      <td>...</td>\n",
       "      <td>...</td>\n",
       "      <td>...</td>\n",
       "      <td>...</td>\n",
       "      <td>...</td>\n",
       "      <td>...</td>\n",
       "      <td>...</td>\n",
       "      <td>...</td>\n",
       "      <td>...</td>\n",
       "      <td>...</td>\n",
       "      <td>...</td>\n",
       "      <td>...</td>\n",
       "      <td>...</td>\n",
       "      <td>...</td>\n",
       "      <td>...</td>\n",
       "      <td>...</td>\n",
       "    </tr>\n",
       "    <tr>\n",
       "      <th>58</th>\n",
       "      <td>1580510700000</td>\n",
       "      <td>0.05431</td>\n",
       "      <td>0.05458</td>\n",
       "      <td>0.05417</td>\n",
       "      <td>0.05423</td>\n",
       "      <td>4908810</td>\n",
       "      <td>1580511599999</td>\n",
       "      <td>266915.21068</td>\n",
       "      <td>499</td>\n",
       "      <td>2031665</td>\n",
       "      <td>...</td>\n",
       "      <td>0.207080</td>\n",
       "      <td>True</td>\n",
       "      <td>1.697403</td>\n",
       "      <td>None</td>\n",
       "      <td>None</td>\n",
       "      <td>None</td>\n",
       "      <td>None</td>\n",
       "      <td>None</td>\n",
       "      <td>None</td>\n",
       "      <td>None</td>\n",
       "    </tr>\n",
       "    <tr>\n",
       "      <th>59</th>\n",
       "      <td>1580511600000</td>\n",
       "      <td>0.05421</td>\n",
       "      <td>0.05430</td>\n",
       "      <td>0.05411</td>\n",
       "      <td>0.05429</td>\n",
       "      <td>2804548</td>\n",
       "      <td>1580512499999</td>\n",
       "      <td>152073.47246</td>\n",
       "      <td>402</td>\n",
       "      <td>1439541</td>\n",
       "      <td>...</td>\n",
       "      <td>-0.761607</td>\n",
       "      <td>False</td>\n",
       "      <td>1.619351</td>\n",
       "      <td>None</td>\n",
       "      <td>None</td>\n",
       "      <td>None</td>\n",
       "      <td>None</td>\n",
       "      <td>None</td>\n",
       "      <td>None</td>\n",
       "      <td>None</td>\n",
       "    </tr>\n",
       "    <tr>\n",
       "      <th>60</th>\n",
       "      <td>1580512500000</td>\n",
       "      <td>0.05426</td>\n",
       "      <td>0.05430</td>\n",
       "      <td>0.05402</td>\n",
       "      <td>0.05407</td>\n",
       "      <td>3391592</td>\n",
       "      <td>1580513399999</td>\n",
       "      <td>183599.56861</td>\n",
       "      <td>435</td>\n",
       "      <td>1714293</td>\n",
       "      <td>...</td>\n",
       "      <td>0.070304</td>\n",
       "      <td>True</td>\n",
       "      <td>0.994057</td>\n",
       "      <td>None</td>\n",
       "      <td>None</td>\n",
       "      <td>None</td>\n",
       "      <td>None</td>\n",
       "      <td>None</td>\n",
       "      <td>None</td>\n",
       "      <td>None</td>\n",
       "    </tr>\n",
       "    <tr>\n",
       "      <th>61</th>\n",
       "      <td>1580513400000</td>\n",
       "      <td>0.05406</td>\n",
       "      <td>0.05429</td>\n",
       "      <td>0.05402</td>\n",
       "      <td>0.05409</td>\n",
       "      <td>2330371</td>\n",
       "      <td>1580514299999</td>\n",
       "      <td>126065.58338</td>\n",
       "      <td>371</td>\n",
       "      <td>1155337</td>\n",
       "      <td>...</td>\n",
       "      <td>-0.776221</td>\n",
       "      <td>False</td>\n",
       "      <td>0.944059</td>\n",
       "      <td>None</td>\n",
       "      <td>None</td>\n",
       "      <td>None</td>\n",
       "      <td>None</td>\n",
       "      <td>None</td>\n",
       "      <td>None</td>\n",
       "      <td>None</td>\n",
       "    </tr>\n",
       "    <tr>\n",
       "      <th>62</th>\n",
       "      <td>1580514300000</td>\n",
       "      <td>0.05409</td>\n",
       "      <td>0.05421</td>\n",
       "      <td>0.05358</td>\n",
       "      <td>0.05387</td>\n",
       "      <td>3470602</td>\n",
       "      <td>1580515199999</td>\n",
       "      <td>187095.33785</td>\n",
       "      <td>499</td>\n",
       "      <td>1515538</td>\n",
       "      <td>...</td>\n",
       "      <td>NaN</td>\n",
       "      <td>False</td>\n",
       "      <td>0.339122</td>\n",
       "      <td>None</td>\n",
       "      <td>None</td>\n",
       "      <td>None</td>\n",
       "      <td>None</td>\n",
       "      <td>None</td>\n",
       "      <td>None</td>\n",
       "      <td>None</td>\n",
       "    </tr>\n",
       "  </tbody>\n",
       "</table>\n",
       "<p>63 rows × 38 columns</p>\n",
       "</div>"
      ],
      "text/plain": [
       "        open_time     open     high      low    close   volume     close_time  \\\n",
       "0   1580458500000  0.05386  0.05404  0.05374  0.05393  2154869  1580459399999   \n",
       "1   1580459400000  0.05393  0.05484  0.05386  0.05448  5057082  1580460299999   \n",
       "2   1580460300000  0.05448  0.05494  0.05431  0.05458  3089624  1580461199999   \n",
       "3   1580461200000  0.05459  0.05539  0.05457  0.05525  3704440  1580462099999   \n",
       "4   1580462100000  0.05524  0.05559  0.05465  0.05481  6240834  1580462999999   \n",
       "..            ...      ...      ...      ...      ...      ...            ...   \n",
       "58  1580510700000  0.05431  0.05458  0.05417  0.05423  4908810  1580511599999   \n",
       "59  1580511600000  0.05421  0.05430  0.05411  0.05429  2804548  1580512499999   \n",
       "60  1580512500000  0.05426  0.05430  0.05402  0.05407  3391592  1580513399999   \n",
       "61  1580513400000  0.05406  0.05429  0.05402  0.05409  2330371  1580514299999   \n",
       "62  1580514300000  0.05409  0.05421  0.05358  0.05387  3470602  1580515199999   \n",
       "\n",
       "    quote_volume  count  taker_buy_volume  ...  fwd_rtn_1_real  \\\n",
       "0   116140.60669   1811           1338371  ...             NaN   \n",
       "1   274981.55592    942           2921377  ...             NaN   \n",
       "2   168650.55881    747           1684088  ...             NaN   \n",
       "3   203682.18638   1030           2402933  ...             NaN   \n",
       "4   344513.97519   1025           3366330  ...       -0.379964   \n",
       "..           ...    ...               ...  ...             ...   \n",
       "58  266915.21068    499           2031665  ...        0.207080   \n",
       "59  152073.47246    402           1439541  ...       -0.761607   \n",
       "60  183599.56861    435           1714293  ...        0.070304   \n",
       "61  126065.58338    371           1155337  ...       -0.776221   \n",
       "62  187095.33785    499           1515538  ...             NaN   \n",
       "\n",
       "    fwd_rtn_1_bool    zscore  kurtosis   mad  median  quantile  skew  stdev  \\\n",
       "0             True       NaN      None  None    None      None  None   None   \n",
       "1             True       NaN      None  None    None      None  None   None   \n",
       "2             True       NaN      None  None    None      None  None   None   \n",
       "3            False       NaN      None  None    None      None  None   None   \n",
       "4            False       NaN      None  None    None      None  None   None   \n",
       "..             ...       ...       ...   ...     ...       ...   ...    ...   \n",
       "58            True  1.697403      None  None    None      None  None   None   \n",
       "59           False  1.619351      None  None    None      None  None   None   \n",
       "60            True  0.994057      None  None    None      None  None   None   \n",
       "61           False  0.944059      None  None    None      None  None   None   \n",
       "62           False  0.339122      None  None    None      None  None   None   \n",
       "\n",
       "    variance  \n",
       "0       None  \n",
       "1       None  \n",
       "2       None  \n",
       "3       None  \n",
       "4       None  \n",
       "..       ...  \n",
       "58      None  \n",
       "59      None  \n",
       "60      None  \n",
       "61      None  \n",
       "62      None  \n",
       "\n",
       "[63 rows x 38 columns]"
      ]
     },
     "execution_count": 27,
     "metadata": {},
     "output_type": "execute_result"
    }
   ],
   "source": [
    "pd.concat([test_df, pd.DataFrame()])"
   ]
  },
  {
   "cell_type": "code",
   "execution_count": null,
   "id": "71d10b7a-d256-43c0-bc4e-c005e60cb821",
   "metadata": {},
   "outputs": [],
   "source": []
  }
 ],
 "metadata": {
  "kernelspec": {
   "display_name": "pythonlab(python3.8)",
   "language": "python",
   "name": "pythonlabkernel"
  },
  "language_info": {
   "codemirror_mode": {
    "name": "ipython",
    "version": 3
   },
   "file_extension": ".py",
   "mimetype": "text/x-python",
   "name": "python",
   "nbconvert_exporter": "python",
   "pygments_lexer": "ipython3",
   "version": "3.8.0"
  }
 },
 "nbformat": 4,
 "nbformat_minor": 5
}
