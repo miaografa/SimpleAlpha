{
 "cells": [
  {
   "cell_type": "markdown",
   "id": "a7007144-757d-4cf1-bed1-92fc6f61e680",
   "metadata": {
    "user_expressions": []
   },
   "source": [
    "<center><font size=5>pandas ta因子选择</font></center>"
   ]
  },
  {
   "cell_type": "markdown",
   "id": "c76bdbc1-8bf9-4544-b7ea-ddfd1aac1254",
   "metadata": {
    "user_expressions": []
   },
   "source": [
    "目前只有IC相关的计算。余下的有待大家探索。"
   ]
  },
  {
   "cell_type": "markdown",
   "id": "26d81b6e-579e-4609-bbfa-db1eba62bcb8",
   "metadata": {
    "user_expressions": []
   },
   "source": [
    "加载各种包"
   ]
  },
  {
   "cell_type": "code",
   "execution_count": 1,
   "id": "dea71b55-a4ec-4897-b39e-ffca62713fa9",
   "metadata": {},
   "outputs": [
    {
     "data": {
      "text/html": [
       "        <script type=\"text/javascript\">\n",
       "        window.PlotlyConfig = {MathJaxConfig: 'local'};\n",
       "        if (window.MathJax) {MathJax.Hub.Config({SVG: {font: \"STIX-Web\"}});}\n",
       "        if (typeof require !== 'undefined') {\n",
       "        require.undef(\"plotly\");\n",
       "        requirejs.config({\n",
       "            paths: {\n",
       "                'plotly': ['https://cdn.plot.ly/plotly-2.2.0.min']\n",
       "            }\n",
       "        });\n",
       "        require(['plotly'], function(Plotly) {\n",
       "            window._Plotly = Plotly;\n",
       "        });\n",
       "        }\n",
       "        </script>\n",
       "        "
      ]
     },
     "metadata": {},
     "output_type": "display_data"
    }
   ],
   "source": [
    "import matplotlib.pyplot as plt\n",
    "import pandas as pd\n",
    "import numpy as np\n",
    "import sys\n",
    "sys.path.append('..')  # 文件位于\n",
    "\n",
    "import factors  # 因子计算\n",
    "import data_utils  # 数据读取\n",
    "import performance as perf  # IC计算\n",
    "import plotting  #绘图"
   ]
  },
  {
   "cell_type": "markdown",
   "id": "3cd6534f-fd4f-46e8-b508-f04c59dac8c7",
   "metadata": {
    "user_expressions": []
   },
   "source": [
    "# 1. 初始化DataLoader "
   ]
  },
  {
   "cell_type": "markdown",
   "id": "7f94af58-9a3d-4aec-8fea-6d1216990a84",
   "metadata": {
    "user_expressions": []
   },
   "source": [
    "DataLoader实现了对csv文件的批量读取，会按照\\[年\\]\\[月\\]保存在dl中。\n",
    "一些重要函数：\n",
    "- init_month_df: 加载目标文件夹下的所有zip文件。这些文件读取后会被保存在dataloader中。注意，"
   ]
  },
  {
   "cell_type": "code",
   "execution_count": null,
   "id": "441ffc11-0b21-4c2f-9d50-9296e29ce4a5",
   "metadata": {},
   "outputs": [],
   "source": [
    "dl = data_utils.DataLoader()\n",
    "dl.init_month_df('E:/jupyternote/QF/CryptalC/data/UDST_M/15m_data')\n",
    "# 计算未来收益率\n",
    "data_utils.compute_future_rtn_for_all(dl)"
   ]
  },
  {
   "cell_type": "markdown",
   "id": "83738c90-afcc-4e7e-b94b-111020fcd44f",
   "metadata": {
    "user_expressions": []
   },
   "source": [
    "# 2. 计算因子\n",
    "ta Core indicators\n",
    "测试批量生成因子"
   ]
  },
  {
   "cell_type": "code",
   "execution_count": null,
   "id": "71d10b7a-d256-43c0-bc4e-c005e60cb821",
   "metadata": {},
   "outputs": [],
   "source": [
    "import pandas_ta as ta\n",
    "import pandas as pd\n",
    "from tqdm import tqdm\n",
    "import time\n",
    "\n",
    "e = pd.DataFrame()\n",
    "core_indicators = e.ta.indicators(as_list=True)  # 获取所有indicators列表"
   ]
  },
  {
   "cell_type": "markdown",
   "id": "8feefbc5-089f-409c-99ea-719b9c8eb34e",
   "metadata": {
    "user_expressions": []
   },
   "source": [
    "### indicators函数有效性的检验\n",
    "1. 计算不能报错\n",
    "2. 计算时间不能太长"
   ]
  },
  {
   "cell_type": "code",
   "execution_count": null,
   "id": "d157aaeb-54b0-44d1-a9ab-3ac7cd4b3d37",
   "metadata": {},
   "outputs": [],
   "source": [
    "test_df = dl.get_month_df('2020','01')[3].copy()  # 用于测试函数"
   ]
  },
  {
   "cell_type": "code",
   "execution_count": null,
   "id": "88c08b79-08d7-40e2-b95d-087160d9dcf3",
   "metadata": {},
   "outputs": [],
   "source": [
    "def preprocess(df):\n",
    "    df.drop('volume', axis=1, inplace=True)\n",
    "    df.rename({'quote_volume':'volume'},axis=1, inplace=True)\n",
    "#     df['volume'] = np.log(df['volume'] + 1)\n",
    "    return df"
   ]
  },
  {
   "cell_type": "code",
   "execution_count": null,
   "id": "b344da53-1994-4fd0-8806-1ca2532b547e",
   "metadata": {
    "tags": []
   },
   "outputs": [],
   "source": [
    "# test_df = preprocess(test_df)\n",
    "# 遍历判断哪些是直接可用的\n",
    "remove_fun_list = []  # 不需要计算的func\n",
    "time_list = []  # 保存函数计算的时长\n",
    "for indicator_name in tqdm(core_indicators):\n",
    "    try:\n",
    "        fun = getattr(test_df.ta, indicator_name)\n",
    "        # 记录代码开始时间\n",
    "        start_time = time.time()\n",
    "        for i in range(1):\n",
    "            temp_data = fun(append=True)\n",
    "        # 记录代码结束时间\n",
    "        end_time = time.time()\n",
    "        # 计算代码执行时间\n",
    "        execution_time = end_time - start_time\n",
    "        if type(temp_data) == pd.core.frame.DataFrame and 'open_time' in temp_data.columns:\n",
    "            remove_fun_list.append(indicator_name)\n",
    "            time_list.append(999)\n",
    "        else:\n",
    "            time_list.append(execution_time)\n",
    "    except:\n",
    "        remove_fun_list.append(indicator_name)\n",
    "        time_list.append(999)"
   ]
  },
  {
   "cell_type": "code",
   "execution_count": null,
   "id": "a20c5523-70ba-4ca1-8718-3d4baaf7f833",
   "metadata": {},
   "outputs": [],
   "source": [
    "time_df = pd.DataFrame({\n",
    "    'factor': core_indicators,\n",
    "    'time':time_list\n",
    "})"
   ]
  },
  {
   "cell_type": "code",
   "execution_count": null,
   "id": "605608a9-ed6d-419f-ae08-5155b6a650b8",
   "metadata": {},
   "outputs": [],
   "source": [
    "time_df.shape"
   ]
  },
  {
   "cell_type": "code",
   "execution_count": null,
   "id": "3bfb994b-217f-443e-9d32-b51af9b3916c",
   "metadata": {},
   "outputs": [],
   "source": [
    "time_df.sort_values('time').tail(10)"
   ]
  },
  {
   "cell_type": "code",
   "execution_count": null,
   "id": "d1f44b3c-c389-4a03-b02d-21026ee1ead4",
   "metadata": {},
   "outputs": [],
   "source": [
    "valid_core_indicators = list(time_df.sort_values('time')['factor'].values[:100])"
   ]
  },
  {
   "cell_type": "markdown",
   "id": "7ed5c744-3e10-4ce4-9c82-f6c9a19cecc3",
   "metadata": {
    "user_expressions": []
   },
   "source": [
    "### 因子层面：简单判断有效性\n",
    "1. nan值\n",
    "2. mean值\n",
    "3. 粗略估计IC"
   ]
  },
  {
   "cell_type": "code",
   "execution_count": null,
   "id": "a468dca4-21e9-463b-a8cb-d8ea1aaf4f2c",
   "metadata": {
    "tags": []
   },
   "outputs": [],
   "source": [
    "test_df = dl.get_month_df('2021','10')[0].copy()  # 用于测试函数\n",
    "test_df = preprocess(test_df)\n",
    "# 遍历判断哪些是直接可用的\n",
    "current_factor_names = []  # 保存因子名称\n",
    "indicators = []\n",
    "for indicator_name in tqdm(valid_core_indicators):\n",
    "    fun = getattr(test_df.ta, indicator_name)\n",
    "    temp_data = fun(append=True)\n",
    "    temp_factor_names = []\n",
    "    if type(temp_data) == pd.core.series.Series:\n",
    "        temp_factor_names = [temp_data.name]\n",
    "    elif type(temp_data) == tuple:\n",
    "        temp_factor_names = list(temp_data[0].columns)\n",
    "    else:\n",
    "        temp_factor_names = list(temp_data.columns)\n",
    "    \n",
    "    for _ in temp_factor_names:\n",
    "        indicators.append(indicator_name)\n",
    "    \n",
    "    current_factor_names +=  temp_factor_names"
   ]
  },
  {
   "cell_type": "code",
   "execution_count": null,
   "id": "80afaf3a-b4d1-4a56-b891-0df6102810c3",
   "metadata": {},
   "outputs": [],
   "source": [
    "# 构造一个df，用于特征名称和func之间的对应关系\n",
    "func2factor_df = pd.DataFrame({\n",
    "    'funcName':indicators,\n",
    "    'factorName':current_factor_names,\n",
    "})"
   ]
  },
  {
   "cell_type": "markdown",
   "id": "deb239ac-dc47-4212-bd8a-7970883a6b68",
   "metadata": {
    "user_expressions": []
   },
   "source": [
    "### 清理明显不合适的特征"
   ]
  },
  {
   "cell_type": "code",
   "execution_count": null,
   "id": "f1dd092f-e762-4b7d-b497-12d487035da2",
   "metadata": {},
   "outputs": [],
   "source": [
    "import cufflinks"
   ]
  },
  {
   "cell_type": "code",
   "execution_count": null,
   "id": "e9d4b5e1-bee8-4737-8cb4-ee8924246dcd",
   "metadata": {
    "tags": []
   },
   "outputs": [],
   "source": [
    "factors_df = test_df[current_factor_names]"
   ]
  },
  {
   "cell_type": "code",
   "execution_count": null,
   "id": "038ce073-f8f4-41a4-a40f-62d222a627c9",
   "metadata": {},
   "outputs": [],
   "source": [
    "remove_cols = []\n",
    "remove_cols += list(factors_df.columns[factors_df.isna().sum() > 200])  # nan值太多所以清理掉\n",
    "remove_cols += list(factors_df.columns[factors_df.mean() > 100000])  # 均值过大所以清理掉\n",
    "# 找到那些没有使用未来数据的因子: 最后一行必须有数值\n",
    "invalid_cols = factors_df.columns[factors_df.isna().iloc[-1,:].values]\n",
    "remove_cols += list(invalid_cols)"
   ]
  },
  {
   "cell_type": "raw",
   "id": "87303ae5-f6f9-418b-9b7f-1b4840aa1407",
   "metadata": {
    "tags": []
   },
   "source": [
    "# 选择IC大于一定阈值的因子\n",
    "corr_Series = factors_df.corrwith(test_df['fwd_rtn_10_real'], method='spearman')\n",
    "corr_Series = corr_Series.dropna()\n",
    "\n",
    "upper = np.percentile(corr_Series,60)\n",
    "lower = np.percentile(corr_Series,40)\n",
    "\n",
    "corr_high_Series = corr_Series[np.logical_or(corr_Series > upper, corr_Series < lower)]  # 取出前后10%"
   ]
  },
  {
   "cell_type": "markdown",
   "id": "766e0c1e-c110-4bb8-b3de-ef6f6906d658",
   "metadata": {
    "user_expressions": []
   },
   "source": [
    "## 2. 构造cleaned factors函数"
   ]
  },
  {
   "cell_type": "code",
   "execution_count": null,
   "id": "b1665ae6-ec7b-47dc-9663-3d9bf90c9a9e",
   "metadata": {},
   "outputs": [],
   "source": [
    "cleaned_factors = set(current_factor_names) - set(remove_cols)"
   ]
  },
  {
   "cell_type": "code",
   "execution_count": null,
   "id": "bd406c79-2336-4fce-b332-9cd2ea818a6d",
   "metadata": {},
   "outputs": [],
   "source": [
    "len(current_factor_names)"
   ]
  },
  {
   "cell_type": "code",
   "execution_count": null,
   "id": "629752b7-d0c4-4d23-a3fb-d0b7b1c3f992",
   "metadata": {},
   "outputs": [],
   "source": [
    "len(cleaned_factors)"
   ]
  },
  {
   "cell_type": "code",
   "execution_count": null,
   "id": "87e69c90-fa30-49f5-a296-36750d4817b7",
   "metadata": {},
   "outputs": [],
   "source": [
    "@factors.handle_dataloader_data\n",
    "def add_core_factors(raw_df:pd.DataFrame, core_indicators)-> pd.DataFrame:\n",
    "    '''\n",
    "    加入新因子的模板。\n",
    "    :param raw_df: 原始数据\n",
    "    :param core_indicators: 因子名称\n",
    "    :return: 原始数据+因子\n",
    "    '''\n",
    "    raw_df = preprocess(raw_df)\n",
    "    for indicator_name in valid_core_indicators:\n",
    "        fun = getattr(raw_df.ta, indicator_name)\n",
    "        temp_data = fun(append=True)\n",
    "    return raw_df"
   ]
  },
  {
   "cell_type": "code",
   "execution_count": null,
   "id": "c73804c9-cffa-4a5d-bce4-cd8963689d60",
   "metadata": {
    "tags": []
   },
   "outputs": [],
   "source": [
    "# 计算因子\n",
    "add_core_factors(dl, core_indicators)"
   ]
  },
  {
   "cell_type": "markdown",
   "id": "00b366a3-4e08-4aa3-b809-cc04e6b256e4",
   "metadata": {
    "user_expressions": []
   },
   "source": [
    "# 3.查看因子IC"
   ]
  },
  {
   "cell_type": "code",
   "execution_count": null,
   "id": "1684f68e-cea8-46fd-b3dd-853966029cf4",
   "metadata": {
    "tags": []
   },
   "outputs": [],
   "source": [
    "for colname in tqdm(cleaned_factors):\n",
    "#     print(f'feat name: {colname}')\n",
    "    tests_factor_name = colname\n",
    "    # 计算因子IC\n",
    "    month_mean_ic = perf.cal_monthly_mean_ic(dl, factor_name=tests_factor_name, use_real_rtn=True)\n",
    "    # 保存记录\n",
    "    dl.set_record_df(kind='Info', factor_name=tests_factor_name, result_df=month_mean_ic)\n",
    "    # 读取记录，并且展示作图\n",
    "#     month_mean_ic = dl.get_record_df(kind='Info', factor_name=tests_factor_name)\n",
    "#     plotting.plot_information_table(month_mean_ic)"
   ]
  },
  {
   "cell_type": "markdown",
   "id": "7cfc730d-dc2a-4637-95b8-d544c7b8a0ee",
   "metadata": {
    "user_expressions": []
   },
   "source": [
    "总结，并且整理一下每个因子的平均iC"
   ]
  },
  {
   "cell_type": "markdown",
   "id": "8622f2fb-745e-45d7-9a74-c950824ed87a",
   "metadata": {
    "user_expressions": []
   },
   "source": [
    "## 分别统计 mean ic 和 adjusted ic"
   ]
  },
  {
   "cell_type": "code",
   "execution_count": null,
   "id": "b7609b9d-18e4-4373-a3ca-1cce0b6e5e4d",
   "metadata": {},
   "outputs": [],
   "source": [
    "record_mean_ic = []\n",
    "record_adjustd_ic = []\n",
    "for factor_name in cleaned_factors:\n",
    "    temp_month_ic = dl.get_record_df(kind='Info', factor_name=factor_name).copy()\n",
    "    # 分别计算mean ic 和 adjusted ic\n",
    "    mean_IC_Series = temp_month_ic.mean()\n",
    "    mean_IC_Series.name = factor_name    \n",
    "\n",
    "    std_Series = temp_month_ic.std()\n",
    "    adjusted_IC_Series = mean_IC_Series / std_Series\n",
    "    adjusted_IC_Series.name = factor_name     \n",
    "    \n",
    "    record_mean_ic.append(mean_IC_Series)\n",
    "    record_adjustd_ic.append(adjusted_IC_Series)\n",
    "\n"
   ]
  },
  {
   "cell_type": "code",
   "execution_count": null,
   "id": "45828267-b9af-4acb-95c5-b0054875756e",
   "metadata": {},
   "outputs": [],
   "source": [
    "mean_IC_df = pd.concat(record_mean_ic, axis=1).T\n",
    "adjusted_IC_df = pd.concat(record_adjustd_ic, axis=1).T"
   ]
  },
  {
   "cell_type": "code",
   "execution_count": null,
   "id": "13139135-0b57-46a4-bfc8-cfc597666301",
   "metadata": {},
   "outputs": [],
   "source": [
    "mean_IC_df.isna().sum()"
   ]
  },
  {
   "cell_type": "code",
   "execution_count": null,
   "id": "dba9e820-77cd-42dd-9e12-67f836e0f49b",
   "metadata": {},
   "outputs": [],
   "source": [
    "drop_list = ['EOM_14_100000000', 'APO_12_26_XA_None']"
   ]
  },
  {
   "cell_type": "code",
   "execution_count": null,
   "id": "2ccfa3c1-7254-48d9-b294-204e00b1a4bf",
   "metadata": {
    "tags": []
   },
   "outputs": [],
   "source": [
    "mean_IC_df.drop(drop_list, inplace=True)\n",
    "adjusted_IC_df.drop(drop_list, inplace=True)\n",
    "mean_IC_df.dropna(inplace=True)\n",
    "adjusted_IC_df.dropna(inplace=True)"
   ]
  },
  {
   "cell_type": "markdown",
   "id": "1dc58271-18a8-45ef-952d-9333ee42a3be",
   "metadata": {
    "user_expressions": []
   },
   "source": [
    "### 观察IC和IR的分布"
   ]
  },
  {
   "cell_type": "code",
   "execution_count": null,
   "id": "a4bb367b-6d5d-47b2-9a45-b8e82a9e84a5",
   "metadata": {},
   "outputs": [],
   "source": [
    "mean_IC_df.iplot('box')"
   ]
  },
  {
   "cell_type": "code",
   "execution_count": null,
   "id": "c2a01322-d96b-4e39-85e8-039a58c8060f",
   "metadata": {},
   "outputs": [],
   "source": [
    "adjusted_IC_df.iplot('box')"
   ]
  },
  {
   "cell_type": "code",
   "execution_count": null,
   "id": "f3f87256-5ba6-4705-a723-f002cf5f5d63",
   "metadata": {},
   "outputs": [],
   "source": [
    "def get_indices_by_percentile(df, target_col, upper_p=80, lower_p=20):\n",
    "    '''\n",
    "    取出一个df中对应列满足条件的索引。默认首尾20%。\n",
    "    '''\n",
    "    upper = np.percentile(df[target_col],upper_p)\n",
    "    lower = np.percentile(df[target_col],lower_p)\n",
    "    high_value_indices = df[np.logical_or(df[target_col] > upper, df[target_col] < lower)].index\n",
    "    \n",
    "    return list(high_value_indices)"
   ]
  },
  {
   "cell_type": "code",
   "execution_count": null,
   "id": "d8fe233c-2f7a-48ab-a03c-7dcc5e7025d8",
   "metadata": {},
   "outputs": [],
   "source": [
    "np.percentile(mean_IC_df['fwd_rtn_20_real'],50)"
   ]
  },
  {
   "cell_type": "code",
   "execution_count": null,
   "id": "124c4de0-d0b8-4813-b1f8-77f5b4730b53",
   "metadata": {},
   "outputs": [],
   "source": [
    "np.percentile(mean_IC_df['fwd_rtn_20_real'],97)"
   ]
  },
  {
   "cell_type": "code",
   "execution_count": null,
   "id": "e590f197-21d1-44c9-9ce1-5103458bb72e",
   "metadata": {},
   "outputs": [],
   "source": [
    "all_valid_factors = list(mean_IC_df.index)\n",
    "high_ic_factors = get_indices_by_percentile(mean_IC_df, 'fwd_rtn_20_real', 96, 10)\n",
    "high_abs_ic_factors = list(set(high_ic_factors + get_indices_by_percentile(mean_IC_df, 'fwd_rtn_10_abs', 95, 0)))\n",
    "high_ic_factor_60 = get_indices_by_percentile(mean_IC_df, 'fwd_rtn_20_real', 96, 60)\n",
    "high_ic_factor_40 = get_indices_by_percentile(mean_IC_df, 'fwd_rtn_20_real', 96, 40)\n",
    "high_ic_factor_20 = get_indices_by_percentile(mean_IC_df, 'fwd_rtn_20_real', 96, 20)\n",
    "\n",
    "print(f'all: {len(all_valid_factors)}')\n",
    "print(f'high_ic: {len(high_ic_factors)}')\n",
    "print(f'high_abs: {len(high_abs_ic_factors)}')\n",
    "print(f'high_ic_factor_60: {len(high_ic_factor_60)}')\n",
    "print(f'high_ic_factor_40: {len(high_ic_factor_40)}')\n",
    "print(f'high_ic_factor_20: {len(high_ic_factor_20)}')"
   ]
  },
  {
   "cell_type": "markdown",
   "id": "787671c5-0d06-4d0a-8499-42ff36c7c0f0",
   "metadata": {
    "user_expressions": []
   },
   "source": [
    "# 4. 观察ml 效果 "
   ]
  },
  {
   "cell_type": "markdown",
   "id": "c6d812ea-2e21-4383-8105-9cc98044342c",
   "metadata": {
    "user_expressions": []
   },
   "source": [
    "准备一下Z_score"
   ]
  },
  {
   "cell_type": "code",
   "execution_count": null,
   "id": "5839b5d1-80d9-474c-9aa8-536e09d8da14",
   "metadata": {},
   "outputs": [],
   "source": [
    "def cal_Z_score(factor_df, column_lists, span):\n",
    "    '''Z-score'''\n",
    "    for column_name in column_lists:\n",
    "        mean_20 = factor_df[column_name].ewm(span, adjust=False).mean()\n",
    "        std_20 = factor_df[column_name].ewm(96, adjust=False).std()  # todo 超参数搜索\n",
    "        factor_df[f'{column_name}_Z'] = (factor_df[column_name].values - mean_20) / std_20\n",
    "    return factor_df\n",
    "\n",
    "@factors.handle_dataloader_data\n",
    "def add_close_Z(raw_df:pd.DataFrame)-> pd.DataFrame:\n",
    "    raw_df = cal_Z_score(raw_df, ['close'], 30)\n",
    "    return raw_df\n",
    "\n",
    "@factors.handle_dataloader_data\n",
    "def add_base_factors(raw_df:pd.DataFrame)-> pd.DataFrame:\n",
    "    '''\n",
    "    加入新因子的模板。\n",
    "    :param raw_df: 原始数据\n",
    "    :param factor_name: 因子名称\n",
    "    :return: 原始数据+因子\n",
    "    '''\n",
    "    raw_df['macd'] = raw_df.ta.macd()['MACD_12_26_9']\n",
    "    raw_df['rsi'] = raw_df.ta.rsi()    \n",
    "    return raw_df"
   ]
  },
  {
   "cell_type": "code",
   "execution_count": null,
   "id": "ceb5951d-2c0c-47cb-8b9f-c2af5e671ecb",
   "metadata": {},
   "outputs": [],
   "source": [
    "add_base_factors(dl)"
   ]
  },
  {
   "cell_type": "code",
   "execution_count": null,
   "id": "47818613-93e7-44d3-9c92-e58877a66ab9",
   "metadata": {},
   "outputs": [],
   "source": [
    "add_close_Z(dl)"
   ]
  },
  {
   "cell_type": "code",
   "execution_count": null,
   "id": "f91b6c3f-e639-4e6c-b786-15d961bb628b",
   "metadata": {},
   "outputs": [],
   "source": [
    "from ml_performance import MLFactorEvaluator"
   ]
  },
  {
   "cell_type": "markdown",
   "id": "13bdfbfa-ef44-4f40-8e7c-6c8356c182d8",
   "metadata": {
    "user_expressions": []
   },
   "source": [
    "## 一定要注意未来数据，比如centered=True"
   ]
  },
  {
   "cell_type": "code",
   "execution_count": null,
   "id": "01bee06b-a969-4631-a27b-00206b1986c5",
   "metadata": {},
   "outputs": [],
   "source": [
    "record_names = ['baseline' , 'high_ic', 'ic_abs','ic_60','ic_40','ic_20']"
   ]
  },
  {
   "cell_type": "code",
   "execution_count": null,
   "id": "390e593c-3e15-4263-9763-838146bc8565",
   "metadata": {},
   "outputs": [],
   "source": [
    "factor_names = [\n",
    "        all_valid_factors,\n",
    "        high_ic_factors,\n",
    "        high_abs_ic_factors,\n",
    "        high_ic_factor_60,\n",
    "        high_ic_factor_40,\n",
    "        high_ic_factor_20,\n",
    "]"
   ]
  },
  {
   "cell_type": "code",
   "execution_count": null,
   "id": "966a268b-c14a-4ef5-973e-c04c3f3d30b6",
   "metadata": {},
   "outputs": [],
   "source": [
    "from sklearn.ensemble import RandomForestClassifier\n",
    "from xgboost import XGBClassifier"
   ]
  },
  {
   "cell_type": "code",
   "execution_count": null,
   "id": "caae4fd4-b734-432e-af67-7bda0852748d",
   "metadata": {},
   "outputs": [],
   "source": [
    "params = {\n",
    "    'n_jobs' : -1,\n",
    "    'max_depth' : 6,\n",
    "    'n_estimators' : 100,\n",
    "    'reg_lambda': 0.1,\n",
    "}"
   ]
  },
  {
   "cell_type": "code",
   "execution_count": null,
   "id": "94b5b265-e445-4f14-b096-fd23d9bfbd7e",
   "metadata": {},
   "outputs": [],
   "source": [
    "ml_evaluator = MLFactorEvaluator(\n",
    "    method = XGBClassifier, \n",
    "    record_names = record_names, \n",
    "    factor_names = factor_names,\n",
    "    params_dict = params\n",
    ")"
   ]
  },
  {
   "cell_type": "code",
   "execution_count": null,
   "id": "9f288b33-5fc6-451a-8707-7a10fef17979",
   "metadata": {},
   "outputs": [],
   "source": [
    "test_df = dl.get_month_df('2021','10')[0].copy()"
   ]
  },
  {
   "cell_type": "code",
   "execution_count": null,
   "id": "0feaac68-d84e-45cf-915c-2272979df097",
   "metadata": {
    "tags": []
   },
   "outputs": [],
   "source": [
    "ml_evaluator.evaluate(dl, 'fwd_rtn_20_bool')"
   ]
  },
  {
   "cell_type": "code",
   "execution_count": null,
   "id": "c13eab84-7891-4ed2-98a7-511de166d347",
   "metadata": {},
   "outputs": [],
   "source": [
    "ml_record = ml_evaluator.get_assess_df('f1')"
   ]
  },
  {
   "cell_type": "code",
   "execution_count": null,
   "id": "96d8a2b7-6dcc-49d6-bc2c-5b7b460c22f9",
   "metadata": {},
   "outputs": [],
   "source": [
    "plotting.plot_ML_table(ml_record)"
   ]
  },
  {
   "cell_type": "code",
   "execution_count": null,
   "id": "f633eb98-a523-4aec-a415-0f8e9277d054",
   "metadata": {},
   "outputs": [],
   "source": [
    "plotting.plot_ML_records(ml_record)"
   ]
  },
  {
   "cell_type": "markdown",
   "id": "61f5529e-dc83-4e5c-88c8-9c6ef294f78d",
   "metadata": {
    "tags": [],
    "user_expressions": []
   },
   "source": [
    "### t test"
   ]
  },
  {
   "cell_type": "code",
   "execution_count": null,
   "id": "0e5aa57b-052f-479f-a4dc-d548af98edb8",
   "metadata": {},
   "outputs": [],
   "source": [
    "from scipy import stats"
   ]
  },
  {
   "cell_type": "code",
   "execution_count": null,
   "id": "3f778c73-e32d-4848-a79e-a7a525231d60",
   "metadata": {},
   "outputs": [],
   "source": [
    "stats.ttest_rel(ml_record['high_ic'],ml_record['ic_40'])"
   ]
  },
  {
   "cell_type": "code",
   "execution_count": null,
   "id": "d300b5e6-95fc-4bd1-aa40-bbd433184dcd",
   "metadata": {},
   "outputs": [],
   "source": [
    "stats.ttest_rel(ml_record['high_ic'],ml_record['ic_20'])"
   ]
  },
  {
   "cell_type": "markdown",
   "id": "32f76451-3616-43da-a2de-07c1b0c9debc",
   "metadata": {
    "user_expressions": []
   },
   "source": [
    "## 获取最佳特征和最佳ta functions"
   ]
  },
  {
   "cell_type": "code",
   "execution_count": null,
   "id": "c78c9234-85ef-4002-8eb9-c0dfcc747fbf",
   "metadata": {},
   "outputs": [],
   "source": [
    "len(high_ic_factors)"
   ]
  },
  {
   "cell_type": "code",
   "execution_count": null,
   "id": "4b2b3b6e-4149-44a9-b9cb-022583e8c4dd",
   "metadata": {},
   "outputs": [],
   "source": [
    "best_funcs = func2factor_df[func2factor_df['factorName'].isin(high_ic_factors)]"
   ]
  },
  {
   "cell_type": "code",
   "execution_count": null,
   "id": "c316fcd8-2a2a-45b2-9845-7170b1af3e9f",
   "metadata": {},
   "outputs": [],
   "source": [
    "best_funcs.reset_index(inplace=True, drop=True)"
   ]
  },
  {
   "cell_type": "code",
   "execution_count": null,
   "id": "28e6e9aa-d8c1-45d4-9fe8-0a1f374d5454",
   "metadata": {},
   "outputs": [],
   "source": [
    "funcName = list(best_funcs.funcName.values)\n",
    "factorName = list(best_funcs.factorName.values)"
   ]
  },
  {
   "cell_type": "code",
   "execution_count": null,
   "id": "1bb5d8b8-b3aa-4bbd-a257-befeb5f4b1b4",
   "metadata": {},
   "outputs": [],
   "source": [
    "best_funcs"
   ]
  },
  {
   "cell_type": "code",
   "execution_count": null,
   "id": "b1ad25da-d293-4f6a-8a99-2b2022865d76",
   "metadata": {},
   "outputs": [],
   "source": [
    "print(funcName)"
   ]
  },
  {
   "cell_type": "code",
   "execution_count": null,
   "id": "45cfadbd-391e-46c7-a59a-47a655880782",
   "metadata": {},
   "outputs": [],
   "source": [
    "print(factorName)"
   ]
  },
  {
   "cell_type": "code",
   "execution_count": null,
   "id": "c05db9fa-634a-4f09-b387-dacc45cd498e",
   "metadata": {},
   "outputs": [],
   "source": [
    "set(factorName) - "
   ]
  },
  {
   "cell_type": "code",
   "execution_count": null,
   "id": "78c161f6-9eaa-4706-afe0-9bd4ce9be549",
   "metadata": {},
   "outputs": [],
   "source": [
    "test_df.columns"
   ]
  },
  {
   "cell_type": "code",
   "execution_count": null,
   "id": "06175d46-1156-4600-b023-36d6033bcd55",
   "metadata": {},
   "outputs": [],
   "source": [
    "test_df[high_ic_factors].mean()[test_df[high_ic_factors].mean() < 20000].index"
   ]
  },
  {
   "cell_type": "code",
   "execution_count": null,
   "id": "f58ee451-23fd-49df-8a17-fe0b2c978cbb",
   "metadata": {},
   "outputs": [],
   "source": []
  }
 ],
 "metadata": {
  "kernelspec": {
   "display_name": "pythonlab(python3.8)",
   "language": "python",
   "name": "pythonlabkernel"
  },
  "language_info": {
   "codemirror_mode": {
    "name": "ipython",
    "version": 3
   },
   "file_extension": ".py",
   "mimetype": "text/x-python",
   "name": "python",
   "nbconvert_exporter": "python",
   "pygments_lexer": "ipython3",
   "version": "3.8.0"
  }
 },
 "nbformat": 4,
 "nbformat_minor": 5
}
