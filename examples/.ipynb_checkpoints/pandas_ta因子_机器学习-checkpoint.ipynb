{
 "cells": [
  {
   "cell_type": "markdown",
   "id": "a7007144-757d-4cf1-bed1-92fc6f61e680",
   "metadata": {
    "user_expressions": []
   },
   "source": [
    "<center><font size=5>pandas ta因子分析</font></center>"
   ]
  },
  {
   "cell_type": "markdown",
   "id": "c76bdbc1-8bf9-4544-b7ea-ddfd1aac1254",
   "metadata": {
    "user_expressions": []
   },
   "source": [
    "使用机器学习代替IC来进行初筛。由于IC无法反映因子在机器学习中的效果。"
   ]
  },
  {
   "cell_type": "markdown",
   "id": "26d81b6e-579e-4609-bbfa-db1eba62bcb8",
   "metadata": {
    "user_expressions": []
   },
   "source": [
    "加载各种包"
   ]
  },
  {
   "cell_type": "code",
   "execution_count": 1,
   "id": "dea71b55-a4ec-4897-b39e-ffca62713fa9",
   "metadata": {},
   "outputs": [
    {
     "data": {
      "text/html": [
       "        <script type=\"text/javascript\">\n",
       "        window.PlotlyConfig = {MathJaxConfig: 'local'};\n",
       "        if (window.MathJax) {MathJax.Hub.Config({SVG: {font: \"STIX-Web\"}});}\n",
       "        if (typeof require !== 'undefined') {\n",
       "        require.undef(\"plotly\");\n",
       "        requirejs.config({\n",
       "            paths: {\n",
       "                'plotly': ['https://cdn.plot.ly/plotly-2.2.0.min']\n",
       "            }\n",
       "        });\n",
       "        require(['plotly'], function(Plotly) {\n",
       "            window._Plotly = Plotly;\n",
       "        });\n",
       "        }\n",
       "        </script>\n",
       "        "
      ]
     },
     "metadata": {},
     "output_type": "display_data"
    }
   ],
   "source": [
    "import matplotlib.pyplot as plt\n",
    "import pandas as pd\n",
    "import numpy as np\n",
    "import sys\n",
    "sys.path.append('..')  # 文件位于\n",
    "\n",
    "import factors  # 因子计算\n",
    "import data_utils  # 数据读取\n",
    "import performance as perf  # IC计算\n",
    "import plotting  #绘图"
   ]
  },
  {
   "cell_type": "markdown",
   "id": "3cd6534f-fd4f-46e8-b508-f04c59dac8c7",
   "metadata": {
    "user_expressions": []
   },
   "source": [
    "# 1. 初始化DataLoader "
   ]
  },
  {
   "cell_type": "markdown",
   "id": "7f94af58-9a3d-4aec-8fea-6d1216990a84",
   "metadata": {
    "user_expressions": []
   },
   "source": [
    "DataLoader实现了对csv文件的批量读取，会按照\\[年\\]\\[月\\]保存在dl中。\n",
    "一些重要函数：\n",
    "- init_month_df: 加载目标文件夹下的所有zip文件。这些文件读取后会被保存在dataloader中。注意，"
   ]
  },
  {
   "cell_type": "code",
   "execution_count": 2,
   "id": "441ffc11-0b21-4c2f-9d50-9296e29ce4a5",
   "metadata": {},
   "outputs": [],
   "source": [
    "dl = data_utils.DataLoader()\n",
    "dl.init_month_df('E:/jupyternote/QF/CryptalC/data/UDST_M/15m_data')\n",
    "# 计算未来收益率\n",
    "data_utils.compute_future_rtn_for_all(dl)"
   ]
  },
  {
   "cell_type": "markdown",
   "id": "83738c90-afcc-4e7e-b94b-111020fcd44f",
   "metadata": {
    "user_expressions": []
   },
   "source": [
    "# 2. 计算因子\n",
    "ta Core indicators\n",
    "测试批量生成因子"
   ]
  },
  {
   "cell_type": "code",
   "execution_count": 3,
   "id": "71d10b7a-d256-43c0-bc4e-c005e60cb821",
   "metadata": {},
   "outputs": [],
   "source": [
    "import pandas_ta as ta\n",
    "import pandas as pd\n",
    "from tqdm import tqdm\n",
    "import time\n",
    "\n",
    "e = pd.DataFrame()\n",
    "core_indicators = e.ta.indicators(as_list=True)  # 获取所有indicators列表"
   ]
  },
  {
   "cell_type": "markdown",
   "id": "8feefbc5-089f-409c-99ea-719b9c8eb34e",
   "metadata": {
    "user_expressions": []
   },
   "source": [
    "### indicators函数有效性的检验\n",
    "1. 计算不能报错\n",
    "2. 计算时间不能太长"
   ]
  },
  {
   "cell_type": "code",
   "execution_count": 4,
   "id": "d157aaeb-54b0-44d1-a9ab-3ac7cd4b3d37",
   "metadata": {},
   "outputs": [],
   "source": [
    "test_df = dl.get_month_df('2020','01')[3].copy()  # 用于测试函数"
   ]
  },
  {
   "cell_type": "code",
   "execution_count": 5,
   "id": "88c08b79-08d7-40e2-b95d-087160d9dcf3",
   "metadata": {},
   "outputs": [],
   "source": [
    "def preprocess(df):\n",
    "    df.drop('volume', axis=1, inplace=True)\n",
    "    df.rename({'quote_volume':'volume'},axis=1, inplace=True)\n",
    "#     df['volume'] = np.log(df['volume'] + 1)\n",
    "    return df"
   ]
  },
  {
   "cell_type": "code",
   "execution_count": 6,
   "id": "b344da53-1994-4fd0-8806-1ca2532b547e",
   "metadata": {
    "tags": []
   },
   "outputs": [
    {
     "name": "stderr",
     "output_type": "stream",
     "text": [
      "  6%|████▌                                                                             | 8/143 [00:00<00:02, 64.11it/s]"
     ]
    },
    {
     "name": "stdout",
     "output_type": "stream",
     "text": [
      "[X] Ooops!!! It's True, the series 'b' was not found in open_time, open, high, low, close, volume, close_time, quote_volume, count, taker_buy_volume, taker_buy_quote_volume, ignore, fwd_rtn_5, fwd_rtn_5_real, fwd_rtn_5_bool, fwd_rtn_5_abs, fwd_rtn_10, fwd_rtn_10_real, fwd_rtn_10_bool, fwd_rtn_10_abs, fwd_rtn_20, fwd_rtn_20_real, fwd_rtn_20_bool, fwd_rtn_20_abs, fwd_rtn_50, fwd_rtn_50_real, fwd_rtn_50_bool, fwd_rtn_50_abs, fwd_rtn_1, fwd_rtn_1_real, fwd_rtn_1_bool, ABER_ZG_5_15, ABER_SG_5_15, ABER_XG_5_15, ABER_ATR_5_15\n",
      "[X] value is not a number\n",
      "[X] value is not a number\n"
     ]
    },
    {
     "name": "stderr",
     "output_type": "stream",
     "text": [
      "100%|████████████████████████████████████████████████████████████████████████████████| 143/143 [00:03<00:00, 38.56it/s]"
     ]
    },
    {
     "name": "stdout",
     "output_type": "stream",
     "text": [
      "[!] VWAP volume series is not datetime ordered. Results may not be as expected.\n",
      "[!] VWAP price series is not datetime ordered. Results may not be as expected.\n"
     ]
    },
    {
     "name": "stderr",
     "output_type": "stream",
     "text": [
      "\n"
     ]
    }
   ],
   "source": [
    "# test_df = preprocess(test_df)\n",
    "# 遍历判断哪些是直接可用的\n",
    "remove_fun_list = []  # 不需要计算的func\n",
    "time_list = []  # 保存函数计算的时长\n",
    "for indicator_name in tqdm(core_indicators):\n",
    "    try:\n",
    "        fun = getattr(test_df.ta, indicator_name)\n",
    "        # 记录代码开始时间\n",
    "        start_time = time.time()\n",
    "        for i in range(1):\n",
    "            temp_data = fun(append=True)\n",
    "        # 记录代码结束时间\n",
    "        end_time = time.time()\n",
    "        # 计算代码执行时间\n",
    "        execution_time = end_time - start_time\n",
    "        if type(temp_data) == pd.core.frame.DataFrame and 'open_time' in temp_data.columns:\n",
    "            remove_fun_list.append(indicator_name)\n",
    "            time_list.append(999)\n",
    "        else:\n",
    "            time_list.append(execution_time)\n",
    "    except:\n",
    "        remove_fun_list.append(indicator_name)\n",
    "        time_list.append(999)"
   ]
  },
  {
   "cell_type": "code",
   "execution_count": 7,
   "id": "a20c5523-70ba-4ca1-8718-3d4baaf7f833",
   "metadata": {},
   "outputs": [],
   "source": [
    "time_df = pd.DataFrame({\n",
    "    'factor': core_indicators,\n",
    "    'time':time_list\n",
    "})"
   ]
  },
  {
   "cell_type": "code",
   "execution_count": 8,
   "id": "605608a9-ed6d-419f-ae08-5155b6a650b8",
   "metadata": {},
   "outputs": [
    {
     "data": {
      "text/plain": [
       "(143, 2)"
      ]
     },
     "execution_count": 8,
     "metadata": {},
     "output_type": "execute_result"
    }
   ],
   "source": [
    "time_df.shape"
   ]
  },
  {
   "cell_type": "code",
   "execution_count": 9,
   "id": "3bfb994b-217f-443e-9d32-b51af9b3916c",
   "metadata": {},
   "outputs": [
    {
     "data": {
      "text/html": [
       "<div>\n",
       "<style scoped>\n",
       "    .dataframe tbody tr th:only-of-type {\n",
       "        vertical-align: middle;\n",
       "    }\n",
       "\n",
       "    .dataframe tbody tr th {\n",
       "        vertical-align: top;\n",
       "    }\n",
       "\n",
       "    .dataframe thead th {\n",
       "        text-align: right;\n",
       "    }\n",
       "</style>\n",
       "<table border=\"1\" class=\"dataframe\">\n",
       "  <thead>\n",
       "    <tr style=\"text-align: right;\">\n",
       "      <th></th>\n",
       "      <th>factor</th>\n",
       "      <th>time</th>\n",
       "    </tr>\n",
       "  </thead>\n",
       "  <tbody>\n",
       "    <tr>\n",
       "      <th>93</th>\n",
       "      <td>qqe</td>\n",
       "      <td>0.397782</td>\n",
       "    </tr>\n",
       "    <tr>\n",
       "      <th>118</th>\n",
       "      <td>td_seq</td>\n",
       "      <td>1.565656</td>\n",
       "    </tr>\n",
       "    <tr>\n",
       "      <th>102</th>\n",
       "      <td>short_run</td>\n",
       "      <td>999.000000</td>\n",
       "    </tr>\n",
       "    <tr>\n",
       "      <th>67</th>\n",
       "      <td>long_run</td>\n",
       "      <td>999.000000</td>\n",
       "    </tr>\n",
       "    <tr>\n",
       "      <th>135</th>\n",
       "      <td>vwap</td>\n",
       "      <td>999.000000</td>\n",
       "    </tr>\n",
       "    <tr>\n",
       "      <th>16</th>\n",
       "      <td>below_value</td>\n",
       "      <td>999.000000</td>\n",
       "    </tr>\n",
       "    <tr>\n",
       "      <th>2</th>\n",
       "      <td>above_value</td>\n",
       "      <td>999.000000</td>\n",
       "    </tr>\n",
       "    <tr>\n",
       "      <th>1</th>\n",
       "      <td>above</td>\n",
       "      <td>999.000000</td>\n",
       "    </tr>\n",
       "    <tr>\n",
       "      <th>140</th>\n",
       "      <td>xsignals</td>\n",
       "      <td>999.000000</td>\n",
       "    </tr>\n",
       "    <tr>\n",
       "      <th>126</th>\n",
       "      <td>tsignals</td>\n",
       "      <td>999.000000</td>\n",
       "    </tr>\n",
       "  </tbody>\n",
       "</table>\n",
       "</div>"
      ],
      "text/plain": [
       "          factor        time\n",
       "93           qqe    0.397782\n",
       "118       td_seq    1.565656\n",
       "102    short_run  999.000000\n",
       "67      long_run  999.000000\n",
       "135         vwap  999.000000\n",
       "16   below_value  999.000000\n",
       "2    above_value  999.000000\n",
       "1          above  999.000000\n",
       "140     xsignals  999.000000\n",
       "126     tsignals  999.000000"
      ]
     },
     "execution_count": 9,
     "metadata": {},
     "output_type": "execute_result"
    }
   ],
   "source": [
    "time_df.sort_values('time').tail(10)"
   ]
  },
  {
   "cell_type": "code",
   "execution_count": 10,
   "id": "d1f44b3c-c389-4a03-b02d-21026ee1ead4",
   "metadata": {},
   "outputs": [],
   "source": [
    "valid_core_indicators = list(time_df.sort_values('time')['factor'].values[:100])"
   ]
  },
  {
   "cell_type": "markdown",
   "id": "7ed5c744-3e10-4ce4-9c82-f6c9a19cecc3",
   "metadata": {
    "user_expressions": []
   },
   "source": [
    "### 因子层面：简单判断有效性\n",
    "1. nan值\n",
    "2. mean值"
   ]
  },
  {
   "cell_type": "code",
   "execution_count": 11,
   "id": "a468dca4-21e9-463b-a8cb-d8ea1aaf4f2c",
   "metadata": {
    "tags": []
   },
   "outputs": [
    {
     "name": "stderr",
     "output_type": "stream",
     "text": [
      "100%|███████████████████████████████████████████████████████████████████████████████| 100/100 [00:00<00:00, 702.83it/s]\n"
     ]
    }
   ],
   "source": [
    "test_df = dl.get_month_df('2021','10')[0].copy()  # 用于测试函数\n",
    "test_df = preprocess(test_df)\n",
    "# 遍历判断哪些是直接可用的\n",
    "current_factor_names = []  # 保存因子名称\n",
    "indicators = []\n",
    "for indicator_name in tqdm(valid_core_indicators):\n",
    "    fun = getattr(test_df.ta, indicator_name)\n",
    "    temp_data = fun(append=True)\n",
    "    temp_factor_names = []\n",
    "    if type(temp_data) == pd.core.series.Series:\n",
    "        temp_factor_names = [temp_data.name]\n",
    "    elif type(temp_data) == tuple:\n",
    "        temp_factor_names = list(temp_data[0].columns)\n",
    "    else:\n",
    "        temp_factor_names = list(temp_data.columns)\n",
    "    \n",
    "    for _ in temp_factor_names:\n",
    "        indicators.append(indicator_name)\n",
    "    \n",
    "    current_factor_names +=  temp_factor_names"
   ]
  },
  {
   "cell_type": "code",
   "execution_count": 12,
   "id": "80afaf3a-b4d1-4a56-b891-0df6102810c3",
   "metadata": {},
   "outputs": [],
   "source": [
    "# 构造一个df，用于特征名称和func之间的对应关系\n",
    "func2factor_df = pd.DataFrame({\n",
    "    'funcName':indicators,\n",
    "    'factorName':current_factor_names,\n",
    "})"
   ]
  },
  {
   "cell_type": "markdown",
   "id": "deb239ac-dc47-4212-bd8a-7970883a6b68",
   "metadata": {
    "user_expressions": []
   },
   "source": [
    "### 清理明显不合适的特征"
   ]
  },
  {
   "cell_type": "code",
   "execution_count": 13,
   "id": "f1dd092f-e762-4b7d-b497-12d487035da2",
   "metadata": {},
   "outputs": [],
   "source": [
    "import cufflinks"
   ]
  },
  {
   "cell_type": "code",
   "execution_count": 14,
   "id": "e9d4b5e1-bee8-4737-8cb4-ee8924246dcd",
   "metadata": {
    "tags": []
   },
   "outputs": [],
   "source": [
    "factors_df = test_df[current_factor_names]"
   ]
  },
  {
   "cell_type": "code",
   "execution_count": 15,
   "id": "038ce073-f8f4-41a4-a40f-62d222a627c9",
   "metadata": {},
   "outputs": [],
   "source": [
    "remove_cols = []\n",
    "remove_cols += list(factors_df.columns[factors_df.isna().sum() > 200])  # nan值太多所以清理掉\n",
    "remove_cols += list(factors_df.columns[factors_df.max() > 10000000])  # 均值过大所以清理掉\n",
    "# 找到那些没有使用未来数据的因子: 最后一行必须有数值\n",
    "invalid_cols = factors_df.columns[factors_df.isna().iloc[-1,:].values]\n",
    "remove_cols += list(invalid_cols)\n",
    "remove_cols += ['EOM_14_100000000', 'VAR_30']"
   ]
  },
  {
   "cell_type": "markdown",
   "id": "766e0c1e-c110-4bb8-b3de-ef6f6906d658",
   "metadata": {
    "user_expressions": []
   },
   "source": [
    "## 2. 构造cleaned factors函数"
   ]
  },
  {
   "cell_type": "code",
   "execution_count": 16,
   "id": "b1665ae6-ec7b-47dc-9663-3d9bf90c9a9e",
   "metadata": {},
   "outputs": [],
   "source": [
    "cleaned_factors = set(current_factor_names) - set(remove_cols)"
   ]
  },
  {
   "cell_type": "code",
   "execution_count": 17,
   "id": "bd406c79-2336-4fce-b332-9cd2ea818a6d",
   "metadata": {},
   "outputs": [
    {
     "data": {
      "text/plain": [
       "143"
      ]
     },
     "execution_count": 17,
     "metadata": {},
     "output_type": "execute_result"
    }
   ],
   "source": [
    "len(current_factor_names)"
   ]
  },
  {
   "cell_type": "code",
   "execution_count": 18,
   "id": "629752b7-d0c4-4d23-a3fb-d0b7b1c3f992",
   "metadata": {},
   "outputs": [
    {
     "data": {
      "text/plain": [
       "132"
      ]
     },
     "execution_count": 18,
     "metadata": {},
     "output_type": "execute_result"
    }
   ],
   "source": [
    "len(cleaned_factors)"
   ]
  },
  {
   "cell_type": "code",
   "execution_count": 19,
   "id": "87e69c90-fa30-49f5-a296-36750d4817b7",
   "metadata": {},
   "outputs": [],
   "source": [
    "@factors.handle_list_data\n",
    "def add_core_factors(raw_df:pd.DataFrame, core_indicators)-> pd.DataFrame:\n",
    "    '''\n",
    "    加入新因子的模板。\n",
    "    :param raw_df: 原始数据\n",
    "    :param core_indicators: 因子名称\n",
    "    :return: 原始数据+因子\n",
    "    '''\n",
    "    raw_df = preprocess(raw_df)\n",
    "    for indicator_name in valid_core_indicators:\n",
    "        fun = getattr(raw_df.ta, indicator_name)\n",
    "        temp_data = fun(append=True)\n",
    "    return raw_df"
   ]
  },
  {
   "cell_type": "code",
   "execution_count": 20,
   "id": "c73804c9-cffa-4a5d-bce4-cd8963689d60",
   "metadata": {
    "tags": []
   },
   "outputs": [
    {
     "name": "stdout",
     "output_type": "stream",
     "text": [
      "year: 2020\n"
     ]
    },
    {
     "name": "stderr",
     "output_type": "stream",
     "text": [
      "100%|██████████████████████████████████████████████████████████████████████████████████| 12/12 [00:38<00:00,  3.23s/it]\n"
     ]
    },
    {
     "name": "stdout",
     "output_type": "stream",
     "text": [
      "year: 2021\n"
     ]
    },
    {
     "name": "stderr",
     "output_type": "stream",
     "text": [
      "100%|██████████████████████████████████████████████████████████████████████████████████| 12/12 [01:49<00:00,  9.16s/it]\n"
     ]
    },
    {
     "name": "stdout",
     "output_type": "stream",
     "text": [
      "year: 2022\n"
     ]
    },
    {
     "name": "stderr",
     "output_type": "stream",
     "text": [
      " 33%|███████████████████████████▋                                                       | 4/12 [00:48<01:34, 11.84s/it]F:\\ProgramData\\Anaconda3\\envs\\pythonlab\\lib\\site-packages\\pandas\\core\\arraylike.py:364: RuntimeWarning:\n",
      "\n",
      "divide by zero encountered in log10\n",
      "\n",
      " 42%|██████████████████████████████████▌                                                | 5/12 [01:00<01:24, 12.03s/it]F:\\ProgramData\\Anaconda3\\envs\\pythonlab\\lib\\site-packages\\pandas\\core\\arraylike.py:364: RuntimeWarning:\n",
      "\n",
      "divide by zero encountered in log10\n",
      "\n",
      " 50%|█████████████████████████████████████████▌                                         | 6/12 [01:13<01:12, 12.15s/it]"
     ]
    },
    {
     "name": "stdout",
     "output_type": "stream",
     "text": [
      "Exception: inputs are all NaN\n",
      "Error: year: 2022, month:07, i:33\n"
     ]
    },
    {
     "name": "stderr",
     "output_type": "stream",
     "text": [
      " 58%|████████████████████████████████████████████████▍                                  | 7/12 [01:26<01:03, 12.69s/it]"
     ]
    },
    {
     "name": "stdout",
     "output_type": "stream",
     "text": [
      "Exception: inputs are all NaN\n",
      "Error: year: 2022, month:08, i:33\n"
     ]
    },
    {
     "name": "stderr",
     "output_type": "stream",
     "text": [
      " 83%|████████████████████████████████████████████████████████████████████▎             | 10/12 [02:10<00:27, 13.92s/it]F:\\ProgramData\\Anaconda3\\envs\\pythonlab\\lib\\site-packages\\pandas\\core\\arraylike.py:364: RuntimeWarning:\n",
      "\n",
      "divide by zero encountered in log10\n",
      "\n",
      " 92%|███████████████████████████████████████████████████████████████████████████▏      | 11/12 [02:26<00:14, 14.43s/it]"
     ]
    },
    {
     "name": "stdout",
     "output_type": "stream",
     "text": [
      "Exception: inputs are all NaN\n",
      "Error: year: 2022, month:12, i:31\n"
     ]
    },
    {
     "name": "stderr",
     "output_type": "stream",
     "text": [
      "100%|██████████████████████████████████████████████████████████████████████████████████| 12/12 [02:45<00:00, 13.77s/it]\n"
     ]
    },
    {
     "name": "stdout",
     "output_type": "stream",
     "text": [
      "year: 2023\n"
     ]
    },
    {
     "name": "stderr",
     "output_type": "stream",
     "text": [
      "  0%|                                                                                           | 0/12 [00:00<?, ?it/s]"
     ]
    },
    {
     "name": "stdout",
     "output_type": "stream",
     "text": [
      "Exception: inputs are all NaN\n",
      "Error: year: 2023, month:01, i:32\n"
     ]
    },
    {
     "name": "stderr",
     "output_type": "stream",
     "text": [
      "  8%|██████▉                                                                            | 1/12 [00:21<04:00, 21.85s/it]"
     ]
    },
    {
     "name": "stdout",
     "output_type": "stream",
     "text": [
      "Exception: inputs are all NaN\n",
      "Error: year: 2023, month:02, i:33\n"
     ]
    },
    {
     "name": "stderr",
     "output_type": "stream",
     "text": [
      " 17%|█████████████▊                                                                     | 2/12 [00:35<02:49, 16.91s/it]"
     ]
    },
    {
     "name": "stdout",
     "output_type": "stream",
     "text": [
      "Exception: inputs are all NaN\n",
      "Error: year: 2023, month:03, i:34\n"
     ]
    },
    {
     "name": "stderr",
     "output_type": "stream",
     "text": [
      " 25%|████████████████████▊                                                              | 3/12 [00:50<02:26, 16.32s/it]"
     ]
    },
    {
     "name": "stdout",
     "output_type": "stream",
     "text": [
      "Exception: inputs are all NaN\n",
      "Error: year: 2023, month:04, i:34\n"
     ]
    },
    {
     "name": "stderr",
     "output_type": "stream",
     "text": [
      " 33%|███████████████████████████▋                                                       | 4/12 [01:05<02:05, 15.73s/it]"
     ]
    },
    {
     "name": "stdout",
     "output_type": "stream",
     "text": [
      "Exception: inputs are all NaN\n",
      "Error: year: 2023, month:05, i:35\n"
     ]
    },
    {
     "name": "stderr",
     "output_type": "stream",
     "text": [
      " 42%|██████████████████████████████████▌                                                | 5/12 [01:23<01:54, 16.40s/it]"
     ]
    },
    {
     "name": "stdout",
     "output_type": "stream",
     "text": [
      "Exception: inputs are all NaN\n",
      "Error: year: 2023, month:06, i:36\n"
     ]
    },
    {
     "name": "stderr",
     "output_type": "stream",
     "text": [
      " 50%|█████████████████████████████████████████▌                                         | 6/12 [01:39<01:38, 16.37s/it]"
     ]
    },
    {
     "name": "stdout",
     "output_type": "stream",
     "text": [
      "Exception: inputs are all NaN\n",
      "Error: year: 2023, month:07, i:36\n"
     ]
    },
    {
     "name": "stderr",
     "output_type": "stream",
     "text": [
      " 58%|████████████████████████████████████████████████▍                                  | 7/12 [02:02<01:31, 18.34s/it]"
     ]
    },
    {
     "name": "stdout",
     "output_type": "stream",
     "text": [
      "Exception: inputs are all NaN\n",
      "Error: year: 2023, month:08, i:40\n"
     ]
    },
    {
     "name": "stderr",
     "output_type": "stream",
     "text": [
      " 67%|███████████████████████████████████████████████████████▎                           | 8/12 [02:29<01:25, 21.39s/it]"
     ]
    },
    {
     "name": "stdout",
     "output_type": "stream",
     "text": [
      "Exception: inputs are all NaN\n",
      "Error: year: 2023, month:09, i:42\n"
     ]
    },
    {
     "name": "stderr",
     "output_type": "stream",
     "text": [
      " 75%|██████████████████████████████████████████████████████████████▎                    | 9/12 [02:51<01:04, 21.35s/it]"
     ]
    },
    {
     "name": "stdout",
     "output_type": "stream",
     "text": [
      "Exception: inputs are all NaN\n",
      "Error: year: 2023, month:10, i:43\n"
     ]
    },
    {
     "name": "stderr",
     "output_type": "stream",
     "text": [
      "100%|██████████████████████████████████████████████████████████████████████████████████| 12/12 [03:19<00:00, 16.60s/it]\n"
     ]
    }
   ],
   "source": [
    "# 计算因子\n",
    "add_core_factors(dl, core_indicators)"
   ]
  },
  {
   "cell_type": "markdown",
   "id": "00b366a3-4e08-4aa3-b809-cc04e6b256e4",
   "metadata": {
    "user_expressions": []
   },
   "source": [
    "# 3.单因子ml效果"
   ]
  },
  {
   "cell_type": "code",
   "execution_count": 21,
   "id": "6670c0e5-af1d-4c31-b22f-d93a048aecec",
   "metadata": {},
   "outputs": [],
   "source": [
    "from ml_performance import MLFactorEvaluator, FastMLFactorEvaluator"
   ]
  },
  {
   "cell_type": "code",
   "execution_count": 22,
   "id": "3f66c841-d8f2-4e18-aae3-15a16de41153",
   "metadata": {},
   "outputs": [],
   "source": [
    "def cal_Z_score(factor_df, column_lists, span):\n",
    "    '''Z-score'''\n",
    "    for column_name in column_lists:\n",
    "        mean_20 = factor_df[column_name].ewm(span, adjust=False).mean()\n",
    "        std_20 = factor_df[column_name].ewm(30, adjust=False).std()  # todo 超参数搜索\n",
    "        factor_df[f'{column_name}_Z'] = (factor_df[column_name].values - mean_20) / std_20\n",
    "    return factor_df\n",
    "\n",
    "@factors.handle_dataloader_data\n",
    "def add_close_Z(raw_df:pd.DataFrame)-> pd.DataFrame:\n",
    "    raw_df = cal_Z_score(raw_df, ['close'], 30)\n",
    "    return raw_df\n",
    "\n",
    "@factors.handle_dataloader_data\n",
    "def add_base_factors(raw_df:pd.DataFrame)-> pd.DataFrame:\n",
    "    '''\n",
    "    加入新因子的模板。\n",
    "    :param raw_df: 原始数据\n",
    "    :param factor_name: 因子名称\n",
    "    :return: 原始数据+因子\n",
    "    '''\n",
    "    raw_df['macd'] = raw_df.ta.macd()['MACD_12_26_9']\n",
    "    raw_df['rsi'] = raw_df.ta.rsi()    \n",
    "    return raw_df"
   ]
  },
  {
   "cell_type": "code",
   "execution_count": 23,
   "id": "5453ad5e-b5e8-44ed-9b8c-5bbee855104b",
   "metadata": {
    "tags": []
   },
   "outputs": [
    {
     "name": "stdout",
     "output_type": "stream",
     "text": [
      "year: 2020\n"
     ]
    },
    {
     "name": "stderr",
     "output_type": "stream",
     "text": [
      "100%|██████████████████████████████████████████████████████████████████████████████████| 12/12 [00:00<00:00, 15.32it/s]\n"
     ]
    },
    {
     "name": "stdout",
     "output_type": "stream",
     "text": [
      "year: 2021\n"
     ]
    },
    {
     "name": "stderr",
     "output_type": "stream",
     "text": [
      "100%|██████████████████████████████████████████████████████████████████████████████████| 12/12 [00:01<00:00,  8.22it/s]\n"
     ]
    },
    {
     "name": "stdout",
     "output_type": "stream",
     "text": [
      "year: 2022\n"
     ]
    },
    {
     "name": "stderr",
     "output_type": "stream",
     "text": [
      "100%|██████████████████████████████████████████████████████████████████████████████████| 12/12 [00:01<00:00, 10.01it/s]\n"
     ]
    },
    {
     "name": "stdout",
     "output_type": "stream",
     "text": [
      "year: 2023\n"
     ]
    },
    {
     "name": "stderr",
     "output_type": "stream",
     "text": [
      "100%|██████████████████████████████████████████████████████████████████████████████████| 12/12 [00:01<00:00,  9.54it/s]\n"
     ]
    }
   ],
   "source": [
    "add_base_factors(dl)"
   ]
  },
  {
   "cell_type": "code",
   "execution_count": 24,
   "id": "91432159-833f-4272-bfd9-0a10a9b77a8f",
   "metadata": {
    "tags": []
   },
   "outputs": [
    {
     "name": "stdout",
     "output_type": "stream",
     "text": [
      "year: 2020\n"
     ]
    },
    {
     "name": "stderr",
     "output_type": "stream",
     "text": [
      "100%|██████████████████████████████████████████████████████████████████████████████████| 12/12 [00:00<00:00, 43.99it/s]\n"
     ]
    },
    {
     "name": "stdout",
     "output_type": "stream",
     "text": [
      "year: 2021\n"
     ]
    },
    {
     "name": "stderr",
     "output_type": "stream",
     "text": [
      "100%|██████████████████████████████████████████████████████████████████████████████████| 12/12 [00:00<00:00, 19.91it/s]\n"
     ]
    },
    {
     "name": "stdout",
     "output_type": "stream",
     "text": [
      "year: 2022\n"
     ]
    },
    {
     "name": "stderr",
     "output_type": "stream",
     "text": [
      "100%|██████████████████████████████████████████████████████████████████████████████████| 12/12 [00:00<00:00, 15.38it/s]\n"
     ]
    },
    {
     "name": "stdout",
     "output_type": "stream",
     "text": [
      "year: 2023\n"
     ]
    },
    {
     "name": "stderr",
     "output_type": "stream",
     "text": [
      "100%|██████████████████████████████████████████████████████████████████████████████████| 12/12 [00:00<00:00, 13.50it/s]\n"
     ]
    }
   ],
   "source": [
    "add_close_Z(dl)"
   ]
  },
  {
   "cell_type": "code",
   "execution_count": 25,
   "id": "efe32b66-3d14-49a5-9d96-29796714103d",
   "metadata": {},
   "outputs": [],
   "source": [
    "record_names = ['baseline'] + list(cleaned_factors)\n",
    "\n",
    "factor_names = [\n",
    "        ['macd', 'rsi'],\n",
    "] + [['macd', 'rsi', x] for x in cleaned_factors]"
   ]
  },
  {
   "cell_type": "code",
   "execution_count": 26,
   "id": "d7d5ac92-773c-499f-95f5-c5bf33a97f77",
   "metadata": {},
   "outputs": [],
   "source": [
    "from sklearn.ensemble import RandomForestClassifier\n",
    "from xgboost import XGBClassifier"
   ]
  },
  {
   "cell_type": "code",
   "execution_count": 27,
   "id": "fbfdc8aa-4797-4b01-8499-9138b5ce0d4c",
   "metadata": {},
   "outputs": [],
   "source": [
    "rf_best_params = {\n",
    "    'max_depth': 8,\n",
    "    'n_estimators': 50,\n",
    "    'min_samples_leaf': 1000,\n",
    "    'n_jobs': 4,\n",
    "}"
   ]
  },
  {
   "cell_type": "code",
   "execution_count": 28,
   "id": "e6618eec-d326-4ee1-8a76-6983fd19b5f5",
   "metadata": {},
   "outputs": [],
   "source": [
    "fast_ml_evaluator = FastMLFactorEvaluator(\n",
    "    method = RandomForestClassifier, \n",
    "    record_names = record_names, \n",
    "    factor_names = factor_names,\n",
    "    params_dict = rf_best_params\n",
    ")"
   ]
  },
  {
   "cell_type": "code",
   "execution_count": 29,
   "id": "5fb44ab3-2884-4d28-babe-78d24952eabe",
   "metadata": {
    "tags": []
   },
   "outputs": [
    {
     "name": "stderr",
     "output_type": "stream",
     "text": [
      "100%|████████████████████████████████████████████████████████████████████████████████| 133/133 [15:10<00:00,  6.85s/it]\n"
     ]
    }
   ],
   "source": [
    "fast_ml_evaluator.evaluate(dl, 'fwd_rtn_20_bool', subset_data=0.5)"
   ]
  },
  {
   "cell_type": "code",
   "execution_count": 30,
   "id": "ced776a1-f86a-46d9-8742-ad703df07660",
   "metadata": {},
   "outputs": [],
   "source": [
    "single_ml_result = fast_ml_evaluator.record_df"
   ]
  },
  {
   "cell_type": "code",
   "execution_count": 31,
   "id": "9313a3c2-25ea-43ae-ba7e-4d6b22129742",
   "metadata": {},
   "outputs": [],
   "source": [
    "single_ml_result.sort_values('f1', ascending=False, inplace=True)"
   ]
  },
  {
   "cell_type": "code",
   "execution_count": 32,
   "id": "47baed0a-705a-4e82-abad-129a39a8509e",
   "metadata": {},
   "outputs": [],
   "source": [
    "single_ml_result.reset_index(drop=True, inplace=True)"
   ]
  },
  {
   "cell_type": "code",
   "execution_count": 33,
   "id": "3d3cdfed-e50d-4069-84de-d69c3e10eada",
   "metadata": {},
   "outputs": [],
   "source": [
    "f1_20 = list(single_ml_result.head(20)['record_names'].values)"
   ]
  },
  {
   "cell_type": "markdown",
   "id": "787671c5-0d06-4d0a-8499-42ff36c7c0f0",
   "metadata": {
    "user_expressions": []
   },
   "source": [
    "# 4. 观察ml 效果 "
   ]
  },
  {
   "cell_type": "raw",
   "id": "266765ea-b457-4a6d-9828-3dc2c166f86f",
   "metadata": {},
   "source": [
    "import importlib\n",
    "import ml_performance\n",
    "importlib.reload(ml_performance)"
   ]
  },
  {
   "cell_type": "code",
   "execution_count": 34,
   "id": "ceb8cc9a-d997-4be7-8527-2a17e1645c43",
   "metadata": {},
   "outputs": [],
   "source": [
    "f1_18 = f1_20"
   ]
  },
  {
   "cell_type": "code",
   "execution_count": 35,
   "id": "268ad180-b02f-4a89-a066-ca0dae4beea7",
   "metadata": {},
   "outputs": [],
   "source": [
    "corr_df = test_df[f1_18].dropna()"
   ]
  },
  {
   "cell_type": "code",
   "execution_count": 38,
   "id": "f253fa25-ca0d-4a08-8da8-50ab632adc28",
   "metadata": {},
   "outputs": [],
   "source": [
    "f1_18 = np.array(f1_18)[corr_df.corr()['RSI_14'] < 0.5]\n",
    "f1_18 = list(f1_18) + ['RSI_14']\n",
    "corr_df = corr_df[f1_18]"
   ]
  },
  {
   "cell_type": "code",
   "execution_count": 40,
   "id": "74341a30-42c1-4499-83d9-486dca336f56",
   "metadata": {},
   "outputs": [],
   "source": [
    "low_corr = list(corr_df.columns)"
   ]
  },
  {
   "cell_type": "code",
   "execution_count": 41,
   "id": "9ac7b5aa-1681-4400-8cf3-85627c5ccc26",
   "metadata": {},
   "outputs": [],
   "source": [
    "try:\n",
    "    low_corr.remove('VAR_30')\n",
    "except:\n",
    "    pass"
   ]
  },
  {
   "cell_type": "code",
   "execution_count": 42,
   "id": "2e42c61e-d6f2-40d9-929e-a295bdc006a3",
   "metadata": {},
   "outputs": [],
   "source": [
    "record_names = ['baseline', 'f1_5', 'low_corr']\n",
    "\n",
    "factor_names = [\n",
    "        ['macd', 'rsi'],\n",
    "        ['macd', 'rsi'] + list(single_ml_result['record_names'].values[:5]),\n",
    "        ['macd', 'rsi'] + low_corr,\n",
    "]"
   ]
  },
  {
   "cell_type": "code",
   "execution_count": 43,
   "id": "966a268b-c14a-4ef5-973e-c04c3f3d30b6",
   "metadata": {},
   "outputs": [],
   "source": [
    "from sklearn.ensemble import RandomForestClassifier\n",
    "from xgboost import XGBClassifier"
   ]
  },
  {
   "cell_type": "code",
   "execution_count": 44,
   "id": "94b5b265-e445-4f14-b096-fd23d9bfbd7e",
   "metadata": {},
   "outputs": [],
   "source": [
    "ml_evaluator = MLFactorEvaluator(\n",
    "    method = RandomForestClassifier, \n",
    "    record_names = record_names, \n",
    "    factor_names = factor_names,\n",
    "    params_dict = rf_best_params,\n",
    "    cv = 10,\n",
    ")"
   ]
  },
  {
   "cell_type": "code",
   "execution_count": 45,
   "id": "0feaac68-d84e-45cf-915c-2272979df097",
   "metadata": {
    "tags": []
   },
   "outputs": [
    {
     "name": "stderr",
     "output_type": "stream",
     "text": [
      "100%|█████████████████████████████████████████████████████████████████████████████████| 10/10 [29:44<00:00, 178.45s/it]\n",
      "100%|█████████████████████████████████████████████████████████████████████████████████| 10/10 [24:33<00:00, 147.33s/it]\n",
      "100%|█████████████████████████████████████████████████████████████████████████████████| 10/10 [30:18<00:00, 181.85s/it]\n"
     ]
    }
   ],
   "source": [
    "ml_evaluator.evaluate(dl, 'fwd_rtn_20_bool', subset_data=0.9)"
   ]
  },
  {
   "cell_type": "code",
   "execution_count": 46,
   "id": "c13eab84-7891-4ed2-98a7-511de166d347",
   "metadata": {
    "tags": []
   },
   "outputs": [],
   "source": [
    "ml_record = ml_evaluator.get_assess_df('f1')"
   ]
  },
  {
   "cell_type": "code",
   "execution_count": 47,
   "id": "96d8a2b7-6dcc-49d6-bc2c-5b7b460c22f9",
   "metadata": {
    "tags": []
   },
   "outputs": [
    {
     "name": "stdout",
     "output_type": "stream",
     "text": [
      "Machine Learning records\n"
     ]
    },
    {
     "data": {
      "text/html": [
       "<div>\n",
       "<style scoped>\n",
       "    .dataframe tbody tr th:only-of-type {\n",
       "        vertical-align: middle;\n",
       "    }\n",
       "\n",
       "    .dataframe tbody tr th {\n",
       "        vertical-align: top;\n",
       "    }\n",
       "\n",
       "    .dataframe thead th {\n",
       "        text-align: right;\n",
       "    }\n",
       "</style>\n",
       "<table border=\"1\" class=\"dataframe\">\n",
       "  <thead>\n",
       "    <tr style=\"text-align: right;\">\n",
       "      <th></th>\n",
       "      <th>0</th>\n",
       "      <th>1</th>\n",
       "      <th>2</th>\n",
       "      <th>3</th>\n",
       "      <th>4</th>\n",
       "      <th>5</th>\n",
       "      <th>6</th>\n",
       "      <th>7</th>\n",
       "      <th>8</th>\n",
       "      <th>9</th>\n",
       "      <th>mean</th>\n",
       "      <th>std</th>\n",
       "    </tr>\n",
       "  </thead>\n",
       "  <tbody>\n",
       "    <tr>\n",
       "      <th>baseline</th>\n",
       "      <td>0.5961</td>\n",
       "      <td>0.6037</td>\n",
       "      <td>0.6366</td>\n",
       "      <td>0.5743</td>\n",
       "      <td>0.646</td>\n",
       "      <td>0.5757</td>\n",
       "      <td>0.5709</td>\n",
       "      <td>0.6308</td>\n",
       "      <td>0.6458</td>\n",
       "      <td>0.6164</td>\n",
       "      <td>0.6096</td>\n",
       "      <td>0.0298</td>\n",
       "    </tr>\n",
       "    <tr>\n",
       "      <th>f1_5</th>\n",
       "      <td>0.5962</td>\n",
       "      <td>0.6037</td>\n",
       "      <td>0.6366</td>\n",
       "      <td>0.5743</td>\n",
       "      <td>0.646</td>\n",
       "      <td>0.5762</td>\n",
       "      <td>0.5710</td>\n",
       "      <td>0.6305</td>\n",
       "      <td>0.6458</td>\n",
       "      <td>0.6164</td>\n",
       "      <td>0.6097</td>\n",
       "      <td>0.0297</td>\n",
       "    </tr>\n",
       "    <tr>\n",
       "      <th>low_corr</th>\n",
       "      <td>0.5962</td>\n",
       "      <td>0.6037</td>\n",
       "      <td>0.6365</td>\n",
       "      <td>0.5743</td>\n",
       "      <td>0.646</td>\n",
       "      <td>0.5762</td>\n",
       "      <td>0.5710</td>\n",
       "      <td>0.6306</td>\n",
       "      <td>0.6458</td>\n",
       "      <td>0.6164</td>\n",
       "      <td>0.6097</td>\n",
       "      <td>0.0297</td>\n",
       "    </tr>\n",
       "  </tbody>\n",
       "</table>\n",
       "</div>"
      ],
      "text/plain": [
       "               0       1       2       3      4       5       6       7  \\\n",
       "baseline  0.5961  0.6037  0.6366  0.5743  0.646  0.5757  0.5709  0.6308   \n",
       "f1_5      0.5962  0.6037  0.6366  0.5743  0.646  0.5762  0.5710  0.6305   \n",
       "low_corr  0.5962  0.6037  0.6365  0.5743  0.646  0.5762  0.5710  0.6306   \n",
       "\n",
       "               8       9    mean     std  \n",
       "baseline  0.6458  0.6164  0.6096  0.0298  \n",
       "f1_5      0.6458  0.6164  0.6097  0.0297  \n",
       "low_corr  0.6458  0.6164  0.6097  0.0297  "
      ]
     },
     "metadata": {},
     "output_type": "display_data"
    },
    {
     "name": "stdout",
     "output_type": "stream",
     "text": [
      "Machine Learning T-test Analysis\n"
     ]
    },
    {
     "data": {
      "text/html": [
       "<div>\n",
       "<style scoped>\n",
       "    .dataframe tbody tr th:only-of-type {\n",
       "        vertical-align: middle;\n",
       "    }\n",
       "\n",
       "    .dataframe tbody tr th {\n",
       "        vertical-align: top;\n",
       "    }\n",
       "\n",
       "    .dataframe thead th {\n",
       "        text-align: right;\n",
       "    }\n",
       "</style>\n",
       "<table border=\"1\" class=\"dataframe\">\n",
       "  <thead>\n",
       "    <tr style=\"text-align: right;\">\n",
       "      <th></th>\n",
       "      <th>t_ind</th>\n",
       "      <th>p_ind</th>\n",
       "      <th>t_rel</th>\n",
       "      <th>p_rel</th>\n",
       "    </tr>\n",
       "    <tr>\n",
       "      <th>record_name</th>\n",
       "      <th></th>\n",
       "      <th></th>\n",
       "      <th></th>\n",
       "      <th></th>\n",
       "    </tr>\n",
       "  </thead>\n",
       "  <tbody>\n",
       "    <tr>\n",
       "      <th>f1_5</th>\n",
       "      <td>-0.0017</td>\n",
       "      <td>0.9986</td>\n",
       "      <td>-0.4015</td>\n",
       "      <td>0.6974</td>\n",
       "    </tr>\n",
       "    <tr>\n",
       "      <th>low_corr</th>\n",
       "      <td>-0.0017</td>\n",
       "      <td>0.9987</td>\n",
       "      <td>-0.3865</td>\n",
       "      <td>0.7081</td>\n",
       "    </tr>\n",
       "  </tbody>\n",
       "</table>\n",
       "</div>"
      ],
      "text/plain": [
       "              t_ind   p_ind   t_rel   p_rel\n",
       "record_name                                \n",
       "f1_5        -0.0017  0.9986 -0.4015  0.6974\n",
       "low_corr    -0.0017  0.9987 -0.3865  0.7081"
      ]
     },
     "metadata": {},
     "output_type": "display_data"
    }
   ],
   "source": [
    "plotting.plot_ML_table(ml_record)"
   ]
  },
  {
   "cell_type": "code",
   "execution_count": 48,
   "id": "f633eb98-a523-4aec-a415-0f8e9277d054",
   "metadata": {
    "tags": []
   },
   "outputs": [
    {
     "data": {
      "application/vnd.plotly.v1+json": {
       "config": {
        "linkText": "Export to plot.ly",
        "plotlyServerURL": "https://plot.ly",
        "showLink": true
       },
       "data": [
        {
         "marker": {
          "color": "rgba(255, 153, 51, 0.6)",
          "line": {
           "color": "rgba(255, 153, 51, 1.0)",
           "width": 1
          }
         },
         "name": "baseline",
         "orientation": "v",
         "text": "",
         "type": "bar",
         "x": [
          0,
          1,
          2,
          3,
          4,
          5,
          6,
          7,
          8,
          9
         ],
         "y": [
          0.5961072878738777,
          0.6037063981314852,
          0.6366365527737828,
          0.5742661803483177,
          0.6460074834806145,
          0.5757310226203226,
          0.5709318302907939,
          0.6307813606660342,
          0.6458424242424242,
          0.6163967071457781
         ]
        },
        {
         "marker": {
          "color": "rgba(55, 128, 191, 0.6)",
          "line": {
           "color": "rgba(55, 128, 191, 1.0)",
           "width": 1
          }
         },
         "name": "f1_5",
         "orientation": "v",
         "text": "",
         "type": "bar",
         "x": [
          0,
          1,
          2,
          3,
          4,
          5,
          6,
          7,
          8,
          9
         ],
         "y": [
          0.5962029659563113,
          0.6036948406241026,
          0.6365604010445031,
          0.574288691697982,
          0.6460203411420496,
          0.5762019074806981,
          0.5709677419354838,
          0.6305487217884266,
          0.6457731958762887,
          0.616377471198976
         ]
        },
        {
         "marker": {
          "color": "rgba(50, 171, 96, 0.6)",
          "line": {
           "color": "rgba(50, 171, 96, 1.0)",
           "width": 1
          }
         },
         "name": "low_corr",
         "orientation": "v",
         "text": "",
         "type": "bar",
         "x": [
          0,
          1,
          2,
          3,
          4,
          5,
          6,
          7,
          8,
          9
         ],
         "y": [
          0.596191601700246,
          0.6037063981314852,
          0.6365223219896384,
          0.5742661803483177,
          0.6460203411420496,
          0.5762019074806981,
          0.5710038425938911,
          0.6305783577100992,
          0.645758603974794,
          0.616377471198976
         ]
        }
       ],
       "layout": {
        "autosize": true,
        "legend": {
         "bgcolor": "#FFFFFF",
         "font": {
          "color": "#4D5663"
         }
        },
        "paper_bgcolor": "#FFFFFF",
        "plot_bgcolor": "#FFFFFF",
        "template": {
         "data": {
          "bar": [
           {
            "error_x": {
             "color": "#2a3f5f"
            },
            "error_y": {
             "color": "#2a3f5f"
            },
            "marker": {
             "line": {
              "color": "#E5ECF6",
              "width": 0.5
             },
             "pattern": {
              "fillmode": "overlay",
              "size": 10,
              "solidity": 0.2
             }
            },
            "type": "bar"
           }
          ],
          "barpolar": [
           {
            "marker": {
             "line": {
              "color": "#E5ECF6",
              "width": 0.5
             },
             "pattern": {
              "fillmode": "overlay",
              "size": 10,
              "solidity": 0.2
             }
            },
            "type": "barpolar"
           }
          ],
          "carpet": [
           {
            "aaxis": {
             "endlinecolor": "#2a3f5f",
             "gridcolor": "white",
             "linecolor": "white",
             "minorgridcolor": "white",
             "startlinecolor": "#2a3f5f"
            },
            "baxis": {
             "endlinecolor": "#2a3f5f",
             "gridcolor": "white",
             "linecolor": "white",
             "minorgridcolor": "white",
             "startlinecolor": "#2a3f5f"
            },
            "type": "carpet"
           }
          ],
          "choropleth": [
           {
            "colorbar": {
             "outlinewidth": 0,
             "ticks": ""
            },
            "type": "choropleth"
           }
          ],
          "contour": [
           {
            "colorbar": {
             "outlinewidth": 0,
             "ticks": ""
            },
            "colorscale": [
             [
              0,
              "#0d0887"
             ],
             [
              0.1111111111111111,
              "#46039f"
             ],
             [
              0.2222222222222222,
              "#7201a8"
             ],
             [
              0.3333333333333333,
              "#9c179e"
             ],
             [
              0.4444444444444444,
              "#bd3786"
             ],
             [
              0.5555555555555556,
              "#d8576b"
             ],
             [
              0.6666666666666666,
              "#ed7953"
             ],
             [
              0.7777777777777778,
              "#fb9f3a"
             ],
             [
              0.8888888888888888,
              "#fdca26"
             ],
             [
              1,
              "#f0f921"
             ]
            ],
            "type": "contour"
           }
          ],
          "contourcarpet": [
           {
            "colorbar": {
             "outlinewidth": 0,
             "ticks": ""
            },
            "type": "contourcarpet"
           }
          ],
          "heatmap": [
           {
            "colorbar": {
             "outlinewidth": 0,
             "ticks": ""
            },
            "colorscale": [
             [
              0,
              "#0d0887"
             ],
             [
              0.1111111111111111,
              "#46039f"
             ],
             [
              0.2222222222222222,
              "#7201a8"
             ],
             [
              0.3333333333333333,
              "#9c179e"
             ],
             [
              0.4444444444444444,
              "#bd3786"
             ],
             [
              0.5555555555555556,
              "#d8576b"
             ],
             [
              0.6666666666666666,
              "#ed7953"
             ],
             [
              0.7777777777777778,
              "#fb9f3a"
             ],
             [
              0.8888888888888888,
              "#fdca26"
             ],
             [
              1,
              "#f0f921"
             ]
            ],
            "type": "heatmap"
           }
          ],
          "heatmapgl": [
           {
            "colorbar": {
             "outlinewidth": 0,
             "ticks": ""
            },
            "colorscale": [
             [
              0,
              "#0d0887"
             ],
             [
              0.1111111111111111,
              "#46039f"
             ],
             [
              0.2222222222222222,
              "#7201a8"
             ],
             [
              0.3333333333333333,
              "#9c179e"
             ],
             [
              0.4444444444444444,
              "#bd3786"
             ],
             [
              0.5555555555555556,
              "#d8576b"
             ],
             [
              0.6666666666666666,
              "#ed7953"
             ],
             [
              0.7777777777777778,
              "#fb9f3a"
             ],
             [
              0.8888888888888888,
              "#fdca26"
             ],
             [
              1,
              "#f0f921"
             ]
            ],
            "type": "heatmapgl"
           }
          ],
          "histogram": [
           {
            "marker": {
             "pattern": {
              "fillmode": "overlay",
              "size": 10,
              "solidity": 0.2
             }
            },
            "type": "histogram"
           }
          ],
          "histogram2d": [
           {
            "colorbar": {
             "outlinewidth": 0,
             "ticks": ""
            },
            "colorscale": [
             [
              0,
              "#0d0887"
             ],
             [
              0.1111111111111111,
              "#46039f"
             ],
             [
              0.2222222222222222,
              "#7201a8"
             ],
             [
              0.3333333333333333,
              "#9c179e"
             ],
             [
              0.4444444444444444,
              "#bd3786"
             ],
             [
              0.5555555555555556,
              "#d8576b"
             ],
             [
              0.6666666666666666,
              "#ed7953"
             ],
             [
              0.7777777777777778,
              "#fb9f3a"
             ],
             [
              0.8888888888888888,
              "#fdca26"
             ],
             [
              1,
              "#f0f921"
             ]
            ],
            "type": "histogram2d"
           }
          ],
          "histogram2dcontour": [
           {
            "colorbar": {
             "outlinewidth": 0,
             "ticks": ""
            },
            "colorscale": [
             [
              0,
              "#0d0887"
             ],
             [
              0.1111111111111111,
              "#46039f"
             ],
             [
              0.2222222222222222,
              "#7201a8"
             ],
             [
              0.3333333333333333,
              "#9c179e"
             ],
             [
              0.4444444444444444,
              "#bd3786"
             ],
             [
              0.5555555555555556,
              "#d8576b"
             ],
             [
              0.6666666666666666,
              "#ed7953"
             ],
             [
              0.7777777777777778,
              "#fb9f3a"
             ],
             [
              0.8888888888888888,
              "#fdca26"
             ],
             [
              1,
              "#f0f921"
             ]
            ],
            "type": "histogram2dcontour"
           }
          ],
          "mesh3d": [
           {
            "colorbar": {
             "outlinewidth": 0,
             "ticks": ""
            },
            "type": "mesh3d"
           }
          ],
          "parcoords": [
           {
            "line": {
             "colorbar": {
              "outlinewidth": 0,
              "ticks": ""
             }
            },
            "type": "parcoords"
           }
          ],
          "pie": [
           {
            "automargin": true,
            "type": "pie"
           }
          ],
          "scatter": [
           {
            "marker": {
             "colorbar": {
              "outlinewidth": 0,
              "ticks": ""
             }
            },
            "type": "scatter"
           }
          ],
          "scatter3d": [
           {
            "line": {
             "colorbar": {
              "outlinewidth": 0,
              "ticks": ""
             }
            },
            "marker": {
             "colorbar": {
              "outlinewidth": 0,
              "ticks": ""
             }
            },
            "type": "scatter3d"
           }
          ],
          "scattercarpet": [
           {
            "marker": {
             "colorbar": {
              "outlinewidth": 0,
              "ticks": ""
             }
            },
            "type": "scattercarpet"
           }
          ],
          "scattergeo": [
           {
            "marker": {
             "colorbar": {
              "outlinewidth": 0,
              "ticks": ""
             }
            },
            "type": "scattergeo"
           }
          ],
          "scattergl": [
           {
            "marker": {
             "colorbar": {
              "outlinewidth": 0,
              "ticks": ""
             }
            },
            "type": "scattergl"
           }
          ],
          "scattermapbox": [
           {
            "marker": {
             "colorbar": {
              "outlinewidth": 0,
              "ticks": ""
             }
            },
            "type": "scattermapbox"
           }
          ],
          "scatterpolar": [
           {
            "marker": {
             "colorbar": {
              "outlinewidth": 0,
              "ticks": ""
             }
            },
            "type": "scatterpolar"
           }
          ],
          "scatterpolargl": [
           {
            "marker": {
             "colorbar": {
              "outlinewidth": 0,
              "ticks": ""
             }
            },
            "type": "scatterpolargl"
           }
          ],
          "scatterternary": [
           {
            "marker": {
             "colorbar": {
              "outlinewidth": 0,
              "ticks": ""
             }
            },
            "type": "scatterternary"
           }
          ],
          "surface": [
           {
            "colorbar": {
             "outlinewidth": 0,
             "ticks": ""
            },
            "colorscale": [
             [
              0,
              "#0d0887"
             ],
             [
              0.1111111111111111,
              "#46039f"
             ],
             [
              0.2222222222222222,
              "#7201a8"
             ],
             [
              0.3333333333333333,
              "#9c179e"
             ],
             [
              0.4444444444444444,
              "#bd3786"
             ],
             [
              0.5555555555555556,
              "#d8576b"
             ],
             [
              0.6666666666666666,
              "#ed7953"
             ],
             [
              0.7777777777777778,
              "#fb9f3a"
             ],
             [
              0.8888888888888888,
              "#fdca26"
             ],
             [
              1,
              "#f0f921"
             ]
            ],
            "type": "surface"
           }
          ],
          "table": [
           {
            "cells": {
             "fill": {
              "color": "#EBF0F8"
             },
             "line": {
              "color": "white"
             }
            },
            "header": {
             "fill": {
              "color": "#C8D4E3"
             },
             "line": {
              "color": "white"
             }
            },
            "type": "table"
           }
          ]
         },
         "layout": {
          "annotationdefaults": {
           "arrowcolor": "#2a3f5f",
           "arrowhead": 0,
           "arrowwidth": 1
          },
          "autotypenumbers": "strict",
          "coloraxis": {
           "colorbar": {
            "outlinewidth": 0,
            "ticks": ""
           }
          },
          "colorscale": {
           "diverging": [
            [
             0,
             "#8e0152"
            ],
            [
             0.1,
             "#c51b7d"
            ],
            [
             0.2,
             "#de77ae"
            ],
            [
             0.3,
             "#f1b6da"
            ],
            [
             0.4,
             "#fde0ef"
            ],
            [
             0.5,
             "#f7f7f7"
            ],
            [
             0.6,
             "#e6f5d0"
            ],
            [
             0.7,
             "#b8e186"
            ],
            [
             0.8,
             "#7fbc41"
            ],
            [
             0.9,
             "#4d9221"
            ],
            [
             1,
             "#276419"
            ]
           ],
           "sequential": [
            [
             0,
             "#0d0887"
            ],
            [
             0.1111111111111111,
             "#46039f"
            ],
            [
             0.2222222222222222,
             "#7201a8"
            ],
            [
             0.3333333333333333,
             "#9c179e"
            ],
            [
             0.4444444444444444,
             "#bd3786"
            ],
            [
             0.5555555555555556,
             "#d8576b"
            ],
            [
             0.6666666666666666,
             "#ed7953"
            ],
            [
             0.7777777777777778,
             "#fb9f3a"
            ],
            [
             0.8888888888888888,
             "#fdca26"
            ],
            [
             1,
             "#f0f921"
            ]
           ],
           "sequentialminus": [
            [
             0,
             "#0d0887"
            ],
            [
             0.1111111111111111,
             "#46039f"
            ],
            [
             0.2222222222222222,
             "#7201a8"
            ],
            [
             0.3333333333333333,
             "#9c179e"
            ],
            [
             0.4444444444444444,
             "#bd3786"
            ],
            [
             0.5555555555555556,
             "#d8576b"
            ],
            [
             0.6666666666666666,
             "#ed7953"
            ],
            [
             0.7777777777777778,
             "#fb9f3a"
            ],
            [
             0.8888888888888888,
             "#fdca26"
            ],
            [
             1,
             "#f0f921"
            ]
           ]
          },
          "colorway": [
           "#636efa",
           "#EF553B",
           "#00cc96",
           "#ab63fa",
           "#FFA15A",
           "#19d3f3",
           "#FF6692",
           "#B6E880",
           "#FF97FF",
           "#FECB52"
          ],
          "font": {
           "color": "#2a3f5f"
          },
          "geo": {
           "bgcolor": "white",
           "lakecolor": "white",
           "landcolor": "#E5ECF6",
           "showlakes": true,
           "showland": true,
           "subunitcolor": "white"
          },
          "hoverlabel": {
           "align": "left"
          },
          "hovermode": "closest",
          "mapbox": {
           "style": "light"
          },
          "paper_bgcolor": "white",
          "plot_bgcolor": "#E5ECF6",
          "polar": {
           "angularaxis": {
            "gridcolor": "white",
            "linecolor": "white",
            "ticks": ""
           },
           "bgcolor": "#E5ECF6",
           "radialaxis": {
            "gridcolor": "white",
            "linecolor": "white",
            "ticks": ""
           }
          },
          "scene": {
           "xaxis": {
            "backgroundcolor": "#E5ECF6",
            "gridcolor": "white",
            "gridwidth": 2,
            "linecolor": "white",
            "showbackground": true,
            "ticks": "",
            "zerolinecolor": "white"
           },
           "yaxis": {
            "backgroundcolor": "#E5ECF6",
            "gridcolor": "white",
            "gridwidth": 2,
            "linecolor": "white",
            "showbackground": true,
            "ticks": "",
            "zerolinecolor": "white"
           },
           "zaxis": {
            "backgroundcolor": "#E5ECF6",
            "gridcolor": "white",
            "gridwidth": 2,
            "linecolor": "white",
            "showbackground": true,
            "ticks": "",
            "zerolinecolor": "white"
           }
          },
          "shapedefaults": {
           "line": {
            "color": "#2a3f5f"
           }
          },
          "ternary": {
           "aaxis": {
            "gridcolor": "white",
            "linecolor": "white",
            "ticks": ""
           },
           "baxis": {
            "gridcolor": "white",
            "linecolor": "white",
            "ticks": ""
           },
           "bgcolor": "#E5ECF6",
           "caxis": {
            "gridcolor": "white",
            "linecolor": "white",
            "ticks": ""
           }
          },
          "title": {
           "x": 0.05
          },
          "xaxis": {
           "automargin": true,
           "gridcolor": "white",
           "linecolor": "white",
           "ticks": "",
           "title": {
            "standoff": 15
           },
           "zerolinecolor": "white",
           "zerolinewidth": 2
          },
          "yaxis": {
           "automargin": true,
           "gridcolor": "white",
           "linecolor": "white",
           "ticks": "",
           "title": {
            "standoff": 15
           },
           "zerolinecolor": "white",
           "zerolinewidth": 2
          }
         }
        },
        "title": {
         "font": {
          "color": "#4D5663"
         }
        },
        "xaxis": {
         "autorange": true,
         "gridcolor": "#E1E5ED",
         "range": [
          -0.5,
          9.5
         ],
         "showgrid": true,
         "tickfont": {
          "color": "#4D5663"
         },
         "title": {
          "font": {
           "color": "#4D5663"
          },
          "text": ""
         },
         "type": "linear",
         "zerolinecolor": "#E1E5ED"
        },
        "yaxis": {
         "autorange": true,
         "gridcolor": "#E1E5ED",
         "range": [
          0,
          0.6800214117284733
         ],
         "showgrid": true,
         "tickfont": {
          "color": "#4D5663"
         },
         "title": {
          "font": {
           "color": "#4D5663"
          },
          "text": ""
         },
         "type": "linear",
         "zerolinecolor": "#E1E5ED"
        }
       }
      },
      "image/png": "[encoded data removed]",
      "text/html": [
       "<div>                            <div id=\"010a9bf0-0ae9-411e-869c-0cac76482c77\" class=\"plotly-graph-div\" style=\"height:525px; width:100%;\"></div>            <script type=\"text/javascript\">                require([\"plotly\"], function(Plotly) {                    window.PLOTLYENV=window.PLOTLYENV || {};\n",
       "                    window.PLOTLYENV.BASE_URL='https://plot.ly';                                    if (document.getElementById(\"010a9bf0-0ae9-411e-869c-0cac76482c77\")) {                    Plotly.newPlot(                        \"010a9bf0-0ae9-411e-869c-0cac76482c77\",                        [{\"marker\":{\"color\":\"rgba(255, 153, 51, 0.6)\",\"line\":{\"color\":\"rgba(255, 153, 51, 1.0)\",\"width\":1}},\"name\":\"baseline\",\"orientation\":\"v\",\"text\":\"\",\"type\":\"bar\",\"x\":[0,1,2,3,4,5,6,7,8,9],\"y\":[0.5961072878738777,0.6037063981314852,0.6366365527737828,0.5742661803483177,0.6460074834806145,0.5757310226203226,0.5709318302907939,0.6307813606660342,0.6458424242424242,0.6163967071457781]},{\"marker\":{\"color\":\"rgba(55, 128, 191, 0.6)\",\"line\":{\"color\":\"rgba(55, 128, 191, 1.0)\",\"width\":1}},\"name\":\"f1_5\",\"orientation\":\"v\",\"text\":\"\",\"type\":\"bar\",\"x\":[0,1,2,3,4,5,6,7,8,9],\"y\":[0.5962029659563113,0.6036948406241026,0.6365604010445031,0.574288691697982,0.6460203411420496,0.5762019074806981,0.5709677419354838,0.6305487217884266,0.6457731958762887,0.616377471198976]},{\"marker\":{\"color\":\"rgba(50, 171, 96, 0.6)\",\"line\":{\"color\":\"rgba(50, 171, 96, 1.0)\",\"width\":1}},\"name\":\"low_corr\",\"orientation\":\"v\",\"text\":\"\",\"type\":\"bar\",\"x\":[0,1,2,3,4,5,6,7,8,9],\"y\":[0.596191601700246,0.6037063981314852,0.6365223219896384,0.5742661803483177,0.6460203411420496,0.5762019074806981,0.5710038425938911,0.6305783577100992,0.645758603974794,0.616377471198976]}],                        {\"legend\":{\"bgcolor\":\"#FFFFFF\",\"font\":{\"color\":\"#4D5663\"}},\"paper_bgcolor\":\"#FFFFFF\",\"plot_bgcolor\":\"#FFFFFF\",\"template\":{\"data\":{\"bar\":[{\"error_x\":{\"color\":\"#2a3f5f\"},\"error_y\":{\"color\":\"#2a3f5f\"},\"marker\":{\"line\":{\"color\":\"#E5ECF6\",\"width\":0.5},\"pattern\":{\"fillmode\":\"overlay\",\"size\":10,\"solidity\":0.2}},\"type\":\"bar\"}],\"barpolar\":[{\"marker\":{\"line\":{\"color\":\"#E5ECF6\",\"width\":0.5},\"pattern\":{\"fillmode\":\"overlay\",\"size\":10,\"solidity\":0.2}},\"type\":\"barpolar\"}],\"carpet\":[{\"aaxis\":{\"endlinecolor\":\"#2a3f5f\",\"gridcolor\":\"white\",\"linecolor\":\"white\",\"minorgridcolor\":\"white\",\"startlinecolor\":\"#2a3f5f\"},\"baxis\":{\"endlinecolor\":\"#2a3f5f\",\"gridcolor\":\"white\",\"linecolor\":\"white\",\"minorgridcolor\":\"white\",\"startlinecolor\":\"#2a3f5f\"},\"type\":\"carpet\"}],\"choropleth\":[{\"colorbar\":{\"outlinewidth\":0,\"ticks\":\"\"},\"type\":\"choropleth\"}],\"contour\":[{\"colorbar\":{\"outlinewidth\":0,\"ticks\":\"\"},\"colorscale\":[[0.0,\"#0d0887\"],[0.1111111111111111,\"#46039f\"],[0.2222222222222222,\"#7201a8\"],[0.3333333333333333,\"#9c179e\"],[0.4444444444444444,\"#bd3786\"],[0.5555555555555556,\"#d8576b\"],[0.6666666666666666,\"#ed7953\"],[0.7777777777777778,\"#fb9f3a\"],[0.8888888888888888,\"#fdca26\"],[1.0,\"#f0f921\"]],\"type\":\"contour\"}],\"contourcarpet\":[{\"colorbar\":{\"outlinewidth\":0,\"ticks\":\"\"},\"type\":\"contourcarpet\"}],\"heatmap\":[{\"colorbar\":{\"outlinewidth\":0,\"ticks\":\"\"},\"colorscale\":[[0.0,\"#0d0887\"],[0.1111111111111111,\"#46039f\"],[0.2222222222222222,\"#7201a8\"],[0.3333333333333333,\"#9c179e\"],[0.4444444444444444,\"#bd3786\"],[0.5555555555555556,\"#d8576b\"],[0.6666666666666666,\"#ed7953\"],[0.7777777777777778,\"#fb9f3a\"],[0.8888888888888888,\"#fdca26\"],[1.0,\"#f0f921\"]],\"type\":\"heatmap\"}],\"heatmapgl\":[{\"colorbar\":{\"outlinewidth\":0,\"ticks\":\"\"},\"colorscale\":[[0.0,\"#0d0887\"],[0.1111111111111111,\"#46039f\"],[0.2222222222222222,\"#7201a8\"],[0.3333333333333333,\"#9c179e\"],[0.4444444444444444,\"#bd3786\"],[0.5555555555555556,\"#d8576b\"],[0.6666666666666666,\"#ed7953\"],[0.7777777777777778,\"#fb9f3a\"],[0.8888888888888888,\"#fdca26\"],[1.0,\"#f0f921\"]],\"type\":\"heatmapgl\"}],\"histogram\":[{\"marker\":{\"pattern\":{\"fillmode\":\"overlay\",\"size\":10,\"solidity\":0.2}},\"type\":\"histogram\"}],\"histogram2d\":[{\"colorbar\":{\"outlinewidth\":0,\"ticks\":\"\"},\"colorscale\":[[0.0,\"#0d0887\"],[0.1111111111111111,\"#46039f\"],[0.2222222222222222,\"#7201a8\"],[0.3333333333333333,\"#9c179e\"],[0.4444444444444444,\"#bd3786\"],[0.5555555555555556,\"#d8576b\"],[0.6666666666666666,\"#ed7953\"],[0.7777777777777778,\"#fb9f3a\"],[0.8888888888888888,\"#fdca26\"],[1.0,\"#f0f921\"]],\"type\":\"histogram2d\"}],\"histogram2dcontour\":[{\"colorbar\":{\"outlinewidth\":0,\"ticks\":\"\"},\"colorscale\":[[0.0,\"#0d0887\"],[0.1111111111111111,\"#46039f\"],[0.2222222222222222,\"#7201a8\"],[0.3333333333333333,\"#9c179e\"],[0.4444444444444444,\"#bd3786\"],[0.5555555555555556,\"#d8576b\"],[0.6666666666666666,\"#ed7953\"],[0.7777777777777778,\"#fb9f3a\"],[0.8888888888888888,\"#fdca26\"],[1.0,\"#f0f921\"]],\"type\":\"histogram2dcontour\"}],\"mesh3d\":[{\"colorbar\":{\"outlinewidth\":0,\"ticks\":\"\"},\"type\":\"mesh3d\"}],\"parcoords\":[{\"line\":{\"colorbar\":{\"outlinewidth\":0,\"ticks\":\"\"}},\"type\":\"parcoords\"}],\"pie\":[{\"automargin\":true,\"type\":\"pie\"}],\"scatter\":[{\"marker\":{\"colorbar\":{\"outlinewidth\":0,\"ticks\":\"\"}},\"type\":\"scatter\"}],\"scatter3d\":[{\"line\":{\"colorbar\":{\"outlinewidth\":0,\"ticks\":\"\"}},\"marker\":{\"colorbar\":{\"outlinewidth\":0,\"ticks\":\"\"}},\"type\":\"scatter3d\"}],\"scattercarpet\":[{\"marker\":{\"colorbar\":{\"outlinewidth\":0,\"ticks\":\"\"}},\"type\":\"scattercarpet\"}],\"scattergeo\":[{\"marker\":{\"colorbar\":{\"outlinewidth\":0,\"ticks\":\"\"}},\"type\":\"scattergeo\"}],\"scattergl\":[{\"marker\":{\"colorbar\":{\"outlinewidth\":0,\"ticks\":\"\"}},\"type\":\"scattergl\"}],\"scattermapbox\":[{\"marker\":{\"colorbar\":{\"outlinewidth\":0,\"ticks\":\"\"}},\"type\":\"scattermapbox\"}],\"scatterpolar\":[{\"marker\":{\"colorbar\":{\"outlinewidth\":0,\"ticks\":\"\"}},\"type\":\"scatterpolar\"}],\"scatterpolargl\":[{\"marker\":{\"colorbar\":{\"outlinewidth\":0,\"ticks\":\"\"}},\"type\":\"scatterpolargl\"}],\"scatterternary\":[{\"marker\":{\"colorbar\":{\"outlinewidth\":0,\"ticks\":\"\"}},\"type\":\"scatterternary\"}],\"surface\":[{\"colorbar\":{\"outlinewidth\":0,\"ticks\":\"\"},\"colorscale\":[[0.0,\"#0d0887\"],[0.1111111111111111,\"#46039f\"],[0.2222222222222222,\"#7201a8\"],[0.3333333333333333,\"#9c179e\"],[0.4444444444444444,\"#bd3786\"],[0.5555555555555556,\"#d8576b\"],[0.6666666666666666,\"#ed7953\"],[0.7777777777777778,\"#fb9f3a\"],[0.8888888888888888,\"#fdca26\"],[1.0,\"#f0f921\"]],\"type\":\"surface\"}],\"table\":[{\"cells\":{\"fill\":{\"color\":\"#EBF0F8\"},\"line\":{\"color\":\"white\"}},\"header\":{\"fill\":{\"color\":\"#C8D4E3\"},\"line\":{\"color\":\"white\"}},\"type\":\"table\"}]},\"layout\":{\"annotationdefaults\":{\"arrowcolor\":\"#2a3f5f\",\"arrowhead\":0,\"arrowwidth\":1},\"autotypenumbers\":\"strict\",\"coloraxis\":{\"colorbar\":{\"outlinewidth\":0,\"ticks\":\"\"}},\"colorscale\":{\"diverging\":[[0,\"#8e0152\"],[0.1,\"#c51b7d\"],[0.2,\"#de77ae\"],[0.3,\"#f1b6da\"],[0.4,\"#fde0ef\"],[0.5,\"#f7f7f7\"],[0.6,\"#e6f5d0\"],[0.7,\"#b8e186\"],[0.8,\"#7fbc41\"],[0.9,\"#4d9221\"],[1,\"#276419\"]],\"sequential\":[[0.0,\"#0d0887\"],[0.1111111111111111,\"#46039f\"],[0.2222222222222222,\"#7201a8\"],[0.3333333333333333,\"#9c179e\"],[0.4444444444444444,\"#bd3786\"],[0.5555555555555556,\"#d8576b\"],[0.6666666666666666,\"#ed7953\"],[0.7777777777777778,\"#fb9f3a\"],[0.8888888888888888,\"#fdca26\"],[1.0,\"#f0f921\"]],\"sequentialminus\":[[0.0,\"#0d0887\"],[0.1111111111111111,\"#46039f\"],[0.2222222222222222,\"#7201a8\"],[0.3333333333333333,\"#9c179e\"],[0.4444444444444444,\"#bd3786\"],[0.5555555555555556,\"#d8576b\"],[0.6666666666666666,\"#ed7953\"],[0.7777777777777778,\"#fb9f3a\"],[0.8888888888888888,\"#fdca26\"],[1.0,\"#f0f921\"]]},\"colorway\":[\"#636efa\",\"#EF553B\",\"#00cc96\",\"#ab63fa\",\"#FFA15A\",\"#19d3f3\",\"#FF6692\",\"#B6E880\",\"#FF97FF\",\"#FECB52\"],\"font\":{\"color\":\"#2a3f5f\"},\"geo\":{\"bgcolor\":\"white\",\"lakecolor\":\"white\",\"landcolor\":\"#E5ECF6\",\"showlakes\":true,\"showland\":true,\"subunitcolor\":\"white\"},\"hoverlabel\":{\"align\":\"left\"},\"hovermode\":\"closest\",\"mapbox\":{\"style\":\"light\"},\"paper_bgcolor\":\"white\",\"plot_bgcolor\":\"#E5ECF6\",\"polar\":{\"angularaxis\":{\"gridcolor\":\"white\",\"linecolor\":\"white\",\"ticks\":\"\"},\"bgcolor\":\"#E5ECF6\",\"radialaxis\":{\"gridcolor\":\"white\",\"linecolor\":\"white\",\"ticks\":\"\"}},\"scene\":{\"xaxis\":{\"backgroundcolor\":\"#E5ECF6\",\"gridcolor\":\"white\",\"gridwidth\":2,\"linecolor\":\"white\",\"showbackground\":true,\"ticks\":\"\",\"zerolinecolor\":\"white\"},\"yaxis\":{\"backgroundcolor\":\"#E5ECF6\",\"gridcolor\":\"white\",\"gridwidth\":2,\"linecolor\":\"white\",\"showbackground\":true,\"ticks\":\"\",\"zerolinecolor\":\"white\"},\"zaxis\":{\"backgroundcolor\":\"#E5ECF6\",\"gridcolor\":\"white\",\"gridwidth\":2,\"linecolor\":\"white\",\"showbackground\":true,\"ticks\":\"\",\"zerolinecolor\":\"white\"}},\"shapedefaults\":{\"line\":{\"color\":\"#2a3f5f\"}},\"ternary\":{\"aaxis\":{\"gridcolor\":\"white\",\"linecolor\":\"white\",\"ticks\":\"\"},\"baxis\":{\"gridcolor\":\"white\",\"linecolor\":\"white\",\"ticks\":\"\"},\"bgcolor\":\"#E5ECF6\",\"caxis\":{\"gridcolor\":\"white\",\"linecolor\":\"white\",\"ticks\":\"\"}},\"title\":{\"x\":0.05},\"xaxis\":{\"automargin\":true,\"gridcolor\":\"white\",\"linecolor\":\"white\",\"ticks\":\"\",\"title\":{\"standoff\":15},\"zerolinecolor\":\"white\",\"zerolinewidth\":2},\"yaxis\":{\"automargin\":true,\"gridcolor\":\"white\",\"linecolor\":\"white\",\"ticks\":\"\",\"title\":{\"standoff\":15},\"zerolinecolor\":\"white\",\"zerolinewidth\":2}}},\"title\":{\"font\":{\"color\":\"#4D5663\"}},\"xaxis\":{\"gridcolor\":\"#E1E5ED\",\"showgrid\":true,\"tickfont\":{\"color\":\"#4D5663\"},\"title\":{\"font\":{\"color\":\"#4D5663\"},\"text\":\"\"},\"zerolinecolor\":\"#E1E5ED\"},\"yaxis\":{\"gridcolor\":\"#E1E5ED\",\"showgrid\":true,\"tickfont\":{\"color\":\"#4D5663\"},\"title\":{\"font\":{\"color\":\"#4D5663\"},\"text\":\"\"},\"zerolinecolor\":\"#E1E5ED\"}},                        {\"showLink\": true, \"linkText\": \"Export to plot.ly\", \"plotlyServerURL\": \"https://plot.ly\", \"responsive\": true}                    ).then(function(){\n",
       "                            \n",
       "var gd = document.getElementById('010a9bf0-0ae9-411e-869c-0cac76482c77');\n",
       "var x = new MutationObserver(function (mutations, observer) {{\n",
       "        var display = window.getComputedStyle(gd).display;\n",
       "        if (!display || display === 'none') {{\n",
       "            console.log([gd, 'removed!']);\n",
       "            Plotly.purge(gd);\n",
       "            observer.disconnect();\n",
       "        }}\n",
       "}});\n",
       "\n",
       "// Listen for the removal of the full notebook cells\n",
       "var notebookContainer = gd.closest('#notebook-container');\n",
       "if (notebookContainer) {{\n",
       "    x.observe(notebookContainer, {childList: true});\n",
       "}}\n",
       "\n",
       "// Listen for the clearing of the current output cell\n",
       "var outputEl = gd.closest('.output');\n",
       "if (outputEl) {{\n",
       "    x.observe(outputEl, {childList: true});\n",
       "}}\n",
       "\n",
       "                        })                };                });            </script>        </div>"
      ]
     },
     "metadata": {},
     "output_type": "display_data"
    }
   ],
   "source": [
    "plotting.plot_ML_records(ml_record)"
   ]
  },
  {
   "cell_type": "markdown",
   "id": "32f76451-3616-43da-a2de-07c1b0c9debc",
   "metadata": {
    "user_expressions": []
   },
   "source": [
    "## 获取最佳特征和最佳ta functions"
   ]
  },
  {
   "cell_type": "code",
   "execution_count": 49,
   "id": "65c5194e-2699-4b94-9fbb-5b4b89684d9a",
   "metadata": {},
   "outputs": [],
   "source": [
    "best_funcs = func2factor_df[func2factor_df['factorName'].isin(low_corr)]"
   ]
  },
  {
   "cell_type": "code",
   "execution_count": 50,
   "id": "acfefb17-0735-4578-b4c2-2ac1bbdf5559",
   "metadata": {},
   "outputs": [],
   "source": [
    "best_funcs.reset_index(inplace=True, drop=True)"
   ]
  },
  {
   "cell_type": "code",
   "execution_count": 51,
   "id": "a3ca265b-d2bf-438e-abc9-688895245efa",
   "metadata": {},
   "outputs": [],
   "source": [
    "funcName = list(best_funcs.funcName.values)\n",
    "factorName = list(best_funcs.factorName.values)"
   ]
  },
  {
   "cell_type": "code",
   "execution_count": 52,
   "id": "058f98ec-92f0-4df0-8183-f2d30b414b7e",
   "metadata": {},
   "outputs": [],
   "source": [
    "best_funcs.to_csv('ml_factors_low_corr.csv')"
   ]
  },
  {
   "cell_type": "code",
   "execution_count": 53,
   "id": "1ec0e3b9-6b42-42a1-ac19-6667bbfc6197",
   "metadata": {},
   "outputs": [
    {
     "name": "stdout",
     "output_type": "stream",
     "text": [
      "['rsi', 'slope', 'stdev', 'pvo', 'stochrsi', 'pvi', 'bbands']\n"
     ]
    }
   ],
   "source": [
    "print(funcName)"
   ]
  },
  {
   "cell_type": "code",
   "execution_count": 54,
   "id": "6c5f9e6a-1679-471a-9fc7-d42b6c19252c",
   "metadata": {},
   "outputs": [
    {
     "name": "stdout",
     "output_type": "stream",
     "text": [
      "['RSI_14', 'SLOPE_1', 'STDEV_30', 'PVOh_12_26_9', 'STOCHRSId_14_14_3_3', 'PVI_1', 'BBB_5_2.0']\n"
     ]
    }
   ],
   "source": [
    "print(factorName)"
   ]
  },
  {
   "cell_type": "code",
   "execution_count": null,
   "id": "2b3fff2a-f6c3-43e6-9b78-efb44937e42a",
   "metadata": {},
   "outputs": [],
   "source": []
  },
  {
   "cell_type": "code",
   "execution_count": null,
   "id": "9d93976a-18b1-4925-a2f7-11bedc42c068",
   "metadata": {},
   "outputs": [],
   "source": []
  }
 ],
 "metadata": {
  "kernelspec": {
   "display_name": "pythonlab(python3.8)",
   "language": "python",
   "name": "pythonlabkernel"
  },
  "language_info": {
   "codemirror_mode": {
    "name": "ipython",
    "version": 3
   },
   "file_extension": ".py",
   "mimetype": "text/x-python",
   "name": "python",
   "nbconvert_exporter": "python",
   "pygments_lexer": "ipython3",
   "version": "3.8.0"
  }
 },
 "nbformat": 4,
 "nbformat_minor": 5
}
