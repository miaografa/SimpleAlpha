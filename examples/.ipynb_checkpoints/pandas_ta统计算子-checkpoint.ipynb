{
 "cells": [
  {
   "cell_type": "markdown",
   "id": "46fd8f0c-a51b-4aa7-be4b-c3ce113ac179",
   "metadata": {
    "user_expressions": []
   },
   "source": [
    "# pandas_ta 因子"
   ]
  },
  {
   "cell_type": "markdown",
   "id": "b30224e6-3258-446f-97f3-db53d6660cde",
   "metadata": {
    "user_expressions": []
   },
   "source": [
    "## Statistics (11)\n",
    "\n",
    "* _Entropy_: **entropy**\n",
    "* _Kurtosis_: **kurtosis**\n",
    "* _Mean Absolute Deviation_: **mad**\n",
    "* _Median_: **median**\n",
    "* _Quantile_: **quantile**\n",
    "* _Skew_: **skew**\n",
    "* _Standard Deviation_: **stdev**\n",
    "* _Think or Swim Standard Deviation All_: **tos_stdevall**\n",
    "* _Variance_: **variance**\n",
    "* _Z Score_: **zscore**"
   ]
  },
  {
   "cell_type": "raw",
   "id": "d8356cb4-085b-4b3b-b7c1-9ab3aa7130b8",
   "metadata": {},
   "source": [
    "from pandas_ta import statistics"
   ]
  },
  {
   "cell_type": "raw",
   "id": "9d8ecf62-a078-44c3-b7b6-13577e4df9d8",
   "metadata": {},
   "source": [
    "@factors.handle_dataloader_data\n",
    "def add_new_factor(raw_df:pd.DataFrame)-> pd.DataFrame:\n",
    "    '''\n",
    "    加入新因子的模板。\n",
    "    :param raw_df: 原始数据\n",
    "    :param factor_name: 因子名称\n",
    "    :return: 原始数据+因子\n",
    "    '''\n",
    "    l = 100\n",
    "    try:\n",
    "        data_df = raw_df[['open', 'close', 'high', 'low', 'volume','taker_buy_volume','fwd_rtn_1_real']]\n",
    "        data_df.index = pd.to_datetime(raw_df.open_time, unit='ms')\n",
    "        temp_factor_df = pd.DataFrame()  # 暂存特征，避免index不一致导致的错误\n",
    "        data_df['zscore']   = statistics.zscore(data_df['close'], length=20)\n",
    "        temp_factor_df['zscore']   = data_df['zscore']\n",
    "        temp_factor_df['kurtosis'] = statistics.kurtosis(data_df['fwd_rtn_1_real'], length=l)\n",
    "        temp_factor_df['mad']      = statistics.mad(data_df['fwd_rtn_1_real'], length=l)\n",
    "        temp_factor_df['median']   = statistics.median(data_df['fwd_rtn_1_real'], length=l)\n",
    "        temp_factor_df['quantile'] = statistics.quantile(data_df['fwd_rtn_1_real'], length=l)\n",
    "        temp_factor_df['skew']     = statistics.skew(data_df['fwd_rtn_1_real'], length=l)\n",
    "        temp_factor_df['stdev']    = statistics.stdev(data_df['fwd_rtn_1_real'], length=l)\n",
    "        temp_factor_df['variance'] = statistics.variance(data_df['fwd_rtn_1_real'], length=l)\n",
    "        temp_factor_df.reset_index(drop=True, inplace=True)\n",
    "        raw_df = pd.concat([raw_df, temp_factor_df], axis=1)\n",
    "        return raw_df\n",
    "    except:\n",
    "        return pd.DataFrame()"
   ]
  },
  {
   "cell_type": "raw",
   "id": "3586d17d-24e9-4003-bc20-8639f7b2577d",
   "metadata": {},
   "source": [
    "def check_validation(df:pd.DataFrame):\n",
    "    '''检查数据是不是有效'''\n",
    "    df_length = len(df)\n",
    "    if len(df.dropna()) == 0:\n",
    "        return False\n",
    "    else:\n",
    "        return True"
   ]
  },
  {
   "cell_type": "raw",
   "id": "066451ce-94ed-4a9b-a2c7-ad1be929dea2",
   "metadata": {},
   "source": [
    "valid_list = dl.get_valid_year_month()\n",
    "for year, month in valid_list:\n",
    "    temp_df_list = dl.get_month_df(year, month)\n",
    "    for i, df in enumerate(temp_df_list):\n",
    "        valid = check_validation(df)\n",
    "        if not valid:\n",
    "            print(f'year:{year}, month:{month}, i:{i}, is not valid')"
   ]
  }
 ],
 "metadata": {
  "kernelspec": {
   "display_name": "pythonlab(python3.8)",
   "language": "python",
   "name": "pythonlabkernel"
  },
  "language_info": {
   "codemirror_mode": {
    "name": "ipython",
    "version": 3
   },
   "file_extension": ".py",
   "mimetype": "text/x-python",
   "name": "python",
   "nbconvert_exporter": "python",
   "pygments_lexer": "ipython3",
   "version": "3.8.0"
  }
 },
 "nbformat": 4,
 "nbformat_minor": 5
}
